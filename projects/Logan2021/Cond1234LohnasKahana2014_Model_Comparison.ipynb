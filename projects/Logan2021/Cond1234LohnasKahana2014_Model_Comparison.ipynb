{
 "cells": [
  {
   "cell_type": "code",
   "execution_count": null,
   "metadata": {
    "tags": [
     "parameters"
    ]
   },
   "outputs": [],
   "source": [
    "# params for this run\n",
    "run_tag = \"Model_Comparison\"\n",
    "fit_tag = \"full_best_of_3\"\n",
    "fit_dir = \"fits/\"\n",
    "target_directory = \"projects/Logan2021\"\n",
    "\n",
    "# data params\n",
    "data_name = \"GordonRanschburg2021\"\n",
    "\n",
    "# models\n",
    "# model_names = [\"NarrowWeirdInstanceCMRDE\", \"WeirdInstanceCMRDE\", \"ConnectionistCMR\", \"OutlistInstanceCMRDE\", \"NarrowReinstateOutlistInstanceCMRDE\", \"ReinstateOutlistCMRDE\", \"OutlistCMRDE\", \"ContextCMRDE\", \"TrueInstanceCMRDE\", \"ReinstateContextCMRDE\", \"FlexCMR2\"]\n",
    "# model_names = [\"WeirdInstanceCMRDE\", \"OutlistInstanceCMRDE\", \"FlexCMRDE\", \"WeirdPositionalCMR\", \"AdditiveItemPositionalCMR\", \"MultiplicativeItemPositionalCMR\", \"PreexpMfcItemPositionalCMR\", \"TwoAlphaItemPositionalCMR\", \"WeirdFlexPositionalCMR\"]\n",
    "model_names = [\n",
    "    # \"BaseCMR\",\n",
    "    \"WeirdCMR\",\n",
    "    \"WeirdPositionScaleCMR\",\n",
    "    # \"NoReinstateCMR\",\n",
    "    \"WeirdNoReinstateCMR\",\n",
    "    \"OutlistCMRDE\",\n",
    "    # \"WeirdNoPrexpPositionCMR\",\n",
    "    # \"FlexPositionScaleCMR\",\n",
    "    # \"NoPrexpPositionCMR\",\n",
    "    # \"NoScaleNoReinstateCMR\",\n",
    "    # \"NoScalePositionScaleBaseCMR\",\n",
    "    # \"InstanceCMR\",\n",
    "]\n",
    "\n",
    "# \"FakeNarrowOutlistInstanceCMRDE\", \"FakeOutlistInstanceCMRDE\",\n",
    "# \"MultiContextCMRDE\", \"NormalContextCMRDE\", \"NormalMultiContextCMRDE\",\n",
    "\n",
    "model_titles = []\n",
    "\n",
    "# params to focus on in outputs\n",
    "query_parameters = [\n",
    "    \"encoding_drift_rate\",\n",
    "    \"start_drift_rate\",\n",
    "    \"recall_drift_rate\",\n",
    "    \"shared_support\",\n",
    "    # \"item_shared_support\",\n",
    "    # \"position_shared_support\",\n",
    "    \"item_support\",\n",
    "    \"learning_rate\",\n",
    "    \"primacy_scale\",\n",
    "    \"primacy_decay\",\n",
    "    \"stop_probability_scale\",\n",
    "    \"stop_probability_growth\",\n",
    "    \"choice_sensitivity\",\n",
    "    # \"mfc_trace_sensitivity\",\n",
    "    # \"mcf_trace_sensitivity\",\n",
    "    \"mfc_choice_sensitivity\",\n",
    "    # \"positional_scale\",\n",
    "    # \"positional_mfc_scale\",\n",
    "    # \"semantic_scale\",\n",
    "    # \"semantic_choice_sensitivity\",\n",
    "]"
   ]
  },
  {
   "cell_type": "code",
   "execution_count": 2,
   "metadata": {},
   "outputs": [],
   "source": [
    "import os\n",
    "import json\n",
    "from jaxcmr.summarize import (\n",
    "    summarize_parameters,\n",
    "    generate_t_p_matrices,\n",
    "    winner_comparison_matrix,\n",
    "    calculate_aic_weights,\n",
    ")"
   ]
  },
  {
   "cell_type": "code",
   "execution_count": 3,
   "metadata": {},
   "outputs": [
    {
     "name": "stdout",
     "output_type": "stream",
     "text": [
      "| | | WeirdCMR | WeirdPositionScaleCMR | WeirdNoReinstateCMR | OutlistCMRDE |\n",
      "|---|---|---|---|---|---|\n",
      "| fitness | mean | 770.97 +/- 59.74 | 726.69 +/- 60.46 | 771.07 +/- 59.61 | 771.46 +/- 61.54 |\n",
      "| | std | 138.50 | 140.17 | 138.19 | 142.68 |\n",
      "| encoding drift rate | mean | 0.84 +/- 0.01 | 0.54 +/- 0.06 | 0.84 +/- 0.01 | 0.82 +/- 0.05 |\n",
      "| | std | 0.02 | 0.14 | 0.03 | 0.11 |\n",
      "| start drift rate | mean | 0.77 +/- 0.03 | 0.40 +/- 0.12 | 0.76 +/- 0.03 | 0.70 +/- 0.09 |\n",
      "| | std | 0.07 | 0.28 | 0.08 | 0.21 |\n",
      "| recall drift rate | mean | 0.75 +/- 0.02 | 0.67 +/- 0.06 | 0.75 +/- 0.02 | 0.67 +/- 0.07 |\n",
      "| | std | 0.04 | 0.15 | 0.05 | 0.16 |\n",
      "| shared support | mean | 48.29 +/- 14.85 | 28.13 +/- 13.56 | 58.42 +/- 14.06 | 49.42 +/- 15.93 |\n",
      "| | std | 34.42 | 31.43 | 32.59 | 36.94 |\n",
      "| item support | mean | 28.00 +/- 11.69 | 18.39 +/- 9.69 | 32.60 +/- 11.16 | 31.46 +/- 12.46 |\n",
      "| | std | 27.10 | 22.47 | 25.87 | 28.88 |\n",
      "| learning rate | mean | 0.01 +/- 0.01 | 0.19 +/- 0.10 | 0.01 +/- 0.01 | 0.09 +/- 0.07 |\n",
      "| | std | 0.02 | 0.22 | 0.03 | 0.16 |\n",
      "| primacy scale | mean | 27.73 +/- 12.92 | 17.08 +/- 10.22 | 34.06 +/- 14.61 | 15.27 +/- 7.02 |\n",
      "| | std | 29.95 | 23.69 | 33.87 | 16.27 |\n",
      "| primacy decay | mean | 5.42 +/- 7.53 | 0.30 +/- 0.06 | 3.92 +/- 7.73 | 9.95 +/- 10.04 |\n",
      "| | std | 17.45 | 0.14 | 17.92 | 23.27 |\n",
      "| stop probability scale | mean | 0.00 +/- 0.00 | 0.00 +/- 0.00 | 0.00 +/- 0.00 | 0.00 +/- 0.00 |\n",
      "| | std | 0.00 | 0.00 | 0.00 | 0.00 |\n",
      "| stop probability growth | mean | 1.81 +/- 0.22 | 1.88 +/- 0.23 | 1.83 +/- 0.22 | 1.81 +/- 0.20 |\n",
      "| | std | 0.50 | 0.53 | 0.51 | 0.47 |\n",
      "| choice sensitivity | mean | 42.29 +/- 13.08 | 64.03 +/- 13.76 | 46.75 +/- 13.27 | 52.73 +/- 12.54 |\n",
      "| | std | 30.32 | 31.89 | 30.76 | 29.07 |\n",
      "| mfc choice sensitivity | mean | | | | 1.00 +/- 0.00 |\n",
      "| | std | | | | 0.00 |\n",
      "\n"
     ]
    }
   ],
   "source": [
    "if not model_titles:\n",
    "    model_titles = model_names.copy()\n",
    "\n",
    "results = []\n",
    "for model_name, model_title in zip(model_names, model_titles):\n",
    "    fit_path = os.path.join(fit_dir, f\"{data_name}_{model_name}_{fit_tag}.json\")\n",
    "\n",
    "    with open(fit_path) as f:\n",
    "        results.append(json.load(f))\n",
    "        if \"subject\" not in results[-1][\"fits\"]:\n",
    "            results[-1][\"fits\"][\"subject\"] = results[-1][\"subject\"]\n",
    "        results[-1][\"name\"] = model_title\n",
    "\n",
    "summary = summarize_parameters(\n",
    "    results, query_parameters, include_std=True, include_ci=True\n",
    ")\n",
    "\n",
    "with open(\n",
    "    os.path.join(target_directory, \"tables\", f\"{data_name}_{fit_tag}_{run_tag}_parameters.md\"),\n",
    "    \"w\",\n",
    ") as f:\n",
    "    f.write(summary)\n",
    "print(summary)\n"
   ]
  },
  {
   "cell_type": "code",
   "execution_count": 4,
   "metadata": {},
   "outputs": [
    {
     "name": "stdout",
     "output_type": "stream",
     "text": [
      "|                       | WeirdCMR               | WeirdPositionScaleCMR   | WeirdNoReinstateCMR   | OutlistCMRDE          |\n",
      "|:----------------------|:-----------------------|:------------------------|:----------------------|:----------------------|\n",
      "| WeirdCMR              |                        | 0.9999999999998908      | 0.37185584923926396   | 0.4095753524411694    |\n",
      "| WeirdPositionScaleCMR | 1.0928408201197199e-13 |                         | 6.299530749345191e-14 | 5.624222367663339e-12 |\n",
      "| WeirdNoReinstateCMR   | 0.628144150760736      | 0.9999999999999369      |                       | 0.42945442558291547   |\n",
      "| OutlistCMRDE          | 0.5904246475588306     | 0.9999999999943757      | 0.5705455744170845    |                       |\n"
     ]
    },
    {
     "data": {
      "application/vnd.microsoft.datawrangler.viewer.v0+json": {
       "columns": [
        {
         "name": "index",
         "rawType": "object",
         "type": "string"
        },
        {
         "name": "WeirdCMR",
         "rawType": "object",
         "type": "unknown"
        },
        {
         "name": "WeirdPositionScaleCMR",
         "rawType": "object",
         "type": "unknown"
        },
        {
         "name": "WeirdNoReinstateCMR",
         "rawType": "object",
         "type": "unknown"
        },
        {
         "name": "OutlistCMRDE",
         "rawType": "object",
         "type": "unknown"
        }
       ],
       "conversionMethod": "pd.DataFrame",
       "ref": "5c44ad7b-aef1-4b05-8f01-da453c8255a6",
       "rows": [
        [
         "WeirdCMR",
         "",
         "0.9999999999998908",
         "0.37185584923926396",
         "0.4095753524411694"
        ],
        [
         "WeirdPositionScaleCMR",
         "1.0928408201197199e-13",
         "",
         "6.299530749345191e-14",
         "5.624222367663339e-12"
        ],
        [
         "WeirdNoReinstateCMR",
         "0.628144150760736",
         "0.9999999999999369",
         "",
         "0.42945442558291547"
        ],
        [
         "OutlistCMRDE",
         "0.5904246475588306",
         "0.9999999999943757",
         "0.5705455744170845",
         ""
        ]
       ],
       "shape": {
        "columns": 4,
        "rows": 4
       }
      },
      "text/html": [
       "<div>\n",
       "<style scoped>\n",
       "    .dataframe tbody tr th:only-of-type {\n",
       "        vertical-align: middle;\n",
       "    }\n",
       "\n",
       "    .dataframe tbody tr th {\n",
       "        vertical-align: top;\n",
       "    }\n",
       "\n",
       "    .dataframe thead th {\n",
       "        text-align: right;\n",
       "    }\n",
       "</style>\n",
       "<table border=\"1\" class=\"dataframe\">\n",
       "  <thead>\n",
       "    <tr style=\"text-align: right;\">\n",
       "      <th></th>\n",
       "      <th>WeirdCMR</th>\n",
       "      <th>WeirdPositionScaleCMR</th>\n",
       "      <th>WeirdNoReinstateCMR</th>\n",
       "      <th>OutlistCMRDE</th>\n",
       "    </tr>\n",
       "  </thead>\n",
       "  <tbody>\n",
       "    <tr>\n",
       "      <th>WeirdCMR</th>\n",
       "      <td></td>\n",
       "      <td>1.0</td>\n",
       "      <td>0.371856</td>\n",
       "      <td>0.409575</td>\n",
       "    </tr>\n",
       "    <tr>\n",
       "      <th>WeirdPositionScaleCMR</th>\n",
       "      <td>0.0</td>\n",
       "      <td></td>\n",
       "      <td>0.0</td>\n",
       "      <td>0.0</td>\n",
       "    </tr>\n",
       "    <tr>\n",
       "      <th>WeirdNoReinstateCMR</th>\n",
       "      <td>0.628144</td>\n",
       "      <td>1.0</td>\n",
       "      <td></td>\n",
       "      <td>0.429454</td>\n",
       "    </tr>\n",
       "    <tr>\n",
       "      <th>OutlistCMRDE</th>\n",
       "      <td>0.590425</td>\n",
       "      <td>1.0</td>\n",
       "      <td>0.570546</td>\n",
       "      <td></td>\n",
       "    </tr>\n",
       "  </tbody>\n",
       "</table>\n",
       "</div>"
      ],
      "text/plain": [
       "                       WeirdCMR WeirdPositionScaleCMR WeirdNoReinstateCMR  \\\n",
       "WeirdCMR                                          1.0            0.371856   \n",
       "WeirdPositionScaleCMR       0.0                                       0.0   \n",
       "WeirdNoReinstateCMR    0.628144                   1.0                       \n",
       "OutlistCMRDE           0.590425                   1.0            0.570546   \n",
       "\n",
       "                      OutlistCMRDE  \n",
       "WeirdCMR                  0.409575  \n",
       "WeirdPositionScaleCMR          0.0  \n",
       "WeirdNoReinstateCMR       0.429454  \n",
       "OutlistCMRDE                        "
      ]
     },
     "execution_count": 4,
     "metadata": {},
     "output_type": "execute_result"
    }
   ],
   "source": [
    "df_t, df_p = generate_t_p_matrices(results)\n",
    "\n",
    "with open(\n",
    "    os.path.join(target_directory, \"tables\", f\"{data_name}_{fit_tag}_{run_tag}_p_matrix.md\"), \"w\"\n",
    ") as f:\n",
    "    f.write(df_p.to_markdown())\n",
    "\n",
    "print(df_p.to_markdown())\n",
    "df_p"
   ]
  },
  {
   "cell_type": "code",
   "execution_count": 5,
   "metadata": {},
   "outputs": [
    {
     "data": {
      "application/vnd.microsoft.datawrangler.viewer.v0+json": {
       "columns": [
        {
         "name": "index",
         "rawType": "object",
         "type": "string"
        },
        {
         "name": "WeirdCMR",
         "rawType": "object",
         "type": "unknown"
        },
        {
         "name": "WeirdPositionScaleCMR",
         "rawType": "object",
         "type": "unknown"
        },
        {
         "name": "WeirdNoReinstateCMR",
         "rawType": "object",
         "type": "unknown"
        },
        {
         "name": "OutlistCMRDE",
         "rawType": "object",
         "type": "unknown"
        }
       ],
       "conversionMethod": "pd.DataFrame",
       "ref": "2f9c7cc4-5805-4fdd-8342-27256a313bdd",
       "rows": [
        [
         "WeirdCMR",
         "",
         "15.032704161673799",
         "-0.3309054251461446",
         "-0.23126920387712455"
        ],
        [
         "WeirdPositionScaleCMR",
         "-15.032704161673799",
         "",
         "-15.432126479113476",
         "-12.4112470353798"
        ],
        [
         "WeirdNoReinstateCMR",
         "0.3309054251461446",
         "15.432126479113476",
         "",
         "-0.17976832552234082"
        ],
        [
         "OutlistCMRDE",
         "0.23126920387712455",
         "12.4112470353798",
         "0.17976832552234082",
         ""
        ]
       ],
       "shape": {
        "columns": 4,
        "rows": 4
       }
      },
      "text/html": [
       "<div>\n",
       "<style scoped>\n",
       "    .dataframe tbody tr th:only-of-type {\n",
       "        vertical-align: middle;\n",
       "    }\n",
       "\n",
       "    .dataframe tbody tr th {\n",
       "        vertical-align: top;\n",
       "    }\n",
       "\n",
       "    .dataframe thead th {\n",
       "        text-align: right;\n",
       "    }\n",
       "</style>\n",
       "<table border=\"1\" class=\"dataframe\">\n",
       "  <thead>\n",
       "    <tr style=\"text-align: right;\">\n",
       "      <th></th>\n",
       "      <th>WeirdCMR</th>\n",
       "      <th>WeirdPositionScaleCMR</th>\n",
       "      <th>WeirdNoReinstateCMR</th>\n",
       "      <th>OutlistCMRDE</th>\n",
       "    </tr>\n",
       "  </thead>\n",
       "  <tbody>\n",
       "    <tr>\n",
       "      <th>WeirdCMR</th>\n",
       "      <td></td>\n",
       "      <td>15.032704</td>\n",
       "      <td>-0.330905</td>\n",
       "      <td>-0.231269</td>\n",
       "    </tr>\n",
       "    <tr>\n",
       "      <th>WeirdPositionScaleCMR</th>\n",
       "      <td>-15.032704</td>\n",
       "      <td></td>\n",
       "      <td>-15.432126</td>\n",
       "      <td>-12.411247</td>\n",
       "    </tr>\n",
       "    <tr>\n",
       "      <th>WeirdNoReinstateCMR</th>\n",
       "      <td>0.330905</td>\n",
       "      <td>15.432126</td>\n",
       "      <td></td>\n",
       "      <td>-0.179768</td>\n",
       "    </tr>\n",
       "    <tr>\n",
       "      <th>OutlistCMRDE</th>\n",
       "      <td>0.231269</td>\n",
       "      <td>12.411247</td>\n",
       "      <td>0.179768</td>\n",
       "      <td></td>\n",
       "    </tr>\n",
       "  </tbody>\n",
       "</table>\n",
       "</div>"
      ],
      "text/plain": [
       "                        WeirdCMR WeirdPositionScaleCMR WeirdNoReinstateCMR  \\\n",
       "WeirdCMR                                     15.032704           -0.330905   \n",
       "WeirdPositionScaleCMR -15.032704                                -15.432126   \n",
       "WeirdNoReinstateCMR     0.330905             15.432126                       \n",
       "OutlistCMRDE            0.231269             12.411247            0.179768   \n",
       "\n",
       "                      OutlistCMRDE  \n",
       "WeirdCMR                 -0.231269  \n",
       "WeirdPositionScaleCMR   -12.411247  \n",
       "WeirdNoReinstateCMR      -0.179768  \n",
       "OutlistCMRDE                        "
      ]
     },
     "execution_count": 5,
     "metadata": {},
     "output_type": "execute_result"
    }
   ],
   "source": [
    "with open(\n",
    "    os.path.join(target_directory, \"tables\", f\"{data_name}_{fit_tag}_{run_tag}_t_matrix.md\"), \"w\"\n",
    ") as f:\n",
    "    f.write(df_t.to_markdown())\n",
    "\n",
    "df_t"
   ]
  },
  {
   "cell_type": "code",
   "execution_count": 6,
   "metadata": {},
   "outputs": [
    {
     "name": "stdout",
     "output_type": "stream",
     "text": [
      "|    | Model                 |   AICw |\n",
      "|---:|:----------------------|-------:|\n",
      "|  1 | WeirdPositionScaleCMR |      1 |\n",
      "|  0 | WeirdCMR              |      0 |\n",
      "|  2 | WeirdNoReinstateCMR   |      0 |\n",
      "|  3 | OutlistCMRDE          |      0 |\n"
     ]
    },
    {
     "data": {
      "application/vnd.microsoft.datawrangler.viewer.v0+json": {
       "columns": [
        {
         "name": "index",
         "rawType": "int64",
         "type": "integer"
        },
        {
         "name": "Model",
         "rawType": "object",
         "type": "string"
        },
        {
         "name": "AICw",
         "rawType": "float64",
         "type": "float"
        }
       ],
       "conversionMethod": "pd.DataFrame",
       "ref": "bdd34851-236d-413c-a14f-915b032da210",
       "rows": [
        [
         "1",
         "WeirdPositionScaleCMR",
         "1.0"
        ],
        [
         "0",
         "WeirdCMR",
         "0.0"
        ],
        [
         "2",
         "WeirdNoReinstateCMR",
         "0.0"
        ],
        [
         "3",
         "OutlistCMRDE",
         "0.0"
        ]
       ],
       "shape": {
        "columns": 2,
        "rows": 4
       }
      },
      "text/html": [
       "<div>\n",
       "<style scoped>\n",
       "    .dataframe tbody tr th:only-of-type {\n",
       "        vertical-align: middle;\n",
       "    }\n",
       "\n",
       "    .dataframe tbody tr th {\n",
       "        vertical-align: top;\n",
       "    }\n",
       "\n",
       "    .dataframe thead th {\n",
       "        text-align: right;\n",
       "    }\n",
       "</style>\n",
       "<table border=\"1\" class=\"dataframe\">\n",
       "  <thead>\n",
       "    <tr style=\"text-align: right;\">\n",
       "      <th></th>\n",
       "      <th>Model</th>\n",
       "      <th>AICw</th>\n",
       "    </tr>\n",
       "  </thead>\n",
       "  <tbody>\n",
       "    <tr>\n",
       "      <th>1</th>\n",
       "      <td>WeirdPositionScaleCMR</td>\n",
       "      <td>1.0</td>\n",
       "    </tr>\n",
       "    <tr>\n",
       "      <th>0</th>\n",
       "      <td>WeirdCMR</td>\n",
       "      <td>0.0</td>\n",
       "    </tr>\n",
       "    <tr>\n",
       "      <th>2</th>\n",
       "      <td>WeirdNoReinstateCMR</td>\n",
       "      <td>0.0</td>\n",
       "    </tr>\n",
       "    <tr>\n",
       "      <th>3</th>\n",
       "      <td>OutlistCMRDE</td>\n",
       "      <td>0.0</td>\n",
       "    </tr>\n",
       "  </tbody>\n",
       "</table>\n",
       "</div>"
      ],
      "text/plain": [
       "                   Model  AICw\n",
       "1  WeirdPositionScaleCMR   1.0\n",
       "0               WeirdCMR   0.0\n",
       "2    WeirdNoReinstateCMR   0.0\n",
       "3           OutlistCMRDE   0.0"
      ]
     },
     "execution_count": 6,
     "metadata": {},
     "output_type": "execute_result"
    }
   ],
   "source": [
    "aic_weights = calculate_aic_weights(results)\n",
    "\n",
    "with open(\n",
    "    os.path.join(target_directory, \"tables\", f\"{data_name}_{fit_tag}_{run_tag}_aic_weights.md\"),\n",
    "    \"w\",\n",
    ") as f:\n",
    "    f.write(aic_weights.to_markdown())\n",
    "\n",
    "print(aic_weights.to_markdown())\n",
    "aic_weights"
   ]
  },
  {
   "cell_type": "code",
   "execution_count": 7,
   "metadata": {},
   "outputs": [
    {
     "name": "stdout",
     "output_type": "stream",
     "text": [
      "|                       |   WeirdCMR |   WeirdPositionScaleCMR |   WeirdNoReinstateCMR |   OutlistCMRDE |\n",
      "|:----------------------|-----------:|------------------------:|----------------------:|---------------:|\n",
      "| WeirdCMR              |            |                       0 |              0.583333 |       0.416667 |\n",
      "| WeirdPositionScaleCMR |   1        |                         |              1        |       1        |\n",
      "| WeirdNoReinstateCMR   |   0.416667 |                       0 |                       |       0.416667 |\n",
      "| OutlistCMRDE          |   0.583333 |                       0 |              0.583333 |                |\n"
     ]
    }
   ],
   "source": [
    "df_comparison = winner_comparison_matrix(results)\n",
    "\n",
    "with open(\n",
    "    os.path.join(target_directory, \"tables\", f\"{data_name}_{fit_tag}_{run_tag}_winner_ratios.md\"),\n",
    "    \"w\",\n",
    ") as f:\n",
    "    f.write(df_comparison.to_markdown().replace(\" nan \", \"     \"))\n",
    "\n",
    "print(df_comparison.to_markdown().replace(\" nan \", \"     \"))"
   ]
  },
  {
   "cell_type": "code",
   "execution_count": null,
   "metadata": {},
   "outputs": [],
   "source": []
  }
 ],
 "metadata": {
  "kernelspec": {
   "display_name": "jaxcmr",
   "language": "python",
   "name": "python3"
  },
  "language_info": {
   "codemirror_mode": {
    "name": "ipython",
    "version": 3
   },
   "file_extension": ".py",
   "mimetype": "text/x-python",
   "name": "python",
   "nbconvert_exporter": "python",
   "pygments_lexer": "ipython3",
   "version": "3.12.8"
  }
 },
 "nbformat": 4,
 "nbformat_minor": 2
}
