{
 "cells": [
  {
   "cell_type": "markdown",
   "metadata": {},
   "source": [
    "# Bilayer CMR\n",
    "We explore a version of CMR that gives separate pre-experimental context units for each study position in a list, even if item repetitions occur. \n",
    "\n",
    "In MFC, we "
   ]
  }
 ],
 "metadata": {
  "language_info": {
   "name": "python"
  }
 },
 "nbformat": 4,
 "nbformat_minor": 2
}
