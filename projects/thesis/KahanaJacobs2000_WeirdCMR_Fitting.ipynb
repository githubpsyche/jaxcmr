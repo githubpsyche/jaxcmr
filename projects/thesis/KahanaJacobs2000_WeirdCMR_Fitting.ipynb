{
 "cells": [
  {
   "cell_type": "markdown",
   "id": "abadcec0",
   "metadata": {
    "tags": [
     "papermill-error-cell-tag"
    ]
   },
   "source": [
    "<span style=\"color:red; font-family:Helvetica Neue, Helvetica, Arial, sans-serif; font-size:2em;\">An Exception was encountered at '<a href=\"#papermill-error-cell\">In [4]</a>'.</span>"
   ]
  },
  {
   "cell_type": "code",
   "execution_count": 1,
   "id": "5bcf1ebf",
   "metadata": {
    "execution": {
     "iopub.execute_input": "2025-08-04T02:56:23.907770Z",
     "iopub.status.busy": "2025-08-04T02:56:23.907457Z",
     "iopub.status.idle": "2025-08-04T02:56:29.978858Z",
     "shell.execute_reply": "2025-08-04T02:56:29.978597Z"
    },
    "papermill": {
     "duration": 6.07798,
     "end_time": "2025-08-04T02:56:29.979704",
     "exception": false,
     "start_time": "2025-08-04T02:56:23.901724",
     "status": "completed"
    },
    "tags": []
   },
   "outputs": [],
   "source": [
    "%load_ext autoreload\n",
    "%autoreload 2\n",
    "\n",
    "import json\n",
    "import os\n",
    "import warnings\n",
    "\n",
    "import jax.numpy as jnp\n",
    "import matplotlib.pyplot as plt\n",
    "from IPython.display import Image, display\n",
    "import numpy as np\n",
    "from jax import random\n",
    "from matplotlib import rcParams  # type: ignore\n",
    "\n",
    "from jaxcmr.fitting import ScipyDE as fitting_method\n",
    "from jaxcmr.helpers import (\n",
    "    generate_trial_mask,\n",
    "    import_from_string,\n",
    "    load_data,\n",
    "    save_dict_to_hdf5,\n",
    ")\n",
    "from jaxcmr.likelihood import MemorySearchLikelihoodFnGenerator as loss_fn_generator\n",
    "from jaxcmr import repetition\n",
    "from jaxcmr.simulation import simulate_h5_from_h5\n",
    "from jaxcmr.summarize import summarize_parameters\n",
    "\n",
    "warnings.filterwarnings(\"ignore\")"
   ]
  },
  {
   "cell_type": "markdown",
   "id": "faa8a7ce",
   "metadata": {
    "papermill": {
     "duration": 0.001444,
     "end_time": "2025-08-04T02:56:29.982818",
     "exception": false,
     "start_time": "2025-08-04T02:56:29.981374",
     "status": "completed"
    },
    "tags": []
   },
   "source": [
    "## Setup"
   ]
  },
  {
   "cell_type": "code",
   "execution_count": 2,
   "id": "880fb412",
   "metadata": {
    "execution": {
     "iopub.execute_input": "2025-08-04T02:56:29.986954Z",
     "iopub.status.busy": "2025-08-04T02:56:29.986687Z",
     "iopub.status.idle": "2025-08-04T02:56:30.009593Z",
     "shell.execute_reply": "2025-08-04T02:56:30.009360Z"
    },
    "papermill": {
     "duration": 0.025296,
     "end_time": "2025-08-04T02:56:30.010301",
     "exception": false,
     "start_time": "2025-08-04T02:56:29.985005",
     "status": "completed"
    },
    "tags": [
     "parameters"
    ]
   },
   "outputs": [],
   "source": [
    "# repeat params\n",
    "allow_repeated_recalls = False\n",
    "filter_repeated_recalls = False\n",
    "data_tag = \"LohnasKahana2014\"\n",
    "data_path = \"data/LohnasKahana2014.h5\"\n",
    "\n",
    "# data params\n",
    "trial_query = \"data['list_type'] > 0\"\n",
    "control_trial_query = \"data['list_type'] == 1\"\n",
    "run_tag = \"full_best_of_3\"\n",
    "\n",
    "# fitting params\n",
    "redo_fits = True\n",
    "model_factory_path = \"jaxcmr.models_repfr.weird_cmr.BaseCMRFactory\"\n",
    "model_name = \"WeirdCMR\"\n",
    "relative_tolerance = 0.001\n",
    "popsize = 15\n",
    "num_steps = 1000\n",
    "cross_rate = 0.9\n",
    "diff_w = 0.85\n",
    "best_of = 3\n",
    "target_dir = \"projects/thesis\"\n",
    "\n",
    "# sim params\n",
    "redo_sims = True\n",
    "seed = 0\n",
    "experiment_count = 50\n",
    "\n",
    "# figure params\n",
    "redo_figures = True\n",
    "\n",
    "parameters = {\n",
    "    \"fixed\": {\n",
    "    },\n",
    "    \"free\": {\n",
    "        \"encoding_drift_rate\": [2.220446049250313e-16, 0.9999999999999998],\n",
    "        \"start_drift_rate\": [2.220446049250313e-16, 0.9999999999999998],\n",
    "        \"recall_drift_rate\": [2.220446049250313e-16, 0.9999999999999998],\n",
    "        \"shared_support\": [2.220446049250313e-16, 99.9999999999999998],\n",
    "        \"item_support\": [2.220446049250313e-16, 99.9999999999999998],\n",
    "        \"learning_rate\": [2.220446049250313e-16, 0.9999999999999998],\n",
    "        \"primacy_scale\": [2.220446049250313e-16, 99.9999999999999998],\n",
    "        \"primacy_decay\": [2.220446049250313e-16, 99.9999999999999998],\n",
    "        \"stop_probability_scale\": [2.220446049250313e-16, 0.9999999999999998],\n",
    "        \"stop_probability_growth\": [2.220446049250313e-16, 9.9999999999999998],\n",
    "        \"choice_sensitivity\": [2.220446049250313e-16, 99.9999999999999998],\n",
    "    },\n",
    "}\n",
    "\n",
    "single_analysis_paths = [\n",
    "    \"jaxcmr.analyses.repcrp.plot_rep_crp\",\n",
    "    \"jaxcmr.analyses.backrepcrp.plot_back_rep_crp\",\n",
    "]\n",
    "\n",
    "comparison_analysis_paths = [ \n",
    "    \"jaxcmr.analyses.spc.plot_spc\",\n",
    "    \"jaxcmr.analyses.crp.plot_crp\",\n",
    "    \"jaxcmr.analyses.pnr.plot_pnr\",\n",
    "    \"jaxcmr.analyses.repneighborcrp.plot_repneighborcrp_i2j\",\n",
    "    \"jaxcmr.analyses.repneighborcrp.plot_repneighborcrp_j2i\",\n",
    "    \"jaxcmr.analyses.repneighborcrp.plot_repneighborcrp_both\",\n",
    "    \"jaxcmr.analyses.rpl.plot_rpl\",\n",
    "    \"jaxcmr.analyses.rpl.plot_full_rpl\",\n",
    "]"
   ]
  },
  {
   "cell_type": "code",
   "execution_count": 3,
   "id": "8c281520",
   "metadata": {
    "execution": {
     "iopub.execute_input": "2025-08-04T02:56:30.013203Z",
     "iopub.status.busy": "2025-08-04T02:56:30.013108Z",
     "iopub.status.idle": "2025-08-04T02:56:30.024618Z",
     "shell.execute_reply": "2025-08-04T02:56:30.024418Z"
    },
    "papermill": {
     "duration": 0.013473,
     "end_time": "2025-08-04T02:56:30.025278",
     "exception": false,
     "start_time": "2025-08-04T02:56:30.011805",
     "status": "completed"
    },
    "tags": [
     "injected-parameters"
    ]
   },
   "outputs": [],
   "source": [
    "# Parameters\n",
    "allow_repeated_recalls = False\n",
    "filter_repeated_recalls = True\n",
    "data_tag = \"KahanaJacobs2000\"\n",
    "data_path = \"data/KahanaJacobs2000.h5\"\n",
    "base_data_tag = \"KahanaJacobs2000\"\n",
    "trial_query = \"jnp.logical_and(data['recall_attempt'] == 1, data['recall_total'] > 0)\"\n",
    "control_trial_query = \"jnp.logical_and(jnp.logical_and(data['recall_attempt'] == 1, data['recall_total'] > 0), data['rep_position'] == 0)\"\n",
    "model_name = \"WeirdCMR\"\n",
    "model_factory_path = \"jaxcmr.models_repfr.weird_cmr.BaseCMRFactory\"\n",
    "redo_fits = False\n",
    "redo_sims = False\n",
    "redo_figures = False\n",
    "parameters = {\"fixed\": {}, \"free\": {\"encoding_drift_rate\": [2.220446049250313e-16, 0.9999999999999998], \"start_drift_rate\": [2.220446049250313e-16, 0.9999999999999998], \"recall_drift_rate\": [2.220446049250313e-16, 0.9999999999999998], \"shared_support\": [2.220446049250313e-16, 100.0], \"item_support\": [2.220446049250313e-16, 100.0], \"learning_rate\": [2.220446049250313e-16, 0.9999999999999998], \"primacy_scale\": [2.220446049250313e-16, 100.0], \"primacy_decay\": [2.220446049250313e-16, 100.0], \"stop_probability_scale\": [2.220446049250313e-16, 0.9999999999999998], \"stop_probability_growth\": [2.220446049250313e-16, 10.0], \"choice_sensitivity\": [2.220446049250313e-16, 100.0], \"mfc_choice_sensitivity\": [2.220446049250313e-16, 100.0]}}\n"
   ]
  },
  {
   "cell_type": "markdown",
   "id": "2698fbab",
   "metadata": {
    "tags": [
     "papermill-error-cell-tag"
    ]
   },
   "source": [
    "<span id=\"papermill-error-cell\" style=\"color:red; font-family:Helvetica Neue, Helvetica, Arial, sans-serif; font-size:2em;\">Execution using papermill encountered an exception here and stopped:</span>"
   ]
  },
  {
   "cell_type": "code",
   "execution_count": 4,
   "id": "0877f896",
   "metadata": {
    "execution": {
     "iopub.execute_input": "2025-08-04T02:56:30.027755Z",
     "iopub.status.busy": "2025-08-04T02:56:30.027656Z",
     "iopub.status.idle": "2025-08-04T02:56:30.138174Z",
     "shell.execute_reply": "2025-08-04T02:56:30.137785Z"
    },
    "papermill": {
     "duration": 0.112295,
     "end_time": "2025-08-04T02:56:30.138795",
     "exception": true,
     "start_time": "2025-08-04T02:56:30.026500",
     "status": "failed"
    },
    "tags": []
   },
   "outputs": [
    {
     "ename": "FileNotFoundError",
     "evalue": "[Errno 2] Unable to open file (unable to open file: name = 'data/KahanaJacobs2000.h5', errno = 2, error message = 'No such file or directory', flags = 0, o_flags = 0)",
     "output_type": "error",
     "traceback": [
      "\u001b[31m---------------------------------------------------------------------------\u001b[39m",
      "\u001b[31mFileNotFoundError\u001b[39m                         Traceback (most recent call last)",
      "\u001b[36mCell\u001b[39m\u001b[36m \u001b[39m\u001b[32mIn[4]\u001b[39m\u001b[32m, line 9\u001b[39m\n\u001b[32m      6\u001b[39m     \u001b[38;5;28;01mif\u001b[39;00m \u001b[38;5;129;01mnot\u001b[39;00m os.path.exists(product_dir):\n\u001b[32m      7\u001b[39m         os.makedirs(product_dir)\n\u001b[32m----> \u001b[39m\u001b[32m9\u001b[39m data = \u001b[43mload_data\u001b[49m\u001b[43m(\u001b[49m\u001b[43mdata_path\u001b[49m\u001b[43m)\u001b[49m\n\u001b[32m     10\u001b[39m trial_mask = generate_trial_mask(data, trial_query)\n\u001b[32m     12\u001b[39m max_size = np.max(data[\u001b[33m\"\u001b[39m\u001b[33mpres_itemnos\u001b[39m\u001b[33m\"\u001b[39m])\n",
      "\u001b[36mFile \u001b[39m\u001b[32m~/jaxcmr/jaxcmr/helpers.py:121\u001b[39m, in \u001b[36mload_data\u001b[39m\u001b[34m(data_path)\u001b[39m\n\u001b[32m    106\u001b[39m \u001b[38;5;28;01mdef\u001b[39;00m\u001b[38;5;250m \u001b[39m\u001b[34mload_data\u001b[39m(data_path: \u001b[38;5;28mstr\u001b[39m) -> RecallDataset:\n\u001b[32m    107\u001b[39m \u001b[38;5;250m    \u001b[39m\u001b[33;03m\"\"\"\u001b[39;00m\n\u001b[32m    108\u001b[39m \u001b[33;03m    Loads and processes an HDF5 dataset from the specified file.\u001b[39;00m\n\u001b[32m    109\u001b[39m \n\u001b[32m   (...)\u001b[39m\u001b[32m    119\u001b[39m \u001b[33;03m        a jax.numpy array containing the transposed data.\u001b[39;00m\n\u001b[32m    120\u001b[39m \u001b[33;03m    \"\"\"\u001b[39;00m\n\u001b[32m--> \u001b[39m\u001b[32m121\u001b[39m     \u001b[38;5;28;01mwith\u001b[39;00m \u001b[43mh5py\u001b[49m\u001b[43m.\u001b[49m\u001b[43mFile\u001b[49m\u001b[43m(\u001b[49m\u001b[43mdata_path\u001b[49m\u001b[43m,\u001b[49m\u001b[43m \u001b[49m\u001b[33;43m\"\u001b[39;49m\u001b[33;43mr\u001b[39;49m\u001b[33;43m\"\u001b[39;49m\u001b[43m)\u001b[49m \u001b[38;5;28;01mas\u001b[39;00m f:\n\u001b[32m    122\u001b[39m         result = {key: f[\u001b[33m\"\u001b[39m\u001b[33m/data\u001b[39m\u001b[33m\"\u001b[39m][key][()].T \u001b[38;5;28;01mfor\u001b[39;00m key \u001b[38;5;129;01min\u001b[39;00m f[\u001b[33m\"\u001b[39m\u001b[33m/data\u001b[39m\u001b[33m\"\u001b[39m].keys()}  \u001b[38;5;66;03m# type: ignore\u001b[39;00m\n\u001b[32m    123\u001b[39m     \u001b[38;5;28;01mreturn\u001b[39;00m {key: jnp.array(value) \u001b[38;5;28;01mfor\u001b[39;00m key, value \u001b[38;5;129;01min\u001b[39;00m result.items()}\n",
      "\u001b[36mFile \u001b[39m\u001b[32m~/jaxcmr/.venv/lib/python3.12/site-packages/h5py/_hl/files.py:561\u001b[39m, in \u001b[36mFile.__init__\u001b[39m\u001b[34m(self, name, mode, driver, libver, userblock_size, swmr, rdcc_nslots, rdcc_nbytes, rdcc_w0, track_order, fs_strategy, fs_persist, fs_threshold, fs_page_size, page_buf_size, min_meta_keep, min_raw_keep, locking, alignment_threshold, alignment_interval, meta_block_size, **kwds)\u001b[39m\n\u001b[32m    552\u001b[39m     fapl = make_fapl(driver, libver, rdcc_nslots, rdcc_nbytes, rdcc_w0,\n\u001b[32m    553\u001b[39m                      locking, page_buf_size, min_meta_keep, min_raw_keep,\n\u001b[32m    554\u001b[39m                      alignment_threshold=alignment_threshold,\n\u001b[32m    555\u001b[39m                      alignment_interval=alignment_interval,\n\u001b[32m    556\u001b[39m                      meta_block_size=meta_block_size,\n\u001b[32m    557\u001b[39m                      **kwds)\n\u001b[32m    558\u001b[39m     fcpl = make_fcpl(track_order=track_order, fs_strategy=fs_strategy,\n\u001b[32m    559\u001b[39m                      fs_persist=fs_persist, fs_threshold=fs_threshold,\n\u001b[32m    560\u001b[39m                      fs_page_size=fs_page_size)\n\u001b[32m--> \u001b[39m\u001b[32m561\u001b[39m     fid = \u001b[43mmake_fid\u001b[49m\u001b[43m(\u001b[49m\u001b[43mname\u001b[49m\u001b[43m,\u001b[49m\u001b[43m \u001b[49m\u001b[43mmode\u001b[49m\u001b[43m,\u001b[49m\u001b[43m \u001b[49m\u001b[43muserblock_size\u001b[49m\u001b[43m,\u001b[49m\u001b[43m \u001b[49m\u001b[43mfapl\u001b[49m\u001b[43m,\u001b[49m\u001b[43m \u001b[49m\u001b[43mfcpl\u001b[49m\u001b[43m,\u001b[49m\u001b[43m \u001b[49m\u001b[43mswmr\u001b[49m\u001b[43m=\u001b[49m\u001b[43mswmr\u001b[49m\u001b[43m)\u001b[49m\n\u001b[32m    563\u001b[39m \u001b[38;5;28;01mif\u001b[39;00m \u001b[38;5;28misinstance\u001b[39m(libver, \u001b[38;5;28mtuple\u001b[39m):\n\u001b[32m    564\u001b[39m     \u001b[38;5;28mself\u001b[39m._libver = libver\n",
      "\u001b[36mFile \u001b[39m\u001b[32m~/jaxcmr/.venv/lib/python3.12/site-packages/h5py/_hl/files.py:235\u001b[39m, in \u001b[36mmake_fid\u001b[39m\u001b[34m(name, mode, userblock_size, fapl, fcpl, swmr)\u001b[39m\n\u001b[32m    233\u001b[39m     \u001b[38;5;28;01mif\u001b[39;00m swmr \u001b[38;5;129;01mand\u001b[39;00m swmr_support:\n\u001b[32m    234\u001b[39m         flags |= h5f.ACC_SWMR_READ\n\u001b[32m--> \u001b[39m\u001b[32m235\u001b[39m     fid = \u001b[43mh5f\u001b[49m\u001b[43m.\u001b[49m\u001b[43mopen\u001b[49m\u001b[43m(\u001b[49m\u001b[43mname\u001b[49m\u001b[43m,\u001b[49m\u001b[43m \u001b[49m\u001b[43mflags\u001b[49m\u001b[43m,\u001b[49m\u001b[43m \u001b[49m\u001b[43mfapl\u001b[49m\u001b[43m=\u001b[49m\u001b[43mfapl\u001b[49m\u001b[43m)\u001b[49m\n\u001b[32m    236\u001b[39m \u001b[38;5;28;01melif\u001b[39;00m mode == \u001b[33m'\u001b[39m\u001b[33mr+\u001b[39m\u001b[33m'\u001b[39m:\n\u001b[32m    237\u001b[39m     fid = h5f.open(name, h5f.ACC_RDWR, fapl=fapl)\n",
      "\u001b[36mFile \u001b[39m\u001b[32mh5py/_objects.pyx:54\u001b[39m, in \u001b[36mh5py._objects.with_phil.wrapper\u001b[39m\u001b[34m()\u001b[39m\n",
      "\u001b[36mFile \u001b[39m\u001b[32mh5py/_objects.pyx:55\u001b[39m, in \u001b[36mh5py._objects.with_phil.wrapper\u001b[39m\u001b[34m()\u001b[39m\n",
      "\u001b[36mFile \u001b[39m\u001b[32mh5py/h5f.pyx:102\u001b[39m, in \u001b[36mh5py.h5f.open\u001b[39m\u001b[34m()\u001b[39m\n",
      "\u001b[31mFileNotFoundError\u001b[39m: [Errno 2] Unable to open file (unable to open file: name = 'data/KahanaJacobs2000.h5', errno = 2, error message = 'No such file or directory', flags = 0, o_flags = 0)"
     ]
    }
   ],
   "source": [
    "# add subdirectories for each product type: json, figures, h5\n",
    "product_dirs = {}\n",
    "for product in [\"fits\", \"figures\", \"simulations\"]:\n",
    "    product_dir = os.path.join(target_dir, product)\n",
    "    product_dirs[product] = product_dir\n",
    "    if not os.path.exists(product_dir):\n",
    "        os.makedirs(product_dir)\n",
    "\n",
    "data = load_data(data_path)\n",
    "trial_mask = generate_trial_mask(data, trial_query)\n",
    "\n",
    "max_size = np.max(data[\"pres_itemnos\"])\n",
    "connections = jnp.zeros((max_size, max_size))\n",
    "\n",
    "single_analyses = [import_from_string(path) for path in single_analysis_paths]\n",
    "comparison_analyses = [import_from_string(path) for path in comparison_analysis_paths]\n",
    "model_factory = import_from_string(model_factory_path)\n",
    "\n",
    "# derive list of query parameters from keys of `parameters`\n",
    "parameters['fixed']['allow_repeated_recalls'] = allow_repeated_recalls\n",
    "query_parameters = list(parameters[\"free\"].keys())\n",
    "\n",
    "# make sure repeatedrecalls is in either both data_tag or data_path, or is in neither\n",
    "if \"repeatedrecalls\" in data_tag.lower() or \"repeatedrecalls\" in data_path.lower():\n",
    "    if \"repeatedrecalls\" not in data_tag.lower() and \"repeatedrecalls\" not in data_path.lower():\n",
    "        raise ValueError(\n",
    "            \"If 'repeatedrecalls' is in data_tag or data_path, it must be in both.\"\n",
    "        )"
   ]
  },
  {
   "cell_type": "markdown",
   "id": "abe1fdc7",
   "metadata": {
    "papermill": {
     "duration": null,
     "end_time": null,
     "exception": null,
     "start_time": null,
     "status": "pending"
    },
    "tags": []
   },
   "source": [
    "## Fitting"
   ]
  },
  {
   "cell_type": "code",
   "execution_count": null,
   "id": "e7bece1b",
   "metadata": {
    "papermill": {
     "duration": null,
     "end_time": null,
     "exception": null,
     "start_time": null,
     "status": "pending"
    },
    "tags": []
   },
   "outputs": [],
   "source": [
    "fit_path = os.path.join(product_dirs[\"fits\"], f\"{data_tag}_{model_name}_{run_tag}.json\")\n",
    "print(fit_path)\n",
    "\n",
    "if os.path.exists(fit_path) and not redo_fits:\n",
    "    with open(fit_path) as f:\n",
    "        results = json.load(f)\n",
    "        if \"subject\" not in results[\"fits\"]:\n",
    "            results[\"fits\"][\"subject\"] = results[\"subject\"]\n",
    "\n",
    "else:\n",
    "    base_params = parameters[\"fixed\"]\n",
    "    bounds = parameters[\"free\"]\n",
    "    fitter = fitting_method(\n",
    "        data,\n",
    "        connections,\n",
    "        base_params,\n",
    "        model_factory,\n",
    "        loss_fn_generator,\n",
    "        hyperparams={\n",
    "            \"num_steps\": num_steps,\n",
    "            \"pop_size\": popsize,\n",
    "            \"relative_tolerance\": relative_tolerance,\n",
    "            \"cross_over_rate\": cross_rate,\n",
    "            \"diff_w\": diff_w,\n",
    "            \"progress_bar\": True,\n",
    "            \"display_iterations\": False,\n",
    "            \"bounds\": bounds,\n",
    "            \"best_of\": best_of,\n",
    "        },\n",
    "    )\n",
    "\n",
    "    results = fitter.fit(trial_mask)\n",
    "    results = dict(results)\n",
    "\n",
    "    with open(fit_path, \"w\") as f:\n",
    "        json.dump(results, f, indent=4)\n",
    "\n",
    "results[\"data_query\"] = trial_query\n",
    "results[\"model\"] = model_name\n",
    "results[\"name\"] = f\"{data_tag}_{model_name}_{run_tag}\"\n",
    "\n",
    "with open(fit_path, \"w\") as f:\n",
    "    json.dump(results, f, indent=4)\n",
    "\n",
    "print(\n",
    "    summarize_parameters([results], query_parameters, include_std=True, include_ci=True)\n",
    ")"
   ]
  },
  {
   "cell_type": "markdown",
   "id": "d91ad9c4",
   "metadata": {
    "papermill": {
     "duration": null,
     "end_time": null,
     "exception": null,
     "start_time": null,
     "status": "pending"
    },
    "tags": []
   },
   "source": [
    "## Simulation"
   ]
  },
  {
   "cell_type": "code",
   "execution_count": null,
   "id": "ec4751f4",
   "metadata": {
    "papermill": {
     "duration": null,
     "end_time": null,
     "exception": null,
     "start_time": null,
     "status": "pending"
    },
    "tags": []
   },
   "outputs": [],
   "source": [
    "sim_path = os.path.join(\n",
    "    product_dirs[\"simulations\"], f\"{data_tag}_{model_name}_{run_tag}.h5\"\n",
    ")\n",
    "print(sim_path)\n",
    "\n",
    "with open(fit_path) as f:\n",
    "    results = json.load(f)\n",
    "    if \"subject\" not in results[\"fits\"]:\n",
    "        results[\"fits\"][\"subject\"] = results[\"subject\"]\n",
    "\n",
    "\n",
    "rng = random.PRNGKey(seed)\n",
    "rng, rng_iter = random.split(rng)\n",
    "trial_mask = generate_trial_mask(data, trial_query)\n",
    "params = {key: jnp.array(val) for key, val in results[\"fits\"].items()}  # type: ignore\n",
    "\n",
    "if os.path.exists(sim_path) and not redo_sims:\n",
    "    sim = load_data(sim_path)\n",
    "    print(f\"Loaded from {sim_path}\")\n",
    "\n",
    "else:\n",
    "    sim = simulate_h5_from_h5(\n",
    "        model_factory=model_factory,\n",
    "        dataset=data,\n",
    "        connections=connections,\n",
    "        parameters=params,\n",
    "        trial_mask=trial_mask,\n",
    "        experiment_count=experiment_count,\n",
    "        rng=rng_iter,\n",
    "    )\n",
    "\n",
    "    save_dict_to_hdf5(sim, sim_path)\n",
    "    print(f\"Saved to {sim_path}\")\n",
    "\n",
    "if filter_repeated_recalls:\n",
    "    sim['recalls'] = repetition.filter_repeated_recalls(sim['recalls'])\n",
    "\n",
    "params"
   ]
  },
  {
   "cell_type": "markdown",
   "id": "49425906",
   "metadata": {
    "papermill": {
     "duration": null,
     "end_time": null,
     "exception": null,
     "start_time": null,
     "status": "pending"
    },
    "tags": []
   },
   "source": [
    "## Figures"
   ]
  },
  {
   "cell_type": "code",
   "execution_count": null,
   "id": "789d14d4",
   "metadata": {
    "papermill": {
     "duration": null,
     "end_time": null,
     "exception": null,
     "start_time": null,
     "status": "pending"
    },
    "tags": []
   },
   "outputs": [],
   "source": [
    "#|code-summary: single-dataset views\n",
    "\n",
    "for combined_LT, lt_values in [\n",
    "    (\"4\", [4]),\n",
    "    (\"34\", [3, 4]),\n",
    "]:\n",
    "    for analysis in single_analyses:\n",
    "        figure_str = f\"{data_tag}_mixed_{model_name}_{run_tag}_LT{combined_LT}_{analysis.__name__[5:]}.png\"\n",
    "        figure_path = os.path.join(product_dirs[\"figures\"], figure_str)\n",
    "        print(f\"![]({figure_path})\")\n",
    "\n",
    "        # if redo_figures, check if figure already exists and don't redo\n",
    "        # we want to display the figure here if it already exists\n",
    "        if os.path.exists(figure_path) and not redo_figures:\n",
    "            display(Image(filename=figure_path))\n",
    "        else:\n",
    "            color_cycle = [each[\"color\"] for each in rcParams[\"axes.prop_cycle\"]]\n",
    "\n",
    "            # Create a mask for data using np.isin for the selected list types\n",
    "            lt_trial_mask = np.isin(sim[\"list_type\"].flatten(), lt_values)\n",
    "\n",
    "            axis = analysis(\n",
    "                datasets=[sim],\n",
    "                trial_masks=[np.array(lt_trial_mask)],\n",
    "                color_cycle=color_cycle,\n",
    "                labels=[\"First\", \"Second\"],\n",
    "                contrast_name=\"Repetition Index\",\n",
    "                axis=None,\n",
    "                distances=None,\n",
    "            )\n",
    "\n",
    "            plt.savefig(figure_path, bbox_inches=\"tight\", dpi=600)\n",
    "            plt.show()\n",
    "\n",
    "        # now the corresponding figure for the control analysis dataset\n",
    "        figure_str = f\"{data_tag}_control_{model_name}_{run_tag}_LT{combined_LT}_{analysis.__name__[5:]}.png\"\n",
    "        figure_path = os.path.join(product_dirs[\"figures\"], figure_str)\n",
    "        print(f\"![]({figure_path})\")\n",
    "\n",
    "        # if redo_figures, check if figure already exists and don't redo\n",
    "        # we want to display the figure here if it already exists\n",
    "        if os.path.exists(figure_path) and not redo_figures:\n",
    "            display(Image(filename=figure_path))\n",
    "        else:\n",
    "            color_cycle = [each[\"color\"] for each in rcParams[\"axes.prop_cycle\"]]\n",
    "\n",
    "            # Create a mask for simulation data similarly\n",
    "            ctrl_sim = repetition.make_control_dataset(\n",
    "                sim,\n",
    "                mixed_query=f\"jnp.isin(data['list_type'], jnp.array({lt_values}))\",\n",
    "                control_query=control_trial_query,\n",
    "                n_shuffles=10,\n",
    "                seed=0,\n",
    "                remove_repeats=filter_repeated_recalls,\n",
    "            )\n",
    "            control_trial_mask = jnp.ones((ctrl_sim[\"recalls\"].shape[0],), dtype=bool)\n",
    "\n",
    "            axis = analysis(\n",
    "                datasets=[ctrl_sim],\n",
    "                trial_masks=[np.array(control_trial_mask)],\n",
    "                color_cycle=color_cycle,\n",
    "                labels=[\"First\", \"Second\"],\n",
    "                contrast_name=\"Repetition Index\",\n",
    "                axis=None,\n",
    "                distances=None,\n",
    "            )\n",
    "            plt.savefig(figure_path, bbox_inches=\"tight\", dpi=600)\n",
    "            plt.show()"
   ]
  },
  {
   "cell_type": "code",
   "execution_count": null,
   "id": "2ed58e5f",
   "metadata": {
    "papermill": {
     "duration": null,
     "end_time": null,
     "exception": null,
     "start_time": null,
     "status": "pending"
    },
    "tags": []
   },
   "outputs": [],
   "source": [
    "#| code-summary: mixed vs control views\n",
    "\n",
    "for combined_LT, lt_values in [\n",
    "    (\"4\", [4]),\n",
    "    (\"34\", [3, 4]),\n",
    "]:\n",
    "    for analysis in comparison_analyses:\n",
    "\n",
    "        figure_str = f\"{data_tag}_mixedvscontrolA_{model_name}_{run_tag}_LT{combined_LT}_{analysis.__name__[5:]}.png\"\n",
    "        figure_path = os.path.join(product_dirs[\"figures\"], figure_str)\n",
    "        print(f\"![]({figure_path})\")\n",
    "\n",
    "        # if redo_figures, check if figure already exists and don't redo\n",
    "        # we want to display the figure here if it already exists\n",
    "        if os.path.exists(figure_path) and not redo_figures:\n",
    "            display(Image(filename=figure_path))\n",
    "\n",
    "        else:\n",
    "            color_cycle = [each[\"color\"] for each in rcParams[\"axes.prop_cycle\"]]\n",
    "\n",
    "            # Create a mask for data using np.isin for the selected list types\n",
    "            lt_trial_mask = np.isin(sim[\"list_type\"].flatten(), lt_values)\n",
    "\n",
    "            # Create a mask for simulation data similarly\n",
    "            ctrl_sim =  repetition.make_control_dataset(\n",
    "                sim, mixed_query=f\"np.isin(data['list_type'].flatten(), {lt_values})\",\n",
    "                control_query=control_trial_query, n_shuffles=10, seed=0, remove_repeats=filter_repeated_recalls)\n",
    "            control_trial_mask = jnp.ones((ctrl_sim[\"recalls\"].shape[0],), dtype=bool)\n",
    "\n",
    "            axis = analysis(\n",
    "                datasets=[sim, ctrl_sim],\n",
    "                trial_masks=[np.array(lt_trial_mask), np.array(control_trial_mask)],\n",
    "                color_cycle=color_cycle,\n",
    "                labels=[\"Mixed\", \"Control\"],\n",
    "                contrast_name=\"Source\",\n",
    "                axis=None,\n",
    "                distances=None,\n",
    "            )\n",
    "\n",
    "            plt.savefig(figure_path, bbox_inches=\"tight\", dpi=600)\n",
    "            plt.show()\n",
    "\n",
    "        # for non rep analyses, we'll also plot the mixed vs control\n",
    "        # without our make_control_dataset remapping of study lists to trials\n",
    "        if \"rep\" in analysis.__name__:\n",
    "            continue\n",
    "        figure_str = f\"{data_tag}_mixedvscontrolB_{model_name}_{run_tag}_LT{combined_LT}_{analysis.__name__[5:]}.png\"\n",
    "        figure_path = os.path.join(product_dirs[\"figures\"], figure_str)\n",
    "        print(f\"![]({figure_path})\")\n",
    "\n",
    "        # if redo_figures, check if figure already exists and don't redo\n",
    "        # we want to display the figure here if it already exists\n",
    "        if os.path.exists(figure_path) and not redo_figures:\n",
    "            display(Image(filename=figure_path))\n",
    "        \n",
    "        else:\n",
    "\n",
    "            color_cycle = [each[\"color\"] for each in rcParams[\"axes.prop_cycle\"]]\n",
    "\n",
    "            # Create a mask for data using np.isin for the selected list types\n",
    "            lt_trial_mask = np.isin(sim[\"list_type\"].flatten(), lt_values)\n",
    "\n",
    "            # Create a mask for simulation data similarly\n",
    "            control_trial_mask = generate_trial_mask(sim, control_trial_query)\n",
    "\n",
    "            axis = analysis(\n",
    "                datasets=[sim, sim],\n",
    "                trial_masks=[np.array(lt_trial_mask), np.array(control_trial_mask)],\n",
    "                color_cycle=color_cycle,\n",
    "                labels=[\"Mixed\", \"Control\"],\n",
    "                contrast_name=\"Source\",\n",
    "                axis=None,\n",
    "                distances=None,\n",
    "            )\n",
    "\n",
    "            plt.savefig(figure_path, bbox_inches=\"tight\", dpi=600)\n",
    "            plt.show()\n"
   ]
  }
 ],
 "metadata": {
  "kernelspec": {
   "display_name": "jaxcmr",
   "language": "python",
   "name": "python3"
  },
  "language_info": {
   "codemirror_mode": {
    "name": "ipython",
    "version": 3
   },
   "file_extension": ".py",
   "mimetype": "text/x-python",
   "name": "python",
   "nbconvert_exporter": "python",
   "pygments_lexer": "ipython3",
   "version": "3.12.8"
  },
  "papermill": {
   "default_parameters": {},
   "duration": 7.158768,
   "end_time": "2025-08-04T02:56:30.456874",
   "environment_variables": {},
   "exception": true,
   "input_path": "projects/thesis/Fitting.ipynb",
   "output_path": "projects/thesis/KahanaJacobs2000_WeirdCMR_Fitting.ipynb",
   "parameters": {
    "allow_repeated_recalls": false,
    "base_data_tag": "KahanaJacobs2000",
    "control_trial_query": "jnp.logical_and(jnp.logical_and(data['recall_attempt'] == 1, data['recall_total'] > 0), data['rep_position'] == 0)",
    "data_path": "data/KahanaJacobs2000.h5",
    "data_tag": "KahanaJacobs2000",
    "filter_repeated_recalls": true,
    "model_factory_path": "jaxcmr.models_repfr.weird_cmr.BaseCMRFactory",
    "model_name": "WeirdCMR",
    "parameters": {
     "fixed": {},
     "free": {
      "choice_sensitivity": [
       2.220446049250313e-16,
       100.0
      ],
      "encoding_drift_rate": [
       2.220446049250313e-16,
       0.9999999999999998
      ],
      "item_support": [
       2.220446049250313e-16,
       100.0
      ],
      "learning_rate": [
       2.220446049250313e-16,
       0.9999999999999998
      ],
      "mfc_choice_sensitivity": [
       2.220446049250313e-16,
       100.0
      ],
      "primacy_decay": [
       2.220446049250313e-16,
       100.0
      ],
      "primacy_scale": [
       2.220446049250313e-16,
       100.0
      ],
      "recall_drift_rate": [
       2.220446049250313e-16,
       0.9999999999999998
      ],
      "shared_support": [
       2.220446049250313e-16,
       100.0
      ],
      "start_drift_rate": [
       2.220446049250313e-16,
       0.9999999999999998
      ],
      "stop_probability_growth": [
       2.220446049250313e-16,
       10.0
      ],
      "stop_probability_scale": [
       2.220446049250313e-16,
       0.9999999999999998
      ]
     }
    },
    "redo_figures": false,
    "redo_fits": false,
    "redo_sims": false,
    "trial_query": "jnp.logical_and(data['recall_attempt'] == 1, data['recall_total'] > 0)"
   },
   "start_time": "2025-08-04T02:56:23.298106",
   "version": "2.6.0"
  }
 },
 "nbformat": 4,
 "nbformat_minor": 5
}