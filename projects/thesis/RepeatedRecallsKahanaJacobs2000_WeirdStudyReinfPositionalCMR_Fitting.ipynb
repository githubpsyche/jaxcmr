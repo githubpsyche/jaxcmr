{
 "cells": [
  {
   "cell_type": "code",
   "execution_count": 1,
   "id": "5bcf1ebf",
   "metadata": {
    "execution": {
     "iopub.execute_input": "2025-07-21T18:45:13.813114Z",
     "iopub.status.busy": "2025-07-21T18:45:13.812974Z",
     "iopub.status.idle": "2025-07-21T18:45:15.528105Z",
     "shell.execute_reply": "2025-07-21T18:45:15.527822Z"
    },
    "papermill": {
     "duration": 1.718134,
     "end_time": "2025-07-21T18:45:15.528933",
     "exception": false,
     "start_time": "2025-07-21T18:45:13.810799",
     "status": "completed"
    },
    "tags": []
   },
   "outputs": [],
   "source": [
    "%load_ext autoreload\n",
    "%autoreload 2\n",
    "\n",
    "import json\n",
    "import os\n",
    "import warnings\n",
    "\n",
    "import jax.numpy as jnp\n",
    "import matplotlib.pyplot as plt\n",
    "from IPython.display import Image, display\n",
    "import numpy as np\n",
    "from jax import random\n",
    "from matplotlib import rcParams  # type: ignore\n",
    "\n",
    "from jaxcmr.fitting import ScipyDE as fitting_method\n",
    "from jaxcmr.helpers import (\n",
    "    generate_trial_mask,\n",
    "    import_from_string,\n",
    "    load_data,\n",
    "    save_dict_to_hdf5,\n",
    ")\n",
    "from jaxcmr.likelihood import MemorySearchLikelihoodFnGenerator as loss_fn_generator\n",
    "from jaxcmr import repetition\n",
    "from jaxcmr.simulation import simulate_h5_from_h5\n",
    "from jaxcmr.summarize import summarize_parameters\n",
    "\n",
    "warnings.filterwarnings(\"ignore\")"
   ]
  },
  {
   "cell_type": "markdown",
   "id": "faa8a7ce",
   "metadata": {
    "papermill": {
     "duration": 0.001134,
     "end_time": "2025-07-21T18:45:15.532073",
     "exception": false,
     "start_time": "2025-07-21T18:45:15.530939",
     "status": "completed"
    },
    "tags": []
   },
   "source": [
    "## Setup"
   ]
  },
  {
   "cell_type": "code",
   "execution_count": 2,
   "id": "880fb412",
   "metadata": {
    "execution": {
     "iopub.execute_input": "2025-07-21T18:45:15.602446Z",
     "iopub.status.busy": "2025-07-21T18:45:15.602228Z",
     "iopub.status.idle": "2025-07-21T18:45:15.628779Z",
     "shell.execute_reply": "2025-07-21T18:45:15.628524Z"
    },
    "papermill": {
     "duration": 0.028749,
     "end_time": "2025-07-21T18:45:15.629536",
     "exception": false,
     "start_time": "2025-07-21T18:45:15.600787",
     "status": "completed"
    },
    "tags": [
     "parameters"
    ]
   },
   "outputs": [],
   "source": [
    "# repeat params\n",
    "allow_repeated_recalls = False\n",
    "filter_repeated_recalls = False\n",
    "data_tag = \"LohnasKahana2014\"\n",
    "data_path = \"data/LohnasKahana2014.h5\"\n",
    "\n",
    "# data params\n",
    "trial_query = \"data['list_type'] > 0\"\n",
    "run_tag = \"full_best_of_3\"\n",
    "\n",
    "# fitting params\n",
    "redo_fits = True\n",
    "model_factory_path = \"jaxcmr.models_repfr.weird_cmr.BaseCMRFactory\"\n",
    "model_name = \"WeirdCMR\"\n",
    "relative_tolerance = 0.001\n",
    "popsize = 15\n",
    "num_steps = 1000\n",
    "cross_rate = 0.9\n",
    "diff_w = 0.85\n",
    "best_of = 3\n",
    "target_dir = \"projects/thesis\"\n",
    "\n",
    "# sim params\n",
    "redo_sims = True\n",
    "seed = 0\n",
    "experiment_count = 50\n",
    "\n",
    "# figure params\n",
    "redo_figures = True\n",
    "\n",
    "parameters = {\n",
    "    \"fixed\": {\n",
    "    },\n",
    "    \"free\": {\n",
    "        \"encoding_drift_rate\": [2.220446049250313e-16, 0.9999999999999998],\n",
    "        \"start_drift_rate\": [2.220446049250313e-16, 0.9999999999999998],\n",
    "        \"recall_drift_rate\": [2.220446049250313e-16, 0.9999999999999998],\n",
    "        \"shared_support\": [2.220446049250313e-16, 99.9999999999999998],\n",
    "        \"item_support\": [2.220446049250313e-16, 99.9999999999999998],\n",
    "        \"learning_rate\": [2.220446049250313e-16, 0.9999999999999998],\n",
    "        \"primacy_scale\": [2.220446049250313e-16, 99.9999999999999998],\n",
    "        \"primacy_decay\": [2.220446049250313e-16, 99.9999999999999998],\n",
    "        \"stop_probability_scale\": [2.220446049250313e-16, 0.9999999999999998],\n",
    "        \"stop_probability_growth\": [2.220446049250313e-16, 9.9999999999999998],\n",
    "        \"choice_sensitivity\": [2.220446049250313e-16, 99.9999999999999998],\n",
    "    },\n",
    "}\n",
    "\n",
    "single_analysis_paths = [\n",
    "    \"jaxcmr.analyses.repcrp.plot_rep_crp\",\n",
    "    \"jaxcmr.analyses.backrepcrp.plot_back_rep_crp\",\n",
    "]\n",
    "\n",
    "comparison_analysis_paths = [\n",
    "    \"jaxcmr.analyses.spc.plot_spc\",\n",
    "    \"jaxcmr.analyses.crp.plot_crp\",\n",
    "    \"jaxcmr.analyses.pnr.plot_pnr\",\n",
    "    \"jaxcmr.analyses.repneighborcrp.plot_repneighborcrp_i2j\",\n",
    "    \"jaxcmr.analyses.repneighborcrp.plot_repneighborcrp_j2i\",\n",
    "    \"jaxcmr.analyses.repneighborcrp.plot_repneighborcrp_both\",\n",
    "    \"jaxcmr.analyses.rpl.plot_rpl\",\n",
    "    \"jaxcmr.analyses.rpl.plot_full_rpl\",\n",
    "]"
   ]
  },
  {
   "cell_type": "code",
   "execution_count": 3,
   "id": "14f85bd8",
   "metadata": {
    "execution": {
     "iopub.execute_input": "2025-07-21T18:45:15.633262Z",
     "iopub.status.busy": "2025-07-21T18:45:15.633095Z",
     "iopub.status.idle": "2025-07-21T18:45:15.648175Z",
     "shell.execute_reply": "2025-07-21T18:45:15.647881Z"
    },
    "papermill": {
     "duration": 0.018367,
     "end_time": "2025-07-21T18:45:15.649400",
     "exception": false,
     "start_time": "2025-07-21T18:45:15.631033",
     "status": "completed"
    },
    "tags": [
     "injected-parameters"
    ]
   },
   "outputs": [],
   "source": [
    "# Parameters\n",
    "allow_repeated_recalls = True\n",
    "filter_repeated_recalls = False\n",
    "data_tag = \"RepeatedRecallsKahanaJacobs2000\"\n",
    "data_path = \"data/RepeatedRecallsKahanaJacobs2000.h5\"\n",
    "base_data_tag = \"KahanaJacobs2000\"\n",
    "trial_query = \"jnp.logical_and(data['recall_attempt'] == 1, data['recall_total'] > 0)\"\n",
    "single_analysis_paths = []\n",
    "comparison_analysis_paths = []\n",
    "model_name = \"WeirdStudyReinfPositionalCMR\"\n",
    "model_factory_path = \"jaxcmr.models_repfr.weird_study_reinf_positional_cmr.BaseCMRFactory\"\n",
    "redo_fits = False\n",
    "redo_sims = False\n",
    "redo_figures = False\n",
    "parameters = {\"fixed\": {\"mfc_choice_sensitivity\": 1.0}, \"free\": {\"encoding_drift_rate\": [2.220446049250313e-16, 0.9999999999999998], \"start_drift_rate\": [2.220446049250313e-16, 0.9999999999999998], \"recall_drift_rate\": [2.220446049250313e-16, 0.9999999999999998], \"shared_support\": [2.220446049250313e-16, 100.0], \"item_support\": [2.220446049250313e-16, 100.0], \"learning_rate\": [2.220446049250313e-16, 0.9999999999999998], \"primacy_scale\": [2.220446049250313e-16, 100.0], \"primacy_decay\": [2.220446049250313e-16, 100.0], \"stop_probability_scale\": [2.220446049250313e-16, 0.9999999999999998], \"stop_probability_growth\": [2.220446049250313e-16, 10.0], \"choice_sensitivity\": [2.220446049250313e-16, 100.0], \"first_presentation_reinforcement\": [2.220446049250313e-16, 100.0]}}\n"
   ]
  },
  {
   "cell_type": "code",
   "execution_count": 4,
   "id": "0877f896",
   "metadata": {
    "execution": {
     "iopub.execute_input": "2025-07-21T18:45:15.652163Z",
     "iopub.status.busy": "2025-07-21T18:45:15.652054Z",
     "iopub.status.idle": "2025-07-21T18:45:15.946301Z",
     "shell.execute_reply": "2025-07-21T18:45:15.946010Z"
    },
    "papermill": {
     "duration": 0.29642,
     "end_time": "2025-07-21T18:45:15.947134",
     "exception": false,
     "start_time": "2025-07-21T18:45:15.650714",
     "status": "completed"
    },
    "tags": []
   },
   "outputs": [],
   "source": [
    "# add subdirectories for each product type: json, figures, h5\n",
    "product_dirs = {}\n",
    "for product in [\"fits\", \"figures\", \"simulations\"]:\n",
    "    product_dir = os.path.join(target_dir, product)\n",
    "    product_dirs[product] = product_dir\n",
    "    if not os.path.exists(product_dir):\n",
    "        os.makedirs(product_dir)\n",
    "\n",
    "data = load_data(data_path)\n",
    "trial_mask = generate_trial_mask(data, trial_query)\n",
    "\n",
    "max_size = np.max(data[\"pres_itemnos\"])\n",
    "connections = jnp.zeros((max_size, max_size))\n",
    "\n",
    "single_analyses = [import_from_string(path) for path in single_analysis_paths]\n",
    "comparison_analyses = [import_from_string(path) for path in comparison_analysis_paths]\n",
    "model_factory = import_from_string(model_factory_path)\n",
    "\n",
    "# derive list of query parameters from keys of `parameters`\n",
    "parameters['fixed']['allow_repeated_recalls'] = allow_repeated_recalls\n",
    "query_parameters = list(parameters[\"free\"].keys())\n",
    "\n",
    "# make sure repeatedrecalls is in either both data_tag or data_path, or is in neither\n",
    "if \"repeatedrecalls\" in data_tag.lower() or \"repeatedrecalls\" in data_path.lower():\n",
    "    if \"repeatedrecalls\" not in data_tag.lower() and \"repeatedrecalls\" not in data_path.lower():\n",
    "        raise ValueError(\n",
    "            \"If 'repeatedrecalls' is in data_tag or data_path, it must be in both.\"\n",
    "        )"
   ]
  },
  {
   "cell_type": "markdown",
   "id": "abe1fdc7",
   "metadata": {
    "papermill": {
     "duration": 0.00128,
     "end_time": "2025-07-21T18:45:15.950365",
     "exception": false,
     "start_time": "2025-07-21T18:45:15.949085",
     "status": "completed"
    },
    "tags": []
   },
   "source": [
    "## Fitting"
   ]
  },
  {
   "cell_type": "code",
   "execution_count": 5,
   "id": "e7bece1b",
   "metadata": {
    "execution": {
     "iopub.execute_input": "2025-07-21T18:45:15.953262Z",
     "iopub.status.busy": "2025-07-21T18:45:15.953094Z",
     "iopub.status.idle": "2025-07-21T20:44:13.030627Z",
     "shell.execute_reply": "2025-07-21T20:44:13.029713Z"
    },
    "papermill": {
     "duration": 7137.07999,
     "end_time": "2025-07-21T20:44:13.031696",
     "exception": false,
     "start_time": "2025-07-21T18:45:15.951706",
     "status": "completed"
    },
    "tags": []
   },
   "outputs": [
    {
     "name": "stdout",
     "output_type": "stream",
     "text": [
      "projects/thesis/fits/RepeatedRecallsKahanaJacobs2000_WeirdStudyReinfPositionalCMR_full_best_of_3.json\n"
     ]
    },
    {
     "name": "stderr",
     "output_type": "stream",
     "text": [
      "\r",
      "  0%|          | 0/19 [00:00<?, ?it/s]"
     ]
    },
    {
     "name": "stderr",
     "output_type": "stream",
     "text": [
      "\r",
      "Subject=200, Fitness=3685.59814453125:   0%|          | 0/19 [06:24<?, ?it/s]"
     ]
    },
    {
     "name": "stderr",
     "output_type": "stream",
     "text": [
      "\r",
      "Subject=200, Fitness=3685.59814453125:   5%|▌         | 1/19 [06:24<1:55:13, 384.06s/it]"
     ]
    },
    {
     "name": "stderr",
     "output_type": "stream",
     "text": [
      "\r",
      "Subject=201, Fitness=3580.985107421875:   5%|▌         | 1/19 [15:31<1:55:13, 384.06s/it]"
     ]
    },
    {
     "name": "stderr",
     "output_type": "stream",
     "text": [
      "\r",
      "Subject=201, Fitness=3580.985107421875:  11%|█         | 2/19 [15:31<2:16:07, 480.44s/it]"
     ]
    },
    {
     "name": "stderr",
     "output_type": "stream",
     "text": [
      "\r",
      "Subject=205, Fitness=3377.70166015625:  11%|█         | 2/19 [23:24<2:16:07, 480.44s/it] "
     ]
    },
    {
     "name": "stderr",
     "output_type": "stream",
     "text": [
      "\r",
      "Subject=205, Fitness=3377.70166015625:  16%|█▌        | 3/19 [23:24<2:07:12, 477.04s/it]"
     ]
    },
    {
     "name": "stderr",
     "output_type": "stream",
     "text": [
      "\r",
      "Subject=206, Fitness=4165.93359375:  16%|█▌        | 3/19 [30:59<2:07:12, 477.04s/it]   "
     ]
    },
    {
     "name": "stderr",
     "output_type": "stream",
     "text": [
      "\r",
      "Subject=206, Fitness=4165.93359375:  21%|██        | 4/19 [30:59<1:57:00, 468.01s/it]"
     ]
    },
    {
     "name": "stderr",
     "output_type": "stream",
     "text": [
      "\r",
      "Subject=210, Fitness=3273.865966796875:  21%|██        | 4/19 [38:06<1:57:00, 468.01s/it]"
     ]
    },
    {
     "name": "stderr",
     "output_type": "stream",
     "text": [
      "\r",
      "Subject=210, Fitness=3273.865966796875:  26%|██▋       | 5/19 [38:06<1:45:48, 453.46s/it]"
     ]
    },
    {
     "name": "stderr",
     "output_type": "stream",
     "text": [
      "\r",
      "Subject=215, Fitness=5605.37255859375:  26%|██▋       | 5/19 [45:31<1:45:48, 453.46s/it] "
     ]
    },
    {
     "name": "stderr",
     "output_type": "stream",
     "text": [
      "\r",
      "Subject=215, Fitness=5605.37255859375:  32%|███▏      | 6/19 [45:31<1:37:36, 450.48s/it]"
     ]
    },
    {
     "name": "stderr",
     "output_type": "stream",
     "text": [
      "\r",
      "Subject=220, Fitness=3539.114501953125:  32%|███▏      | 6/19 [51:16<1:37:36, 450.48s/it]"
     ]
    },
    {
     "name": "stderr",
     "output_type": "stream",
     "text": [
      "\r",
      "Subject=220, Fitness=3539.114501953125:  37%|███▋      | 7/19 [51:16<1:23:10, 415.87s/it]"
     ]
    },
    {
     "name": "stderr",
     "output_type": "stream",
     "text": [
      "\r",
      "Subject=230, Fitness=4457.08203125:  37%|███▋      | 7/19 [56:41<1:23:10, 415.87s/it]    "
     ]
    },
    {
     "name": "stderr",
     "output_type": "stream",
     "text": [
      "\r",
      "Subject=230, Fitness=4457.08203125:  42%|████▏     | 8/19 [56:41<1:10:58, 387.12s/it]"
     ]
    },
    {
     "name": "stderr",
     "output_type": "stream",
     "text": [
      "\r",
      "Subject=240, Fitness=5342.44775390625:  42%|████▏     | 8/19 [1:04:07<1:10:58, 387.12s/it]"
     ]
    },
    {
     "name": "stderr",
     "output_type": "stream",
     "text": [
      "\r",
      "Subject=240, Fitness=5342.44775390625:  47%|████▋     | 9/19 [1:04:07<1:07:33, 405.36s/it]"
     ]
    },
    {
     "name": "stderr",
     "output_type": "stream",
     "text": [
      "\r",
      "Subject=256, Fitness=2960.57861328125:  47%|████▋     | 9/19 [1:09:25<1:07:33, 405.36s/it]"
     ]
    },
    {
     "name": "stderr",
     "output_type": "stream",
     "text": [
      "\r",
      "Subject=256, Fitness=2960.57861328125:  53%|█████▎    | 10/19 [1:09:25<56:47, 378.61s/it] "
     ]
    },
    {
     "name": "stderr",
     "output_type": "stream",
     "text": [
      "\r",
      "Subject=299, Fitness=1785.2384033203125:  53%|█████▎    | 10/19 [1:13:32<56:47, 378.61s/it]"
     ]
    },
    {
     "name": "stderr",
     "output_type": "stream",
     "text": [
      "\r",
      "Subject=299, Fitness=1785.2384033203125:  58%|█████▊    | 11/19 [1:13:32<45:06, 338.33s/it]"
     ]
    },
    {
     "name": "stderr",
     "output_type": "stream",
     "text": [
      "\r",
      "Subject=300, Fitness=4190.04248046875:  58%|█████▊    | 11/19 [1:18:37<45:06, 338.33s/it]  "
     ]
    },
    {
     "name": "stderr",
     "output_type": "stream",
     "text": [
      "\r",
      "Subject=300, Fitness=4190.04248046875:  63%|██████▎   | 12/19 [1:18:37<38:17, 328.18s/it]"
     ]
    },
    {
     "name": "stderr",
     "output_type": "stream",
     "text": [
      "\r",
      "Subject=301, Fitness=5169.1376953125:  63%|██████▎   | 12/19 [1:25:38<38:17, 328.18s/it] "
     ]
    },
    {
     "name": "stderr",
     "output_type": "stream",
     "text": [
      "\r",
      "Subject=301, Fitness=5169.1376953125:  68%|██████▊   | 13/19 [1:25:38<35:36, 356.06s/it]"
     ]
    },
    {
     "name": "stderr",
     "output_type": "stream",
     "text": [
      "\r",
      "Subject=303, Fitness=3345.3056640625:  68%|██████▊   | 13/19 [1:33:22<35:36, 356.06s/it]"
     ]
    },
    {
     "name": "stderr",
     "output_type": "stream",
     "text": [
      "\r",
      "Subject=303, Fitness=3345.3056640625:  74%|███████▎  | 14/19 [1:33:22<32:23, 388.69s/it]"
     ]
    },
    {
     "name": "stderr",
     "output_type": "stream",
     "text": [
      "\r",
      "Subject=305, Fitness=4703.03369140625:  74%|███████▎  | 14/19 [1:37:58<32:23, 388.69s/it]"
     ]
    },
    {
     "name": "stderr",
     "output_type": "stream",
     "text": [
      "\r",
      "Subject=305, Fitness=4703.03369140625:  79%|███████▉  | 15/19 [1:37:58<23:39, 354.96s/it]"
     ]
    },
    {
     "name": "stderr",
     "output_type": "stream",
     "text": [
      "\r",
      "Subject=306, Fitness=4399.2490234375:  79%|███████▉  | 15/19 [1:43:04<23:39, 354.96s/it] "
     ]
    },
    {
     "name": "stderr",
     "output_type": "stream",
     "text": [
      "\r",
      "Subject=306, Fitness=4399.2490234375:  84%|████████▍ | 16/19 [1:43:04<17:00, 340.00s/it]"
     ]
    },
    {
     "name": "stderr",
     "output_type": "stream",
     "text": [
      "\r",
      "Subject=307, Fitness=2893.20703125:  84%|████████▍ | 16/19 [1:48:06<17:00, 340.00s/it]  "
     ]
    },
    {
     "name": "stderr",
     "output_type": "stream",
     "text": [
      "\r",
      "Subject=307, Fitness=2893.20703125:  89%|████████▉ | 17/19 [1:48:06<10:57, 328.58s/it]"
     ]
    },
    {
     "name": "stderr",
     "output_type": "stream",
     "text": [
      "\r",
      "Subject=308, Fitness=3365.26318359375:  89%|████████▉ | 17/19 [1:55:19<10:57, 328.58s/it]"
     ]
    },
    {
     "name": "stderr",
     "output_type": "stream",
     "text": [
      "\r",
      "Subject=308, Fitness=3365.26318359375:  95%|█████████▍| 18/19 [1:55:19<06:00, 360.09s/it]"
     ]
    },
    {
     "name": "stderr",
     "output_type": "stream",
     "text": [
      "\r",
      "Subject=666, Fitness=1621.324951171875:  95%|█████████▍| 18/19 [1:58:39<06:00, 360.09s/it]"
     ]
    },
    {
     "name": "stderr",
     "output_type": "stream",
     "text": [
      "\r",
      "Subject=666, Fitness=1621.324951171875: 100%|██████████| 19/19 [1:58:39<00:00, 312.00s/it]"
     ]
    },
    {
     "name": "stderr",
     "output_type": "stream",
     "text": [
      "\r",
      "Subject=666, Fitness=1621.324951171875: 100%|██████████| 19/19 [1:58:39<00:00, 374.72s/it]"
     ]
    },
    {
     "name": "stdout",
     "output_type": "stream",
     "text": [
      "| | | RepeatedRecallsKahanaJacobs2000 WeirdStudyReinfPositionalCMR full best of 3 |\n",
      "|---|---|---|\n",
      "| fitness | mean | 3761.08 +/- 516.74 |\n",
      "| | std | 1043.51 |\n",
      "| encoding drift rate | mean | 0.90 +/- 0.03 |\n",
      "| | std | 0.05 |\n",
      "| start drift rate | mean | 0.61 +/- 0.07 |\n",
      "| | std | 0.14 |\n",
      "| recall drift rate | mean | 0.81 +/- 0.04 |\n",
      "| | std | 0.08 |\n",
      "| shared support | mean | 82.83 +/- 9.20 |\n",
      "| | std | 18.57 |\n",
      "| item support | mean | 65.38 +/- 7.39 |\n",
      "| | std | 14.93 |\n",
      "| learning rate | mean | 0.13 +/- 0.05 |\n",
      "| | std | 0.10 |\n",
      "| primacy scale | mean | 21.86 +/- 7.41 |\n",
      "| | std | 14.95 |\n",
      "| primacy decay | mean | 4.38 +/- 9.19 |\n",
      "| | std | 18.56 |\n",
      "| stop probability scale | mean | 0.01 +/- 0.01 |\n",
      "| | std | 0.02 |\n",
      "| stop probability growth | mean | 0.47 +/- 0.08 |\n",
      "| | std | 0.17 |\n",
      "| choice sensitivity | mean | 51.56 +/- 11.94 |\n",
      "| | std | 24.10 |\n",
      "| first presentation reinforcement | mean | 1.71 +/- 0.88 |\n",
      "| | std | 1.77 |\n",
      "\n"
     ]
    },
    {
     "name": "stderr",
     "output_type": "stream",
     "text": [
      "\n"
     ]
    }
   ],
   "source": [
    "fit_path = os.path.join(product_dirs[\"fits\"], f\"{data_tag}_{model_name}_{run_tag}.json\")\n",
    "print(fit_path)\n",
    "\n",
    "if os.path.exists(fit_path) and not redo_fits:\n",
    "    with open(fit_path) as f:\n",
    "        results = json.load(f)\n",
    "        if \"subject\" not in results[\"fits\"]:\n",
    "            results[\"fits\"][\"subject\"] = results[\"subject\"]\n",
    "\n",
    "else:\n",
    "    base_params = parameters[\"fixed\"]\n",
    "    bounds = parameters[\"free\"]\n",
    "    fitter = fitting_method(\n",
    "        data,\n",
    "        connections,\n",
    "        base_params,\n",
    "        model_factory,\n",
    "        loss_fn_generator,\n",
    "        hyperparams={\n",
    "            \"num_steps\": num_steps,\n",
    "            \"pop_size\": popsize,\n",
    "            \"relative_tolerance\": relative_tolerance,\n",
    "            \"cross_over_rate\": cross_rate,\n",
    "            \"diff_w\": diff_w,\n",
    "            \"progress_bar\": True,\n",
    "            \"display_iterations\": False,\n",
    "            \"bounds\": bounds,\n",
    "            \"best_of\": best_of,\n",
    "        },\n",
    "    )\n",
    "\n",
    "    results = fitter.fit(trial_mask)\n",
    "    results = dict(results)\n",
    "\n",
    "    with open(fit_path, \"w\") as f:\n",
    "        json.dump(results, f, indent=4)\n",
    "\n",
    "results[\"data_query\"] = trial_query\n",
    "results[\"model\"] = model_name\n",
    "results[\"name\"] = f\"{data_tag}_{model_name}_{run_tag}\"\n",
    "\n",
    "with open(fit_path, \"w\") as f:\n",
    "    json.dump(results, f, indent=4)\n",
    "\n",
    "print(\n",
    "    summarize_parameters([results], query_parameters, include_std=True, include_ci=True)\n",
    ")"
   ]
  },
  {
   "cell_type": "markdown",
   "id": "d91ad9c4",
   "metadata": {
    "papermill": {
     "duration": 0.002551,
     "end_time": "2025-07-21T20:44:13.039113",
     "exception": false,
     "start_time": "2025-07-21T20:44:13.036562",
     "status": "completed"
    },
    "tags": []
   },
   "source": [
    "## Simulation"
   ]
  },
  {
   "cell_type": "code",
   "execution_count": 6,
   "id": "ec4751f4",
   "metadata": {
    "execution": {
     "iopub.execute_input": "2025-07-21T20:44:13.043566Z",
     "iopub.status.busy": "2025-07-21T20:44:13.043403Z",
     "iopub.status.idle": "2025-07-21T20:44:20.808476Z",
     "shell.execute_reply": "2025-07-21T20:44:20.808123Z"
    },
    "papermill": {
     "duration": 7.768447,
     "end_time": "2025-07-21T20:44:20.809341",
     "exception": false,
     "start_time": "2025-07-21T20:44:13.040894",
     "status": "completed"
    },
    "tags": []
   },
   "outputs": [
    {
     "name": "stdout",
     "output_type": "stream",
     "text": [
      "projects/thesis/simulations/RepeatedRecallsKahanaJacobs2000_WeirdStudyReinfPositionalCMR_full_best_of_3.h5\n"
     ]
    },
    {
     "name": "stdout",
     "output_type": "stream",
     "text": [
      "Saved to projects/thesis/simulations/RepeatedRecallsKahanaJacobs2000_WeirdStudyReinfPositionalCMR_full_best_of_3.h5\n"
     ]
    },
    {
     "data": {
      "text/plain": [
       "{'encoding_drift_rate': Array([0.9817434 , 0.89831525, 0.89512604, 0.9002681 , 0.8870365 ,\n",
       "        0.84991443, 0.7996846 , 0.83175844, 0.9697993 , 0.88088274,\n",
       "        0.9392981 , 0.85659146, 0.94457805, 0.91230667, 0.955413  ,\n",
       "        0.981696  , 0.8184367 , 0.8844595 , 0.919438  ], dtype=float32),\n",
       " 'start_drift_rate': Array([0.46035963, 0.58016235, 0.6343621 , 0.58145595, 0.646039  ,\n",
       "        0.6505019 , 0.6396455 , 0.73480195, 0.6319168 , 0.64689386,\n",
       "        0.64925593, 0.8383506 , 0.64091504, 0.58151203, 0.15205479,\n",
       "        0.5095941 , 0.71514255, 0.63206595, 0.73837763], dtype=float32),\n",
       " 'recall_drift_rate': Array([0.9191485 , 0.761455  , 0.78740287, 0.8524493 , 0.71259606,\n",
       "        0.7431028 , 0.70152414, 0.74698395, 0.9759708 , 0.8263758 ,\n",
       "        0.8390124 , 0.7921949 , 0.86277497, 0.7601868 , 0.91725445,\n",
       "        0.9286626 , 0.79054964, 0.68483555, 0.80500406], dtype=float32),\n",
       " 'shared_support': Array([91.7345  , 71.028694, 77.64656 , 82.03502 , 97.865395, 92.360634,\n",
       "        89.69749 , 83.16423 , 89.546906, 96.89649 , 96.073074, 99.15519 ,\n",
       "        90.871605, 69.38381 , 17.175203, 65.76166 , 73.29757 , 91.598816,\n",
       "        98.436905], dtype=float32),\n",
       " 'item_support': Array([68.42859 , 61.890938, 57.63275 , 70.328285, 67.688255, 77.597404,\n",
       "        74.08572 , 60.65946 , 77.27993 , 80.92497 , 76.22903 , 80.96904 ,\n",
       "        72.73612 , 56.74273 , 16.224699, 44.145805, 60.06257 , 75.41385 ,\n",
       "        63.135185], dtype=float32),\n",
       " 'learning_rate': Array([0.04060719, 0.04310171, 0.04784236, 0.1935969 , 0.24139898,\n",
       "        0.3271554 , 0.06658685, 0.08111293, 0.30328637, 0.12043115,\n",
       "        0.03088621, 0.11981816, 0.2981588 , 0.09737811, 0.07274257,\n",
       "        0.06059998, 0.05104301, 0.19269933, 0.10973492], dtype=float32),\n",
       " 'primacy_scale': Array([28.244122 ,  8.97569  , 14.975934 , 14.762917 , 24.983217 ,\n",
       "        13.219934 , 16.353241 , 22.603706 , 76.19959  , 23.028654 ,\n",
       "        34.61924  , 19.898802 , 21.64539  , 11.05323  ,  1.4215984,\n",
       "        18.283377 , 21.826637 , 12.638302 , 30.571344 ], dtype=float32),\n",
       " 'primacy_decay': Array([4.8084953e-04, 1.4043712e-02, 1.3813108e-03, 1.3533257e-03,\n",
       "        7.9792114e-03, 2.0335154e-03, 1.2079128e-02, 1.7623318e-03,\n",
       "        1.4824766e-02, 4.7236629e-02, 1.9971600e-02, 9.5506592e-05,\n",
       "        2.8509775e-03, 5.7548722e-03, 8.3107231e+01, 5.8291375e-04,\n",
       "        2.9417868e-03, 1.6559638e-03, 1.5324391e-03], dtype=float32),\n",
       " 'stop_probability_scale': Array([2.9068541e-02, 6.0491549e-04, 3.3838011e-03, 2.3200223e-02,\n",
       "        1.7496077e-03, 1.3609984e-03, 7.0890151e-03, 4.3682954e-03,\n",
       "        6.3207664e-04, 7.8163724e-03, 6.9887072e-02, 5.2492288e-03,\n",
       "        1.5904153e-04, 6.9409623e-05, 3.2759979e-02, 1.9785699e-02,\n",
       "        9.0964284e-04, 2.2128623e-05, 9.1563519e-03], dtype=float32),\n",
       " 'stop_probability_growth': Array([0.27218685, 0.57303244, 0.42629614, 0.27594993, 0.51072156,\n",
       "        0.5218672 , 0.38006675, 0.43156883, 0.57787395, 0.4798529 ,\n",
       "        0.21323387, 0.41047028, 0.691587  , 0.7565441 , 0.299196  ,\n",
       "        0.30378774, 0.55401057, 0.84800917, 0.3368437 ], dtype=float32),\n",
       " 'choice_sensitivity': Array([22.26636 , 86.968544, 52.970146, 46.088898, 51.7127  , 69.20982 ,\n",
       "        78.03056 , 39.2211  , 10.308213, 48.454575, 31.63259 , 46.24195 ,\n",
       "        36.603256, 71.235016, 99.44668 , 21.519588, 42.311794, 89.67937 ,\n",
       "        35.822384], dtype=float32),\n",
       " 'first_presentation_reinforcement': Array([0.5238617 , 1.9520165 , 0.98903155, 0.26776007, 4.21608   ,\n",
       "        1.3806791 , 0.314321  , 1.0276347 , 0.31716985, 3.2136219 ,\n",
       "        7.5983596 , 0.6933735 , 0.59759426, 0.11574263, 0.4948723 ,\n",
       "        2.6088996 , 1.817174  , 2.6796641 , 1.5886719 ], dtype=float32),\n",
       " 'mfc_choice_sensitivity': Array([1., 1., 1., 1., 1., 1., 1., 1., 1., 1., 1., 1., 1., 1., 1., 1., 1.,\n",
       "        1., 1.], dtype=float32),\n",
       " 'allow_repeated_recalls': Array([1., 1., 1., 1., 1., 1., 1., 1., 1., 1., 1., 1., 1., 1., 1., 1., 1.,\n",
       "        1., 1.], dtype=float32),\n",
       " 'subject': Array([200, 201, 205, 206, 210, 215, 220, 230, 240, 256, 299, 300, 301,\n",
       "        303, 305, 306, 307, 308, 666], dtype=int32)}"
      ]
     },
     "execution_count": 6,
     "metadata": {},
     "output_type": "execute_result"
    }
   ],
   "source": [
    "sim_path = os.path.join(\n",
    "    product_dirs[\"simulations\"], f\"{data_tag}_{model_name}_{run_tag}.h5\"\n",
    ")\n",
    "print(sim_path)\n",
    "\n",
    "with open(fit_path) as f:\n",
    "    results = json.load(f)\n",
    "    if \"subject\" not in results[\"fits\"]:\n",
    "        results[\"fits\"][\"subject\"] = results[\"subject\"]\n",
    "\n",
    "\n",
    "rng = random.PRNGKey(seed)\n",
    "rng, rng_iter = random.split(rng)\n",
    "trial_mask = generate_trial_mask(data, trial_query)\n",
    "params = {key: jnp.array(val) for key, val in results[\"fits\"].items()}  # type: ignore\n",
    "\n",
    "if os.path.exists(sim_path) and not redo_sims:\n",
    "    sim = load_data(sim_path)\n",
    "    print(f\"Loaded from {sim_path}\")\n",
    "\n",
    "else:\n",
    "    sim = simulate_h5_from_h5(\n",
    "        model_factory=model_factory,\n",
    "        dataset=data,\n",
    "        connections=connections,\n",
    "        parameters=params,\n",
    "        trial_mask=trial_mask,\n",
    "        experiment_count=experiment_count,\n",
    "        rng=rng_iter,\n",
    "    )\n",
    "\n",
    "    save_dict_to_hdf5(sim, sim_path)\n",
    "    print(f\"Saved to {sim_path}\")\n",
    "\n",
    "if filter_repeated_recalls:\n",
    "    sim['recalls'] = repetition.filter_repeated_recalls(sim['recalls'])\n",
    "\n",
    "params"
   ]
  },
  {
   "cell_type": "markdown",
   "id": "49425906",
   "metadata": {
    "papermill": {
     "duration": 0.001856,
     "end_time": "2025-07-21T20:44:20.814477",
     "exception": false,
     "start_time": "2025-07-21T20:44:20.812621",
     "status": "completed"
    },
    "tags": []
   },
   "source": [
    "## Figures"
   ]
  },
  {
   "cell_type": "code",
   "execution_count": 7,
   "id": "789d14d4",
   "metadata": {
    "execution": {
     "iopub.execute_input": "2025-07-21T20:44:20.819988Z",
     "iopub.status.busy": "2025-07-21T20:44:20.819819Z",
     "iopub.status.idle": "2025-07-21T20:44:20.838360Z",
     "shell.execute_reply": "2025-07-21T20:44:20.838109Z"
    },
    "papermill": {
     "duration": 0.02202,
     "end_time": "2025-07-21T20:44:20.839175",
     "exception": false,
     "start_time": "2025-07-21T20:44:20.817155",
     "status": "completed"
    },
    "tags": []
   },
   "outputs": [],
   "source": [
    "#|code-summary: single-dataset views\n",
    "\n",
    "for analysis in single_analyses:\n",
    "    figure_str = f\"{data_tag}_{model_name}_{run_tag}_{analysis.__name__[5:]}.png\"\n",
    "    figure_path = os.path.join(product_dirs[\"figures\"], figure_str)\n",
    "    print(f\"![]({figure_path})\")\n",
    "\n",
    "    # if redo_figures, check if figure already exists and don't redo\n",
    "    # we want to display the figure here if it already exists\n",
    "    if os.path.exists(figure_path) and not redo_figures:\n",
    "        display(Image(filename=figure_path))\n",
    "    else:\n",
    "        color_cycle = [each[\"color\"] for each in rcParams[\"axes.prop_cycle\"]]\n",
    "\n",
    "        # Create a mask for data using np.isin for the selected list types\n",
    "        trial_mask = generate_trial_mask(sim, trial_query)\n",
    "\n",
    "        axis = analysis(\n",
    "            datasets=[sim],\n",
    "            trial_masks=[np.array(trial_mask)],\n",
    "            color_cycle=color_cycle,\n",
    "            labels=[\"First\", \"Second\"],\n",
    "            contrast_name=\"Repetition Index\",\n",
    "            axis=None,\n",
    "            distances=None,\n",
    "        )\n",
    "\n",
    "        plt.savefig(figure_path, bbox_inches=\"tight\", dpi=600)\n",
    "        plt.show()"
   ]
  },
  {
   "cell_type": "code",
   "execution_count": 8,
   "id": "2ed58e5f",
   "metadata": {
    "execution": {
     "iopub.execute_input": "2025-07-21T20:44:20.843712Z",
     "iopub.status.busy": "2025-07-21T20:44:20.843594Z",
     "iopub.status.idle": "2025-07-21T20:44:20.857322Z",
     "shell.execute_reply": "2025-07-21T20:44:20.857058Z"
    },
    "papermill": {
     "duration": 0.016822,
     "end_time": "2025-07-21T20:44:20.858076",
     "exception": false,
     "start_time": "2025-07-21T20:44:20.841254",
     "status": "completed"
    },
    "tags": []
   },
   "outputs": [],
   "source": [
    "#| code-summary: mixed vs control views\n",
    "\n",
    "for analysis in comparison_analyses:\n",
    "\n",
    "    figure_str = f\"{data_tag}_{model_name}_{run_tag}_{analysis.__name__[5:]}.png\"\n",
    "    figure_path = os.path.join(product_dirs[\"figures\"], figure_str)\n",
    "    print(f\"![]({figure_path})\")\n",
    "\n",
    "    # if redo_figures, check if figure already exists and don't redo\n",
    "    # we want to display the figure here if it already exists\n",
    "    if os.path.exists(figure_path) and not redo_figures:\n",
    "        display(Image(filename=figure_path))\n",
    "        continue\n",
    "\n",
    "    color_cycle = [each[\"color\"] for each in rcParams[\"axes.prop_cycle\"]]\n",
    "\n",
    "    # Create a mask for data using np.isin for the selected list types\n",
    "    trial_mask = generate_trial_mask(data, trial_query)\n",
    "    sim_trial_mask = generate_trial_mask(sim, trial_query)\n",
    "\n",
    "    axis = analysis(\n",
    "        datasets=[sim, data],\n",
    "        trial_masks=[np.array(sim_trial_mask), np.array(trial_mask)],\n",
    "        color_cycle=color_cycle,\n",
    "        labels=[\"Model\", \"Data\"],\n",
    "        contrast_name=\"Source\",\n",
    "        axis=None,\n",
    "        distances=None,\n",
    "    )\n",
    "\n",
    "    plt.savefig(figure_path, bbox_inches=\"tight\", dpi=600)\n",
    "    plt.show()"
   ]
  }
 ],
 "metadata": {
  "kernelspec": {
   "display_name": "jaxcmr",
   "language": "python",
   "name": "python3"
  },
  "language_info": {
   "codemirror_mode": {
    "name": "ipython",
    "version": 3
   },
   "file_extension": ".py",
   "mimetype": "text/x-python",
   "name": "python",
   "nbconvert_exporter": "python",
   "pygments_lexer": "ipython3",
   "version": "3.12.8"
  },
  "papermill": {
   "default_parameters": {},
   "duration": 7149.172682,
   "end_time": "2025-07-21T20:44:21.591157",
   "environment_variables": {},
   "exception": null,
   "input_path": "projects/thesis/Fitting_No_Control.ipynb",
   "output_path": "projects/thesis/RepeatedRecallsKahanaJacobs2000_WeirdStudyReinfPositionalCMR_Fitting.ipynb",
   "parameters": {
    "allow_repeated_recalls": true,
    "base_data_tag": "KahanaJacobs2000",
    "comparison_analysis_paths": [],
    "data_path": "data/RepeatedRecallsKahanaJacobs2000.h5",
    "data_tag": "RepeatedRecallsKahanaJacobs2000",
    "filter_repeated_recalls": false,
    "model_factory_path": "jaxcmr.models_repfr.weird_study_reinf_positional_cmr.BaseCMRFactory",
    "model_name": "WeirdStudyReinfPositionalCMR",
    "parameters": {
     "fixed": {
      "mfc_choice_sensitivity": 1.0
     },
     "free": {
      "choice_sensitivity": [
       2.220446049250313e-16,
       100.0
      ],
      "encoding_drift_rate": [
       2.220446049250313e-16,
       0.9999999999999998
      ],
      "first_presentation_reinforcement": [
       2.220446049250313e-16,
       100.0
      ],
      "item_support": [
       2.220446049250313e-16,
       100.0
      ],
      "learning_rate": [
       2.220446049250313e-16,
       0.9999999999999998
      ],
      "primacy_decay": [
       2.220446049250313e-16,
       100.0
      ],
      "primacy_scale": [
       2.220446049250313e-16,
       100.0
      ],
      "recall_drift_rate": [
       2.220446049250313e-16,
       0.9999999999999998
      ],
      "shared_support": [
       2.220446049250313e-16,
       100.0
      ],
      "start_drift_rate": [
       2.220446049250313e-16,
       0.9999999999999998
      ],
      "stop_probability_growth": [
       2.220446049250313e-16,
       10.0
      ],
      "stop_probability_scale": [
       2.220446049250313e-16,
       0.9999999999999998
      ]
     }
    },
    "redo_figures": false,
    "redo_fits": false,
    "redo_sims": false,
    "single_analysis_paths": [],
    "trial_query": "jnp.logical_and(data['recall_attempt'] == 1, data['recall_total'] > 0)"
   },
   "start_time": "2025-07-21T18:45:12.418475",
   "version": "2.6.0"
  }
 },
 "nbformat": 4,
 "nbformat_minor": 5
}