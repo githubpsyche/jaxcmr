{
 "cells": [
  {
   "cell_type": "code",
   "execution_count": 1,
   "id": "5bcf1ebf",
   "metadata": {
    "execution": {
     "iopub.execute_input": "2025-07-21T22:20:14.394942Z",
     "iopub.status.busy": "2025-07-21T22:20:14.394522Z",
     "iopub.status.idle": "2025-07-21T22:20:16.217452Z",
     "shell.execute_reply": "2025-07-21T22:20:16.217104Z"
    },
    "papermill": {
     "duration": 1.830332,
     "end_time": "2025-07-21T22:20:16.218481",
     "exception": false,
     "start_time": "2025-07-21T22:20:14.388149",
     "status": "completed"
    },
    "tags": []
   },
   "outputs": [],
   "source": [
    "%load_ext autoreload\n",
    "%autoreload 2\n",
    "\n",
    "import json\n",
    "import os\n",
    "import warnings\n",
    "\n",
    "import jax.numpy as jnp\n",
    "import matplotlib.pyplot as plt\n",
    "from IPython.display import Image, display\n",
    "import numpy as np\n",
    "from jax import random\n",
    "from matplotlib import rcParams  # type: ignore\n",
    "\n",
    "from jaxcmr.fitting import ScipyDE as fitting_method\n",
    "from jaxcmr.helpers import (\n",
    "    generate_trial_mask,\n",
    "    import_from_string,\n",
    "    load_data,\n",
    "    save_dict_to_hdf5,\n",
    ")\n",
    "from jaxcmr.likelihood import MemorySearchLikelihoodFnGenerator as loss_fn_generator\n",
    "from jaxcmr import repetition\n",
    "from jaxcmr.simulation import simulate_h5_from_h5\n",
    "from jaxcmr.summarize import summarize_parameters\n",
    "\n",
    "warnings.filterwarnings(\"ignore\")"
   ]
  },
  {
   "cell_type": "markdown",
   "id": "faa8a7ce",
   "metadata": {
    "papermill": {
     "duration": 0.001393,
     "end_time": "2025-07-21T22:20:16.221898",
     "exception": false,
     "start_time": "2025-07-21T22:20:16.220505",
     "status": "completed"
    },
    "tags": []
   },
   "source": [
    "## Setup"
   ]
  },
  {
   "cell_type": "code",
   "execution_count": 2,
   "id": "880fb412",
   "metadata": {
    "execution": {
     "iopub.execute_input": "2025-07-21T22:20:16.226232Z",
     "iopub.status.busy": "2025-07-21T22:20:16.226016Z",
     "iopub.status.idle": "2025-07-21T22:20:16.254515Z",
     "shell.execute_reply": "2025-07-21T22:20:16.254175Z"
    },
    "papermill": {
     "duration": 0.03136,
     "end_time": "2025-07-21T22:20:16.255519",
     "exception": false,
     "start_time": "2025-07-21T22:20:16.224159",
     "status": "completed"
    },
    "tags": [
     "parameters"
    ]
   },
   "outputs": [],
   "source": [
    "# repeat params\n",
    "allow_repeated_recalls = False\n",
    "filter_repeated_recalls = False\n",
    "data_tag = \"LohnasKahana2014\"\n",
    "data_path = \"data/LohnasKahana2014.h5\"\n",
    "\n",
    "# data params\n",
    "trial_query = \"data['list_type'] > 0\"\n",
    "run_tag = \"full_best_of_3\"\n",
    "\n",
    "# fitting params\n",
    "redo_fits = True\n",
    "model_factory_path = \"jaxcmr.models_repfr.weird_cmr.BaseCMRFactory\"\n",
    "model_name = \"WeirdCMR\"\n",
    "relative_tolerance = 0.001\n",
    "popsize = 15\n",
    "num_steps = 1000\n",
    "cross_rate = 0.9\n",
    "diff_w = 0.85\n",
    "best_of = 3\n",
    "target_dir = \"projects/thesis\"\n",
    "\n",
    "# sim params\n",
    "redo_sims = True\n",
    "seed = 0\n",
    "experiment_count = 50\n",
    "\n",
    "# figure params\n",
    "redo_figures = True\n",
    "\n",
    "parameters = {\n",
    "    \"fixed\": {\n",
    "    },\n",
    "    \"free\": {\n",
    "        \"encoding_drift_rate\": [2.220446049250313e-16, 0.9999999999999998],\n",
    "        \"start_drift_rate\": [2.220446049250313e-16, 0.9999999999999998],\n",
    "        \"recall_drift_rate\": [2.220446049250313e-16, 0.9999999999999998],\n",
    "        \"shared_support\": [2.220446049250313e-16, 99.9999999999999998],\n",
    "        \"item_support\": [2.220446049250313e-16, 99.9999999999999998],\n",
    "        \"learning_rate\": [2.220446049250313e-16, 0.9999999999999998],\n",
    "        \"primacy_scale\": [2.220446049250313e-16, 99.9999999999999998],\n",
    "        \"primacy_decay\": [2.220446049250313e-16, 99.9999999999999998],\n",
    "        \"stop_probability_scale\": [2.220446049250313e-16, 0.9999999999999998],\n",
    "        \"stop_probability_growth\": [2.220446049250313e-16, 9.9999999999999998],\n",
    "        \"choice_sensitivity\": [2.220446049250313e-16, 99.9999999999999998],\n",
    "    },\n",
    "}\n",
    "\n",
    "single_analysis_paths = [\n",
    "    \"jaxcmr.analyses.repcrp.plot_rep_crp\",\n",
    "    \"jaxcmr.analyses.backrepcrp.plot_back_rep_crp\",\n",
    "]\n",
    "\n",
    "comparison_analysis_paths = [\n",
    "    \"jaxcmr.analyses.spc.plot_spc\",\n",
    "    \"jaxcmr.analyses.crp.plot_crp\",\n",
    "    \"jaxcmr.analyses.pnr.plot_pnr\",\n",
    "    \"jaxcmr.analyses.repneighborcrp.plot_repneighborcrp_i2j\",\n",
    "    \"jaxcmr.analyses.repneighborcrp.plot_repneighborcrp_j2i\",\n",
    "    \"jaxcmr.analyses.repneighborcrp.plot_repneighborcrp_both\",\n",
    "    \"jaxcmr.analyses.rpl.plot_rpl\",\n",
    "    \"jaxcmr.analyses.rpl.plot_full_rpl\",\n",
    "]"
   ]
  },
  {
   "cell_type": "code",
   "execution_count": 3,
   "id": "077f6edc",
   "metadata": {
    "execution": {
     "iopub.execute_input": "2025-07-21T22:20:16.258750Z",
     "iopub.status.busy": "2025-07-21T22:20:16.258636Z",
     "iopub.status.idle": "2025-07-21T22:20:16.274002Z",
     "shell.execute_reply": "2025-07-21T22:20:16.273685Z"
    },
    "papermill": {
     "duration": 0.01793,
     "end_time": "2025-07-21T22:20:16.274919",
     "exception": false,
     "start_time": "2025-07-21T22:20:16.256989",
     "status": "completed"
    },
    "tags": [
     "injected-parameters"
    ]
   },
   "outputs": [],
   "source": [
    "# Parameters\n",
    "allow_repeated_recalls = True\n",
    "filter_repeated_recalls = False\n",
    "data_tag = \"RepeatedRecallsKahanaJacobs2000\"\n",
    "data_path = \"data/RepeatedRecallsKahanaJacobs2000.h5\"\n",
    "base_data_tag = \"KahanaJacobs2000\"\n",
    "trial_query = \"jnp.logical_and(data['recall_attempt'] == 1, data['recall_total'] > 0)\"\n",
    "single_analysis_paths = []\n",
    "comparison_analysis_paths = []\n",
    "model_name = \"WeirdPositionalCMR\"\n",
    "model_factory_path = \"jaxcmr.models_repfr.weird_positional_cmr.BaseCMRFactory\"\n",
    "redo_fits = False\n",
    "redo_sims = False\n",
    "redo_figures = False\n",
    "parameters = {\"fixed\": {\"mfc_choice_sensitivity\": 1.0}, \"free\": {\"encoding_drift_rate\": [2.220446049250313e-16, 0.9999999999999998], \"start_drift_rate\": [2.220446049250313e-16, 0.9999999999999998], \"recall_drift_rate\": [2.220446049250313e-16, 0.9999999999999998], \"shared_support\": [2.220446049250313e-16, 100.0], \"item_support\": [2.220446049250313e-16, 100.0], \"learning_rate\": [2.220446049250313e-16, 0.9999999999999998], \"primacy_scale\": [2.220446049250313e-16, 100.0], \"primacy_decay\": [2.220446049250313e-16, 100.0], \"stop_probability_scale\": [2.220446049250313e-16, 0.9999999999999998], \"stop_probability_growth\": [2.220446049250313e-16, 10.0], \"choice_sensitivity\": [2.220446049250313e-16, 100.0]}}\n"
   ]
  },
  {
   "cell_type": "code",
   "execution_count": 4,
   "id": "0877f896",
   "metadata": {
    "execution": {
     "iopub.execute_input": "2025-07-21T22:20:16.278298Z",
     "iopub.status.busy": "2025-07-21T22:20:16.278153Z",
     "iopub.status.idle": "2025-07-21T22:20:16.573918Z",
     "shell.execute_reply": "2025-07-21T22:20:16.573602Z"
    },
    "papermill": {
     "duration": 0.29831,
     "end_time": "2025-07-21T22:20:16.574956",
     "exception": false,
     "start_time": "2025-07-21T22:20:16.276646",
     "status": "completed"
    },
    "tags": []
   },
   "outputs": [],
   "source": [
    "# add subdirectories for each product type: json, figures, h5\n",
    "product_dirs = {}\n",
    "for product in [\"fits\", \"figures\", \"simulations\"]:\n",
    "    product_dir = os.path.join(target_dir, product)\n",
    "    product_dirs[product] = product_dir\n",
    "    if not os.path.exists(product_dir):\n",
    "        os.makedirs(product_dir)\n",
    "\n",
    "data = load_data(data_path)\n",
    "trial_mask = generate_trial_mask(data, trial_query)\n",
    "\n",
    "max_size = np.max(data[\"pres_itemnos\"])\n",
    "connections = jnp.zeros((max_size, max_size))\n",
    "\n",
    "single_analyses = [import_from_string(path) for path in single_analysis_paths]\n",
    "comparison_analyses = [import_from_string(path) for path in comparison_analysis_paths]\n",
    "model_factory = import_from_string(model_factory_path)\n",
    "\n",
    "# derive list of query parameters from keys of `parameters`\n",
    "parameters['fixed']['allow_repeated_recalls'] = allow_repeated_recalls\n",
    "query_parameters = list(parameters[\"free\"].keys())\n",
    "\n",
    "# make sure repeatedrecalls is in either both data_tag or data_path, or is in neither\n",
    "if \"repeatedrecalls\" in data_tag.lower() or \"repeatedrecalls\" in data_path.lower():\n",
    "    if \"repeatedrecalls\" not in data_tag.lower() and \"repeatedrecalls\" not in data_path.lower():\n",
    "        raise ValueError(\n",
    "            \"If 'repeatedrecalls' is in data_tag or data_path, it must be in both.\"\n",
    "        )"
   ]
  },
  {
   "cell_type": "markdown",
   "id": "abe1fdc7",
   "metadata": {
    "papermill": {
     "duration": 0.001232,
     "end_time": "2025-07-21T22:20:16.578110",
     "exception": false,
     "start_time": "2025-07-21T22:20:16.576878",
     "status": "completed"
    },
    "tags": []
   },
   "source": [
    "## Fitting"
   ]
  },
  {
   "cell_type": "code",
   "execution_count": 5,
   "id": "e7bece1b",
   "metadata": {
    "execution": {
     "iopub.execute_input": "2025-07-21T22:20:16.582674Z",
     "iopub.status.busy": "2025-07-21T22:20:16.582368Z",
     "iopub.status.idle": "2025-07-21T23:56:05.130835Z",
     "shell.execute_reply": "2025-07-21T23:56:05.130469Z"
    },
    "papermill": {
     "duration": 5748.551362,
     "end_time": "2025-07-21T23:56:05.131829",
     "exception": false,
     "start_time": "2025-07-21T22:20:16.580467",
     "status": "completed"
    },
    "tags": []
   },
   "outputs": [
    {
     "name": "stdout",
     "output_type": "stream",
     "text": [
      "projects/thesis/fits/RepeatedRecallsKahanaJacobs2000_WeirdPositionalCMR_full_best_of_3.json\n"
     ]
    },
    {
     "name": "stderr",
     "output_type": "stream",
     "text": [
      "\r",
      "  0%|          | 0/19 [00:00<?, ?it/s]"
     ]
    },
    {
     "name": "stderr",
     "output_type": "stream",
     "text": [
      "\r",
      "Subject=200, Fitness=3681.031494140625:   0%|          | 0/19 [04:49<?, ?it/s]"
     ]
    },
    {
     "name": "stderr",
     "output_type": "stream",
     "text": [
      "\r",
      "Subject=200, Fitness=3681.031494140625:   5%|▌         | 1/19 [04:49<1:26:57, 289.87s/it]"
     ]
    },
    {
     "name": "stderr",
     "output_type": "stream",
     "text": [
      "\r",
      "Subject=201, Fitness=3589.544677734375:   5%|▌         | 1/19 [10:39<1:26:57, 289.87s/it]"
     ]
    },
    {
     "name": "stderr",
     "output_type": "stream",
     "text": [
      "\r",
      "Subject=201, Fitness=3589.544677734375:  11%|█         | 2/19 [10:39<1:32:01, 324.80s/it]"
     ]
    },
    {
     "name": "stderr",
     "output_type": "stream",
     "text": [
      "\r",
      "Subject=205, Fitness=3370.51416015625:  11%|█         | 2/19 [15:39<1:32:01, 324.80s/it] "
     ]
    },
    {
     "name": "stderr",
     "output_type": "stream",
     "text": [
      "\r",
      "Subject=205, Fitness=3370.51416015625:  16%|█▌        | 3/19 [15:39<1:23:37, 313.61s/it]"
     ]
    },
    {
     "name": "stderr",
     "output_type": "stream",
     "text": [
      "\r",
      "Subject=206, Fitness=4166.34912109375:  16%|█▌        | 3/19 [20:39<1:23:37, 313.61s/it]"
     ]
    },
    {
     "name": "stderr",
     "output_type": "stream",
     "text": [
      "\r",
      "Subject=206, Fitness=4166.34912109375:  21%|██        | 4/19 [20:39<1:17:06, 308.45s/it]"
     ]
    },
    {
     "name": "stderr",
     "output_type": "stream",
     "text": [
      "\r",
      "Subject=210, Fitness=3277.752685546875:  21%|██        | 4/19 [26:27<1:17:06, 308.45s/it]"
     ]
    },
    {
     "name": "stderr",
     "output_type": "stream",
     "text": [
      "\r",
      "Subject=210, Fitness=3277.752685546875:  26%|██▋       | 5/19 [26:27<1:15:15, 322.54s/it]"
     ]
    },
    {
     "name": "stderr",
     "output_type": "stream",
     "text": [
      "\r",
      "Subject=215, Fitness=5601.51708984375:  26%|██▋       | 5/19 [32:47<1:15:15, 322.54s/it] "
     ]
    },
    {
     "name": "stderr",
     "output_type": "stream",
     "text": [
      "\r",
      "Subject=215, Fitness=5601.51708984375:  32%|███▏      | 6/19 [32:47<1:14:05, 341.95s/it]"
     ]
    },
    {
     "name": "stderr",
     "output_type": "stream",
     "text": [
      "\r",
      "Subject=220, Fitness=3539.63720703125:  32%|███▏      | 6/19 [37:26<1:14:05, 341.95s/it]"
     ]
    },
    {
     "name": "stderr",
     "output_type": "stream",
     "text": [
      "\r",
      "Subject=220, Fitness=3539.63720703125:  37%|███▋      | 7/19 [37:26<1:04:19, 321.59s/it]"
     ]
    },
    {
     "name": "stderr",
     "output_type": "stream",
     "text": [
      "\r",
      "Subject=230, Fitness=4454.98876953125:  37%|███▋      | 7/19 [42:36<1:04:19, 321.59s/it]"
     ]
    },
    {
     "name": "stderr",
     "output_type": "stream",
     "text": [
      "\r",
      "Subject=230, Fitness=4454.98876953125:  42%|████▏     | 8/19 [42:36<58:15, 317.81s/it]  "
     ]
    },
    {
     "name": "stderr",
     "output_type": "stream",
     "text": [
      "\r",
      "Subject=240, Fitness=5342.37158203125:  42%|████▏     | 8/19 [48:30<58:15, 317.81s/it]"
     ]
    },
    {
     "name": "stderr",
     "output_type": "stream",
     "text": [
      "\r",
      "Subject=240, Fitness=5342.37158203125:  47%|████▋     | 9/19 [48:30<54:50, 329.04s/it]"
     ]
    },
    {
     "name": "stderr",
     "output_type": "stream",
     "text": [
      "\r",
      "Subject=256, Fitness=2964.753173828125:  47%|████▋     | 9/19 [53:15<54:50, 329.04s/it]"
     ]
    },
    {
     "name": "stderr",
     "output_type": "stream",
     "text": [
      "\r",
      "Subject=256, Fitness=2964.753173828125:  53%|█████▎    | 10/19 [53:15<47:20, 315.66s/it]"
     ]
    },
    {
     "name": "stderr",
     "output_type": "stream",
     "text": [
      "\r",
      "Subject=299, Fitness=1787.01708984375:  53%|█████▎    | 10/19 [56:52<47:20, 315.66s/it] "
     ]
    },
    {
     "name": "stderr",
     "output_type": "stream",
     "text": [
      "\r",
      "Subject=299, Fitness=1787.01708984375:  58%|█████▊    | 11/19 [56:52<38:02, 285.35s/it]"
     ]
    },
    {
     "name": "stderr",
     "output_type": "stream",
     "text": [
      "\r",
      "Subject=300, Fitness=4190.390625:  58%|█████▊    | 11/19 [1:01:29<38:02, 285.35s/it]   "
     ]
    },
    {
     "name": "stderr",
     "output_type": "stream",
     "text": [
      "\r",
      "Subject=300, Fitness=4190.390625:  63%|██████▎   | 12/19 [1:01:29<33:00, 282.90s/it]"
     ]
    },
    {
     "name": "stderr",
     "output_type": "stream",
     "text": [
      "\r",
      "Subject=301, Fitness=5163.38232421875:  63%|██████▎   | 12/19 [1:09:03<33:00, 282.90s/it]"
     ]
    },
    {
     "name": "stderr",
     "output_type": "stream",
     "text": [
      "\r",
      "Subject=301, Fitness=5163.38232421875:  68%|██████▊   | 13/19 [1:09:03<33:27, 334.63s/it]"
     ]
    },
    {
     "name": "stderr",
     "output_type": "stream",
     "text": [
      "\r",
      "Subject=303, Fitness=3334.4501953125:  68%|██████▊   | 13/19 [1:15:14<33:27, 334.63s/it] "
     ]
    },
    {
     "name": "stderr",
     "output_type": "stream",
     "text": [
      "\r",
      "Subject=303, Fitness=3334.4501953125:  74%|███████▎  | 14/19 [1:15:14<28:48, 345.69s/it]"
     ]
    },
    {
     "name": "stderr",
     "output_type": "stream",
     "text": [
      "\r",
      "Subject=305, Fitness=4706.203125:  74%|███████▎  | 14/19 [1:19:58<28:48, 345.69s/it]    "
     ]
    },
    {
     "name": "stderr",
     "output_type": "stream",
     "text": [
      "\r",
      "Subject=305, Fitness=4706.203125:  79%|███████▉  | 15/19 [1:19:58<21:47, 326.97s/it]"
     ]
    },
    {
     "name": "stderr",
     "output_type": "stream",
     "text": [
      "\r",
      "Subject=306, Fitness=4406.20703125:  79%|███████▉  | 15/19 [1:24:10<21:47, 326.97s/it]"
     ]
    },
    {
     "name": "stderr",
     "output_type": "stream",
     "text": [
      "\r",
      "Subject=306, Fitness=4406.20703125:  84%|████████▍ | 16/19 [1:24:10<15:13, 304.34s/it]"
     ]
    },
    {
     "name": "stderr",
     "output_type": "stream",
     "text": [
      "\r",
      "Subject=307, Fitness=2882.212646484375:  84%|████████▍ | 16/19 [1:28:43<15:13, 304.34s/it]"
     ]
    },
    {
     "name": "stderr",
     "output_type": "stream",
     "text": [
      "\r",
      "Subject=307, Fitness=2882.212646484375:  89%|████████▉ | 17/19 [1:28:43<09:50, 295.15s/it]"
     ]
    },
    {
     "name": "stderr",
     "output_type": "stream",
     "text": [
      "\r",
      "Subject=308, Fitness=3359.059814453125:  89%|████████▉ | 17/19 [1:33:16<09:50, 295.15s/it]"
     ]
    },
    {
     "name": "stderr",
     "output_type": "stream",
     "text": [
      "\r",
      "Subject=308, Fitness=3359.059814453125:  95%|█████████▍| 18/19 [1:33:16<04:48, 288.26s/it]"
     ]
    },
    {
     "name": "stderr",
     "output_type": "stream",
     "text": [
      "\r",
      "Subject=666, Fitness=1617.85888671875:  95%|█████████▍| 18/19 [1:35:30<04:48, 288.26s/it] "
     ]
    },
    {
     "name": "stderr",
     "output_type": "stream",
     "text": [
      "\r",
      "Subject=666, Fitness=1617.85888671875: 100%|██████████| 19/19 [1:35:30<00:00, 242.07s/it]"
     ]
    },
    {
     "name": "stderr",
     "output_type": "stream",
     "text": [
      "\r",
      "Subject=666, Fitness=1617.85888671875: 100%|██████████| 19/19 [1:35:30<00:00, 301.61s/it]"
     ]
    },
    {
     "name": "stdout",
     "output_type": "stream",
     "text": [
      "| | | RepeatedRecallsKahanaJacobs2000 WeirdPositionalCMR full best of 3 |\n",
      "|---|---|---|\n",
      "| fitness | mean | 3759.75 +/- 516.93 |\n",
      "| | std | 1043.91 |\n",
      "| encoding drift rate | mean | 0.90 +/- 0.03 |\n",
      "| | std | 0.05 |\n",
      "| start drift rate | mean | 0.55 +/- 0.08 |\n",
      "| | std | 0.17 |\n",
      "| recall drift rate | mean | 0.81 +/- 0.04 |\n",
      "| | std | 0.08 |\n",
      "| shared support | mean | 45.45 +/- 19.28 |\n",
      "| | std | 38.93 |\n",
      "| item support | mean | 39.56 +/- 16.54 |\n",
      "| | std | 33.40 |\n",
      "| learning rate | mean | 0.13 +/- 0.04 |\n",
      "| | std | 0.08 |\n",
      "| primacy scale | mean | 7.69 +/- 3.97 |\n",
      "| | std | 8.02 |\n",
      "| primacy decay | mean | 16.90 +/- 10.81 |\n",
      "| | std | 21.83 |\n",
      "| stop probability scale | mean | 0.01 +/- 0.01 |\n",
      "| | std | 0.02 |\n",
      "| stop probability growth | mean | 0.46 +/- 0.09 |\n",
      "| | std | 0.18 |\n",
      "| choice sensitivity | mean | 75.46 +/- 9.69 |\n",
      "| | std | 19.57 |\n",
      "\n"
     ]
    },
    {
     "name": "stderr",
     "output_type": "stream",
     "text": [
      "\n"
     ]
    }
   ],
   "source": [
    "fit_path = os.path.join(product_dirs[\"fits\"], f\"{data_tag}_{model_name}_{run_tag}.json\")\n",
    "print(fit_path)\n",
    "\n",
    "if os.path.exists(fit_path) and not redo_fits:\n",
    "    with open(fit_path) as f:\n",
    "        results = json.load(f)\n",
    "        if \"subject\" not in results[\"fits\"]:\n",
    "            results[\"fits\"][\"subject\"] = results[\"subject\"]\n",
    "\n",
    "else:\n",
    "    base_params = parameters[\"fixed\"]\n",
    "    bounds = parameters[\"free\"]\n",
    "    fitter = fitting_method(\n",
    "        data,\n",
    "        connections,\n",
    "        base_params,\n",
    "        model_factory,\n",
    "        loss_fn_generator,\n",
    "        hyperparams={\n",
    "            \"num_steps\": num_steps,\n",
    "            \"pop_size\": popsize,\n",
    "            \"relative_tolerance\": relative_tolerance,\n",
    "            \"cross_over_rate\": cross_rate,\n",
    "            \"diff_w\": diff_w,\n",
    "            \"progress_bar\": True,\n",
    "            \"display_iterations\": False,\n",
    "            \"bounds\": bounds,\n",
    "            \"best_of\": best_of,\n",
    "        },\n",
    "    )\n",
    "\n",
    "    results = fitter.fit(trial_mask)\n",
    "    results = dict(results)\n",
    "\n",
    "    with open(fit_path, \"w\") as f:\n",
    "        json.dump(results, f, indent=4)\n",
    "\n",
    "results[\"data_query\"] = trial_query\n",
    "results[\"model\"] = model_name\n",
    "results[\"name\"] = f\"{data_tag}_{model_name}_{run_tag}\"\n",
    "\n",
    "with open(fit_path, \"w\") as f:\n",
    "    json.dump(results, f, indent=4)\n",
    "\n",
    "print(\n",
    "    summarize_parameters([results], query_parameters, include_std=True, include_ci=True)\n",
    ")"
   ]
  },
  {
   "cell_type": "markdown",
   "id": "d91ad9c4",
   "metadata": {
    "papermill": {
     "duration": 0.002019,
     "end_time": "2025-07-21T23:56:05.137377",
     "exception": false,
     "start_time": "2025-07-21T23:56:05.135358",
     "status": "completed"
    },
    "tags": []
   },
   "source": [
    "## Simulation"
   ]
  },
  {
   "cell_type": "code",
   "execution_count": 6,
   "id": "ec4751f4",
   "metadata": {
    "execution": {
     "iopub.execute_input": "2025-07-21T23:56:05.142620Z",
     "iopub.status.busy": "2025-07-21T23:56:05.142406Z",
     "iopub.status.idle": "2025-07-21T23:56:12.051411Z",
     "shell.execute_reply": "2025-07-21T23:56:12.051178Z"
    },
    "papermill": {
     "duration": 6.912639,
     "end_time": "2025-07-21T23:56:12.052033",
     "exception": false,
     "start_time": "2025-07-21T23:56:05.139394",
     "status": "completed"
    },
    "tags": []
   },
   "outputs": [
    {
     "name": "stdout",
     "output_type": "stream",
     "text": [
      "projects/thesis/simulations/RepeatedRecallsKahanaJacobs2000_WeirdPositionalCMR_full_best_of_3.h5\n"
     ]
    },
    {
     "name": "stdout",
     "output_type": "stream",
     "text": [
      "Saved to projects/thesis/simulations/RepeatedRecallsKahanaJacobs2000_WeirdPositionalCMR_full_best_of_3.h5\n"
     ]
    },
    {
     "data": {
      "text/plain": [
       "{'encoding_drift_rate': Array([0.97380733, 0.89902353, 0.8902182 , 0.9005012 , 0.88293475,\n",
       "        0.8372477 , 0.80210084, 0.8204367 , 0.9540917 , 0.8738369 ,\n",
       "        0.92977947, 0.85710466, 0.95551026, 0.9013666 , 0.95778465,\n",
       "        0.97172534, 0.8272172 , 0.87720025, 0.9085238 ], dtype=float32),\n",
       " 'start_drift_rate': Array([0.35395676, 0.59607995, 0.5256642 , 0.5856657 , 0.70755273,\n",
       "        0.70429486, 0.6538253 , 0.7312479 , 0.7083114 , 0.6502304 ,\n",
       "        0.38177982, 0.7673987 , 0.6122898 , 0.38500515, 0.13249072,\n",
       "        0.32248506, 0.58901453, 0.42258617, 0.6169741 ], dtype=float32),\n",
       " 'recall_drift_rate': Array([0.91724575, 0.79573745, 0.79249686, 0.8582841 , 0.73545647,\n",
       "        0.7471737 , 0.69940937, 0.75860375, 0.9822245 , 0.84242874,\n",
       "        0.79738605, 0.7925049 , 0.8557381 , 0.74275434, 0.8834948 ,\n",
       "        0.92511046, 0.79366165, 0.6545081 , 0.8126339 ], dtype=float32),\n",
       " 'shared_support': Array([11.087187 , 75.372505 ,  9.134972 , 75.0989   , 87.556335 ,\n",
       "        97.32288  , 86.775536 , 98.18393  , 62.72672  , 95.516975 ,\n",
       "         7.7818794,  9.084681 , 91.81218  ,  6.973092 , 11.8948345,\n",
       "        14.833899 ,  7.4092784,  6.780594 ,  8.272193 ], dtype=float32),\n",
       " 'item_support': Array([10.205866 , 63.156128 ,  8.013774 , 67.64337  , 70.57281  ,\n",
       "        84.274345 , 72.83255  , 83.52275  , 62.29459  , 82.072174 ,\n",
       "         7.1128755,  8.251749 , 81.375175 ,  5.9158955, 10.976776 ,\n",
       "        13.808969 ,  6.7532816,  5.680699 ,  7.135854 ], dtype=float32),\n",
       " 'learning_rate': Array([0.04980683, 0.00229015, 0.04260642, 0.20323946, 0.20223504,\n",
       "        0.28610346, 0.06184172, 0.00847052, 0.23174925, 0.08040437,\n",
       "        0.13308571, 0.14583886, 0.28496066, 0.13685378, 0.11507653,\n",
       "        0.10370024, 0.07626742, 0.2068965 , 0.1338086 ], dtype=float32),\n",
       " 'primacy_scale': Array([ 0.55152434, 13.729251  ,  0.2875674 ,  9.188875  , 14.974321  ,\n",
       "        12.480786  , 15.038863  , 17.91845   , 20.22413   , 23.6184    ,\n",
       "         0.681458  ,  0.05309187, 13.192669  ,  0.61952883,  1.4771091 ,\n",
       "         0.8614895 ,  0.31597528,  0.51129305,  0.39430547], dtype=float32),\n",
       " 'primacy_decay': Array([1.79975784e+00, 1.95084624e-02, 3.02588100e+01, 1.06546999e-04,\n",
       "        2.80838530e-03, 9.28351132e-04, 8.29305779e-03, 1.30201727e-02,\n",
       "        1.44657325e-02, 5.90773188e-02, 3.45967216e+01, 1.75428629e+00,\n",
       "        9.21130413e-04, 4.58603973e+01, 7.76362534e+01, 2.80091629e+01,\n",
       "        3.17507668e+01, 3.90486526e+01, 3.03131199e+01], dtype=float32),\n",
       " 'stop_probability_scale': Array([3.1337209e-02, 5.8145309e-04, 3.1254522e-03, 2.3102561e-02,\n",
       "        1.8877040e-03, 1.6549105e-03, 8.6459536e-03, 4.2120656e-03,\n",
       "        7.4104563e-04, 7.0236390e-03, 6.9119126e-02, 7.9468321e-03,\n",
       "        1.1106810e-04, 4.0593091e-05, 3.3197429e-02, 1.9507190e-02,\n",
       "        9.9489279e-04, 2.4178922e-05, 9.4551267e-03], dtype=float32),\n",
       " 'stop_probability_growth': Array([0.2596011 , 0.5817825 , 0.43463096, 0.26828718, 0.50346285,\n",
       "        0.50242096, 0.35887635, 0.43021795, 0.5580414 , 0.4904155 ,\n",
       "        0.21358149, 0.37041095, 0.72158474, 0.8041835 , 0.29758626,\n",
       "        0.29971075, 0.5460883 , 0.8403295 , 0.33630097], dtype=float32),\n",
       " 'choice_sensitivity': Array([75.443306, 60.671772, 98.42835 , 64.09755 , 69.44903 , 75.86889 ,\n",
       "        79.995415, 59.603058, 21.175837, 47.45529 , 93.52773 , 89.19506 ,\n",
       "        58.005215, 88.05193 , 78.26491 , 91.388535, 92.64232 , 99.66837 ,\n",
       "        90.894646], dtype=float32),\n",
       " 'mfc_choice_sensitivity': Array([1., 1., 1., 1., 1., 1., 1., 1., 1., 1., 1., 1., 1., 1., 1., 1., 1.,\n",
       "        1., 1.], dtype=float32),\n",
       " 'allow_repeated_recalls': Array([1., 1., 1., 1., 1., 1., 1., 1., 1., 1., 1., 1., 1., 1., 1., 1., 1.,\n",
       "        1., 1.], dtype=float32),\n",
       " 'subject': Array([200, 201, 205, 206, 210, 215, 220, 230, 240, 256, 299, 300, 301,\n",
       "        303, 305, 306, 307, 308, 666], dtype=int32)}"
      ]
     },
     "execution_count": 6,
     "metadata": {},
     "output_type": "execute_result"
    }
   ],
   "source": [
    "sim_path = os.path.join(\n",
    "    product_dirs[\"simulations\"], f\"{data_tag}_{model_name}_{run_tag}.h5\"\n",
    ")\n",
    "print(sim_path)\n",
    "\n",
    "with open(fit_path) as f:\n",
    "    results = json.load(f)\n",
    "    if \"subject\" not in results[\"fits\"]:\n",
    "        results[\"fits\"][\"subject\"] = results[\"subject\"]\n",
    "\n",
    "\n",
    "rng = random.PRNGKey(seed)\n",
    "rng, rng_iter = random.split(rng)\n",
    "trial_mask = generate_trial_mask(data, trial_query)\n",
    "params = {key: jnp.array(val) for key, val in results[\"fits\"].items()}  # type: ignore\n",
    "\n",
    "if os.path.exists(sim_path) and not redo_sims:\n",
    "    sim = load_data(sim_path)\n",
    "    print(f\"Loaded from {sim_path}\")\n",
    "\n",
    "else:\n",
    "    sim = simulate_h5_from_h5(\n",
    "        model_factory=model_factory,\n",
    "        dataset=data,\n",
    "        connections=connections,\n",
    "        parameters=params,\n",
    "        trial_mask=trial_mask,\n",
    "        experiment_count=experiment_count,\n",
    "        rng=rng_iter,\n",
    "    )\n",
    "\n",
    "    save_dict_to_hdf5(sim, sim_path)\n",
    "    print(f\"Saved to {sim_path}\")\n",
    "\n",
    "if filter_repeated_recalls:\n",
    "    sim['recalls'] = repetition.filter_repeated_recalls(sim['recalls'])\n",
    "\n",
    "params"
   ]
  },
  {
   "cell_type": "markdown",
   "id": "49425906",
   "metadata": {
    "papermill": {
     "duration": 0.001783,
     "end_time": "2025-07-21T23:56:12.056119",
     "exception": false,
     "start_time": "2025-07-21T23:56:12.054336",
     "status": "completed"
    },
    "tags": []
   },
   "source": [
    "## Figures"
   ]
  },
  {
   "cell_type": "code",
   "execution_count": 7,
   "id": "789d14d4",
   "metadata": {
    "execution": {
     "iopub.execute_input": "2025-07-21T23:56:12.060769Z",
     "iopub.status.busy": "2025-07-21T23:56:12.060589Z",
     "iopub.status.idle": "2025-07-21T23:56:12.075177Z",
     "shell.execute_reply": "2025-07-21T23:56:12.074904Z"
    },
    "papermill": {
     "duration": 0.017459,
     "end_time": "2025-07-21T23:56:12.075857",
     "exception": false,
     "start_time": "2025-07-21T23:56:12.058398",
     "status": "completed"
    },
    "tags": []
   },
   "outputs": [],
   "source": [
    "#|code-summary: single-dataset views\n",
    "\n",
    "for analysis in single_analyses:\n",
    "    figure_str = f\"{data_tag}_{model_name}_{run_tag}_{analysis.__name__[5:]}.png\"\n",
    "    figure_path = os.path.join(product_dirs[\"figures\"], figure_str)\n",
    "    print(f\"![]({figure_path})\")\n",
    "\n",
    "    # if redo_figures, check if figure already exists and don't redo\n",
    "    # we want to display the figure here if it already exists\n",
    "    if os.path.exists(figure_path) and not redo_figures:\n",
    "        display(Image(filename=figure_path))\n",
    "    else:\n",
    "        color_cycle = [each[\"color\"] for each in rcParams[\"axes.prop_cycle\"]]\n",
    "\n",
    "        # Create a mask for data using np.isin for the selected list types\n",
    "        trial_mask = generate_trial_mask(sim, trial_query)\n",
    "\n",
    "        axis = analysis(\n",
    "            datasets=[sim],\n",
    "            trial_masks=[np.array(trial_mask)],\n",
    "            color_cycle=color_cycle,\n",
    "            labels=[\"First\", \"Second\"],\n",
    "            contrast_name=\"Repetition Index\",\n",
    "            axis=None,\n",
    "            distances=None,\n",
    "        )\n",
    "\n",
    "        plt.savefig(figure_path, bbox_inches=\"tight\", dpi=600)\n",
    "        plt.show()"
   ]
  },
  {
   "cell_type": "code",
   "execution_count": 8,
   "id": "2ed58e5f",
   "metadata": {
    "execution": {
     "iopub.execute_input": "2025-07-21T23:56:12.079936Z",
     "iopub.status.busy": "2025-07-21T23:56:12.079837Z",
     "iopub.status.idle": "2025-07-21T23:56:12.093077Z",
     "shell.execute_reply": "2025-07-21T23:56:12.092814Z"
    },
    "papermill": {
     "duration": 0.015994,
     "end_time": "2025-07-21T23:56:12.093822",
     "exception": false,
     "start_time": "2025-07-21T23:56:12.077828",
     "status": "completed"
    },
    "tags": []
   },
   "outputs": [],
   "source": [
    "#| code-summary: mixed vs control views\n",
    "\n",
    "for analysis in comparison_analyses:\n",
    "\n",
    "    figure_str = f\"{data_tag}_{model_name}_{run_tag}_{analysis.__name__[5:]}.png\"\n",
    "    figure_path = os.path.join(product_dirs[\"figures\"], figure_str)\n",
    "    print(f\"![]({figure_path})\")\n",
    "\n",
    "    # if redo_figures, check if figure already exists and don't redo\n",
    "    # we want to display the figure here if it already exists\n",
    "    if os.path.exists(figure_path) and not redo_figures:\n",
    "        display(Image(filename=figure_path))\n",
    "        continue\n",
    "\n",
    "    color_cycle = [each[\"color\"] for each in rcParams[\"axes.prop_cycle\"]]\n",
    "\n",
    "    # Create a mask for data using np.isin for the selected list types\n",
    "    trial_mask = generate_trial_mask(data, trial_query)\n",
    "    sim_trial_mask = generate_trial_mask(sim, trial_query)\n",
    "\n",
    "    axis = analysis(\n",
    "        datasets=[sim, data],\n",
    "        trial_masks=[np.array(sim_trial_mask), np.array(trial_mask)],\n",
    "        color_cycle=color_cycle,\n",
    "        labels=[\"Model\", \"Data\"],\n",
    "        contrast_name=\"Source\",\n",
    "        axis=None,\n",
    "        distances=None,\n",
    "    )\n",
    "\n",
    "    plt.savefig(figure_path, bbox_inches=\"tight\", dpi=600)\n",
    "    plt.show()"
   ]
  }
 ],
 "metadata": {
  "kernelspec": {
   "display_name": "jaxcmr",
   "language": "python",
   "name": "python3"
  },
  "language_info": {
   "codemirror_mode": {
    "name": "ipython",
    "version": 3
   },
   "file_extension": ".py",
   "mimetype": "text/x-python",
   "name": "python",
   "nbconvert_exporter": "python",
   "pygments_lexer": "ipython3",
   "version": "3.12.8"
  },
  "papermill": {
   "default_parameters": {},
   "duration": 5759.501368,
   "end_time": "2025-07-21T23:56:12.929425",
   "environment_variables": {},
   "exception": null,
   "input_path": "projects/thesis/Fitting_No_Control.ipynb",
   "output_path": "projects/thesis/RepeatedRecallsKahanaJacobs2000_WeirdPositionalCMR_Fitting.ipynb",
   "parameters": {
    "allow_repeated_recalls": true,
    "base_data_tag": "KahanaJacobs2000",
    "comparison_analysis_paths": [],
    "data_path": "data/RepeatedRecallsKahanaJacobs2000.h5",
    "data_tag": "RepeatedRecallsKahanaJacobs2000",
    "filter_repeated_recalls": false,
    "model_factory_path": "jaxcmr.models_repfr.weird_positional_cmr.BaseCMRFactory",
    "model_name": "WeirdPositionalCMR",
    "parameters": {
     "fixed": {
      "mfc_choice_sensitivity": 1.0
     },
     "free": {
      "choice_sensitivity": [
       2.220446049250313e-16,
       100.0
      ],
      "encoding_drift_rate": [
       2.220446049250313e-16,
       0.9999999999999998
      ],
      "item_support": [
       2.220446049250313e-16,
       100.0
      ],
      "learning_rate": [
       2.220446049250313e-16,
       0.9999999999999998
      ],
      "primacy_decay": [
       2.220446049250313e-16,
       100.0
      ],
      "primacy_scale": [
       2.220446049250313e-16,
       100.0
      ],
      "recall_drift_rate": [
       2.220446049250313e-16,
       0.9999999999999998
      ],
      "shared_support": [
       2.220446049250313e-16,
       100.0
      ],
      "start_drift_rate": [
       2.220446049250313e-16,
       0.9999999999999998
      ],
      "stop_probability_growth": [
       2.220446049250313e-16,
       10.0
      ],
      "stop_probability_scale": [
       2.220446049250313e-16,
       0.9999999999999998
      ]
     }
    },
    "redo_figures": false,
    "redo_fits": false,
    "redo_sims": false,
    "single_analysis_paths": [],
    "trial_query": "jnp.logical_and(data['recall_attempt'] == 1, data['recall_total'] > 0)"
   },
   "start_time": "2025-07-21T22:20:13.428057",
   "version": "2.6.0"
  }
 },
 "nbformat": 4,
 "nbformat_minor": 5
}