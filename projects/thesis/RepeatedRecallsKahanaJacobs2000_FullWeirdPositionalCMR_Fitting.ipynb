{
 "cells": [
  {
   "cell_type": "code",
   "execution_count": 1,
   "id": "5bcf1ebf",
   "metadata": {
    "execution": {
     "iopub.execute_input": "2025-07-21T20:44:22.274040Z",
     "iopub.status.busy": "2025-07-21T20:44:22.273634Z",
     "iopub.status.idle": "2025-07-21T20:44:23.818349Z",
     "shell.execute_reply": "2025-07-21T20:44:23.818111Z"
    },
    "papermill": {
     "duration": 1.551111,
     "end_time": "2025-07-21T20:44:23.819130",
     "exception": false,
     "start_time": "2025-07-21T20:44:22.268019",
     "status": "completed"
    },
    "tags": []
   },
   "outputs": [],
   "source": [
    "%load_ext autoreload\n",
    "%autoreload 2\n",
    "\n",
    "import json\n",
    "import os\n",
    "import warnings\n",
    "\n",
    "import jax.numpy as jnp\n",
    "import matplotlib.pyplot as plt\n",
    "from IPython.display import Image, display\n",
    "import numpy as np\n",
    "from jax import random\n",
    "from matplotlib import rcParams  # type: ignore\n",
    "\n",
    "from jaxcmr.fitting import ScipyDE as fitting_method\n",
    "from jaxcmr.helpers import (\n",
    "    generate_trial_mask,\n",
    "    import_from_string,\n",
    "    load_data,\n",
    "    save_dict_to_hdf5,\n",
    ")\n",
    "from jaxcmr.likelihood import MemorySearchLikelihoodFnGenerator as loss_fn_generator\n",
    "from jaxcmr import repetition\n",
    "from jaxcmr.simulation import simulate_h5_from_h5\n",
    "from jaxcmr.summarize import summarize_parameters\n",
    "\n",
    "warnings.filterwarnings(\"ignore\")"
   ]
  },
  {
   "cell_type": "markdown",
   "id": "faa8a7ce",
   "metadata": {
    "papermill": {
     "duration": 0.00102,
     "end_time": "2025-07-21T20:44:23.821726",
     "exception": false,
     "start_time": "2025-07-21T20:44:23.820706",
     "status": "completed"
    },
    "tags": []
   },
   "source": [
    "## Setup"
   ]
  },
  {
   "cell_type": "code",
   "execution_count": 2,
   "id": "880fb412",
   "metadata": {
    "execution": {
     "iopub.execute_input": "2025-07-21T20:44:23.824383Z",
     "iopub.status.busy": "2025-07-21T20:44:23.824217Z",
     "iopub.status.idle": "2025-07-21T20:44:23.847983Z",
     "shell.execute_reply": "2025-07-21T20:44:23.847748Z"
    },
    "papermill": {
     "duration": 0.025677,
     "end_time": "2025-07-21T20:44:23.848693",
     "exception": false,
     "start_time": "2025-07-21T20:44:23.823016",
     "status": "completed"
    },
    "tags": [
     "parameters"
    ]
   },
   "outputs": [],
   "source": [
    "# repeat params\n",
    "allow_repeated_recalls = False\n",
    "filter_repeated_recalls = False\n",
    "data_tag = \"LohnasKahana2014\"\n",
    "data_path = \"data/LohnasKahana2014.h5\"\n",
    "\n",
    "# data params\n",
    "trial_query = \"data['list_type'] > 0\"\n",
    "run_tag = \"full_best_of_3\"\n",
    "\n",
    "# fitting params\n",
    "redo_fits = True\n",
    "model_factory_path = \"jaxcmr.models_repfr.weird_cmr.BaseCMRFactory\"\n",
    "model_name = \"WeirdCMR\"\n",
    "relative_tolerance = 0.001\n",
    "popsize = 15\n",
    "num_steps = 1000\n",
    "cross_rate = 0.9\n",
    "diff_w = 0.85\n",
    "best_of = 3\n",
    "target_dir = \"projects/thesis\"\n",
    "\n",
    "# sim params\n",
    "redo_sims = True\n",
    "seed = 0\n",
    "experiment_count = 50\n",
    "\n",
    "# figure params\n",
    "redo_figures = True\n",
    "\n",
    "parameters = {\n",
    "    \"fixed\": {\n",
    "    },\n",
    "    \"free\": {\n",
    "        \"encoding_drift_rate\": [2.220446049250313e-16, 0.9999999999999998],\n",
    "        \"start_drift_rate\": [2.220446049250313e-16, 0.9999999999999998],\n",
    "        \"recall_drift_rate\": [2.220446049250313e-16, 0.9999999999999998],\n",
    "        \"shared_support\": [2.220446049250313e-16, 99.9999999999999998],\n",
    "        \"item_support\": [2.220446049250313e-16, 99.9999999999999998],\n",
    "        \"learning_rate\": [2.220446049250313e-16, 0.9999999999999998],\n",
    "        \"primacy_scale\": [2.220446049250313e-16, 99.9999999999999998],\n",
    "        \"primacy_decay\": [2.220446049250313e-16, 99.9999999999999998],\n",
    "        \"stop_probability_scale\": [2.220446049250313e-16, 0.9999999999999998],\n",
    "        \"stop_probability_growth\": [2.220446049250313e-16, 9.9999999999999998],\n",
    "        \"choice_sensitivity\": [2.220446049250313e-16, 99.9999999999999998],\n",
    "    },\n",
    "}\n",
    "\n",
    "single_analysis_paths = [\n",
    "    \"jaxcmr.analyses.repcrp.plot_rep_crp\",\n",
    "    \"jaxcmr.analyses.backrepcrp.plot_back_rep_crp\",\n",
    "]\n",
    "\n",
    "comparison_analysis_paths = [\n",
    "    \"jaxcmr.analyses.spc.plot_spc\",\n",
    "    \"jaxcmr.analyses.crp.plot_crp\",\n",
    "    \"jaxcmr.analyses.pnr.plot_pnr\",\n",
    "    \"jaxcmr.analyses.repneighborcrp.plot_repneighborcrp_i2j\",\n",
    "    \"jaxcmr.analyses.repneighborcrp.plot_repneighborcrp_j2i\",\n",
    "    \"jaxcmr.analyses.repneighborcrp.plot_repneighborcrp_both\",\n",
    "    \"jaxcmr.analyses.rpl.plot_rpl\",\n",
    "    \"jaxcmr.analyses.rpl.plot_full_rpl\",\n",
    "]"
   ]
  },
  {
   "cell_type": "code",
   "execution_count": 3,
   "id": "73a6402c",
   "metadata": {
    "execution": {
     "iopub.execute_input": "2025-07-21T20:44:23.851041Z",
     "iopub.status.busy": "2025-07-21T20:44:23.850945Z",
     "iopub.status.idle": "2025-07-21T20:44:23.863372Z",
     "shell.execute_reply": "2025-07-21T20:44:23.863161Z"
    },
    "papermill": {
     "duration": 0.014216,
     "end_time": "2025-07-21T20:44:23.864029",
     "exception": false,
     "start_time": "2025-07-21T20:44:23.849813",
     "status": "completed"
    },
    "tags": [
     "injected-parameters"
    ]
   },
   "outputs": [],
   "source": [
    "# Parameters\n",
    "allow_repeated_recalls = True\n",
    "filter_repeated_recalls = False\n",
    "data_tag = \"RepeatedRecallsKahanaJacobs2000\"\n",
    "data_path = \"data/RepeatedRecallsKahanaJacobs2000.h5\"\n",
    "base_data_tag = \"KahanaJacobs2000\"\n",
    "trial_query = \"jnp.logical_and(data['recall_attempt'] == 1, data['recall_total'] > 0)\"\n",
    "single_analysis_paths = []\n",
    "comparison_analysis_paths = []\n",
    "model_name = \"FullWeirdPositionalCMR\"\n",
    "model_factory_path = \"jaxcmr.models_repfr.weird_positional_cmr.BaseCMRFactory\"\n",
    "redo_fits = False\n",
    "redo_sims = False\n",
    "redo_figures = False\n",
    "parameters = {\"fixed\": {}, \"free\": {\"encoding_drift_rate\": [2.220446049250313e-16, 0.9999999999999998], \"start_drift_rate\": [2.220446049250313e-16, 0.9999999999999998], \"recall_drift_rate\": [2.220446049250313e-16, 0.9999999999999998], \"shared_support\": [2.220446049250313e-16, 100.0], \"item_support\": [2.220446049250313e-16, 100.0], \"learning_rate\": [2.220446049250313e-16, 0.9999999999999998], \"primacy_scale\": [2.220446049250313e-16, 100.0], \"primacy_decay\": [2.220446049250313e-16, 100.0], \"stop_probability_scale\": [2.220446049250313e-16, 0.9999999999999998], \"stop_probability_growth\": [2.220446049250313e-16, 10.0], \"choice_sensitivity\": [2.220446049250313e-16, 100.0], \"mfc_choice_sensitivity\": [2.220446049250313e-16, 100.0]}}\n"
   ]
  },
  {
   "cell_type": "code",
   "execution_count": 4,
   "id": "0877f896",
   "metadata": {
    "execution": {
     "iopub.execute_input": "2025-07-21T20:44:23.866324Z",
     "iopub.status.busy": "2025-07-21T20:44:23.866234Z",
     "iopub.status.idle": "2025-07-21T20:44:24.114035Z",
     "shell.execute_reply": "2025-07-21T20:44:24.113799Z"
    },
    "papermill": {
     "duration": 0.249698,
     "end_time": "2025-07-21T20:44:24.114816",
     "exception": false,
     "start_time": "2025-07-21T20:44:23.865118",
     "status": "completed"
    },
    "tags": []
   },
   "outputs": [],
   "source": [
    "# add subdirectories for each product type: json, figures, h5\n",
    "product_dirs = {}\n",
    "for product in [\"fits\", \"figures\", \"simulations\"]:\n",
    "    product_dir = os.path.join(target_dir, product)\n",
    "    product_dirs[product] = product_dir\n",
    "    if not os.path.exists(product_dir):\n",
    "        os.makedirs(product_dir)\n",
    "\n",
    "data = load_data(data_path)\n",
    "trial_mask = generate_trial_mask(data, trial_query)\n",
    "\n",
    "max_size = np.max(data[\"pres_itemnos\"])\n",
    "connections = jnp.zeros((max_size, max_size))\n",
    "\n",
    "single_analyses = [import_from_string(path) for path in single_analysis_paths]\n",
    "comparison_analyses = [import_from_string(path) for path in comparison_analysis_paths]\n",
    "model_factory = import_from_string(model_factory_path)\n",
    "\n",
    "# derive list of query parameters from keys of `parameters`\n",
    "parameters['fixed']['allow_repeated_recalls'] = allow_repeated_recalls\n",
    "query_parameters = list(parameters[\"free\"].keys())\n",
    "\n",
    "# make sure repeatedrecalls is in either both data_tag or data_path, or is in neither\n",
    "if \"repeatedrecalls\" in data_tag.lower() or \"repeatedrecalls\" in data_path.lower():\n",
    "    if \"repeatedrecalls\" not in data_tag.lower() and \"repeatedrecalls\" not in data_path.lower():\n",
    "        raise ValueError(\n",
    "            \"If 'repeatedrecalls' is in data_tag or data_path, it must be in both.\"\n",
    "        )"
   ]
  },
  {
   "cell_type": "markdown",
   "id": "abe1fdc7",
   "metadata": {
    "papermill": {
     "duration": 0.001057,
     "end_time": "2025-07-21T20:44:24.117260",
     "exception": false,
     "start_time": "2025-07-21T20:44:24.116203",
     "status": "completed"
    },
    "tags": []
   },
   "source": [
    "## Fitting"
   ]
  },
  {
   "cell_type": "code",
   "execution_count": 5,
   "id": "e7bece1b",
   "metadata": {
    "execution": {
     "iopub.execute_input": "2025-07-21T20:44:24.119860Z",
     "iopub.status.busy": "2025-07-21T20:44:24.119718Z",
     "iopub.status.idle": "2025-07-21T22:20:01.544926Z",
     "shell.execute_reply": "2025-07-21T22:20:01.544462Z"
    },
    "papermill": {
     "duration": 5737.428332,
     "end_time": "2025-07-21T22:20:01.546791",
     "exception": false,
     "start_time": "2025-07-21T20:44:24.118459",
     "status": "completed"
    },
    "tags": []
   },
   "outputs": [
    {
     "name": "stdout",
     "output_type": "stream",
     "text": [
      "projects/thesis/fits/RepeatedRecallsKahanaJacobs2000_FullWeirdPositionalCMR_full_best_of_3.json\n"
     ]
    },
    {
     "name": "stderr",
     "output_type": "stream",
     "text": [
      "\r",
      "  0%|          | 0/19 [00:00<?, ?it/s]"
     ]
    },
    {
     "name": "stderr",
     "output_type": "stream",
     "text": [
      "\r",
      "Subject=200, Fitness=3669.8349609375:   0%|          | 0/19 [06:12<?, ?it/s]"
     ]
    },
    {
     "name": "stderr",
     "output_type": "stream",
     "text": [
      "\r",
      "Subject=200, Fitness=3669.8349609375:   5%|▌         | 1/19 [06:12<1:51:52, 372.89s/it]"
     ]
    },
    {
     "name": "stderr",
     "output_type": "stream",
     "text": [
      "\r",
      "Subject=201, Fitness=3585.424072265625:   5%|▌         | 1/19 [11:22<1:51:52, 372.89s/it]"
     ]
    },
    {
     "name": "stderr",
     "output_type": "stream",
     "text": [
      "\r",
      "Subject=201, Fitness=3585.424072265625:  11%|█         | 2/19 [11:22<1:35:06, 335.69s/it]"
     ]
    },
    {
     "name": "stderr",
     "output_type": "stream",
     "text": [
      "\r",
      "Subject=205, Fitness=3370.189208984375:  11%|█         | 2/19 [16:09<1:35:06, 335.69s/it]"
     ]
    },
    {
     "name": "stderr",
     "output_type": "stream",
     "text": [
      "\r",
      "Subject=205, Fitness=3370.189208984375:  16%|█▌        | 3/19 [16:09<1:23:37, 313.58s/it]"
     ]
    },
    {
     "name": "stderr",
     "output_type": "stream",
     "text": [
      "\r",
      "Subject=206, Fitness=4160.43115234375:  16%|█▌        | 3/19 [20:16<1:23:37, 313.58s/it] "
     ]
    },
    {
     "name": "stderr",
     "output_type": "stream",
     "text": [
      "\r",
      "Subject=206, Fitness=4160.43115234375:  21%|██        | 4/19 [20:16<1:11:49, 287.27s/it]"
     ]
    },
    {
     "name": "stderr",
     "output_type": "stream",
     "text": [
      "\r",
      "Subject=210, Fitness=3277.177978515625:  21%|██        | 4/19 [25:07<1:11:49, 287.27s/it]"
     ]
    },
    {
     "name": "stderr",
     "output_type": "stream",
     "text": [
      "\r",
      "Subject=210, Fitness=3277.177978515625:  26%|██▋       | 5/19 [25:07<1:07:21, 288.66s/it]"
     ]
    },
    {
     "name": "stderr",
     "output_type": "stream",
     "text": [
      "\r",
      "Subject=215, Fitness=5600.63232421875:  26%|██▋       | 5/19 [30:06<1:07:21, 288.66s/it] "
     ]
    },
    {
     "name": "stderr",
     "output_type": "stream",
     "text": [
      "\r",
      "Subject=215, Fitness=5600.63232421875:  32%|███▏      | 6/19 [30:06<1:03:16, 292.03s/it]"
     ]
    },
    {
     "name": "stderr",
     "output_type": "stream",
     "text": [
      "\r",
      "Subject=220, Fitness=3531.791015625:  32%|███▏      | 6/19 [34:38<1:03:16, 292.03s/it]  "
     ]
    },
    {
     "name": "stderr",
     "output_type": "stream",
     "text": [
      "\r",
      "Subject=220, Fitness=3531.791015625:  37%|███▋      | 7/19 [34:38<57:04, 285.37s/it]  "
     ]
    },
    {
     "name": "stderr",
     "output_type": "stream",
     "text": [
      "\r",
      "Subject=230, Fitness=4452.38818359375:  37%|███▋      | 7/19 [39:53<57:04, 285.37s/it]"
     ]
    },
    {
     "name": "stderr",
     "output_type": "stream",
     "text": [
      "\r",
      "Subject=230, Fitness=4452.38818359375:  42%|████▏     | 8/19 [39:53<54:03, 294.87s/it]"
     ]
    },
    {
     "name": "stderr",
     "output_type": "stream",
     "text": [
      "\r",
      "Subject=240, Fitness=5343.05615234375:  42%|████▏     | 8/19 [46:48<54:03, 294.87s/it]"
     ]
    },
    {
     "name": "stderr",
     "output_type": "stream",
     "text": [
      "\r",
      "Subject=240, Fitness=5343.05615234375:  47%|████▋     | 9/19 [46:48<55:23, 332.36s/it]"
     ]
    },
    {
     "name": "stderr",
     "output_type": "stream",
     "text": [
      "\r",
      "Subject=256, Fitness=2958.671142578125:  47%|████▋     | 9/19 [51:32<55:23, 332.36s/it]"
     ]
    },
    {
     "name": "stderr",
     "output_type": "stream",
     "text": [
      "\r",
      "Subject=256, Fitness=2958.671142578125:  53%|█████▎    | 10/19 [51:32<47:38, 317.65s/it]"
     ]
    },
    {
     "name": "stderr",
     "output_type": "stream",
     "text": [
      "\r",
      "Subject=299, Fitness=1786.004638671875:  53%|█████▎    | 10/19 [55:44<47:38, 317.65s/it]"
     ]
    },
    {
     "name": "stderr",
     "output_type": "stream",
     "text": [
      "\r",
      "Subject=299, Fitness=1786.004638671875:  58%|█████▊    | 11/19 [55:44<39:40, 297.53s/it]"
     ]
    },
    {
     "name": "stderr",
     "output_type": "stream",
     "text": [
      "\r",
      "Subject=300, Fitness=4182.6376953125:  58%|█████▊    | 11/19 [1:00:17<39:40, 297.53s/it]"
     ]
    },
    {
     "name": "stderr",
     "output_type": "stream",
     "text": [
      "\r",
      "Subject=300, Fitness=4182.6376953125:  63%|██████▎   | 12/19 [1:00:17<33:49, 289.94s/it]"
     ]
    },
    {
     "name": "stderr",
     "output_type": "stream",
     "text": [
      "\r",
      "Subject=301, Fitness=5159.1708984375:  63%|██████▎   | 12/19 [1:06:33<33:49, 289.94s/it]"
     ]
    },
    {
     "name": "stderr",
     "output_type": "stream",
     "text": [
      "\r",
      "Subject=301, Fitness=5159.1708984375:  68%|██████▊   | 13/19 [1:06:33<31:37, 316.18s/it]"
     ]
    },
    {
     "name": "stderr",
     "output_type": "stream",
     "text": [
      "\r",
      "Subject=303, Fitness=3336.662353515625:  68%|██████▊   | 13/19 [1:12:23<31:37, 316.18s/it]"
     ]
    },
    {
     "name": "stderr",
     "output_type": "stream",
     "text": [
      "\r",
      "Subject=303, Fitness=3336.662353515625:  74%|███████▎  | 14/19 [1:12:23<27:11, 326.22s/it]"
     ]
    },
    {
     "name": "stderr",
     "output_type": "stream",
     "text": [
      "\r",
      "Subject=305, Fitness=4701.6796875:  74%|███████▎  | 14/19 [1:16:11<27:11, 326.22s/it]     "
     ]
    },
    {
     "name": "stderr",
     "output_type": "stream",
     "text": [
      "\r",
      "Subject=305, Fitness=4701.6796875:  79%|███████▉  | 15/19 [1:16:11<19:46, 296.57s/it]"
     ]
    },
    {
     "name": "stderr",
     "output_type": "stream",
     "text": [
      "\r",
      "Subject=306, Fitness=4388.66650390625:  79%|███████▉  | 15/19 [1:21:37<19:46, 296.57s/it]"
     ]
    },
    {
     "name": "stderr",
     "output_type": "stream",
     "text": [
      "\r",
      "Subject=306, Fitness=4388.66650390625:  84%|████████▍ | 16/19 [1:21:37<15:16, 305.48s/it]"
     ]
    },
    {
     "name": "stderr",
     "output_type": "stream",
     "text": [
      "\r",
      "Subject=307, Fitness=2887.15625:  84%|████████▍ | 16/19 [1:26:10<15:16, 305.48s/it]      "
     ]
    },
    {
     "name": "stderr",
     "output_type": "stream",
     "text": [
      "\r",
      "Subject=307, Fitness=2887.15625:  89%|████████▉ | 17/19 [1:26:10<09:51, 295.82s/it]"
     ]
    },
    {
     "name": "stderr",
     "output_type": "stream",
     "text": [
      "\r",
      "Subject=308, Fitness=3357.120361328125:  89%|████████▉ | 17/19 [1:32:07<09:51, 295.82s/it]"
     ]
    },
    {
     "name": "stderr",
     "output_type": "stream",
     "text": [
      "\r",
      "Subject=308, Fitness=3357.120361328125:  95%|█████████▍| 18/19 [1:32:07<05:14, 314.12s/it]"
     ]
    },
    {
     "name": "stderr",
     "output_type": "stream",
     "text": [
      "\r",
      "Subject=666, Fitness=1616.5125732421875:  95%|█████████▍| 18/19 [1:35:22<05:14, 314.12s/it]"
     ]
    },
    {
     "name": "stderr",
     "output_type": "stream",
     "text": [
      "\r",
      "Subject=666, Fitness=1616.5125732421875: 100%|██████████| 19/19 [1:35:22<00:00, 278.29s/it]"
     ]
    },
    {
     "name": "stderr",
     "output_type": "stream",
     "text": [
      "\r",
      "Subject=666, Fitness=1616.5125732421875: 100%|██████████| 19/19 [1:35:22<00:00, 301.17s/it]"
     ]
    },
    {
     "name": "stdout",
     "output_type": "stream",
     "text": [
      "| | | RepeatedRecallsKahanaJacobs2000 FullWeirdPositionalCMR full best of 3 |\n",
      "|---|---|---|\n",
      "| fitness | mean | 3756.06 +/- 516.42 |\n",
      "| | std | 1042.88 |\n",
      "| encoding drift rate | mean | 0.89 +/- 0.02 |\n",
      "| | std | 0.05 |\n",
      "| start drift rate | mean | 0.54 +/- 0.08 |\n",
      "| | std | 0.16 |\n",
      "| recall drift rate | mean | 0.81 +/- 0.04 |\n",
      "| | std | 0.08 |\n",
      "| shared support | mean | 33.41 +/- 18.25 |\n",
      "| | std | 36.86 |\n",
      "| item support | mean | 29.85 +/- 16.58 |\n",
      "| | std | 33.49 |\n",
      "| learning rate | mean | 0.13 +/- 0.05 |\n",
      "| | std | 0.09 |\n",
      "| primacy scale | mean | 4.87 +/- 3.49 |\n",
      "| | std | 7.04 |\n",
      "| primacy decay | mean | 32.97 +/- 16.53 |\n",
      "| | std | 33.38 |\n",
      "| stop probability scale | mean | 0.01 +/- 0.01 |\n",
      "| | std | 0.02 |\n",
      "| stop probability growth | mean | 0.47 +/- 0.08 |\n",
      "| | std | 0.17 |\n",
      "| choice sensitivity | mean | 80.83 +/- 9.58 |\n",
      "| | std | 19.34 |\n",
      "| mfc choice sensitivity | mean | 43.60 +/- 17.03 |\n",
      "| | std | 34.38 |\n",
      "\n"
     ]
    },
    {
     "name": "stderr",
     "output_type": "stream",
     "text": [
      "\n"
     ]
    }
   ],
   "source": [
    "fit_path = os.path.join(product_dirs[\"fits\"], f\"{data_tag}_{model_name}_{run_tag}.json\")\n",
    "print(fit_path)\n",
    "\n",
    "if os.path.exists(fit_path) and not redo_fits:\n",
    "    with open(fit_path) as f:\n",
    "        results = json.load(f)\n",
    "        if \"subject\" not in results[\"fits\"]:\n",
    "            results[\"fits\"][\"subject\"] = results[\"subject\"]\n",
    "\n",
    "else:\n",
    "    base_params = parameters[\"fixed\"]\n",
    "    bounds = parameters[\"free\"]\n",
    "    fitter = fitting_method(\n",
    "        data,\n",
    "        connections,\n",
    "        base_params,\n",
    "        model_factory,\n",
    "        loss_fn_generator,\n",
    "        hyperparams={\n",
    "            \"num_steps\": num_steps,\n",
    "            \"pop_size\": popsize,\n",
    "            \"relative_tolerance\": relative_tolerance,\n",
    "            \"cross_over_rate\": cross_rate,\n",
    "            \"diff_w\": diff_w,\n",
    "            \"progress_bar\": True,\n",
    "            \"display_iterations\": False,\n",
    "            \"bounds\": bounds,\n",
    "            \"best_of\": best_of,\n",
    "        },\n",
    "    )\n",
    "\n",
    "    results = fitter.fit(trial_mask)\n",
    "    results = dict(results)\n",
    "\n",
    "    with open(fit_path, \"w\") as f:\n",
    "        json.dump(results, f, indent=4)\n",
    "\n",
    "results[\"data_query\"] = trial_query\n",
    "results[\"model\"] = model_name\n",
    "results[\"name\"] = f\"{data_tag}_{model_name}_{run_tag}\"\n",
    "\n",
    "with open(fit_path, \"w\") as f:\n",
    "    json.dump(results, f, indent=4)\n",
    "\n",
    "print(\n",
    "    summarize_parameters([results], query_parameters, include_std=True, include_ci=True)\n",
    ")"
   ]
  },
  {
   "cell_type": "markdown",
   "id": "d91ad9c4",
   "metadata": {
    "papermill": {
     "duration": 0.003275,
     "end_time": "2025-07-21T22:20:01.556650",
     "exception": false,
     "start_time": "2025-07-21T22:20:01.553375",
     "status": "completed"
    },
    "tags": []
   },
   "source": [
    "## Simulation"
   ]
  },
  {
   "cell_type": "code",
   "execution_count": 6,
   "id": "ec4751f4",
   "metadata": {
    "execution": {
     "iopub.execute_input": "2025-07-21T22:20:01.563834Z",
     "iopub.status.busy": "2025-07-21T22:20:01.563634Z",
     "iopub.status.idle": "2025-07-21T22:20:12.294065Z",
     "shell.execute_reply": "2025-07-21T22:20:12.293452Z"
    },
    "papermill": {
     "duration": 10.735328,
     "end_time": "2025-07-21T22:20:12.295375",
     "exception": false,
     "start_time": "2025-07-21T22:20:01.560047",
     "status": "completed"
    },
    "tags": []
   },
   "outputs": [
    {
     "name": "stdout",
     "output_type": "stream",
     "text": [
      "projects/thesis/simulations/RepeatedRecallsKahanaJacobs2000_FullWeirdPositionalCMR_full_best_of_3.h5\n"
     ]
    },
    {
     "name": "stdout",
     "output_type": "stream",
     "text": [
      "Saved to projects/thesis/simulations/RepeatedRecallsKahanaJacobs2000_FullWeirdPositionalCMR_full_best_of_3.h5\n"
     ]
    },
    {
     "data": {
      "text/plain": [
       "{'encoding_drift_rate': Array([0.9388401 , 0.89403164, 0.8964824 , 0.8807081 , 0.89592886,\n",
       "        0.84278005, 0.8277322 , 0.8223075 , 0.95364124, 0.88313466,\n",
       "        0.94583356, 0.84928715, 0.9452856 , 0.9157531 , 0.94099265,\n",
       "        0.9649492 , 0.80807847, 0.8743008 , 0.9066339 ], dtype=float32),\n",
       " 'start_drift_rate': Array([0.19741355, 0.59919006, 0.54785246, 0.37355137, 0.5128537 ,\n",
       "        0.6487149 , 0.63263863, 0.72337   , 0.6939836 , 0.6608648 ,\n",
       "        0.6141228 , 0.7474874 , 0.5127546 , 0.3429387 , 0.18911451,\n",
       "        0.51947594, 0.55990905, 0.45736563, 0.66378   ], dtype=float32),\n",
       " 'recall_drift_rate': Array([0.9233464 , 0.78833693, 0.7778297 , 0.8472617 , 0.7267713 ,\n",
       "        0.74489427, 0.69550425, 0.73988   , 0.98103935, 0.84373033,\n",
       "        0.8493947 , 0.7768332 , 0.8321978 , 0.75244915, 0.89353067,\n",
       "        0.8877902 , 0.7629523 , 0.654596  , 0.8189831 ], dtype=float32),\n",
       " 'shared_support': Array([12.85034  , 74.81336  ,  8.111294 , 10.55945  ,  5.871241 ,\n",
       "         9.467396 ,  7.506305 , 74.542854 , 96.546036 , 97.76394  ,\n",
       "        97.820206 ,  7.9126534,  9.539911 ,  7.729975 , 11.959503 ,\n",
       "        79.86192  ,  6.5342064,  6.6564045,  8.787202 ], dtype=float32),\n",
       " 'item_support': Array([11.927763 , 66.8135   ,  6.8497715,  9.721708 ,  4.705088 ,\n",
       "         8.50822  ,  6.4310536, 59.641953 , 96.18632  , 90.0122   ,\n",
       "        85.86669  ,  7.0253916,  8.684137 ,  6.586991 , 10.949798 ,\n",
       "        68.28685  ,  5.7411346,  5.4843483,  7.7595367], dtype=float32),\n",
       " 'learning_rate': Array([0.00266775, 0.02399198, 0.06168924, 0.24645568, 0.2740928 ,\n",
       "        0.22086756, 0.07586765, 0.02055583, 0.21593505, 0.06751148,\n",
       "        0.0634237 , 0.17160337, 0.31284857, 0.21634647, 0.07865083,\n",
       "        0.04112097, 0.09844089, 0.22458036, 0.08194472], dtype=float32),\n",
       " 'primacy_scale': Array([2.3595080e+00, 8.2709665e+00, 1.5293498e-01, 5.5883330e-01,\n",
       "        3.7950611e-01, 1.1005078e-01, 1.7988125e-02, 1.6459984e+01,\n",
       "        2.2496315e+01, 1.1282348e+01, 1.8256235e+01, 9.0060458e-02,\n",
       "        2.6065731e-01, 7.3203301e-01, 1.0390526e+00, 8.9232502e+00,\n",
       "        3.5187390e-01, 5.0488091e-01, 3.6462685e-01], dtype=float32),\n",
       " 'primacy_decay': Array([2.0943000e+00, 2.0546189e-02, 1.3608407e+01, 4.6086864e+01,\n",
       "        8.1731750e+01, 7.3457596e+01, 2.9120441e+01, 5.6623123e-03,\n",
       "        1.5682079e-02, 5.6582972e-02, 2.5095701e-02, 8.5367874e+01,\n",
       "        2.5447292e+01, 7.7201828e+01, 8.1993431e+01, 7.7238824e-04,\n",
       "        2.1570401e+00, 6.1978809e+01, 4.6111591e+01], dtype=float32),\n",
       " 'stop_probability_scale': Array([2.7980404e-02, 1.0108558e-03, 2.8123641e-03, 2.0942993e-02,\n",
       "        2.0115976e-03, 1.4815375e-03, 7.3986426e-03, 3.6326081e-03,\n",
       "        9.3101134e-04, 7.6985010e-03, 6.9793008e-02, 5.1188190e-03,\n",
       "        1.1669519e-04, 6.7236935e-05, 2.8294019e-02, 1.7504534e-02,\n",
       "        7.7539374e-04, 2.4394885e-05, 1.0250388e-02], dtype=float32),\n",
       " 'stop_probability_growth': Array([0.28081402, 0.5311498 , 0.44764146, 0.29575184, 0.49760616,\n",
       "        0.509344  , 0.3789405 , 0.4462017 , 0.53975016, 0.4800035 ,\n",
       "        0.2109082 , 0.4124999 , 0.7178256 , 0.7591472 , 0.31247845,\n",
       "        0.31385964, 0.56940275, 0.8394949 , 0.3276458 ], dtype=float32),\n",
       " 'choice_sensitivity': Array([84.509476, 94.01895 , 90.667496, 97.25313 , 75.598694, 94.83075 ,\n",
       "        99.22219 , 49.585873, 28.679947, 90.74605 , 56.14054 , 81.34936 ,\n",
       "        87.80472 , 97.60499 , 76.12819 , 53.402264, 86.82859 , 96.80918 ,\n",
       "        94.62755 ], dtype=float32),\n",
       " 'mfc_choice_sensitivity': Array([ 3.1725929, 38.907856 ,  1.5394237,  1.0079336, 73.607155 ,\n",
       "        80.704216 , 17.214409 , 17.397388 ,  1.6919936, 46.787655 ,\n",
       "        64.69505  , 77.94311  , 71.243355 ,  2.6879733, 94.1045   ,\n",
       "        94.99798  , 76.03144  ,  7.47743  , 57.19835  ], dtype=float32),\n",
       " 'allow_repeated_recalls': Array([1., 1., 1., 1., 1., 1., 1., 1., 1., 1., 1., 1., 1., 1., 1., 1., 1.,\n",
       "        1., 1.], dtype=float32),\n",
       " 'subject': Array([200, 201, 205, 206, 210, 215, 220, 230, 240, 256, 299, 300, 301,\n",
       "        303, 305, 306, 307, 308, 666], dtype=int32)}"
      ]
     },
     "execution_count": 6,
     "metadata": {},
     "output_type": "execute_result"
    }
   ],
   "source": [
    "sim_path = os.path.join(\n",
    "    product_dirs[\"simulations\"], f\"{data_tag}_{model_name}_{run_tag}.h5\"\n",
    ")\n",
    "print(sim_path)\n",
    "\n",
    "with open(fit_path) as f:\n",
    "    results = json.load(f)\n",
    "    if \"subject\" not in results[\"fits\"]:\n",
    "        results[\"fits\"][\"subject\"] = results[\"subject\"]\n",
    "\n",
    "\n",
    "rng = random.PRNGKey(seed)\n",
    "rng, rng_iter = random.split(rng)\n",
    "trial_mask = generate_trial_mask(data, trial_query)\n",
    "params = {key: jnp.array(val) for key, val in results[\"fits\"].items()}  # type: ignore\n",
    "\n",
    "if os.path.exists(sim_path) and not redo_sims:\n",
    "    sim = load_data(sim_path)\n",
    "    print(f\"Loaded from {sim_path}\")\n",
    "\n",
    "else:\n",
    "    sim = simulate_h5_from_h5(\n",
    "        model_factory=model_factory,\n",
    "        dataset=data,\n",
    "        connections=connections,\n",
    "        parameters=params,\n",
    "        trial_mask=trial_mask,\n",
    "        experiment_count=experiment_count,\n",
    "        rng=rng_iter,\n",
    "    )\n",
    "\n",
    "    save_dict_to_hdf5(sim, sim_path)\n",
    "    print(f\"Saved to {sim_path}\")\n",
    "\n",
    "if filter_repeated_recalls:\n",
    "    sim['recalls'] = repetition.filter_repeated_recalls(sim['recalls'])\n",
    "\n",
    "params"
   ]
  },
  {
   "cell_type": "markdown",
   "id": "49425906",
   "metadata": {
    "papermill": {
     "duration": 0.002851,
     "end_time": "2025-07-21T22:20:12.303263",
     "exception": false,
     "start_time": "2025-07-21T22:20:12.300412",
     "status": "completed"
    },
    "tags": []
   },
   "source": [
    "## Figures"
   ]
  },
  {
   "cell_type": "code",
   "execution_count": 7,
   "id": "789d14d4",
   "metadata": {
    "execution": {
     "iopub.execute_input": "2025-07-21T22:20:12.312510Z",
     "iopub.status.busy": "2025-07-21T22:20:12.312356Z",
     "iopub.status.idle": "2025-07-21T22:20:12.335257Z",
     "shell.execute_reply": "2025-07-21T22:20:12.334947Z"
    },
    "papermill": {
     "duration": 0.027163,
     "end_time": "2025-07-21T22:20:12.336428",
     "exception": false,
     "start_time": "2025-07-21T22:20:12.309265",
     "status": "completed"
    },
    "tags": []
   },
   "outputs": [],
   "source": [
    "#|code-summary: single-dataset views\n",
    "\n",
    "for analysis in single_analyses:\n",
    "    figure_str = f\"{data_tag}_{model_name}_{run_tag}_{analysis.__name__[5:]}.png\"\n",
    "    figure_path = os.path.join(product_dirs[\"figures\"], figure_str)\n",
    "    print(f\"![]({figure_path})\")\n",
    "\n",
    "    # if redo_figures, check if figure already exists and don't redo\n",
    "    # we want to display the figure here if it already exists\n",
    "    if os.path.exists(figure_path) and not redo_figures:\n",
    "        display(Image(filename=figure_path))\n",
    "    else:\n",
    "        color_cycle = [each[\"color\"] for each in rcParams[\"axes.prop_cycle\"]]\n",
    "\n",
    "        # Create a mask for data using np.isin for the selected list types\n",
    "        trial_mask = generate_trial_mask(sim, trial_query)\n",
    "\n",
    "        axis = analysis(\n",
    "            datasets=[sim],\n",
    "            trial_masks=[np.array(trial_mask)],\n",
    "            color_cycle=color_cycle,\n",
    "            labels=[\"First\", \"Second\"],\n",
    "            contrast_name=\"Repetition Index\",\n",
    "            axis=None,\n",
    "            distances=None,\n",
    "        )\n",
    "\n",
    "        plt.savefig(figure_path, bbox_inches=\"tight\", dpi=600)\n",
    "        plt.show()"
   ]
  },
  {
   "cell_type": "code",
   "execution_count": 8,
   "id": "2ed58e5f",
   "metadata": {
    "execution": {
     "iopub.execute_input": "2025-07-21T22:20:12.341789Z",
     "iopub.status.busy": "2025-07-21T22:20:12.341667Z",
     "iopub.status.idle": "2025-07-21T22:20:12.359054Z",
     "shell.execute_reply": "2025-07-21T22:20:12.358672Z"
    },
    "papermill": {
     "duration": 0.021015,
     "end_time": "2025-07-21T22:20:12.360075",
     "exception": false,
     "start_time": "2025-07-21T22:20:12.339060",
     "status": "completed"
    },
    "tags": []
   },
   "outputs": [],
   "source": [
    "#| code-summary: mixed vs control views\n",
    "\n",
    "for analysis in comparison_analyses:\n",
    "\n",
    "    figure_str = f\"{data_tag}_{model_name}_{run_tag}_{analysis.__name__[5:]}.png\"\n",
    "    figure_path = os.path.join(product_dirs[\"figures\"], figure_str)\n",
    "    print(f\"![]({figure_path})\")\n",
    "\n",
    "    # if redo_figures, check if figure already exists and don't redo\n",
    "    # we want to display the figure here if it already exists\n",
    "    if os.path.exists(figure_path) and not redo_figures:\n",
    "        display(Image(filename=figure_path))\n",
    "        continue\n",
    "\n",
    "    color_cycle = [each[\"color\"] for each in rcParams[\"axes.prop_cycle\"]]\n",
    "\n",
    "    # Create a mask for data using np.isin for the selected list types\n",
    "    trial_mask = generate_trial_mask(data, trial_query)\n",
    "    sim_trial_mask = generate_trial_mask(sim, trial_query)\n",
    "\n",
    "    axis = analysis(\n",
    "        datasets=[sim, data],\n",
    "        trial_masks=[np.array(sim_trial_mask), np.array(trial_mask)],\n",
    "        color_cycle=color_cycle,\n",
    "        labels=[\"Model\", \"Data\"],\n",
    "        contrast_name=\"Source\",\n",
    "        axis=None,\n",
    "        distances=None,\n",
    "    )\n",
    "\n",
    "    plt.savefig(figure_path, bbox_inches=\"tight\", dpi=600)\n",
    "    plt.show()"
   ]
  }
 ],
 "metadata": {
  "kernelspec": {
   "display_name": "jaxcmr",
   "language": "python",
   "name": "python3"
  },
  "language_info": {
   "codemirror_mode": {
    "name": "ipython",
    "version": 3
   },
   "file_extension": ".py",
   "mimetype": "text/x-python",
   "name": "python",
   "nbconvert_exporter": "python",
   "pygments_lexer": "ipython3",
   "version": "3.12.8"
  },
  "papermill": {
   "default_parameters": {},
   "duration": 5751.76467,
   "end_time": "2025-07-21T22:20:13.390662",
   "environment_variables": {},
   "exception": null,
   "input_path": "projects/thesis/Fitting_No_Control.ipynb",
   "output_path": "projects/thesis/RepeatedRecallsKahanaJacobs2000_FullWeirdPositionalCMR_Fitting.ipynb",
   "parameters": {
    "allow_repeated_recalls": true,
    "base_data_tag": "KahanaJacobs2000",
    "comparison_analysis_paths": [],
    "data_path": "data/RepeatedRecallsKahanaJacobs2000.h5",
    "data_tag": "RepeatedRecallsKahanaJacobs2000",
    "filter_repeated_recalls": false,
    "model_factory_path": "jaxcmr.models_repfr.weird_positional_cmr.BaseCMRFactory",
    "model_name": "FullWeirdPositionalCMR",
    "parameters": {
     "fixed": {},
     "free": {
      "choice_sensitivity": [
       2.220446049250313e-16,
       100.0
      ],
      "encoding_drift_rate": [
       2.220446049250313e-16,
       0.9999999999999998
      ],
      "item_support": [
       2.220446049250313e-16,
       100.0
      ],
      "learning_rate": [
       2.220446049250313e-16,
       0.9999999999999998
      ],
      "mfc_choice_sensitivity": [
       2.220446049250313e-16,
       100.0
      ],
      "primacy_decay": [
       2.220446049250313e-16,
       100.0
      ],
      "primacy_scale": [
       2.220446049250313e-16,
       100.0
      ],
      "recall_drift_rate": [
       2.220446049250313e-16,
       0.9999999999999998
      ],
      "shared_support": [
       2.220446049250313e-16,
       100.0
      ],
      "start_drift_rate": [
       2.220446049250313e-16,
       0.9999999999999998
      ],
      "stop_probability_growth": [
       2.220446049250313e-16,
       10.0
      ],
      "stop_probability_scale": [
       2.220446049250313e-16,
       0.9999999999999998
      ]
     }
    },
    "redo_figures": false,
    "redo_fits": false,
    "redo_sims": false,
    "single_analysis_paths": [],
    "trial_query": "jnp.logical_and(data['recall_attempt'] == 1, data['recall_total'] > 0)"
   },
   "start_time": "2025-07-21T20:44:21.625992",
   "version": "2.6.0"
  }
 },
 "nbformat": 4,
 "nbformat_minor": 5
}