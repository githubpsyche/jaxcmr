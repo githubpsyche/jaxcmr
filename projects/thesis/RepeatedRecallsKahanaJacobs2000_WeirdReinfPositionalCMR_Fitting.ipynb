{
 "cells": [
  {
   "cell_type": "code",
   "execution_count": 1,
   "id": "5bcf1ebf",
   "metadata": {
    "execution": {
     "iopub.execute_input": "2025-07-21T16:01:45.571452Z",
     "iopub.status.busy": "2025-07-21T16:01:45.571083Z",
     "iopub.status.idle": "2025-07-21T16:01:47.196534Z",
     "shell.execute_reply": "2025-07-21T16:01:47.196245Z"
    },
    "papermill": {
     "duration": 1.633774,
     "end_time": "2025-07-21T16:01:47.197406",
     "exception": false,
     "start_time": "2025-07-21T16:01:45.563632",
     "status": "completed"
    },
    "tags": []
   },
   "outputs": [],
   "source": [
    "%load_ext autoreload\n",
    "%autoreload 2\n",
    "\n",
    "import json\n",
    "import os\n",
    "import warnings\n",
    "\n",
    "import jax.numpy as jnp\n",
    "import matplotlib.pyplot as plt\n",
    "from IPython.display import Image, display\n",
    "import numpy as np\n",
    "from jax import random\n",
    "from matplotlib import rcParams  # type: ignore\n",
    "\n",
    "from jaxcmr.fitting import ScipyDE as fitting_method\n",
    "from jaxcmr.helpers import (\n",
    "    generate_trial_mask,\n",
    "    import_from_string,\n",
    "    load_data,\n",
    "    save_dict_to_hdf5,\n",
    ")\n",
    "from jaxcmr.likelihood import MemorySearchLikelihoodFnGenerator as loss_fn_generator\n",
    "from jaxcmr import repetition\n",
    "from jaxcmr.simulation import simulate_h5_from_h5\n",
    "from jaxcmr.summarize import summarize_parameters\n",
    "\n",
    "warnings.filterwarnings(\"ignore\")"
   ]
  },
  {
   "cell_type": "markdown",
   "id": "faa8a7ce",
   "metadata": {
    "papermill": {
     "duration": 0.001154,
     "end_time": "2025-07-21T16:01:47.200209",
     "exception": false,
     "start_time": "2025-07-21T16:01:47.199055",
     "status": "completed"
    },
    "tags": []
   },
   "source": [
    "## Setup"
   ]
  },
  {
   "cell_type": "code",
   "execution_count": 2,
   "id": "880fb412",
   "metadata": {
    "execution": {
     "iopub.execute_input": "2025-07-21T16:01:47.202934Z",
     "iopub.status.busy": "2025-07-21T16:01:47.202744Z",
     "iopub.status.idle": "2025-07-21T16:01:47.227330Z",
     "shell.execute_reply": "2025-07-21T16:01:47.227064Z"
    },
    "papermill": {
     "duration": 0.026715,
     "end_time": "2025-07-21T16:01:47.228130",
     "exception": false,
     "start_time": "2025-07-21T16:01:47.201415",
     "status": "completed"
    },
    "tags": [
     "parameters"
    ]
   },
   "outputs": [],
   "source": [
    "# repeat params\n",
    "allow_repeated_recalls = False\n",
    "filter_repeated_recalls = False\n",
    "data_tag = \"LohnasKahana2014\"\n",
    "data_path = \"data/LohnasKahana2014.h5\"\n",
    "\n",
    "# data params\n",
    "trial_query = \"data['list_type'] > 0\"\n",
    "run_tag = \"full_best_of_3\"\n",
    "\n",
    "# fitting params\n",
    "redo_fits = True\n",
    "model_factory_path = \"jaxcmr.models_repfr.weird_cmr.BaseCMRFactory\"\n",
    "model_name = \"WeirdCMR\"\n",
    "relative_tolerance = 0.001\n",
    "popsize = 15\n",
    "num_steps = 1000\n",
    "cross_rate = 0.9\n",
    "diff_w = 0.85\n",
    "best_of = 3\n",
    "target_dir = \"projects/thesis\"\n",
    "\n",
    "# sim params\n",
    "redo_sims = True\n",
    "seed = 0\n",
    "experiment_count = 50\n",
    "\n",
    "# figure params\n",
    "redo_figures = True\n",
    "\n",
    "parameters = {\n",
    "    \"fixed\": {\n",
    "    },\n",
    "    \"free\": {\n",
    "        \"encoding_drift_rate\": [2.220446049250313e-16, 0.9999999999999998],\n",
    "        \"start_drift_rate\": [2.220446049250313e-16, 0.9999999999999998],\n",
    "        \"recall_drift_rate\": [2.220446049250313e-16, 0.9999999999999998],\n",
    "        \"shared_support\": [2.220446049250313e-16, 99.9999999999999998],\n",
    "        \"item_support\": [2.220446049250313e-16, 99.9999999999999998],\n",
    "        \"learning_rate\": [2.220446049250313e-16, 0.9999999999999998],\n",
    "        \"primacy_scale\": [2.220446049250313e-16, 99.9999999999999998],\n",
    "        \"primacy_decay\": [2.220446049250313e-16, 99.9999999999999998],\n",
    "        \"stop_probability_scale\": [2.220446049250313e-16, 0.9999999999999998],\n",
    "        \"stop_probability_growth\": [2.220446049250313e-16, 9.9999999999999998],\n",
    "        \"choice_sensitivity\": [2.220446049250313e-16, 99.9999999999999998],\n",
    "    },\n",
    "}\n",
    "\n",
    "single_analysis_paths = [\n",
    "    \"jaxcmr.analyses.repcrp.plot_rep_crp\",\n",
    "    \"jaxcmr.analyses.backrepcrp.plot_back_rep_crp\",\n",
    "]\n",
    "\n",
    "comparison_analysis_paths = [\n",
    "    \"jaxcmr.analyses.spc.plot_spc\",\n",
    "    \"jaxcmr.analyses.crp.plot_crp\",\n",
    "    \"jaxcmr.analyses.pnr.plot_pnr\",\n",
    "    \"jaxcmr.analyses.repneighborcrp.plot_repneighborcrp_i2j\",\n",
    "    \"jaxcmr.analyses.repneighborcrp.plot_repneighborcrp_j2i\",\n",
    "    \"jaxcmr.analyses.repneighborcrp.plot_repneighborcrp_both\",\n",
    "    \"jaxcmr.analyses.rpl.plot_rpl\",\n",
    "    \"jaxcmr.analyses.rpl.plot_full_rpl\",\n",
    "]"
   ]
  },
  {
   "cell_type": "code",
   "execution_count": 3,
   "id": "9d79b25c",
   "metadata": {
    "execution": {
     "iopub.execute_input": "2025-07-21T16:01:47.230717Z",
     "iopub.status.busy": "2025-07-21T16:01:47.230610Z",
     "iopub.status.idle": "2025-07-21T16:01:47.243707Z",
     "shell.execute_reply": "2025-07-21T16:01:47.243461Z"
    },
    "papermill": {
     "duration": 0.015085,
     "end_time": "2025-07-21T16:01:47.244428",
     "exception": false,
     "start_time": "2025-07-21T16:01:47.229343",
     "status": "completed"
    },
    "tags": [
     "injected-parameters"
    ]
   },
   "outputs": [],
   "source": [
    "# Parameters\n",
    "allow_repeated_recalls = True\n",
    "filter_repeated_recalls = False\n",
    "data_tag = \"RepeatedRecallsKahanaJacobs2000\"\n",
    "data_path = \"data/RepeatedRecallsKahanaJacobs2000.h5\"\n",
    "base_data_tag = \"KahanaJacobs2000\"\n",
    "trial_query = \"jnp.logical_and(data['recall_attempt'] == 1, data['recall_total'] > 0)\"\n",
    "single_analysis_paths = []\n",
    "comparison_analysis_paths = []\n",
    "model_name = \"WeirdReinfPositionalCMR\"\n",
    "model_factory_path = \"jaxcmr.models_repfr.weird_reinf_positional_cmr.BaseCMRFactory\"\n",
    "redo_fits = False\n",
    "redo_sims = False\n",
    "redo_figures = False\n",
    "parameters = {\"fixed\": {\"mfc_choice_sensitivity\": 1.0}, \"free\": {\"encoding_drift_rate\": [2.220446049250313e-16, 0.9999999999999998], \"start_drift_rate\": [2.220446049250313e-16, 0.9999999999999998], \"recall_drift_rate\": [2.220446049250313e-16, 0.9999999999999998], \"shared_support\": [2.220446049250313e-16, 100.0], \"item_support\": [2.220446049250313e-16, 100.0], \"learning_rate\": [2.220446049250313e-16, 0.9999999999999998], \"primacy_scale\": [2.220446049250313e-16, 100.0], \"primacy_decay\": [2.220446049250313e-16, 100.0], \"stop_probability_scale\": [2.220446049250313e-16, 0.9999999999999998], \"stop_probability_growth\": [2.220446049250313e-16, 10.0], \"choice_sensitivity\": [2.220446049250313e-16, 100.0], \"first_presentation_reinforcement\": [2.220446049250313e-16, 100.0]}}\n"
   ]
  },
  {
   "cell_type": "code",
   "execution_count": 4,
   "id": "0877f896",
   "metadata": {
    "execution": {
     "iopub.execute_input": "2025-07-21T16:01:47.246976Z",
     "iopub.status.busy": "2025-07-21T16:01:47.246876Z",
     "iopub.status.idle": "2025-07-21T16:01:47.512488Z",
     "shell.execute_reply": "2025-07-21T16:01:47.512247Z"
    },
    "papermill": {
     "duration": 0.267596,
     "end_time": "2025-07-21T16:01:47.513247",
     "exception": false,
     "start_time": "2025-07-21T16:01:47.245651",
     "status": "completed"
    },
    "tags": []
   },
   "outputs": [],
   "source": [
    "# add subdirectories for each product type: json, figures, h5\n",
    "product_dirs = {}\n",
    "for product in [\"fits\", \"figures\", \"simulations\"]:\n",
    "    product_dir = os.path.join(target_dir, product)\n",
    "    product_dirs[product] = product_dir\n",
    "    if not os.path.exists(product_dir):\n",
    "        os.makedirs(product_dir)\n",
    "\n",
    "data = load_data(data_path)\n",
    "trial_mask = generate_trial_mask(data, trial_query)\n",
    "\n",
    "max_size = np.max(data[\"pres_itemnos\"])\n",
    "connections = jnp.zeros((max_size, max_size))\n",
    "\n",
    "single_analyses = [import_from_string(path) for path in single_analysis_paths]\n",
    "comparison_analyses = [import_from_string(path) for path in comparison_analysis_paths]\n",
    "model_factory = import_from_string(model_factory_path)\n",
    "\n",
    "# derive list of query parameters from keys of `parameters`\n",
    "parameters['fixed']['allow_repeated_recalls'] = allow_repeated_recalls\n",
    "query_parameters = list(parameters[\"free\"].keys())\n",
    "\n",
    "# make sure repeatedrecalls is in either both data_tag or data_path, or is in neither\n",
    "if \"repeatedrecalls\" in data_tag.lower() or \"repeatedrecalls\" in data_path.lower():\n",
    "    if \"repeatedrecalls\" not in data_tag.lower() and \"repeatedrecalls\" not in data_path.lower():\n",
    "        raise ValueError(\n",
    "            \"If 'repeatedrecalls' is in data_tag or data_path, it must be in both.\"\n",
    "        )"
   ]
  },
  {
   "cell_type": "markdown",
   "id": "abe1fdc7",
   "metadata": {
    "papermill": {
     "duration": 0.001036,
     "end_time": "2025-07-21T16:01:47.515715",
     "exception": false,
     "start_time": "2025-07-21T16:01:47.514679",
     "status": "completed"
    },
    "tags": []
   },
   "source": [
    "## Fitting"
   ]
  },
  {
   "cell_type": "code",
   "execution_count": 5,
   "id": "e7bece1b",
   "metadata": {
    "execution": {
     "iopub.execute_input": "2025-07-21T16:01:47.518340Z",
     "iopub.status.busy": "2025-07-21T16:01:47.518177Z",
     "iopub.status.idle": "2025-07-21T18:45:01.495078Z",
     "shell.execute_reply": "2025-07-21T18:45:01.493187Z"
    },
    "papermill": {
     "duration": 9793.980988,
     "end_time": "2025-07-21T18:45:01.497929",
     "exception": false,
     "start_time": "2025-07-21T16:01:47.516941",
     "status": "completed"
    },
    "tags": []
   },
   "outputs": [
    {
     "name": "stdout",
     "output_type": "stream",
     "text": [
      "projects/thesis/fits/RepeatedRecallsKahanaJacobs2000_WeirdReinfPositionalCMR_full_best_of_3.json\n"
     ]
    },
    {
     "name": "stderr",
     "output_type": "stream",
     "text": [
      "\r",
      "  0%|          | 0/19 [00:00<?, ?it/s]"
     ]
    },
    {
     "name": "stderr",
     "output_type": "stream",
     "text": [
      "\r",
      "Subject=200, Fitness=3683.713623046875:   0%|          | 0/19 [06:44<?, ?it/s]"
     ]
    },
    {
     "name": "stderr",
     "output_type": "stream",
     "text": [
      "\r",
      "Subject=200, Fitness=3683.713623046875:   5%|▌         | 1/19 [06:44<2:01:23, 404.62s/it]"
     ]
    },
    {
     "name": "stderr",
     "output_type": "stream",
     "text": [
      "\r",
      "Subject=201, Fitness=3584.4375:   5%|▌         | 1/19 [14:32<2:01:23, 404.62s/it]        "
     ]
    },
    {
     "name": "stderr",
     "output_type": "stream",
     "text": [
      "\r",
      "Subject=201, Fitness=3584.4375:  11%|█         | 2/19 [14:32<2:05:11, 441.83s/it]"
     ]
    },
    {
     "name": "stderr",
     "output_type": "stream",
     "text": [
      "\r",
      "Subject=205, Fitness=3380.411376953125:  11%|█         | 2/19 [23:43<2:05:11, 441.83s/it]"
     ]
    },
    {
     "name": "stderr",
     "output_type": "stream",
     "text": [
      "\r",
      "Subject=205, Fitness=3380.411376953125:  16%|█▌        | 3/19 [23:43<2:11:06, 491.67s/it]"
     ]
    },
    {
     "name": "stderr",
     "output_type": "stream",
     "text": [
      "\r",
      "Subject=206, Fitness=4167.5439453125:  16%|█▌        | 3/19 [31:15<2:11:06, 491.67s/it]  "
     ]
    },
    {
     "name": "stderr",
     "output_type": "stream",
     "text": [
      "\r",
      "Subject=206, Fitness=4167.5439453125:  21%|██        | 4/19 [31:15<1:59:01, 476.07s/it]"
     ]
    },
    {
     "name": "stderr",
     "output_type": "stream",
     "text": [
      "\r",
      "Subject=210, Fitness=3270.089599609375:  21%|██        | 4/19 [39:07<1:59:01, 476.07s/it]"
     ]
    },
    {
     "name": "stderr",
     "output_type": "stream",
     "text": [
      "\r",
      "Subject=210, Fitness=3270.089599609375:  26%|██▋       | 5/19 [39:07<1:50:45, 474.67s/it]"
     ]
    },
    {
     "name": "stderr",
     "output_type": "stream",
     "text": [
      "\r",
      "Subject=215, Fitness=5603.37109375:  26%|██▋       | 5/19 [49:07<1:50:45, 474.67s/it]    "
     ]
    },
    {
     "name": "stderr",
     "output_type": "stream",
     "text": [
      "\r",
      "Subject=215, Fitness=5603.37109375:  32%|███▏      | 6/19 [49:07<1:52:03, 517.18s/it]"
     ]
    },
    {
     "name": "stderr",
     "output_type": "stream",
     "text": [
      "\r",
      "Subject=220, Fitness=3540.452880859375:  32%|███▏      | 6/19 [57:51<1:52:03, 517.18s/it]"
     ]
    },
    {
     "name": "stderr",
     "output_type": "stream",
     "text": [
      "\r",
      "Subject=220, Fitness=3540.452880859375:  37%|███▋      | 7/19 [57:51<1:43:51, 519.31s/it]"
     ]
    },
    {
     "name": "stderr",
     "output_type": "stream",
     "text": [
      "\r",
      "Subject=230, Fitness=4457.0439453125:  37%|███▋      | 7/19 [1:06:20<1:43:51, 519.31s/it]"
     ]
    },
    {
     "name": "stderr",
     "output_type": "stream",
     "text": [
      "\r",
      "Subject=230, Fitness=4457.0439453125:  42%|████▏     | 8/19 [1:06:20<1:34:38, 516.20s/it]"
     ]
    },
    {
     "name": "stderr",
     "output_type": "stream",
     "text": [
      "\r",
      "Subject=240, Fitness=5335.734375:  42%|████▏     | 8/19 [1:16:25<1:34:38, 516.20s/it]    "
     ]
    },
    {
     "name": "stderr",
     "output_type": "stream",
     "text": [
      "\r",
      "Subject=240, Fitness=5335.734375:  47%|████▋     | 9/19 [1:16:25<1:30:38, 543.82s/it]"
     ]
    },
    {
     "name": "stderr",
     "output_type": "stream",
     "text": [
      "\r",
      "Subject=256, Fitness=2959.25341796875:  47%|████▋     | 9/19 [1:24:04<1:30:38, 543.82s/it]"
     ]
    },
    {
     "name": "stderr",
     "output_type": "stream",
     "text": [
      "\r",
      "Subject=256, Fitness=2959.25341796875:  53%|█████▎    | 10/19 [1:24:04<1:17:38, 517.63s/it]"
     ]
    },
    {
     "name": "stderr",
     "output_type": "stream",
     "text": [
      "\r",
      "Subject=299, Fitness=1785.2391357421875:  53%|█████▎    | 10/19 [1:30:54<1:17:38, 517.63s/it]"
     ]
    },
    {
     "name": "stderr",
     "output_type": "stream",
     "text": [
      "\r",
      "Subject=299, Fitness=1785.2391357421875:  58%|█████▊    | 11/19 [1:30:54<1:04:36, 484.62s/it]"
     ]
    },
    {
     "name": "stderr",
     "output_type": "stream",
     "text": [
      "\r",
      "Subject=300, Fitness=4193.7109375:  58%|█████▊    | 11/19 [1:39:03<1:04:36, 484.62s/it]      "
     ]
    },
    {
     "name": "stderr",
     "output_type": "stream",
     "text": [
      "\r",
      "Subject=300, Fitness=4193.7109375:  63%|██████▎   | 12/19 [1:39:03<56:42, 486.04s/it]  "
     ]
    },
    {
     "name": "stderr",
     "output_type": "stream",
     "text": [
      "\r",
      "Subject=301, Fitness=5160.99365234375:  63%|██████▎   | 12/19 [1:50:26<56:42, 486.04s/it]"
     ]
    },
    {
     "name": "stderr",
     "output_type": "stream",
     "text": [
      "\r",
      "Subject=301, Fitness=5160.99365234375:  68%|██████▊   | 13/19 [1:50:26<54:34, 545.82s/it]"
     ]
    },
    {
     "name": "stderr",
     "output_type": "stream",
     "text": [
      "\r",
      "Subject=303, Fitness=3333.453857421875:  68%|██████▊   | 13/19 [2:01:15<54:34, 545.82s/it]"
     ]
    },
    {
     "name": "stderr",
     "output_type": "stream",
     "text": [
      "\r",
      "Subject=303, Fitness=3333.453857421875:  74%|███████▎  | 14/19 [2:01:15<48:05, 577.05s/it]"
     ]
    },
    {
     "name": "stderr",
     "output_type": "stream",
     "text": [
      "\r",
      "Subject=305, Fitness=4701.11865234375:  74%|███████▎  | 14/19 [2:08:45<48:05, 577.05s/it] "
     ]
    },
    {
     "name": "stderr",
     "output_type": "stream",
     "text": [
      "\r",
      "Subject=305, Fitness=4701.11865234375:  79%|███████▉  | 15/19 [2:08:45<35:54, 538.70s/it]"
     ]
    },
    {
     "name": "stderr",
     "output_type": "stream",
     "text": [
      "\r",
      "Subject=306, Fitness=4396.068359375:  79%|███████▉  | 15/19 [2:17:33<35:54, 538.70s/it]  "
     ]
    },
    {
     "name": "stderr",
     "output_type": "stream",
     "text": [
      "\r",
      "Subject=306, Fitness=4396.068359375:  84%|████████▍ | 16/19 [2:17:33<26:46, 535.43s/it]"
     ]
    },
    {
     "name": "stderr",
     "output_type": "stream",
     "text": [
      "\r",
      "Subject=307, Fitness=2889.26318359375:  84%|████████▍ | 16/19 [2:26:52<26:46, 535.43s/it]"
     ]
    },
    {
     "name": "stderr",
     "output_type": "stream",
     "text": [
      "\r",
      "Subject=307, Fitness=2889.26318359375:  89%|████████▉ | 17/19 [2:26:52<18:05, 542.53s/it]"
     ]
    },
    {
     "name": "stderr",
     "output_type": "stream",
     "text": [
      "\r",
      "Subject=308, Fitness=3362.4677734375:  89%|████████▉ | 17/19 [2:37:35<18:05, 542.53s/it] "
     ]
    },
    {
     "name": "stderr",
     "output_type": "stream",
     "text": [
      "\r",
      "Subject=308, Fitness=3362.4677734375:  95%|█████████▍| 18/19 [2:37:35<09:32, 572.56s/it]"
     ]
    },
    {
     "name": "stderr",
     "output_type": "stream",
     "text": [
      "\r",
      "Subject=666, Fitness=1619.7908935546875:  95%|█████████▍| 18/19 [2:42:57<09:32, 572.56s/it]"
     ]
    },
    {
     "name": "stderr",
     "output_type": "stream",
     "text": [
      "\r",
      "Subject=666, Fitness=1619.7908935546875: 100%|██████████| 19/19 [2:42:57<00:00, 497.28s/it]"
     ]
    },
    {
     "name": "stderr",
     "output_type": "stream",
     "text": [
      "\r",
      "Subject=666, Fitness=1619.7908935546875: 100%|██████████| 19/19 [2:42:57<00:00, 514.58s/it]"
     ]
    },
    {
     "name": "stdout",
     "output_type": "stream",
     "text": [
      "| | | RepeatedRecallsKahanaJacobs2000 WeirdReinfPositionalCMR full best of 3 |\n",
      "|---|---|---|\n",
      "| fitness | mean | 3759.17 +/- 516.40 |\n",
      "| | std | 1042.83 |\n",
      "| encoding drift rate | mean | 0.90 +/- 0.03 |\n",
      "| | std | 0.05 |\n",
      "| start drift rate | mean | 0.61 +/- 0.07 |\n",
      "| | std | 0.15 |\n",
      "| recall drift rate | mean | 0.81 +/- 0.04 |\n",
      "| | std | 0.08 |\n",
      "| shared support | mean | 81.83 +/- 12.64 |\n",
      "| | std | 25.52 |\n",
      "| item support | mean | 64.13 +/- 10.77 |\n",
      "| | std | 21.76 |\n",
      "| learning rate | mean | 0.14 +/- 0.05 |\n",
      "| | std | 0.11 |\n",
      "| primacy scale | mean | 21.41 +/- 7.36 |\n",
      "| | std | 14.87 |\n",
      "| primacy decay | mean | 6.28 +/- 9.19 |\n",
      "| | std | 18.57 |\n",
      "| stop probability scale | mean | 0.01 +/- 0.01 |\n",
      "| | std | 0.02 |\n",
      "| stop probability growth | mean | 0.47 +/- 0.09 |\n",
      "| | std | 0.18 |\n",
      "| choice sensitivity | mean | 51.08 +/- 10.26 |\n",
      "| | std | 20.71 |\n",
      "| first presentation reinforcement | mean | 2.03 +/- 1.00 |\n",
      "| | std | 2.02 |\n",
      "\n"
     ]
    },
    {
     "name": "stderr",
     "output_type": "stream",
     "text": [
      "\n"
     ]
    }
   ],
   "source": [
    "fit_path = os.path.join(product_dirs[\"fits\"], f\"{data_tag}_{model_name}_{run_tag}.json\")\n",
    "print(fit_path)\n",
    "\n",
    "if os.path.exists(fit_path) and not redo_fits:\n",
    "    with open(fit_path) as f:\n",
    "        results = json.load(f)\n",
    "        if \"subject\" not in results[\"fits\"]:\n",
    "            results[\"fits\"][\"subject\"] = results[\"subject\"]\n",
    "\n",
    "else:\n",
    "    base_params = parameters[\"fixed\"]\n",
    "    bounds = parameters[\"free\"]\n",
    "    fitter = fitting_method(\n",
    "        data,\n",
    "        connections,\n",
    "        base_params,\n",
    "        model_factory,\n",
    "        loss_fn_generator,\n",
    "        hyperparams={\n",
    "            \"num_steps\": num_steps,\n",
    "            \"pop_size\": popsize,\n",
    "            \"relative_tolerance\": relative_tolerance,\n",
    "            \"cross_over_rate\": cross_rate,\n",
    "            \"diff_w\": diff_w,\n",
    "            \"progress_bar\": True,\n",
    "            \"display_iterations\": False,\n",
    "            \"bounds\": bounds,\n",
    "            \"best_of\": best_of,\n",
    "        },\n",
    "    )\n",
    "\n",
    "    results = fitter.fit(trial_mask)\n",
    "    results = dict(results)\n",
    "\n",
    "    with open(fit_path, \"w\") as f:\n",
    "        json.dump(results, f, indent=4)\n",
    "\n",
    "results[\"data_query\"] = trial_query\n",
    "results[\"model\"] = model_name\n",
    "results[\"name\"] = f\"{data_tag}_{model_name}_{run_tag}\"\n",
    "\n",
    "with open(fit_path, \"w\") as f:\n",
    "    json.dump(results, f, indent=4)\n",
    "\n",
    "print(\n",
    "    summarize_parameters([results], query_parameters, include_std=True, include_ci=True)\n",
    ")"
   ]
  },
  {
   "cell_type": "markdown",
   "id": "d91ad9c4",
   "metadata": {
    "papermill": {
     "duration": 0.002705,
     "end_time": "2025-07-21T18:45:01.509443",
     "exception": false,
     "start_time": "2025-07-21T18:45:01.506738",
     "status": "completed"
    },
    "tags": []
   },
   "source": [
    "## Simulation"
   ]
  },
  {
   "cell_type": "code",
   "execution_count": 6,
   "id": "ec4751f4",
   "metadata": {
    "execution": {
     "iopub.execute_input": "2025-07-21T18:45:01.522145Z",
     "iopub.status.busy": "2025-07-21T18:45:01.521448Z",
     "iopub.status.idle": "2025-07-21T18:45:11.396061Z",
     "shell.execute_reply": "2025-07-21T18:45:11.395740Z"
    },
    "papermill": {
     "duration": 9.884407,
     "end_time": "2025-07-21T18:45:11.397004",
     "exception": false,
     "start_time": "2025-07-21T18:45:01.512597",
     "status": "completed"
    },
    "tags": []
   },
   "outputs": [
    {
     "name": "stdout",
     "output_type": "stream",
     "text": [
      "projects/thesis/simulations/RepeatedRecallsKahanaJacobs2000_WeirdReinfPositionalCMR_full_best_of_3.h5\n"
     ]
    },
    {
     "name": "stdout",
     "output_type": "stream",
     "text": [
      "Saved to projects/thesis/simulations/RepeatedRecallsKahanaJacobs2000_WeirdReinfPositionalCMR_full_best_of_3.h5\n"
     ]
    },
    {
     "data": {
      "text/plain": [
       "{'encoding_drift_rate': Array([0.97848886, 0.9051133 , 0.8920048 , 0.8995555 , 0.8865634 ,\n",
       "        0.82888323, 0.81581104, 0.8247356 , 0.9649346 , 0.8805153 ,\n",
       "        0.94343895, 0.8462161 , 0.9560859 , 0.9125923 , 0.96675575,\n",
       "        0.95877314, 0.82085943, 0.88925564, 0.90157956], dtype=float32),\n",
       " 'start_drift_rate': Array([0.51781726, 0.5891508 , 0.6497644 , 0.58682656, 0.6922696 ,\n",
       "        0.68791074, 0.6410603 , 0.72868085, 0.65856546, 0.66150266,\n",
       "        0.605379  , 0.8003074 , 0.605254  , 0.3616758 , 0.13495615,\n",
       "        0.5390227 , 0.7105948 , 0.6243933 , 0.789493  ], dtype=float32),\n",
       " 'recall_drift_rate': Array([0.9116545 , 0.78703225, 0.7946143 , 0.87295175, 0.71001744,\n",
       "        0.7390516 , 0.7121897 , 0.74240166, 0.97410834, 0.82504404,\n",
       "        0.85994774, 0.7829747 , 0.8641092 , 0.74176013, 0.9100291 ,\n",
       "        0.9037027 , 0.79957885, 0.71185184, 0.84110135], dtype=float32),\n",
       " 'shared_support': Array([83.51919 , 87.0465  , 79.88431 , 93.652275, 95.907364, 87.61987 ,\n",
       "        97.3081  , 96.613785, 73.46284 , 97.35374 , 87.090126, 94.99837 ,\n",
       "        79.543495,  8.041516, 12.421181, 92.62609 , 92.45499 , 97.22    ,\n",
       "        98.01279 ], dtype=float32),\n",
       " 'item_support': Array([72.278595 , 66.86371  , 36.47124  , 80.60788  , 65.23283  ,\n",
       "        64.036316 , 79.694824 , 71.81008  , 55.155582 , 84.42543  ,\n",
       "        73.44385  , 67.356384 , 67.043205 ,  6.9088597, 11.358032 ,\n",
       "        77.90692  , 83.142555 , 80.86183  , 73.823166 ], dtype=float32),\n",
       " 'learning_rate': Array([0.0023382 , 0.03125584, 0.01666282, 0.22384526, 0.23467618,\n",
       "        0.30623606, 0.05174553, 0.09901784, 0.33419785, 0.15621923,\n",
       "        0.02198948, 0.19450293, 0.30814087, 0.16649053, 0.11700139,\n",
       "        0.00511672, 0.0588667 , 0.20108712, 0.04375745], dtype=float32),\n",
       " 'primacy_scale': Array([11.739174 , 22.011166 , 41.186867 , 14.237578 , 24.647972 ,\n",
       "        21.884897 , 19.451834 , 27.28502  , 71.02848  , 18.35972  ,\n",
       "        24.642666 , 29.626802 , 14.953579 ,  0.7046   ,  1.4765154,\n",
       "        10.945528 , 15.302254 , 14.472122 , 22.768438 ], dtype=float32),\n",
       " 'primacy_decay': Array([2.3293415e-04, 2.1726249e-02, 4.3432490e-04, 1.8222566e-03,\n",
       "        2.2204460e-16, 3.2167537e-03, 9.1401851e-03, 1.3835778e-03,\n",
       "        2.1339874e-03, 4.3307345e-02, 2.9505879e-02, 3.4003140e-04,\n",
       "        1.1872257e-03, 6.9409134e+01, 4.9831692e+01, 6.3224341e-04,\n",
       "        1.2665434e-03, 1.9563320e-04, 4.3761497e-03], dtype=float32),\n",
       " 'stop_probability_scale': Array([3.0989986e-02, 8.2537776e-04, 3.0168442e-03, 2.2521732e-02,\n",
       "        1.5459559e-03, 1.4815724e-03, 7.5971377e-03, 4.3142680e-03,\n",
       "        6.9434347e-04, 6.9640190e-03, 7.3386438e-02, 6.1493278e-03,\n",
       "        1.0191379e-04, 6.9462920e-05, 2.8450739e-02, 2.1519486e-02,\n",
       "        8.3451520e-04, 1.0007005e-05, 8.6109499e-03], dtype=float32),\n",
       " 'stop_probability_growth': Array([0.26409924, 0.55077416, 0.44004768, 0.2787699 , 0.5238878 ,\n",
       "        0.51291966, 0.36961994, 0.4251545 , 0.5623766 , 0.48888022,\n",
       "        0.2088241 , 0.39098796, 0.72935635, 0.7562655 , 0.31656408,\n",
       "        0.2939913 , 0.56254286, 0.9174911 , 0.34685597], dtype=float32),\n",
       " 'choice_sensitivity': Array([43.78742 , 46.73491 , 22.310722, 52.20849 , 48.941864, 42.373165,\n",
       "        68.19592 , 39.76071 ,  8.867225, 60.237534, 39.172565, 32.653496,\n",
       "        44.186398, 99.92759 , 74.215454, 49.856716, 71.430305, 82.05394 ,\n",
       "        43.65891 ], dtype=float32),\n",
       " 'first_presentation_reinforcement': Array([0.40799072, 2.108449  , 0.40719825, 0.26442432, 5.248789  ,\n",
       "        2.9548726 , 0.83437914, 0.7108739 , 0.5563082 , 3.5480032 ,\n",
       "        8.300737  , 1.5357898 , 1.559414  , 0.11762118, 0.57282704,\n",
       "        2.0188763 , 1.6523788 , 4.1587067 , 1.6625684 ], dtype=float32),\n",
       " 'mfc_choice_sensitivity': Array([1., 1., 1., 1., 1., 1., 1., 1., 1., 1., 1., 1., 1., 1., 1., 1., 1.,\n",
       "        1., 1.], dtype=float32),\n",
       " 'allow_repeated_recalls': Array([1., 1., 1., 1., 1., 1., 1., 1., 1., 1., 1., 1., 1., 1., 1., 1., 1.,\n",
       "        1., 1.], dtype=float32),\n",
       " 'subject': Array([200, 201, 205, 206, 210, 215, 220, 230, 240, 256, 299, 300, 301,\n",
       "        303, 305, 306, 307, 308, 666], dtype=int32)}"
      ]
     },
     "execution_count": 6,
     "metadata": {},
     "output_type": "execute_result"
    }
   ],
   "source": [
    "sim_path = os.path.join(\n",
    "    product_dirs[\"simulations\"], f\"{data_tag}_{model_name}_{run_tag}.h5\"\n",
    ")\n",
    "print(sim_path)\n",
    "\n",
    "with open(fit_path) as f:\n",
    "    results = json.load(f)\n",
    "    if \"subject\" not in results[\"fits\"]:\n",
    "        results[\"fits\"][\"subject\"] = results[\"subject\"]\n",
    "\n",
    "\n",
    "rng = random.PRNGKey(seed)\n",
    "rng, rng_iter = random.split(rng)\n",
    "trial_mask = generate_trial_mask(data, trial_query)\n",
    "params = {key: jnp.array(val) for key, val in results[\"fits\"].items()}  # type: ignore\n",
    "\n",
    "if os.path.exists(sim_path) and not redo_sims:\n",
    "    sim = load_data(sim_path)\n",
    "    print(f\"Loaded from {sim_path}\")\n",
    "\n",
    "else:\n",
    "    sim = simulate_h5_from_h5(\n",
    "        model_factory=model_factory,\n",
    "        dataset=data,\n",
    "        connections=connections,\n",
    "        parameters=params,\n",
    "        trial_mask=trial_mask,\n",
    "        experiment_count=experiment_count,\n",
    "        rng=rng_iter,\n",
    "    )\n",
    "\n",
    "    save_dict_to_hdf5(sim, sim_path)\n",
    "    print(f\"Saved to {sim_path}\")\n",
    "\n",
    "if filter_repeated_recalls:\n",
    "    sim['recalls'] = repetition.filter_repeated_recalls(sim['recalls'])\n",
    "\n",
    "params"
   ]
  },
  {
   "cell_type": "markdown",
   "id": "49425906",
   "metadata": {
    "papermill": {
     "duration": 0.002218,
     "end_time": "2025-07-21T18:45:11.403970",
     "exception": false,
     "start_time": "2025-07-21T18:45:11.401752",
     "status": "completed"
    },
    "tags": []
   },
   "source": [
    "## Figures"
   ]
  },
  {
   "cell_type": "code",
   "execution_count": 7,
   "id": "789d14d4",
   "metadata": {
    "execution": {
     "iopub.execute_input": "2025-07-21T18:45:11.409647Z",
     "iopub.status.busy": "2025-07-21T18:45:11.409485Z",
     "iopub.status.idle": "2025-07-21T18:45:11.427451Z",
     "shell.execute_reply": "2025-07-21T18:45:11.427147Z"
    },
    "papermill": {
     "duration": 0.021681,
     "end_time": "2025-07-21T18:45:11.428287",
     "exception": false,
     "start_time": "2025-07-21T18:45:11.406606",
     "status": "completed"
    },
    "tags": []
   },
   "outputs": [],
   "source": [
    "#|code-summary: single-dataset views\n",
    "\n",
    "for analysis in single_analyses:\n",
    "    figure_str = f\"{data_tag}_{model_name}_{run_tag}_{analysis.__name__[5:]}.png\"\n",
    "    figure_path = os.path.join(product_dirs[\"figures\"], figure_str)\n",
    "    print(f\"![]({figure_path})\")\n",
    "\n",
    "    # if redo_figures, check if figure already exists and don't redo\n",
    "    # we want to display the figure here if it already exists\n",
    "    if os.path.exists(figure_path) and not redo_figures:\n",
    "        display(Image(filename=figure_path))\n",
    "    else:\n",
    "        color_cycle = [each[\"color\"] for each in rcParams[\"axes.prop_cycle\"]]\n",
    "\n",
    "        # Create a mask for data using np.isin for the selected list types\n",
    "        trial_mask = generate_trial_mask(sim, trial_query)\n",
    "\n",
    "        axis = analysis(\n",
    "            datasets=[sim],\n",
    "            trial_masks=[np.array(trial_mask)],\n",
    "            color_cycle=color_cycle,\n",
    "            labels=[\"First\", \"Second\"],\n",
    "            contrast_name=\"Repetition Index\",\n",
    "            axis=None,\n",
    "            distances=None,\n",
    "        )\n",
    "\n",
    "        plt.savefig(figure_path, bbox_inches=\"tight\", dpi=600)\n",
    "        plt.show()"
   ]
  },
  {
   "cell_type": "code",
   "execution_count": 8,
   "id": "2ed58e5f",
   "metadata": {
    "execution": {
     "iopub.execute_input": "2025-07-21T18:45:11.433312Z",
     "iopub.status.busy": "2025-07-21T18:45:11.433185Z",
     "iopub.status.idle": "2025-07-21T18:45:11.448024Z",
     "shell.execute_reply": "2025-07-21T18:45:11.447727Z"
    },
    "papermill": {
     "duration": 0.018253,
     "end_time": "2025-07-21T18:45:11.448916",
     "exception": false,
     "start_time": "2025-07-21T18:45:11.430663",
     "status": "completed"
    },
    "tags": []
   },
   "outputs": [],
   "source": [
    "#| code-summary: mixed vs control views\n",
    "\n",
    "for analysis in comparison_analyses:\n",
    "\n",
    "    figure_str = f\"{data_tag}_{model_name}_{run_tag}_{analysis.__name__[5:]}.png\"\n",
    "    figure_path = os.path.join(product_dirs[\"figures\"], figure_str)\n",
    "    print(f\"![]({figure_path})\")\n",
    "\n",
    "    # if redo_figures, check if figure already exists and don't redo\n",
    "    # we want to display the figure here if it already exists\n",
    "    if os.path.exists(figure_path) and not redo_figures:\n",
    "        display(Image(filename=figure_path))\n",
    "        continue\n",
    "\n",
    "    color_cycle = [each[\"color\"] for each in rcParams[\"axes.prop_cycle\"]]\n",
    "\n",
    "    # Create a mask for data using np.isin for the selected list types\n",
    "    trial_mask = generate_trial_mask(data, trial_query)\n",
    "    sim_trial_mask = generate_trial_mask(sim, trial_query)\n",
    "\n",
    "    axis = analysis(\n",
    "        datasets=[sim, data],\n",
    "        trial_masks=[np.array(sim_trial_mask), np.array(trial_mask)],\n",
    "        color_cycle=color_cycle,\n",
    "        labels=[\"Model\", \"Data\"],\n",
    "        contrast_name=\"Source\",\n",
    "        axis=None,\n",
    "        distances=None,\n",
    "    )\n",
    "\n",
    "    plt.savefig(figure_path, bbox_inches=\"tight\", dpi=600)\n",
    "    plt.show()"
   ]
  }
 ],
 "metadata": {
  "kernelspec": {
   "display_name": "jaxcmr",
   "language": "python",
   "name": "python3"
  },
  "language_info": {
   "codemirror_mode": {
    "name": "ipython",
    "version": 3
   },
   "file_extension": ".py",
   "mimetype": "text/x-python",
   "name": "python",
   "nbconvert_exporter": "python",
   "pygments_lexer": "ipython3",
   "version": "3.12.8"
  },
  "papermill": {
   "default_parameters": {},
   "duration": 9807.718601,
   "end_time": "2025-07-21T18:45:12.379361",
   "environment_variables": {},
   "exception": null,
   "input_path": "projects/thesis/Fitting_No_Control.ipynb",
   "output_path": "projects/thesis/RepeatedRecallsKahanaJacobs2000_WeirdReinfPositionalCMR_Fitting.ipynb",
   "parameters": {
    "allow_repeated_recalls": true,
    "base_data_tag": "KahanaJacobs2000",
    "comparison_analysis_paths": [],
    "data_path": "data/RepeatedRecallsKahanaJacobs2000.h5",
    "data_tag": "RepeatedRecallsKahanaJacobs2000",
    "filter_repeated_recalls": false,
    "model_factory_path": "jaxcmr.models_repfr.weird_reinf_positional_cmr.BaseCMRFactory",
    "model_name": "WeirdReinfPositionalCMR",
    "parameters": {
     "fixed": {
      "mfc_choice_sensitivity": 1.0
     },
     "free": {
      "choice_sensitivity": [
       2.220446049250313e-16,
       100.0
      ],
      "encoding_drift_rate": [
       2.220446049250313e-16,
       0.9999999999999998
      ],
      "first_presentation_reinforcement": [
       2.220446049250313e-16,
       100.0
      ],
      "item_support": [
       2.220446049250313e-16,
       100.0
      ],
      "learning_rate": [
       2.220446049250313e-16,
       0.9999999999999998
      ],
      "primacy_decay": [
       2.220446049250313e-16,
       100.0
      ],
      "primacy_scale": [
       2.220446049250313e-16,
       100.0
      ],
      "recall_drift_rate": [
       2.220446049250313e-16,
       0.9999999999999998
      ],
      "shared_support": [
       2.220446049250313e-16,
       100.0
      ],
      "start_drift_rate": [
       2.220446049250313e-16,
       0.9999999999999998
      ],
      "stop_probability_growth": [
       2.220446049250313e-16,
       10.0
      ],
      "stop_probability_scale": [
       2.220446049250313e-16,
       0.9999999999999998
      ]
     }
    },
    "redo_figures": false,
    "redo_fits": false,
    "redo_sims": false,
    "single_analysis_paths": [],
    "trial_query": "jnp.logical_and(data['recall_attempt'] == 1, data['recall_total'] > 0)"
   },
   "start_time": "2025-07-21T16:01:44.660760",
   "version": "2.6.0"
  }
 },
 "nbformat": 4,
 "nbformat_minor": 5
}