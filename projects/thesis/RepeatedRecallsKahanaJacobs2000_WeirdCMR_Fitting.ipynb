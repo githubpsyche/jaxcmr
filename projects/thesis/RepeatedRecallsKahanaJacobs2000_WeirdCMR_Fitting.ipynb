{
 "cells": [
  {
   "cell_type": "code",
   "execution_count": 1,
   "id": "5bcf1ebf",
   "metadata": {
    "execution": {
     "iopub.execute_input": "2025-07-21T14:43:48.917014Z",
     "iopub.status.busy": "2025-07-21T14:43:48.916613Z",
     "iopub.status.idle": "2025-07-21T14:43:51.103782Z",
     "shell.execute_reply": "2025-07-21T14:43:51.102662Z"
    },
    "papermill": {
     "duration": 2.196685,
     "end_time": "2025-07-21T14:43:51.110041",
     "exception": false,
     "start_time": "2025-07-21T14:43:48.913356",
     "status": "completed"
    },
    "tags": []
   },
   "outputs": [],
   "source": [
    "%load_ext autoreload\n",
    "%autoreload 2\n",
    "\n",
    "import json\n",
    "import os\n",
    "import warnings\n",
    "\n",
    "import jax.numpy as jnp\n",
    "import matplotlib.pyplot as plt\n",
    "from IPython.display import Image, display\n",
    "import numpy as np\n",
    "from jax import random\n",
    "from matplotlib import rcParams  # type: ignore\n",
    "\n",
    "from jaxcmr.fitting import ScipyDE as fitting_method\n",
    "from jaxcmr.helpers import (\n",
    "    generate_trial_mask,\n",
    "    import_from_string,\n",
    "    load_data,\n",
    "    save_dict_to_hdf5,\n",
    ")\n",
    "from jaxcmr.likelihood import MemorySearchLikelihoodFnGenerator as loss_fn_generator\n",
    "from jaxcmr import repetition\n",
    "from jaxcmr.simulation import simulate_h5_from_h5\n",
    "from jaxcmr.summarize import summarize_parameters\n",
    "\n",
    "warnings.filterwarnings(\"ignore\")"
   ]
  },
  {
   "cell_type": "markdown",
   "id": "faa8a7ce",
   "metadata": {
    "papermill": {
     "duration": 0.008001,
     "end_time": "2025-07-21T14:43:51.130304",
     "exception": false,
     "start_time": "2025-07-21T14:43:51.122303",
     "status": "completed"
    },
    "tags": []
   },
   "source": [
    "## Setup"
   ]
  },
  {
   "cell_type": "code",
   "execution_count": 2,
   "id": "880fb412",
   "metadata": {
    "execution": {
     "iopub.execute_input": "2025-07-21T14:43:51.142274Z",
     "iopub.status.busy": "2025-07-21T14:43:51.141826Z",
     "iopub.status.idle": "2025-07-21T14:43:51.199631Z",
     "shell.execute_reply": "2025-07-21T14:43:51.198877Z"
    },
    "papermill": {
     "duration": 0.064667,
     "end_time": "2025-07-21T14:43:51.201258",
     "exception": false,
     "start_time": "2025-07-21T14:43:51.136591",
     "status": "completed"
    },
    "tags": [
     "parameters"
    ]
   },
   "outputs": [],
   "source": [
    "# repeat params\n",
    "allow_repeated_recalls = False\n",
    "filter_repeated_recalls = False\n",
    "data_tag = \"LohnasKahana2014\"\n",
    "data_path = \"data/LohnasKahana2014.h5\"\n",
    "\n",
    "# data params\n",
    "trial_query = \"data['list_type'] > 0\"\n",
    "run_tag = \"full_best_of_3\"\n",
    "\n",
    "# fitting params\n",
    "redo_fits = True\n",
    "model_factory_path = \"jaxcmr.models_repfr.weird_cmr.BaseCMRFactory\"\n",
    "model_name = \"WeirdCMR\"\n",
    "relative_tolerance = 0.001\n",
    "popsize = 15\n",
    "num_steps = 1000\n",
    "cross_rate = 0.9\n",
    "diff_w = 0.85\n",
    "best_of = 3\n",
    "target_dir = \"projects/thesis\"\n",
    "\n",
    "# sim params\n",
    "redo_sims = True\n",
    "seed = 0\n",
    "experiment_count = 50\n",
    "\n",
    "# figure params\n",
    "redo_figures = True\n",
    "\n",
    "parameters = {\n",
    "    \"fixed\": {\n",
    "    },\n",
    "    \"free\": {\n",
    "        \"encoding_drift_rate\": [2.220446049250313e-16, 0.9999999999999998],\n",
    "        \"start_drift_rate\": [2.220446049250313e-16, 0.9999999999999998],\n",
    "        \"recall_drift_rate\": [2.220446049250313e-16, 0.9999999999999998],\n",
    "        \"shared_support\": [2.220446049250313e-16, 99.9999999999999998],\n",
    "        \"item_support\": [2.220446049250313e-16, 99.9999999999999998],\n",
    "        \"learning_rate\": [2.220446049250313e-16, 0.9999999999999998],\n",
    "        \"primacy_scale\": [2.220446049250313e-16, 99.9999999999999998],\n",
    "        \"primacy_decay\": [2.220446049250313e-16, 99.9999999999999998],\n",
    "        \"stop_probability_scale\": [2.220446049250313e-16, 0.9999999999999998],\n",
    "        \"stop_probability_growth\": [2.220446049250313e-16, 9.9999999999999998],\n",
    "        \"choice_sensitivity\": [2.220446049250313e-16, 99.9999999999999998],\n",
    "    },\n",
    "}\n",
    "\n",
    "single_analysis_paths = [\n",
    "    \"jaxcmr.analyses.repcrp.plot_rep_crp\",\n",
    "    \"jaxcmr.analyses.backrepcrp.plot_back_rep_crp\",\n",
    "]\n",
    "\n",
    "comparison_analysis_paths = [\n",
    "    \"jaxcmr.analyses.spc.plot_spc\",\n",
    "    \"jaxcmr.analyses.crp.plot_crp\",\n",
    "    \"jaxcmr.analyses.pnr.plot_pnr\",\n",
    "    \"jaxcmr.analyses.repneighborcrp.plot_repneighborcrp_i2j\",\n",
    "    \"jaxcmr.analyses.repneighborcrp.plot_repneighborcrp_j2i\",\n",
    "    \"jaxcmr.analyses.repneighborcrp.plot_repneighborcrp_both\",\n",
    "    \"jaxcmr.analyses.rpl.plot_rpl\",\n",
    "    \"jaxcmr.analyses.rpl.plot_full_rpl\",\n",
    "]"
   ]
  },
  {
   "cell_type": "code",
   "execution_count": 3,
   "id": "906edc80",
   "metadata": {
    "execution": {
     "iopub.execute_input": "2025-07-21T14:43:51.206849Z",
     "iopub.status.busy": "2025-07-21T14:43:51.206604Z",
     "iopub.status.idle": "2025-07-21T14:43:51.231030Z",
     "shell.execute_reply": "2025-07-21T14:43:51.230333Z"
    },
    "papermill": {
     "duration": 0.031004,
     "end_time": "2025-07-21T14:43:51.234418",
     "exception": false,
     "start_time": "2025-07-21T14:43:51.203414",
     "status": "completed"
    },
    "tags": [
     "injected-parameters"
    ]
   },
   "outputs": [],
   "source": [
    "# Parameters\n",
    "allow_repeated_recalls = True\n",
    "filter_repeated_recalls = False\n",
    "data_tag = \"RepeatedRecallsKahanaJacobs2000\"\n",
    "data_path = \"data/RepeatedRecallsKahanaJacobs2000.h5\"\n",
    "base_data_tag = \"KahanaJacobs2000\"\n",
    "trial_query = \"jnp.logical_and(data['recall_attempt'] == 1, data['recall_total'] > 0)\"\n",
    "single_analysis_paths = []\n",
    "comparison_analysis_paths = []\n",
    "model_name = \"WeirdCMR\"\n",
    "model_factory_path = \"jaxcmr.models_repfr.weird_cmr.BaseCMRFactory\"\n",
    "redo_fits = False\n",
    "redo_sims = False\n",
    "redo_figures = False\n",
    "parameters = {\"fixed\": {}, \"free\": {\"encoding_drift_rate\": [2.220446049250313e-16, 0.9999999999999998], \"start_drift_rate\": [2.220446049250313e-16, 0.9999999999999998], \"recall_drift_rate\": [2.220446049250313e-16, 0.9999999999999998], \"shared_support\": [2.220446049250313e-16, 100.0], \"item_support\": [2.220446049250313e-16, 100.0], \"learning_rate\": [2.220446049250313e-16, 0.9999999999999998], \"primacy_scale\": [2.220446049250313e-16, 100.0], \"primacy_decay\": [2.220446049250313e-16, 100.0], \"stop_probability_scale\": [2.220446049250313e-16, 0.9999999999999998], \"stop_probability_growth\": [2.220446049250313e-16, 10.0], \"choice_sensitivity\": [2.220446049250313e-16, 100.0], \"mfc_choice_sensitivity\": [2.220446049250313e-16, 100.0]}}\n"
   ]
  },
  {
   "cell_type": "code",
   "execution_count": 4,
   "id": "0877f896",
   "metadata": {
    "execution": {
     "iopub.execute_input": "2025-07-21T14:43:51.243559Z",
     "iopub.status.busy": "2025-07-21T14:43:51.242985Z",
     "iopub.status.idle": "2025-07-21T14:43:51.832507Z",
     "shell.execute_reply": "2025-07-21T14:43:51.832273Z"
    },
    "papermill": {
     "duration": 0.594406,
     "end_time": "2025-07-21T14:43:51.833281",
     "exception": false,
     "start_time": "2025-07-21T14:43:51.238875",
     "status": "completed"
    },
    "tags": []
   },
   "outputs": [],
   "source": [
    "# add subdirectories for each product type: json, figures, h5\n",
    "product_dirs = {}\n",
    "for product in [\"fits\", \"figures\", \"simulations\"]:\n",
    "    product_dir = os.path.join(target_dir, product)\n",
    "    product_dirs[product] = product_dir\n",
    "    if not os.path.exists(product_dir):\n",
    "        os.makedirs(product_dir)\n",
    "\n",
    "data = load_data(data_path)\n",
    "trial_mask = generate_trial_mask(data, trial_query)\n",
    "\n",
    "max_size = np.max(data[\"pres_itemnos\"])\n",
    "connections = jnp.zeros((max_size, max_size))\n",
    "\n",
    "single_analyses = [import_from_string(path) for path in single_analysis_paths]\n",
    "comparison_analyses = [import_from_string(path) for path in comparison_analysis_paths]\n",
    "model_factory = import_from_string(model_factory_path)\n",
    "\n",
    "# derive list of query parameters from keys of `parameters`\n",
    "parameters['fixed']['allow_repeated_recalls'] = allow_repeated_recalls\n",
    "query_parameters = list(parameters[\"free\"].keys())\n",
    "\n",
    "# make sure repeatedrecalls is in either both data_tag or data_path, or is in neither\n",
    "if \"repeatedrecalls\" in data_tag.lower() or \"repeatedrecalls\" in data_path.lower():\n",
    "    if \"repeatedrecalls\" not in data_tag.lower() and \"repeatedrecalls\" not in data_path.lower():\n",
    "        raise ValueError(\n",
    "            \"If 'repeatedrecalls' is in data_tag or data_path, it must be in both.\"\n",
    "        )"
   ]
  },
  {
   "cell_type": "markdown",
   "id": "abe1fdc7",
   "metadata": {
    "papermill": {
     "duration": 0.000791,
     "end_time": "2025-07-21T14:43:51.835247",
     "exception": false,
     "start_time": "2025-07-21T14:43:51.834456",
     "status": "completed"
    },
    "tags": []
   },
   "source": [
    "## Fitting"
   ]
  },
  {
   "cell_type": "code",
   "execution_count": 5,
   "id": "e7bece1b",
   "metadata": {
    "execution": {
     "iopub.execute_input": "2025-07-21T14:43:51.838459Z",
     "iopub.status.busy": "2025-07-21T14:43:51.838168Z",
     "iopub.status.idle": "2025-07-21T16:01:35.887890Z",
     "shell.execute_reply": "2025-07-21T16:01:35.887152Z"
    },
    "papermill": {
     "duration": 4664.054119,
     "end_time": "2025-07-21T16:01:35.890808",
     "exception": false,
     "start_time": "2025-07-21T14:43:51.836689",
     "status": "completed"
    },
    "tags": []
   },
   "outputs": [
    {
     "name": "stdout",
     "output_type": "stream",
     "text": [
      "projects/thesis/fits/RepeatedRecallsKahanaJacobs2000_WeirdCMR_full_best_of_3.json\n"
     ]
    },
    {
     "name": "stderr",
     "output_type": "stream",
     "text": [
      "\r",
      "  0%|          | 0/19 [00:00<?, ?it/s]"
     ]
    },
    {
     "name": "stderr",
     "output_type": "stream",
     "text": [
      "\r",
      "Subject=200, Fitness=3751.4423828125:   0%|          | 0/19 [03:10<?, ?it/s]"
     ]
    },
    {
     "name": "stderr",
     "output_type": "stream",
     "text": [
      "\r",
      "Subject=200, Fitness=3751.4423828125:   5%|▌         | 1/19 [03:10<57:07, 190.41s/it]"
     ]
    },
    {
     "name": "stderr",
     "output_type": "stream",
     "text": [
      "\r",
      "Subject=201, Fitness=3692.9560546875:   5%|▌         | 1/19 [07:08<57:07, 190.41s/it]"
     ]
    },
    {
     "name": "stderr",
     "output_type": "stream",
     "text": [
      "\r",
      "Subject=201, Fitness=3692.9560546875:  11%|█         | 2/19 [07:08<1:01:49, 218.22s/it]"
     ]
    },
    {
     "name": "stderr",
     "output_type": "stream",
     "text": [
      "\r",
      "Subject=205, Fitness=3483.474853515625:  11%|█         | 2/19 [11:30<1:01:49, 218.22s/it]"
     ]
    },
    {
     "name": "stderr",
     "output_type": "stream",
     "text": [
      "\r",
      "Subject=205, Fitness=3483.474853515625:  16%|█▌        | 3/19 [11:30<1:03:35, 238.48s/it]"
     ]
    },
    {
     "name": "stderr",
     "output_type": "stream",
     "text": [
      "\r",
      "Subject=206, Fitness=4240.2353515625:  16%|█▌        | 3/19 [14:33<1:03:35, 238.48s/it]  "
     ]
    },
    {
     "name": "stderr",
     "output_type": "stream",
     "text": [
      "\r",
      "Subject=206, Fitness=4240.2353515625:  21%|██        | 4/19 [14:33<54:05, 216.39s/it]  "
     ]
    },
    {
     "name": "stderr",
     "output_type": "stream",
     "text": [
      "\r",
      "Subject=210, Fitness=3366.732421875:  21%|██        | 4/19 [19:42<54:05, 216.39s/it] "
     ]
    },
    {
     "name": "stderr",
     "output_type": "stream",
     "text": [
      "\r",
      "Subject=210, Fitness=3366.732421875:  26%|██▋       | 5/19 [19:42<58:18, 249.86s/it]"
     ]
    },
    {
     "name": "stderr",
     "output_type": "stream",
     "text": [
      "\r",
      "Subject=215, Fitness=5743.49609375:  26%|██▋       | 5/19 [24:00<58:18, 249.86s/it] "
     ]
    },
    {
     "name": "stderr",
     "output_type": "stream",
     "text": [
      "\r",
      "Subject=215, Fitness=5743.49609375:  32%|███▏      | 6/19 [24:00<54:45, 252.75s/it]"
     ]
    },
    {
     "name": "stderr",
     "output_type": "stream",
     "text": [
      "\r",
      "Subject=220, Fitness=3619.39599609375:  32%|███▏      | 6/19 [27:53<54:45, 252.75s/it]"
     ]
    },
    {
     "name": "stderr",
     "output_type": "stream",
     "text": [
      "\r",
      "Subject=220, Fitness=3619.39599609375:  37%|███▋      | 7/19 [27:53<49:14, 246.17s/it]"
     ]
    },
    {
     "name": "stderr",
     "output_type": "stream",
     "text": [
      "\r",
      "Subject=230, Fitness=4528.71337890625:  37%|███▋      | 7/19 [31:53<49:14, 246.17s/it]"
     ]
    },
    {
     "name": "stderr",
     "output_type": "stream",
     "text": [
      "\r",
      "Subject=230, Fitness=4528.71337890625:  42%|████▏     | 8/19 [31:53<44:47, 244.36s/it]"
     ]
    },
    {
     "name": "stderr",
     "output_type": "stream",
     "text": [
      "\r",
      "Subject=240, Fitness=5525.73681640625:  42%|████▏     | 8/19 [36:42<44:47, 244.36s/it]"
     ]
    },
    {
     "name": "stderr",
     "output_type": "stream",
     "text": [
      "\r",
      "Subject=240, Fitness=5525.73681640625:  47%|████▋     | 9/19 [36:42<43:02, 258.25s/it]"
     ]
    },
    {
     "name": "stderr",
     "output_type": "stream",
     "text": [
      "\r",
      "Subject=256, Fitness=3016.877685546875:  47%|████▋     | 9/19 [41:06<43:02, 258.25s/it]"
     ]
    },
    {
     "name": "stderr",
     "output_type": "stream",
     "text": [
      "\r",
      "Subject=256, Fitness=3016.877685546875:  53%|█████▎    | 10/19 [41:06<38:59, 259.94s/it]"
     ]
    },
    {
     "name": "stderr",
     "output_type": "stream",
     "text": [
      "\r",
      "Subject=299, Fitness=1811.93798828125:  53%|█████▎    | 10/19 [44:43<38:59, 259.94s/it] "
     ]
    },
    {
     "name": "stderr",
     "output_type": "stream",
     "text": [
      "\r",
      "Subject=299, Fitness=1811.93798828125:  58%|█████▊    | 11/19 [44:43<32:54, 246.79s/it]"
     ]
    },
    {
     "name": "stderr",
     "output_type": "stream",
     "text": [
      "\r",
      "Subject=300, Fitness=4274.68310546875:  58%|█████▊    | 11/19 [48:28<32:54, 246.79s/it]"
     ]
    },
    {
     "name": "stderr",
     "output_type": "stream",
     "text": [
      "\r",
      "Subject=300, Fitness=4274.68310546875:  63%|██████▎   | 12/19 [48:28<28:01, 240.21s/it]"
     ]
    },
    {
     "name": "stderr",
     "output_type": "stream",
     "text": [
      "\r",
      "Subject=301, Fitness=5317.54345703125:  63%|██████▎   | 12/19 [53:10<28:01, 240.21s/it]"
     ]
    },
    {
     "name": "stderr",
     "output_type": "stream",
     "text": [
      "\r",
      "Subject=301, Fitness=5317.54345703125:  68%|██████▊   | 13/19 [53:10<25:17, 253.00s/it]"
     ]
    },
    {
     "name": "stderr",
     "output_type": "stream",
     "text": [
      "\r",
      "Subject=303, Fitness=3435.427978515625:  68%|██████▊   | 13/19 [58:30<25:17, 253.00s/it]"
     ]
    },
    {
     "name": "stderr",
     "output_type": "stream",
     "text": [
      "\r",
      "Subject=303, Fitness=3435.427978515625:  74%|███████▎  | 14/19 [58:30<22:45, 273.09s/it]"
     ]
    },
    {
     "name": "stderr",
     "output_type": "stream",
     "text": [
      "\r",
      "Subject=305, Fitness=4771.927734375:  74%|███████▎  | 14/19 [1:01:42<22:45, 273.09s/it] "
     ]
    },
    {
     "name": "stderr",
     "output_type": "stream",
     "text": [
      "\r",
      "Subject=305, Fitness=4771.927734375:  79%|███████▉  | 15/19 [1:01:42<16:34, 248.57s/it]"
     ]
    },
    {
     "name": "stderr",
     "output_type": "stream",
     "text": [
      "\r",
      "Subject=306, Fitness=4516.54150390625:  79%|███████▉  | 15/19 [1:06:39<16:34, 248.57s/it]"
     ]
    },
    {
     "name": "stderr",
     "output_type": "stream",
     "text": [
      "\r",
      "Subject=306, Fitness=4516.54150390625:  84%|████████▍ | 16/19 [1:06:39<13:09, 263.08s/it]"
     ]
    },
    {
     "name": "stderr",
     "output_type": "stream",
     "text": [
      "\r",
      "Subject=307, Fitness=2956.16796875:  84%|████████▍ | 16/19 [1:10:36<13:09, 263.08s/it]   "
     ]
    },
    {
     "name": "stderr",
     "output_type": "stream",
     "text": [
      "\r",
      "Subject=307, Fitness=2956.16796875:  89%|████████▉ | 17/19 [1:10:36<08:31, 255.51s/it]"
     ]
    },
    {
     "name": "stderr",
     "output_type": "stream",
     "text": [
      "\r",
      "Subject=308, Fitness=3457.91259765625:  89%|████████▉ | 17/19 [1:14:52<08:31, 255.51s/it]"
     ]
    },
    {
     "name": "stderr",
     "output_type": "stream",
     "text": [
      "\r",
      "Subject=308, Fitness=3457.91259765625:  95%|█████████▍| 18/19 [1:14:52<04:15, 255.44s/it]"
     ]
    },
    {
     "name": "stderr",
     "output_type": "stream",
     "text": [
      "\r",
      "Subject=666, Fitness=1679.0487060546875:  95%|█████████▍| 18/19 [1:17:28<04:15, 255.44s/it]"
     ]
    },
    {
     "name": "stderr",
     "output_type": "stream",
     "text": [
      "\r",
      "Subject=666, Fitness=1679.0487060546875: 100%|██████████| 19/19 [1:17:28<00:00, 225.67s/it]"
     ]
    },
    {
     "name": "stderr",
     "output_type": "stream",
     "text": [
      "\r",
      "Subject=666, Fitness=1679.0487060546875: 100%|██████████| 19/19 [1:17:28<00:00, 244.66s/it]"
     ]
    },
    {
     "name": "stdout",
     "output_type": "stream",
     "text": [
      "| | | RepeatedRecallsKahanaJacobs2000 WeirdCMR full best of 3 |\n",
      "|---|---|---|\n",
      "| fitness | mean | 3852.12 +/- 530.13 |\n",
      "| | std | 1070.55 |\n",
      "| encoding drift rate | mean | 0.88 +/- 0.02 |\n",
      "| | std | 0.04 |\n",
      "| start drift rate | mean | 0.62 +/- 0.08 |\n",
      "| | std | 0.17 |\n",
      "| recall drift rate | mean | 0.82 +/- 0.03 |\n",
      "| | std | 0.07 |\n",
      "| shared support | mean | 67.71 +/- 17.68 |\n",
      "| | std | 35.70 |\n",
      "| item support | mean | 60.70 +/- 15.89 |\n",
      "| | std | 32.09 |\n",
      "| learning rate | mean | 0.04 +/- 0.03 |\n",
      "| | std | 0.05 |\n",
      "| primacy scale | mean | 15.21 +/- 9.55 |\n",
      "| | std | 19.28 |\n",
      "| primacy decay | mean | 10.93 +/- 11.10 |\n",
      "| | std | 22.42 |\n",
      "| stop probability scale | mean | 0.01 +/- 0.01 |\n",
      "| | std | 0.02 |\n",
      "| stop probability growth | mean | 0.47 +/- 0.09 |\n",
      "| | std | 0.18 |\n",
      "| choice sensitivity | mean | 68.73 +/- 11.83 |\n",
      "| | std | 23.88 |\n",
      "| mfc choice sensitivity | mean | 55.39 +/- 12.87 |\n",
      "| | std | 25.98 |\n",
      "\n"
     ]
    },
    {
     "name": "stderr",
     "output_type": "stream",
     "text": [
      "\n"
     ]
    }
   ],
   "source": [
    "fit_path = os.path.join(product_dirs[\"fits\"], f\"{data_tag}_{model_name}_{run_tag}.json\")\n",
    "print(fit_path)\n",
    "\n",
    "if os.path.exists(fit_path) and not redo_fits:\n",
    "    with open(fit_path) as f:\n",
    "        results = json.load(f)\n",
    "        if \"subject\" not in results[\"fits\"]:\n",
    "            results[\"fits\"][\"subject\"] = results[\"subject\"]\n",
    "\n",
    "else:\n",
    "    base_params = parameters[\"fixed\"]\n",
    "    bounds = parameters[\"free\"]\n",
    "    fitter = fitting_method(\n",
    "        data,\n",
    "        connections,\n",
    "        base_params,\n",
    "        model_factory,\n",
    "        loss_fn_generator,\n",
    "        hyperparams={\n",
    "            \"num_steps\": num_steps,\n",
    "            \"pop_size\": popsize,\n",
    "            \"relative_tolerance\": relative_tolerance,\n",
    "            \"cross_over_rate\": cross_rate,\n",
    "            \"diff_w\": diff_w,\n",
    "            \"progress_bar\": True,\n",
    "            \"display_iterations\": False,\n",
    "            \"bounds\": bounds,\n",
    "            \"best_of\": best_of,\n",
    "        },\n",
    "    )\n",
    "\n",
    "    results = fitter.fit(trial_mask)\n",
    "    results = dict(results)\n",
    "\n",
    "    with open(fit_path, \"w\") as f:\n",
    "        json.dump(results, f, indent=4)\n",
    "\n",
    "results[\"data_query\"] = trial_query\n",
    "results[\"model\"] = model_name\n",
    "results[\"name\"] = f\"{data_tag}_{model_name}_{run_tag}\"\n",
    "\n",
    "with open(fit_path, \"w\") as f:\n",
    "    json.dump(results, f, indent=4)\n",
    "\n",
    "print(\n",
    "    summarize_parameters([results], query_parameters, include_std=True, include_ci=True)\n",
    ")"
   ]
  },
  {
   "cell_type": "markdown",
   "id": "d91ad9c4",
   "metadata": {
    "papermill": {
     "duration": 0.002222,
     "end_time": "2025-07-21T16:01:35.900624",
     "exception": false,
     "start_time": "2025-07-21T16:01:35.898402",
     "status": "completed"
    },
    "tags": []
   },
   "source": [
    "## Simulation"
   ]
  },
  {
   "cell_type": "code",
   "execution_count": 6,
   "id": "ec4751f4",
   "metadata": {
    "execution": {
     "iopub.execute_input": "2025-07-21T16:01:35.908150Z",
     "iopub.status.busy": "2025-07-21T16:01:35.907898Z",
     "iopub.status.idle": "2025-07-21T16:01:43.727112Z",
     "shell.execute_reply": "2025-07-21T16:01:43.726647Z"
    },
    "papermill": {
     "duration": 7.824505,
     "end_time": "2025-07-21T16:01:43.728700",
     "exception": false,
     "start_time": "2025-07-21T16:01:35.904195",
     "status": "completed"
    },
    "tags": []
   },
   "outputs": [
    {
     "name": "stdout",
     "output_type": "stream",
     "text": [
      "projects/thesis/simulations/RepeatedRecallsKahanaJacobs2000_WeirdCMR_full_best_of_3.h5\n"
     ]
    },
    {
     "name": "stdout",
     "output_type": "stream",
     "text": [
      "Saved to projects/thesis/simulations/RepeatedRecallsKahanaJacobs2000_WeirdCMR_full_best_of_3.h5\n"
     ]
    },
    {
     "data": {
      "text/plain": [
       "{'encoding_drift_rate': Array([0.91943014, 0.87569034, 0.86941934, 0.86614585, 0.8676069 ,\n",
       "        0.8380264 , 0.81182975, 0.83978045, 0.96159047, 0.84906626,\n",
       "        0.92051154, 0.8297435 , 0.9242443 , 0.8929093 , 0.93730193,\n",
       "        0.9495691 , 0.8310505 , 0.87046057, 0.869957  ], dtype=float32),\n",
       " 'start_drift_rate': Array([0.19164684, 0.5820168 , 0.54916835, 0.6207938 , 0.72177666,\n",
       "        0.7395894 , 0.6640422 , 0.68065137, 0.72596747, 0.68045944,\n",
       "        0.60743994, 0.8207219 , 0.6797236 , 0.6341778 , 0.14963228,\n",
       "        0.53707105, 0.72363824, 0.6596494 , 0.77602625], dtype=float32),\n",
       " 'recall_drift_rate': Array([0.89446205, 0.781293  , 0.77687025, 0.84616095, 0.78447455,\n",
       "        0.79554737, 0.70986706, 0.75665087, 0.9890863 , 0.8593678 ,\n",
       "        0.8273982 , 0.77679044, 0.8607565 , 0.7838249 , 0.88574475,\n",
       "        0.9041866 , 0.8045276 , 0.7377539 , 0.8023259 ], dtype=float32),\n",
       " 'shared_support': Array([ 5.8515415, 76.32648  ,  8.218382 , 96.911316 , 80.9495   ,\n",
       "        81.42473  , 98.62783  ,  8.518605 , 91.67016  , 88.93033  ,\n",
       "        89.09089  , 87.79106  , 83.62168  , 90.97945  , 13.455501 ,\n",
       "        96.68833  , 95.206894 ,  7.7331696, 84.48898  ], dtype=float32),\n",
       " 'item_support': Array([ 5.245053 , 67.48281  ,  7.461428 , 87.41871  , 72.444244 ,\n",
       "        74.24844  , 80.990585 ,  7.7067423, 95.18777  , 80.42599  ,\n",
       "        79.746    , 80.38989  , 78.86016  , 83.23723  , 12.600098 ,\n",
       "        75.1727   , 86.71043  ,  6.9760294, 70.912384 ], dtype=float32),\n",
       " 'learning_rate': Array([1.7985305e-02, 1.3280376e-03, 1.1807939e-03, 6.7264520e-02,\n",
       "        1.7311864e-03, 1.2002601e-01, 1.0531167e-02, 2.7955005e-02,\n",
       "        1.5633118e-01, 8.5378869e-04, 2.2204460e-16, 5.8531683e-02,\n",
       "        1.0880663e-01, 1.4638645e-03, 1.3676977e-01, 5.5297934e-02,\n",
       "        7.4202376e-03, 1.8038237e-02, 3.5422905e-03], dtype=float32),\n",
       " 'primacy_scale': Array([ 2.0781472 , 10.928836  ,  0.22401138, 14.262825  , 11.787701  ,\n",
       "         9.138703  , 21.168325  ,  0.1637168 , 89.97045   , 17.978987  ,\n",
       "        19.101624  , 10.774367  ,  7.5438046 , 10.260145  ,  1.0239551 ,\n",
       "        28.266392  , 14.167155  ,  0.13397603, 20.013723  ], dtype=float32),\n",
       " 'primacy_decay': Array([2.10900354e+00, 2.58161779e-02, 3.79777603e+01, 6.80787163e-03,\n",
       "        2.07764283e-02, 1.17957145e-02, 1.36581119e-02, 5.64238739e+01,\n",
       "        3.04815006e-02, 8.30377713e-02, 3.27706300e-02, 9.21280473e-04,\n",
       "        1.16324825e-02, 9.81168821e-03, 3.25947418e+01, 3.83884500e-04,\n",
       "        7.89065321e-04, 7.82439957e+01, 7.73931947e-03], dtype=float32),\n",
       " 'stop_probability_scale': Array([2.9870695e-02, 6.0222211e-04, 2.3425200e-03, 2.1777619e-02,\n",
       "        1.7518284e-03, 1.1820287e-03, 8.9373095e-03, 3.0860370e-03,\n",
       "        6.7105721e-04, 8.2961936e-03, 7.1655363e-02, 6.3229259e-03,\n",
       "        9.5559197e-05, 9.2563707e-05, 3.1362221e-02, 1.8644666e-02,\n",
       "        9.3918876e-04, 1.0462816e-05, 9.0889968e-03], dtype=float32),\n",
       " 'stop_probability_growth': Array([0.2727751 , 0.57847494, 0.46620205, 0.28235614, 0.5139754 ,\n",
       "        0.53234994, 0.35880625, 0.46185043, 0.5673552 , 0.46809202,\n",
       "        0.2084835 , 0.39502698, 0.7348424 , 0.7306821 , 0.30605793,\n",
       "        0.30628392, 0.5467235 , 0.91348124, 0.3418976 ], dtype=float32),\n",
       " 'choice_sensitivity': Array([44.520065, 82.106964, 95.48953 , 58.072365, 78.52399 , 76.79238 ,\n",
       "        63.716625, 90.2885  ,  8.337767, 60.146595, 55.86822 , 77.63056 ,\n",
       "        83.0804  , 97.17861 , 90.884926, 23.290031, 74.57823 , 94.888985,\n",
       "        50.407463], dtype=float32),\n",
       " 'mfc_choice_sensitivity': Array([87.11843  , 76.628784 , 82.96779  , 50.447323 , 17.052837 ,\n",
       "        90.00264  , 44.40696  , 52.807743 , 32.375557 , 32.726345 ,\n",
       "        71.376015 , 84.22763  , 58.224186 ,  5.0781193, 56.49687  ,\n",
       "        74.70989  , 67.06507  , 63.70383  ,  4.9926715], dtype=float32),\n",
       " 'allow_repeated_recalls': Array([1., 1., 1., 1., 1., 1., 1., 1., 1., 1., 1., 1., 1., 1., 1., 1., 1.,\n",
       "        1., 1.], dtype=float32),\n",
       " 'subject': Array([200, 201, 205, 206, 210, 215, 220, 230, 240, 256, 299, 300, 301,\n",
       "        303, 305, 306, 307, 308, 666], dtype=int32)}"
      ]
     },
     "execution_count": 6,
     "metadata": {},
     "output_type": "execute_result"
    }
   ],
   "source": [
    "sim_path = os.path.join(\n",
    "    product_dirs[\"simulations\"], f\"{data_tag}_{model_name}_{run_tag}.h5\"\n",
    ")\n",
    "print(sim_path)\n",
    "\n",
    "with open(fit_path) as f:\n",
    "    results = json.load(f)\n",
    "    if \"subject\" not in results[\"fits\"]:\n",
    "        results[\"fits\"][\"subject\"] = results[\"subject\"]\n",
    "\n",
    "\n",
    "rng = random.PRNGKey(seed)\n",
    "rng, rng_iter = random.split(rng)\n",
    "trial_mask = generate_trial_mask(data, trial_query)\n",
    "params = {key: jnp.array(val) for key, val in results[\"fits\"].items()}  # type: ignore\n",
    "\n",
    "if os.path.exists(sim_path) and not redo_sims:\n",
    "    sim = load_data(sim_path)\n",
    "    print(f\"Loaded from {sim_path}\")\n",
    "\n",
    "else:\n",
    "    sim = simulate_h5_from_h5(\n",
    "        model_factory=model_factory,\n",
    "        dataset=data,\n",
    "        connections=connections,\n",
    "        parameters=params,\n",
    "        trial_mask=trial_mask,\n",
    "        experiment_count=experiment_count,\n",
    "        rng=rng_iter,\n",
    "    )\n",
    "\n",
    "    save_dict_to_hdf5(sim, sim_path)\n",
    "    print(f\"Saved to {sim_path}\")\n",
    "\n",
    "if filter_repeated_recalls:\n",
    "    sim['recalls'] = repetition.filter_repeated_recalls(sim['recalls'])\n",
    "\n",
    "params"
   ]
  },
  {
   "cell_type": "markdown",
   "id": "49425906",
   "metadata": {
    "papermill": {
     "duration": 0.002442,
     "end_time": "2025-07-21T16:01:43.735369",
     "exception": false,
     "start_time": "2025-07-21T16:01:43.732927",
     "status": "completed"
    },
    "tags": []
   },
   "source": [
    "## Figures"
   ]
  },
  {
   "cell_type": "code",
   "execution_count": 7,
   "id": "789d14d4",
   "metadata": {
    "execution": {
     "iopub.execute_input": "2025-07-21T16:01:43.741027Z",
     "iopub.status.busy": "2025-07-21T16:01:43.740874Z",
     "iopub.status.idle": "2025-07-21T16:01:43.760777Z",
     "shell.execute_reply": "2025-07-21T16:01:43.760507Z"
    },
    "papermill": {
     "duration": 0.023884,
     "end_time": "2025-07-21T16:01:43.761533",
     "exception": false,
     "start_time": "2025-07-21T16:01:43.737649",
     "status": "completed"
    },
    "tags": []
   },
   "outputs": [],
   "source": [
    "#|code-summary: single-dataset views\n",
    "\n",
    "for analysis in single_analyses:\n",
    "    figure_str = f\"{data_tag}_{model_name}_{run_tag}_{analysis.__name__[5:]}.png\"\n",
    "    figure_path = os.path.join(product_dirs[\"figures\"], figure_str)\n",
    "    print(f\"![]({figure_path})\")\n",
    "\n",
    "    # if redo_figures, check if figure already exists and don't redo\n",
    "    # we want to display the figure here if it already exists\n",
    "    if os.path.exists(figure_path) and not redo_figures:\n",
    "        display(Image(filename=figure_path))\n",
    "    else:\n",
    "        color_cycle = [each[\"color\"] for each in rcParams[\"axes.prop_cycle\"]]\n",
    "\n",
    "        # Create a mask for data using np.isin for the selected list types\n",
    "        trial_mask = generate_trial_mask(sim, trial_query)\n",
    "\n",
    "        axis = analysis(\n",
    "            datasets=[sim],\n",
    "            trial_masks=[np.array(trial_mask)],\n",
    "            color_cycle=color_cycle,\n",
    "            labels=[\"First\", \"Second\"],\n",
    "            contrast_name=\"Repetition Index\",\n",
    "            axis=None,\n",
    "            distances=None,\n",
    "        )\n",
    "\n",
    "        plt.savefig(figure_path, bbox_inches=\"tight\", dpi=600)\n",
    "        plt.show()"
   ]
  },
  {
   "cell_type": "code",
   "execution_count": 8,
   "id": "2ed58e5f",
   "metadata": {
    "execution": {
     "iopub.execute_input": "2025-07-21T16:01:43.766044Z",
     "iopub.status.busy": "2025-07-21T16:01:43.765930Z",
     "iopub.status.idle": "2025-07-21T16:01:43.779783Z",
     "shell.execute_reply": "2025-07-21T16:01:43.779489Z"
    },
    "papermill": {
     "duration": 0.016795,
     "end_time": "2025-07-21T16:01:43.780547",
     "exception": false,
     "start_time": "2025-07-21T16:01:43.763752",
     "status": "completed"
    },
    "tags": []
   },
   "outputs": [],
   "source": [
    "#| code-summary: mixed vs control views\n",
    "\n",
    "for analysis in comparison_analyses:\n",
    "\n",
    "    figure_str = f\"{data_tag}_{model_name}_{run_tag}_{analysis.__name__[5:]}.png\"\n",
    "    figure_path = os.path.join(product_dirs[\"figures\"], figure_str)\n",
    "    print(f\"![]({figure_path})\")\n",
    "\n",
    "    # if redo_figures, check if figure already exists and don't redo\n",
    "    # we want to display the figure here if it already exists\n",
    "    if os.path.exists(figure_path) and not redo_figures:\n",
    "        display(Image(filename=figure_path))\n",
    "        continue\n",
    "\n",
    "    color_cycle = [each[\"color\"] for each in rcParams[\"axes.prop_cycle\"]]\n",
    "\n",
    "    # Create a mask for data using np.isin for the selected list types\n",
    "    trial_mask = generate_trial_mask(data, trial_query)\n",
    "    sim_trial_mask = generate_trial_mask(sim, trial_query)\n",
    "\n",
    "    axis = analysis(\n",
    "        datasets=[sim, data],\n",
    "        trial_masks=[np.array(sim_trial_mask), np.array(trial_mask)],\n",
    "        color_cycle=color_cycle,\n",
    "        labels=[\"Model\", \"Data\"],\n",
    "        contrast_name=\"Source\",\n",
    "        axis=None,\n",
    "        distances=None,\n",
    "    )\n",
    "\n",
    "    plt.savefig(figure_path, bbox_inches=\"tight\", dpi=600)\n",
    "    plt.show()"
   ]
  }
 ],
 "metadata": {
  "kernelspec": {
   "display_name": "jaxcmr",
   "language": "python",
   "name": "python3"
  },
  "language_info": {
   "codemirror_mode": {
    "name": "ipython",
    "version": 3
   },
   "file_extension": ".py",
   "mimetype": "text/x-python",
   "name": "python",
   "nbconvert_exporter": "python",
   "pygments_lexer": "ipython3",
   "version": "3.12.8"
  },
  "papermill": {
   "default_parameters": {},
   "duration": 4676.319697,
   "end_time": "2025-07-21T16:01:44.621619",
   "environment_variables": {},
   "exception": null,
   "input_path": "projects/thesis/Fitting_No_Control.ipynb",
   "output_path": "projects/thesis/RepeatedRecallsKahanaJacobs2000_WeirdCMR_Fitting.ipynb",
   "parameters": {
    "allow_repeated_recalls": true,
    "base_data_tag": "KahanaJacobs2000",
    "comparison_analysis_paths": [],
    "data_path": "data/RepeatedRecallsKahanaJacobs2000.h5",
    "data_tag": "RepeatedRecallsKahanaJacobs2000",
    "filter_repeated_recalls": false,
    "model_factory_path": "jaxcmr.models_repfr.weird_cmr.BaseCMRFactory",
    "model_name": "WeirdCMR",
    "parameters": {
     "fixed": {},
     "free": {
      "choice_sensitivity": [
       2.220446049250313e-16,
       100.0
      ],
      "encoding_drift_rate": [
       2.220446049250313e-16,
       0.9999999999999998
      ],
      "item_support": [
       2.220446049250313e-16,
       100.0
      ],
      "learning_rate": [
       2.220446049250313e-16,
       0.9999999999999998
      ],
      "mfc_choice_sensitivity": [
       2.220446049250313e-16,
       100.0
      ],
      "primacy_decay": [
       2.220446049250313e-16,
       100.0
      ],
      "primacy_scale": [
       2.220446049250313e-16,
       100.0
      ],
      "recall_drift_rate": [
       2.220446049250313e-16,
       0.9999999999999998
      ],
      "shared_support": [
       2.220446049250313e-16,
       100.0
      ],
      "start_drift_rate": [
       2.220446049250313e-16,
       0.9999999999999998
      ],
      "stop_probability_growth": [
       2.220446049250313e-16,
       10.0
      ],
      "stop_probability_scale": [
       2.220446049250313e-16,
       0.9999999999999998
      ]
     }
    },
    "redo_figures": false,
    "redo_fits": false,
    "redo_sims": false,
    "single_analysis_paths": [],
    "trial_query": "jnp.logical_and(data['recall_attempt'] == 1, data['recall_total'] > 0)"
   },
   "start_time": "2025-07-21T14:43:48.301922",
   "version": "2.6.0"
  }
 },
 "nbformat": 4,
 "nbformat_minor": 5
}