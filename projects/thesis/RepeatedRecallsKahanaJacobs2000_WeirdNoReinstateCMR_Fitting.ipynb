{
 "cells": [
  {
   "cell_type": "markdown",
   "id": "e6b732fe",
   "metadata": {
    "tags": [
     "papermill-error-cell-tag"
    ]
   },
   "source": [
    "<span style=\"color:red; font-family:Helvetica Neue, Helvetica, Arial, sans-serif; font-size:2em;\">An Exception was encountered at '<a href=\"#papermill-error-cell\">In [5]</a>'.</span>"
   ]
  },
  {
   "cell_type": "code",
   "execution_count": 1,
   "id": "5bcf1ebf",
   "metadata": {
    "execution": {
     "iopub.execute_input": "2025-07-21T23:56:14.829610Z",
     "iopub.status.busy": "2025-07-21T23:56:14.829320Z",
     "iopub.status.idle": "2025-07-21T23:56:18.823897Z",
     "shell.execute_reply": "2025-07-21T23:56:18.823584Z"
    },
    "papermill": {
     "duration": 4.001985,
     "end_time": "2025-07-21T23:56:18.826340",
     "exception": false,
     "start_time": "2025-07-21T23:56:14.824355",
     "status": "completed"
    },
    "tags": []
   },
   "outputs": [],
   "source": [
    "%load_ext autoreload\n",
    "%autoreload 2\n",
    "\n",
    "import json\n",
    "import os\n",
    "import warnings\n",
    "\n",
    "import jax.numpy as jnp\n",
    "import matplotlib.pyplot as plt\n",
    "from IPython.display import Image, display\n",
    "import numpy as np\n",
    "from jax import random\n",
    "from matplotlib import rcParams  # type: ignore\n",
    "\n",
    "from jaxcmr.fitting import ScipyDE as fitting_method\n",
    "from jaxcmr.helpers import (\n",
    "    generate_trial_mask,\n",
    "    import_from_string,\n",
    "    load_data,\n",
    "    save_dict_to_hdf5,\n",
    ")\n",
    "from jaxcmr.likelihood import MemorySearchLikelihoodFnGenerator as loss_fn_generator\n",
    "from jaxcmr import repetition\n",
    "from jaxcmr.simulation import simulate_h5_from_h5\n",
    "from jaxcmr.summarize import summarize_parameters\n",
    "\n",
    "warnings.filterwarnings(\"ignore\")"
   ]
  },
  {
   "cell_type": "markdown",
   "id": "faa8a7ce",
   "metadata": {
    "papermill": {
     "duration": 0.001109,
     "end_time": "2025-07-21T23:56:18.829085",
     "exception": false,
     "start_time": "2025-07-21T23:56:18.827976",
     "status": "completed"
    },
    "tags": []
   },
   "source": [
    "## Setup"
   ]
  },
  {
   "cell_type": "code",
   "execution_count": 2,
   "id": "880fb412",
   "metadata": {
    "execution": {
     "iopub.execute_input": "2025-07-21T23:56:18.832341Z",
     "iopub.status.busy": "2025-07-21T23:56:18.832170Z",
     "iopub.status.idle": "2025-07-21T23:56:18.933933Z",
     "shell.execute_reply": "2025-07-21T23:56:18.933665Z"
    },
    "papermill": {
     "duration": 0.10411,
     "end_time": "2025-07-21T23:56:18.934744",
     "exception": false,
     "start_time": "2025-07-21T23:56:18.830634",
     "status": "completed"
    },
    "tags": [
     "parameters"
    ]
   },
   "outputs": [],
   "source": [
    "# repeat params\n",
    "allow_repeated_recalls = False\n",
    "filter_repeated_recalls = False\n",
    "data_tag = \"LohnasKahana2014\"\n",
    "data_path = \"data/LohnasKahana2014.h5\"\n",
    "\n",
    "# data params\n",
    "trial_query = \"data['list_type'] > 0\"\n",
    "run_tag = \"full_best_of_3\"\n",
    "\n",
    "# fitting params\n",
    "redo_fits = True\n",
    "model_factory_path = \"jaxcmr.models_repfr.weird_cmr.BaseCMRFactory\"\n",
    "model_name = \"WeirdCMR\"\n",
    "relative_tolerance = 0.001\n",
    "popsize = 15\n",
    "num_steps = 1000\n",
    "cross_rate = 0.9\n",
    "diff_w = 0.85\n",
    "best_of = 3\n",
    "target_dir = \"projects/thesis\"\n",
    "\n",
    "# sim params\n",
    "redo_sims = True\n",
    "seed = 0\n",
    "experiment_count = 50\n",
    "\n",
    "# figure params\n",
    "redo_figures = True\n",
    "\n",
    "parameters = {\n",
    "    \"fixed\": {\n",
    "    },\n",
    "    \"free\": {\n",
    "        \"encoding_drift_rate\": [2.220446049250313e-16, 0.9999999999999998],\n",
    "        \"start_drift_rate\": [2.220446049250313e-16, 0.9999999999999998],\n",
    "        \"recall_drift_rate\": [2.220446049250313e-16, 0.9999999999999998],\n",
    "        \"shared_support\": [2.220446049250313e-16, 99.9999999999999998],\n",
    "        \"item_support\": [2.220446049250313e-16, 99.9999999999999998],\n",
    "        \"learning_rate\": [2.220446049250313e-16, 0.9999999999999998],\n",
    "        \"primacy_scale\": [2.220446049250313e-16, 99.9999999999999998],\n",
    "        \"primacy_decay\": [2.220446049250313e-16, 99.9999999999999998],\n",
    "        \"stop_probability_scale\": [2.220446049250313e-16, 0.9999999999999998],\n",
    "        \"stop_probability_growth\": [2.220446049250313e-16, 9.9999999999999998],\n",
    "        \"choice_sensitivity\": [2.220446049250313e-16, 99.9999999999999998],\n",
    "    },\n",
    "}\n",
    "\n",
    "single_analysis_paths = [\n",
    "    \"jaxcmr.analyses.repcrp.plot_rep_crp\",\n",
    "    \"jaxcmr.analyses.backrepcrp.plot_back_rep_crp\",\n",
    "]\n",
    "\n",
    "comparison_analysis_paths = [\n",
    "    \"jaxcmr.analyses.spc.plot_spc\",\n",
    "    \"jaxcmr.analyses.crp.plot_crp\",\n",
    "    \"jaxcmr.analyses.pnr.plot_pnr\",\n",
    "    \"jaxcmr.analyses.repneighborcrp.plot_repneighborcrp_i2j\",\n",
    "    \"jaxcmr.analyses.repneighborcrp.plot_repneighborcrp_j2i\",\n",
    "    \"jaxcmr.analyses.repneighborcrp.plot_repneighborcrp_both\",\n",
    "    \"jaxcmr.analyses.rpl.plot_rpl\",\n",
    "    \"jaxcmr.analyses.rpl.plot_full_rpl\",\n",
    "]"
   ]
  },
  {
   "cell_type": "code",
   "execution_count": 3,
   "id": "7ea39898",
   "metadata": {
    "execution": {
     "iopub.execute_input": "2025-07-21T23:56:18.937926Z",
     "iopub.status.busy": "2025-07-21T23:56:18.937631Z",
     "iopub.status.idle": "2025-07-21T23:56:18.950996Z",
     "shell.execute_reply": "2025-07-21T23:56:18.950688Z"
    },
    "papermill": {
     "duration": 0.015578,
     "end_time": "2025-07-21T23:56:18.951733",
     "exception": false,
     "start_time": "2025-07-21T23:56:18.936155",
     "status": "completed"
    },
    "tags": [
     "injected-parameters"
    ]
   },
   "outputs": [],
   "source": [
    "# Parameters\n",
    "allow_repeated_recalls = True\n",
    "filter_repeated_recalls = False\n",
    "data_tag = \"RepeatedRecallsKahanaJacobs2000\"\n",
    "data_path = \"data/RepeatedRecallsKahanaJacobs2000.h5\"\n",
    "base_data_tag = \"KahanaJacobs2000\"\n",
    "trial_query = \"jnp.logical_and(data['recall_attempt'] == 1, data['recall_total'] > 0)\"\n",
    "single_analysis_paths = []\n",
    "comparison_analysis_paths = []\n",
    "model_name = \"WeirdNoReinstateCMR\"\n",
    "model_factory_path = \"jaxcmr.models_repfr.weird_no_reinstate_cmr.BaseCMRFactory\"\n",
    "redo_fits = False\n",
    "redo_sims = False\n",
    "redo_figures = False\n",
    "parameters = {\"fixed\": {}, \"free\": {\"encoding_drift_rate\": [2.220446049250313e-16, 0.9999999999999998], \"start_drift_rate\": [2.220446049250313e-16, 0.9999999999999998], \"recall_drift_rate\": [2.220446049250313e-16, 0.9999999999999998], \"shared_support\": [2.220446049250313e-16, 100.0], \"item_support\": [2.220446049250313e-16, 100.0], \"learning_rate\": [2.220446049250313e-16, 0.9999999999999998], \"primacy_scale\": [2.220446049250313e-16, 100.0], \"primacy_decay\": [2.220446049250313e-16, 100.0], \"stop_probability_scale\": [2.220446049250313e-16, 0.9999999999999998], \"stop_probability_growth\": [2.220446049250313e-16, 10.0], \"choice_sensitivity\": [2.220446049250313e-16, 100.0]}}\n"
   ]
  },
  {
   "cell_type": "code",
   "execution_count": 4,
   "id": "0877f896",
   "metadata": {
    "execution": {
     "iopub.execute_input": "2025-07-21T23:56:18.954205Z",
     "iopub.status.busy": "2025-07-21T23:56:18.954113Z",
     "iopub.status.idle": "2025-07-21T23:56:19.351112Z",
     "shell.execute_reply": "2025-07-21T23:56:19.350843Z"
    },
    "papermill": {
     "duration": 0.399042,
     "end_time": "2025-07-21T23:56:19.351971",
     "exception": false,
     "start_time": "2025-07-21T23:56:18.952929",
     "status": "completed"
    },
    "tags": []
   },
   "outputs": [],
   "source": [
    "# add subdirectories for each product type: json, figures, h5\n",
    "product_dirs = {}\n",
    "for product in [\"fits\", \"figures\", \"simulations\"]:\n",
    "    product_dir = os.path.join(target_dir, product)\n",
    "    product_dirs[product] = product_dir\n",
    "    if not os.path.exists(product_dir):\n",
    "        os.makedirs(product_dir)\n",
    "\n",
    "data = load_data(data_path)\n",
    "trial_mask = generate_trial_mask(data, trial_query)\n",
    "\n",
    "max_size = np.max(data[\"pres_itemnos\"])\n",
    "connections = jnp.zeros((max_size, max_size))\n",
    "\n",
    "single_analyses = [import_from_string(path) for path in single_analysis_paths]\n",
    "comparison_analyses = [import_from_string(path) for path in comparison_analysis_paths]\n",
    "model_factory = import_from_string(model_factory_path)\n",
    "\n",
    "# derive list of query parameters from keys of `parameters`\n",
    "parameters['fixed']['allow_repeated_recalls'] = allow_repeated_recalls\n",
    "query_parameters = list(parameters[\"free\"].keys())\n",
    "\n",
    "# make sure repeatedrecalls is in either both data_tag or data_path, or is in neither\n",
    "if \"repeatedrecalls\" in data_tag.lower() or \"repeatedrecalls\" in data_path.lower():\n",
    "    if \"repeatedrecalls\" not in data_tag.lower() and \"repeatedrecalls\" not in data_path.lower():\n",
    "        raise ValueError(\n",
    "            \"If 'repeatedrecalls' is in data_tag or data_path, it must be in both.\"\n",
    "        )"
   ]
  },
  {
   "cell_type": "markdown",
   "id": "abe1fdc7",
   "metadata": {
    "papermill": {
     "duration": 0.001173,
     "end_time": "2025-07-21T23:56:19.354645",
     "exception": false,
     "start_time": "2025-07-21T23:56:19.353472",
     "status": "completed"
    },
    "tags": []
   },
   "source": [
    "## Fitting"
   ]
  },
  {
   "cell_type": "markdown",
   "id": "cb208ffd",
   "metadata": {
    "tags": [
     "papermill-error-cell-tag"
    ]
   },
   "source": [
    "<span id=\"papermill-error-cell\" style=\"color:red; font-family:Helvetica Neue, Helvetica, Arial, sans-serif; font-size:2em;\">Execution using papermill encountered an exception here and stopped:</span>"
   ]
  },
  {
   "cell_type": "code",
   "execution_count": 5,
   "id": "e7bece1b",
   "metadata": {
    "execution": {
     "iopub.execute_input": "2025-07-21T23:56:19.357678Z",
     "iopub.status.busy": "2025-07-21T23:56:19.357357Z",
     "iopub.status.idle": "2025-07-22T00:20:19.673777Z",
     "shell.execute_reply": "2025-07-22T00:20:19.673304Z"
    },
    "papermill": {
     "duration": 1440.319948,
     "end_time": "2025-07-22T00:20:19.675885",
     "exception": true,
     "start_time": "2025-07-21T23:56:19.355937",
     "status": "failed"
    },
    "tags": []
   },
   "outputs": [
    {
     "name": "stdout",
     "output_type": "stream",
     "text": [
      "projects/thesis/fits/RepeatedRecallsKahanaJacobs2000_WeirdNoReinstateCMR_full_best_of_3.json\n"
     ]
    },
    {
     "name": "stderr",
     "output_type": "stream",
     "text": [
      "\r",
      "  0%|          | 0/19 [00:00<?, ?it/s]"
     ]
    },
    {
     "name": "stderr",
     "output_type": "stream",
     "text": [
      "\r",
      "  0%|          | 0/19 [23:44<?, ?it/s]"
     ]
    },
    {
     "name": "stderr",
     "output_type": "stream",
     "text": [
      "\n"
     ]
    },
    {
     "ename": "AssertionError",
     "evalue": "No fit result found",
     "output_type": "error",
     "traceback": [
      "\u001b[31m---------------------------------------------------------------------------\u001b[39m",
      "\u001b[31mAssertionError\u001b[39m                            Traceback (most recent call last)",
      "\u001b[36mCell\u001b[39m\u001b[36m \u001b[39m\u001b[32mIn[5]\u001b[39m\u001b[32m, line 32\u001b[39m\n\u001b[32m     12\u001b[39m bounds = parameters[\u001b[33m\"\u001b[39m\u001b[33mfree\u001b[39m\u001b[33m\"\u001b[39m]\n\u001b[32m     13\u001b[39m fitter = fitting_method(\n\u001b[32m     14\u001b[39m     data,\n\u001b[32m     15\u001b[39m     connections,\n\u001b[32m   (...)\u001b[39m\u001b[32m     29\u001b[39m     },\n\u001b[32m     30\u001b[39m )\n\u001b[32m---> \u001b[39m\u001b[32m32\u001b[39m results = \u001b[43mfitter\u001b[49m\u001b[43m.\u001b[49m\u001b[43mfit\u001b[49m\u001b[43m(\u001b[49m\u001b[43mtrial_mask\u001b[49m\u001b[43m)\u001b[49m\n\u001b[32m     33\u001b[39m results = \u001b[38;5;28mdict\u001b[39m(results)\n\u001b[32m     35\u001b[39m \u001b[38;5;28;01mwith\u001b[39;00m \u001b[38;5;28mopen\u001b[39m(fit_path, \u001b[33m\"\u001b[39m\u001b[33mw\u001b[39m\u001b[33m\"\u001b[39m) \u001b[38;5;28;01mas\u001b[39;00m f:\n",
      "\u001b[36mFile \u001b[39m\u001b[32m~/jaxcmr/jaxcmr/fitting.py:187\u001b[39m, in \u001b[36mScipyDE.fit\u001b[39m\u001b[34m(self, trial_mask, fit_to_subjects)\u001b[39m\n\u001b[32m    184\u001b[39m     \u001b[38;5;28;01mcontinue\u001b[39;00m\n\u001b[32m    186\u001b[39m \u001b[38;5;66;03m# Single-fit on the subject-specific mask\u001b[39;00m\n\u001b[32m--> \u001b[39m\u001b[32m187\u001b[39m fit_result = \u001b[38;5;28;43mself\u001b[39;49m\u001b[43m.\u001b[49m\u001b[43m_fit_single_mask\u001b[49m\u001b[43m(\u001b[49m\u001b[43msubject_trial_masks\u001b[49m\u001b[43m[\u001b[49m\u001b[43ms\u001b[49m\u001b[43m]\u001b[49m\u001b[43m,\u001b[49m\u001b[43m \u001b[49m\u001b[38;5;28;43mint\u001b[39;49m\u001b[43m(\u001b[49m\u001b[43munique_subjects\u001b[49m\u001b[43m[\u001b[49m\u001b[43ms\u001b[49m\u001b[43m]\u001b[49m\u001b[43m)\u001b[49m\u001b[43m)\u001b[49m\n\u001b[32m    188\u001b[39m all_results[\u001b[33m\"\u001b[39m\u001b[33mfitness\u001b[39m\u001b[33m\"\u001b[39m] += fit_result[\u001b[33m\"\u001b[39m\u001b[33mfitness\u001b[39m\u001b[33m\"\u001b[39m]\n\u001b[32m    190\u001b[39m \u001b[38;5;66;03m# Show in tqdm progress bar\u001b[39;00m\n",
      "\u001b[36mFile \u001b[39m\u001b[32m~/jaxcmr/jaxcmr/fitting.py:118\u001b[39m, in \u001b[36mScipyDE._fit_single_mask\u001b[39m\u001b[34m(self, trial_mask, subject_id)\u001b[39m\n\u001b[32m    115\u001b[39m         best_fitness = fit_result.fun\n\u001b[32m    116\u001b[39m         best_fit_result = fit_result\n\u001b[32m--> \u001b[39m\u001b[32m118\u001b[39m \u001b[38;5;28;01massert\u001b[39;00m best_fit_result \u001b[38;5;129;01mis\u001b[39;00m \u001b[38;5;129;01mnot\u001b[39;00m \u001b[38;5;28;01mNone\u001b[39;00m, \u001b[33m\"\u001b[39m\u001b[33mNo fit result found\u001b[39m\u001b[33m\"\u001b[39m\n\u001b[32m    119\u001b[39m \u001b[38;5;28;01mreturn\u001b[39;00m {\n\u001b[32m    120\u001b[39m     \u001b[33m\"\u001b[39m\u001b[33mfixed\u001b[39m\u001b[33m\"\u001b[39m: {k: \u001b[38;5;28mfloat\u001b[39m(v) \u001b[38;5;28;01mfor\u001b[39;00m k, v \u001b[38;5;129;01min\u001b[39;00m \u001b[38;5;28mself\u001b[39m.base_params.items()},\n\u001b[32m    121\u001b[39m     \u001b[33m\"\u001b[39m\u001b[33mfree\u001b[39m\u001b[33m\"\u001b[39m: {\n\u001b[32m   (...)\u001b[39m\u001b[32m    138\u001b[39m     \u001b[33m\"\u001b[39m\u001b[33mfit_time\u001b[39m\u001b[33m\"\u001b[39m: \u001b[32m0.0\u001b[39m,\n\u001b[32m    139\u001b[39m }\n",
      "\u001b[31mAssertionError\u001b[39m: No fit result found"
     ]
    }
   ],
   "source": [
    "fit_path = os.path.join(product_dirs[\"fits\"], f\"{data_tag}_{model_name}_{run_tag}.json\")\n",
    "print(fit_path)\n",
    "\n",
    "if os.path.exists(fit_path) and not redo_fits:\n",
    "    with open(fit_path) as f:\n",
    "        results = json.load(f)\n",
    "        if \"subject\" not in results[\"fits\"]:\n",
    "            results[\"fits\"][\"subject\"] = results[\"subject\"]\n",
    "\n",
    "else:\n",
    "    base_params = parameters[\"fixed\"]\n",
    "    bounds = parameters[\"free\"]\n",
    "    fitter = fitting_method(\n",
    "        data,\n",
    "        connections,\n",
    "        base_params,\n",
    "        model_factory,\n",
    "        loss_fn_generator,\n",
    "        hyperparams={\n",
    "            \"num_steps\": num_steps,\n",
    "            \"pop_size\": popsize,\n",
    "            \"relative_tolerance\": relative_tolerance,\n",
    "            \"cross_over_rate\": cross_rate,\n",
    "            \"diff_w\": diff_w,\n",
    "            \"progress_bar\": True,\n",
    "            \"display_iterations\": False,\n",
    "            \"bounds\": bounds,\n",
    "            \"best_of\": best_of,\n",
    "        },\n",
    "    )\n",
    "\n",
    "    results = fitter.fit(trial_mask)\n",
    "    results = dict(results)\n",
    "\n",
    "    with open(fit_path, \"w\") as f:\n",
    "        json.dump(results, f, indent=4)\n",
    "\n",
    "results[\"data_query\"] = trial_query\n",
    "results[\"model\"] = model_name\n",
    "results[\"name\"] = f\"{data_tag}_{model_name}_{run_tag}\"\n",
    "\n",
    "with open(fit_path, \"w\") as f:\n",
    "    json.dump(results, f, indent=4)\n",
    "\n",
    "print(\n",
    "    summarize_parameters([results], query_parameters, include_std=True, include_ci=True)\n",
    ")"
   ]
  },
  {
   "cell_type": "markdown",
   "id": "d91ad9c4",
   "metadata": {
    "papermill": {
     "duration": null,
     "end_time": null,
     "exception": null,
     "start_time": null,
     "status": "pending"
    },
    "tags": []
   },
   "source": [
    "## Simulation"
   ]
  },
  {
   "cell_type": "code",
   "execution_count": null,
   "id": "ec4751f4",
   "metadata": {
    "papermill": {
     "duration": null,
     "end_time": null,
     "exception": null,
     "start_time": null,
     "status": "pending"
    },
    "tags": []
   },
   "outputs": [],
   "source": [
    "sim_path = os.path.join(\n",
    "    product_dirs[\"simulations\"], f\"{data_tag}_{model_name}_{run_tag}.h5\"\n",
    ")\n",
    "print(sim_path)\n",
    "\n",
    "with open(fit_path) as f:\n",
    "    results = json.load(f)\n",
    "    if \"subject\" not in results[\"fits\"]:\n",
    "        results[\"fits\"][\"subject\"] = results[\"subject\"]\n",
    "\n",
    "\n",
    "rng = random.PRNGKey(seed)\n",
    "rng, rng_iter = random.split(rng)\n",
    "trial_mask = generate_trial_mask(data, trial_query)\n",
    "params = {key: jnp.array(val) for key, val in results[\"fits\"].items()}  # type: ignore\n",
    "\n",
    "if os.path.exists(sim_path) and not redo_sims:\n",
    "    sim = load_data(sim_path)\n",
    "    print(f\"Loaded from {sim_path}\")\n",
    "\n",
    "else:\n",
    "    sim = simulate_h5_from_h5(\n",
    "        model_factory=model_factory,\n",
    "        dataset=data,\n",
    "        connections=connections,\n",
    "        parameters=params,\n",
    "        trial_mask=trial_mask,\n",
    "        experiment_count=experiment_count,\n",
    "        rng=rng_iter,\n",
    "    )\n",
    "\n",
    "    save_dict_to_hdf5(sim, sim_path)\n",
    "    print(f\"Saved to {sim_path}\")\n",
    "\n",
    "if filter_repeated_recalls:\n",
    "    sim['recalls'] = repetition.filter_repeated_recalls(sim['recalls'])\n",
    "\n",
    "params"
   ]
  },
  {
   "cell_type": "markdown",
   "id": "49425906",
   "metadata": {
    "papermill": {
     "duration": null,
     "end_time": null,
     "exception": null,
     "start_time": null,
     "status": "pending"
    },
    "tags": []
   },
   "source": [
    "## Figures"
   ]
  },
  {
   "cell_type": "code",
   "execution_count": null,
   "id": "789d14d4",
   "metadata": {
    "papermill": {
     "duration": null,
     "end_time": null,
     "exception": null,
     "start_time": null,
     "status": "pending"
    },
    "tags": []
   },
   "outputs": [],
   "source": [
    "#|code-summary: single-dataset views\n",
    "\n",
    "for analysis in single_analyses:\n",
    "    figure_str = f\"{data_tag}_{model_name}_{run_tag}_{analysis.__name__[5:]}.png\"\n",
    "    figure_path = os.path.join(product_dirs[\"figures\"], figure_str)\n",
    "    print(f\"![]({figure_path})\")\n",
    "\n",
    "    # if redo_figures, check if figure already exists and don't redo\n",
    "    # we want to display the figure here if it already exists\n",
    "    if os.path.exists(figure_path) and not redo_figures:\n",
    "        display(Image(filename=figure_path))\n",
    "    else:\n",
    "        color_cycle = [each[\"color\"] for each in rcParams[\"axes.prop_cycle\"]]\n",
    "\n",
    "        # Create a mask for data using np.isin for the selected list types\n",
    "        trial_mask = generate_trial_mask(sim, trial_query)\n",
    "\n",
    "        axis = analysis(\n",
    "            datasets=[sim],\n",
    "            trial_masks=[np.array(trial_mask)],\n",
    "            color_cycle=color_cycle,\n",
    "            labels=[\"First\", \"Second\"],\n",
    "            contrast_name=\"Repetition Index\",\n",
    "            axis=None,\n",
    "            distances=None,\n",
    "        )\n",
    "\n",
    "        plt.savefig(figure_path, bbox_inches=\"tight\", dpi=600)\n",
    "        plt.show()"
   ]
  },
  {
   "cell_type": "code",
   "execution_count": null,
   "id": "2ed58e5f",
   "metadata": {
    "papermill": {
     "duration": null,
     "end_time": null,
     "exception": null,
     "start_time": null,
     "status": "pending"
    },
    "tags": []
   },
   "outputs": [],
   "source": [
    "#| code-summary: mixed vs control views\n",
    "\n",
    "for analysis in comparison_analyses:\n",
    "\n",
    "    figure_str = f\"{data_tag}_{model_name}_{run_tag}_{analysis.__name__[5:]}.png\"\n",
    "    figure_path = os.path.join(product_dirs[\"figures\"], figure_str)\n",
    "    print(f\"![]({figure_path})\")\n",
    "\n",
    "    # if redo_figures, check if figure already exists and don't redo\n",
    "    # we want to display the figure here if it already exists\n",
    "    if os.path.exists(figure_path) and not redo_figures:\n",
    "        display(Image(filename=figure_path))\n",
    "        continue\n",
    "\n",
    "    color_cycle = [each[\"color\"] for each in rcParams[\"axes.prop_cycle\"]]\n",
    "\n",
    "    # Create a mask for data using np.isin for the selected list types\n",
    "    trial_mask = generate_trial_mask(data, trial_query)\n",
    "    sim_trial_mask = generate_trial_mask(sim, trial_query)\n",
    "\n",
    "    axis = analysis(\n",
    "        datasets=[sim, data],\n",
    "        trial_masks=[np.array(sim_trial_mask), np.array(trial_mask)],\n",
    "        color_cycle=color_cycle,\n",
    "        labels=[\"Model\", \"Data\"],\n",
    "        contrast_name=\"Source\",\n",
    "        axis=None,\n",
    "        distances=None,\n",
    "    )\n",
    "\n",
    "    plt.savefig(figure_path, bbox_inches=\"tight\", dpi=600)\n",
    "    plt.show()"
   ]
  }
 ],
 "metadata": {
  "kernelspec": {
   "display_name": "jaxcmr",
   "language": "python",
   "name": "python3"
  },
  "language_info": {
   "codemirror_mode": {
    "name": "ipython",
    "version": 3
   },
   "file_extension": ".py",
   "mimetype": "text/x-python",
   "name": "python",
   "nbconvert_exporter": "python",
   "pygments_lexer": "ipython3",
   "version": "3.12.8"
  },
  "papermill": {
   "default_parameters": {},
   "duration": 1447.026465,
   "end_time": "2025-07-22T00:20:20.000140",
   "environment_variables": {},
   "exception": true,
   "input_path": "projects/thesis/Fitting_No_Control.ipynb",
   "output_path": "projects/thesis/RepeatedRecallsKahanaJacobs2000_WeirdNoReinstateCMR_Fitting.ipynb",
   "parameters": {
    "allow_repeated_recalls": true,
    "base_data_tag": "KahanaJacobs2000",
    "comparison_analysis_paths": [],
    "data_path": "data/RepeatedRecallsKahanaJacobs2000.h5",
    "data_tag": "RepeatedRecallsKahanaJacobs2000",
    "filter_repeated_recalls": false,
    "model_factory_path": "jaxcmr.models_repfr.weird_no_reinstate_cmr.BaseCMRFactory",
    "model_name": "WeirdNoReinstateCMR",
    "parameters": {
     "fixed": {},
     "free": {
      "choice_sensitivity": [
       2.220446049250313e-16,
       100.0
      ],
      "encoding_drift_rate": [
       2.220446049250313e-16,
       0.9999999999999998
      ],
      "item_support": [
       2.220446049250313e-16,
       100.0
      ],
      "learning_rate": [
       2.220446049250313e-16,
       0.9999999999999998
      ],
      "primacy_decay": [
       2.220446049250313e-16,
       100.0
      ],
      "primacy_scale": [
       2.220446049250313e-16,
       100.0
      ],
      "recall_drift_rate": [
       2.220446049250313e-16,
       0.9999999999999998
      ],
      "shared_support": [
       2.220446049250313e-16,
       100.0
      ],
      "start_drift_rate": [
       2.220446049250313e-16,
       0.9999999999999998
      ],
      "stop_probability_growth": [
       2.220446049250313e-16,
       10.0
      ],
      "stop_probability_scale": [
       2.220446049250313e-16,
       0.9999999999999998
      ]
     }
    },
    "redo_figures": false,
    "redo_fits": false,
    "redo_sims": false,
    "single_analysis_paths": [],
    "trial_query": "jnp.logical_and(data['recall_attempt'] == 1, data['recall_total'] > 0)"
   },
   "start_time": "2025-07-21T23:56:12.973675",
   "version": "2.6.0"
  }
 },
 "nbformat": 4,
 "nbformat_minor": 5
}