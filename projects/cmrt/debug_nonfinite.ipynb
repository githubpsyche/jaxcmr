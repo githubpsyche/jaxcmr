{
 "cells": [
  {
   "cell_type": "code",
   "execution_count": 1,
   "metadata": {},
   "outputs": [],
   "source": [
    "#!%load_ext autoreload\n",
    "#!%autoreload 2"
   ]
  },
  {
   "cell_type": "code",
   "execution_count": 18,
   "metadata": {},
   "outputs": [
    {
     "data": {
      "text/plain": [
       "array([1, 2, 3], dtype=int32)"
      ]
     },HerremaKahana2024
     "execution_count": 18,
     "metadata": {},
     "output_type": "execute_result"
    }
   ],
   "source": [
    "from cmrt.cmr import CMRFactory as model_factory\n",
    "from cmrt.likelihood import all_rows_identical, predict_and_simulate_recalls, MemorySearchLikelihoodFnGenerator as loss_fn_generator\n",
    "from cmrt.helpers import load_data, generate_trial_mask\n",
    "from cmrt.fitting import make_subject_trial_masks\n",
    "import jax.numpy as jnp\n",
    "\n",
    "parameters = {\n",
    "    \"encoding_drift_rate\": [0.26590352315854415],\n",
    "    \"start_drift_rate\": [0.003793897526514267],\n",
    "    \"recall_drift_rate\": [0.6948751585587803],\n",
    "    \"shared_support\": [59.29551874808765],\n",
    "    \"item_support\": [46.750790499432725],\n",
    "    \"learning_rate\": [0.3928684088629935],\n",
    "    \"primacy_scale\": [86.8468032899084],\n",
    "    \"primacy_decay\": [33.07894591599996],\n",
    "    \"stop_probability_scale\": [0.46432487625415597],\n",
    "    \"stop_probability_growth\": [2.043004317058077],\n",
    "    \"choice_sensitivity\": [28.039525396199455],\n",
    "}\n",
    "parameters = {key: jnp.array(value[0]) for key, value in parameters.items()}\n",
    "\n",
    "data_query = \"data['session'] > 1\"\n",
    "data_path = \"data/HerrKaha24.h5\"\n",
    "\n",
    "dataset = load_data(data_path)\n",
    "max_size = jnp.max(dataset[\"pres_itemnos\"])\n",
    "connections = jnp.zeros((max_size, max_size))\n",
    "\n",
    "trial_mask = generate_trial_mask(dataset, data_query)\n",
    "subjects = dataset['subject'].flatten()\n",
    "subject_trial_masks, unique_subjects = make_subject_trial_masks(\n",
    "            trial_mask, subjects\n",
    "        )\n",
    "\n",
    "loss_generator = loss_fn_generator(\n",
    "    model_factory,\n",
    "    dataset,\n",
    "    connections,\n",
    ")\n",
    "\n",
    "unique_subjects[:3]"
   ]
  },
  {
   "cell_type": "code",
   "execution_count": 23,
   "metadata": {},
   "outputs": [
    {
     "data": {
      "text/plain": [
       "(Array([60, 61, 62, 63, 64, 65, 66, 67, 68, 69, 70, 71, 72, 73, 74, 75, 76,\n",
       "        77, 78, 79, 80, 81, 82, 83], dtype=int32),\n",
       " (24,))"
      ]
     },
     "execution_count": 23,
     "metadata": {},
     "output_type": "execute_result"
    }
   ],
   "source": [
    "trial_mask = subject_trial_masks[1]\n",
    "trial_indices = jnp.where(trial_mask)[0]\n",
    "trial_indices, trial_indices.shape"
   ]
  },
  {
   "cell_type": "code",
   "execution_count": 5,
   "metadata": {},
   "outputs": [
    {
     "data": {
      "text/plain": [
       "Array(True, dtype=bool)"
      ]
     },
     "execution_count": 5,
     "metadata": {},
     "output_type": "execute_result"
    }
   ],
   "source": [
    "all_rows_identical(loss_generator.present_lists[trial_indices])"
   ]
  },
  {
   "cell_type": "code",
   "execution_count": 6,
   "metadata": {},
   "outputs": [
    {
     "data": {
      "text/plain": [
       "Array(inf, dtype=float32)"
      ]
     },
     "execution_count": 6,
     "metadata": {},
     "output_type": "execute_result"
    }
   ],
   "source": [
    "loss_generator.base_predict_trials_loss(trial_indices, parameters)"
   ]
  },
  {
   "cell_type": "code",
   "execution_count": 34,
   "metadata": {},
   "outputs": [
    {
     "data": {
      "text/plain": [
       "Array([4.6410644e-04, 1.1910140e-09, 1.0097935e-09, 0.0000000e+00,\n",
       "       0.0000000e+00, 0.0000000e+00, 0.0000000e+00, 0.0000000e+00,\n",
       "       0.0000000e+00, 1.0376138e-07, 9.9999869e-01, 1.0000000e+00,\n",
       "       1.0000000e+00, 1.0000000e+00, 1.0000000e+00, 1.0000000e+00,\n",
       "       1.0000000e+00, 1.0000000e+00, 1.0000000e+00, 1.0000000e+00,\n",
       "       1.0000000e+00, 1.0000000e+00, 1.0000000e+00, 1.0000000e+00,\n",
       "       1.0000000e+00, 1.0000000e+00, 1.0000000e+00, 1.0000000e+00],      dtype=float32)"
      ]
     },
     "execution_count": 34,
     "metadata": {},
     "output_type": "execute_result"
    }
   ],
   "source": [
    "loss_generator.base_predict_trials(trial_indices, parameters)[0]"
   ]
  },
  {
   "cell_type": "code",
   "execution_count": 28,
   "metadata": {},
   "outputs": [
    {
     "data": {
      "text/plain": [
       "Array([-7.6753964e+00, -2.0548460e+01, -2.0713520e+01,           -inf,\n",
       "                 -inf,           -inf,           -inf,           -inf,\n",
       "                 -inf, -1.6081173e+01, -1.3113031e-06,  0.0000000e+00,\n",
       "        0.0000000e+00,  0.0000000e+00,  0.0000000e+00,  0.0000000e+00,\n",
       "        0.0000000e+00,  0.0000000e+00,  0.0000000e+00,  0.0000000e+00,\n",
       "        0.0000000e+00,  0.0000000e+00,  0.0000000e+00,  0.0000000e+00,\n",
       "        0.0000000e+00,  0.0000000e+00,  0.0000000e+00,  0.0000000e+00],      dtype=float32)"
      ]
     },
     "execution_count": 28,
     "metadata": {},
     "output_type": "execute_result"
    }
   ],
   "source": [
    "jnp.log(loss_generator.base_predict_trials(trial_indices, parameters))[0]"
   ]
  },
  {
   "cell_type": "code",
   "execution_count": 30,
   "metadata": {},
   "outputs": [],
   "source": [
    "assert jnp.all(loss_generator.present_lists[trial_indices[0]] == jnp.arange(1, 41))"
   ]
  },
  {
   "cell_type": "code",
   "execution_count": 31,
   "metadata": {},
   "outputs": [
    {
     "data": {
      "text/plain": [
       "Array([ 5,  6,  9, 38, 35, 28, 27, 23, 24, 14,  0,  0,  0,  0,  0,  0,  0,\n",
       "        0,  0,  0,  0,  0,  0,  0,  0,  0,  0,  0], dtype=int32)"
      ]
     },
     "execution_count": 31,
     "metadata": {},
     "output_type": "execute_result"
    }
   ],
   "source": [
    "loss_generator.trials[trial_indices[0]]"
   ]
  },
  {
   "cell_type": "code",
   "execution_count": 38,
   "metadata": {},
   "outputs": [
    {
     "data": {
      "text/plain": [
       "Array([4.6410644e-04, 1.1910140e-09, 1.0097935e-09, 0.0000000e+00,\n",
       "       0.0000000e+00, 0.0000000e+00, 0.0000000e+00, 0.0000000e+00,\n",
       "       0.0000000e+00, 1.0376138e-07, 9.9999869e-01, 1.0000000e+00,\n",
       "       1.0000000e+00, 1.0000000e+00, 1.0000000e+00, 1.0000000e+00,\n",
       "       1.0000000e+00, 1.0000000e+00, 1.0000000e+00, 1.0000000e+00,\n",
       "       1.0000000e+00, 1.0000000e+00, 1.0000000e+00, 1.0000000e+00,\n",
       "       1.0000000e+00, 1.0000000e+00, 1.0000000e+00, 1.0000000e+00],      dtype=float32)"
      ]
     },
     "execution_count": 38,
     "metadata": {},
     "output_type": "execute_result"
    }
   ],
   "source": [
    "model = loss_generator.init_model_for_retrieval(0, parameters)\n",
    "\n",
    "predict_and_simulate_recalls(model, loss_generator.trials[trial_indices[0]])[1]"
   ]
  },
  {
   "cell_type": "code",
   "execution_count": 35,
   "metadata": {},
   "outputs": [
    {
     "data": {
      "text/plain": [
       "Array(0.06966393, dtype=float32)"
      ]
     },
     "execution_count": 35,
     "metadata": {},
     "output_type": "execute_result"
    }
   ],
   "source": [
    "model = loss_generator.init_model_for_retrieval(trial_indices[3], parameters)\n",
    "model.outcome_probability(1)"
   ]
  }
 ],
 "metadata": {
  "kernelspec": {
   "display_name": ".venv",
   "language": "python",
   "name": "python3"
  },
  "language_info": {
   "codemirror_mode": {
    "name": "ipython",
    "version": 3
   },
   "file_extension": ".py",
   "mimetype": "text/x-python",
   "name": "python",
   "nbconvert_exporter": "python",
   "pygments_lexer": "ipython3",
   "version": "3.12.8"
  }
 },
 "nbformat": 4,
 "nbformat_minor": 2
}
