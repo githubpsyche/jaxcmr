{
 "cells": [
  {
   "cell_type": "code",
   "execution_count": 1,
   "metadata": {
    "tags": [
     "parameters"
    ]
   },
   "outputs": [],
   "source": [
    "# params for this run\n",
    "run_tag = \"Model_Comparison\"\n",
    "fit_tag = \"full_best_of_3\"\n",
    "fit_dir = \"fits/\"\n",
    "target_directory = \"\"\n",
    "\n",
    "# data params\n",
    "data_name = \"LohnasKahana2014\"\n",
    "\n",
    "# models\n",
    "# model_names = [\"NarrowWeirdInstanceCMRDE\", \"WeirdInstanceCMRDE\", \"ConnectionistCMR\", \"OutlistInstanceCMRDE\", \"NarrowReinstateOutlistInstanceCMRDE\", \"ReinstateOutlistCMRDE\", \"OutlistCMRDE\", \"ContextCMRDE\", \"TrueInstanceCMRDE\", \"ReinstateContextCMRDE\", \"FlexCMR2\"]\n",
    "# model_names = [\"WeirdInstanceCMRDE\", \"OutlistInstanceCMRDE\", \"FlexCMRDE\", \"WeirdPositionalCMR\", \"AdditiveItemPositionalCMR\", \"MultiplicativeItemPositionalCMR\", \"PreexpMfcItemPositionalCMR\", \"TwoAlphaItemPositionalCMR\", \"WeirdFlexPositionalCMR\"]\n",
    "model_names = [\n",
    "    \"BaseCMR\",\n",
    "    \"WeirdCMR\",\n",
    "    # \"PositionScaleCMR\",\n",
    "    \"NoReinstateCMR\",\n",
    "    \"WeirdNoReinstateCMR\",\n",
    "    # \"NoScaleNoReinstateCMR\",\n",
    "    # \"NoScalePositionScaleBaseCMR\",\n",
    "    # \"InstanceCMR\",\n",
    "]\n",
    "\n",
    "# \"FakeNarrowOutlistInstanceCMRDE\", \"FakeOutlistInstanceCMRDE\",\n",
    "# \"MultiContextCMRDE\", \"NormalContextCMRDE\", \"NormalMultiContextCMRDE\",\n",
    "\n",
    "model_titles = []\n",
    "\n",
    "# params to focus on in outputs\n",
    "query_parameters = [\n",
    "    \"encoding_drift_rate\",\n",
    "    \"start_drift_rate\",\n",
    "    \"recall_drift_rate\",\n",
    "    \"shared_support\",\n",
    "    \"item_shared_support\",\n",
    "    \"position_shared_support\",\n",
    "    \"item_support\",\n",
    "    \"learning_rate\",\n",
    "    \"primacy_scale\",\n",
    "    \"primacy_decay\",\n",
    "    \"stop_probability_scale\",\n",
    "    \"stop_probability_growth\",\n",
    "    \"choice_sensitivity\",\n",
    "    \"mfc_trace_sensitivity\",\n",
    "    \"mcf_trace_sensitivity\",\n",
    "    \"mfc_choice_sensitivity\",\n",
    "    \"positional_scale\",\n",
    "    \"positional_mfc_scale\",\n",
    "    # \"semantic_scale\",\n",
    "    # \"semantic_choice_sensitivity\",\n",
    "]"
   ]
  },
  {
   "cell_type": "code",
   "execution_count": 2,
   "metadata": {},
   "outputs": [],
   "source": [
    "import os\n",
    "import json\n",
    "from jaxcmr.summarize import (\n",
    "    summarize_parameters,\n",
    "    generate_t_p_matrices,\n",
    "    winner_comparison_matrix,\n",
    "    calculate_aic_weights,\n",
    ")"
   ]
  },
  {
   "cell_type": "code",
   "execution_count": 3,
   "metadata": {},
   "outputs": [
    {
     "name": "stdout",
     "output_type": "stream",
     "text": [
      "| | | BaseCMR | WeirdCMR | NoReinstateCMR | WeirdNoReinstateCMR |\n",
      "|---|---|---|---|---|---|\n",
      "| fitness | mean | 1665.55 +/- 146.25 | 1667.75 +/- 146.53 | 1668.19 +/- 147.12 | 1667.86 +/- 146.86 |\n",
      "| | std | 419.61 | 420.43 | 422.12 | 421.38 |\n",
      "| encoding drift rate | mean | 0.76 +/- 0.03 | 0.77 +/- 0.04 | 0.76 +/- 0.04 | 0.77 +/- 0.04 |\n",
      "| | std | 0.09 | 0.12 | 0.11 | 0.10 |\n",
      "| start drift rate | mean | 0.56 +/- 0.12 | 0.51 +/- 0.12 | 0.47 +/- 0.12 | 0.37 +/- 0.12 |\n",
      "| | std | 0.34 | 0.35 | 0.34 | 0.34 |\n",
      "| recall drift rate | mean | 0.95 +/- 0.01 | 0.93 +/- 0.02 | 0.95 +/- 0.02 | 0.94 +/- 0.01 |\n",
      "| | std | 0.04 | 0.05 | 0.04 | 0.04 |\n",
      "| shared support | mean | 2.75 +/- 2.06 | 2.93 +/- 2.08 | 3.18 +/- 2.62 | 2.24 +/- 2.91 |\n",
      "| | std | 5.92 | 5.97 | 7.51 | 8.34 |\n",
      "| item shared support | mean | | | | |\n",
      "| | std | | | | |\n",
      "| position shared support | mean | | | | |\n",
      "| | std | | | | |\n",
      "| item support | mean | 6.38 +/- 4.31 | 9.16 +/- 6.16 | 6.67 +/- 4.65 | 6.28 +/- 4.47 |\n",
      "| | std | 12.38 | 17.68 | 13.34 | 12.83 |\n",
      "| learning rate | mean | 0.42 +/- 0.06 | 0.29 +/- 0.04 | 0.45 +/- 0.08 | 0.33 +/- 0.06 |\n",
      "| | std | 0.18 | 0.11 | 0.24 | 0.17 |\n",
      "| primacy scale | mean | 15.04 +/- 9.01 | 11.19 +/- 6.99 | 17.96 +/- 8.80 | 13.37 +/- 5.71 |\n",
      "| | std | 25.86 | 20.04 | 25.24 | 16.38 |\n",
      "| primacy decay | mean | 12.45 +/- 8.30 | 13.84 +/- 9.63 | 10.36 +/- 7.76 | 6.43 +/- 4.85 |\n",
      "| | std | 23.83 | 27.64 | 22.28 | 13.90 |\n",
      "| stop probability scale | mean | 0.02 +/- 0.01 | 0.02 +/- 0.01 | 0.02 +/- 0.01 | 0.02 +/- 0.01 |\n",
      "| | std | 0.02 | 0.02 | 0.02 | 0.02 |\n",
      "| stop probability growth | mean | 0.20 +/- 0.02 | 0.19 +/- 0.02 | 0.19 +/- 0.02 | 0.19 +/- 0.02 |\n",
      "| | std | 0.06 | 0.06 | 0.06 | 0.06 |\n",
      "| choice sensitivity | mean | 10.07 +/- 7.89 | 9.09 +/- 6.17 | 12.74 +/- 9.83 | 6.52 +/- 7.04 |\n",
      "| | std | 22.62 | 17.72 | 28.19 | 20.20 |\n",
      "| mfc trace sensitivity | mean | | | | |\n",
      "| | std | | | | |\n",
      "| mcf trace sensitivity | mean | | | | |\n",
      "| | std | | | | |\n",
      "| mfc choice sensitivity | mean | | | | |\n",
      "| | std | | | | |\n",
      "| positional scale | mean | | | | |\n",
      "| | std | | | | |\n",
      "| positional mfc scale | mean | | | | |\n",
      "| | std | | | | |\n",
      "\n"
     ]
    }
   ],
   "source": [
    "if not model_titles:\n",
    "    model_titles = model_names.copy()\n",
    "\n",
    "results = []\n",
    "for model_name, model_title in zip(model_names, model_titles):\n",
    "    fit_path = os.path.join(fit_dir, f\"{data_name}_{model_name}_{fit_tag}.json\")\n",
    "\n",
    "    with open(fit_path) as f:\n",
    "        results.append(json.load(f))\n",
    "        if \"subject\" not in results[-1][\"fits\"]:\n",
    "            results[-1][\"fits\"][\"subject\"] = results[-1][\"subject\"]\n",
    "        results[-1][\"name\"] = model_title\n",
    "\n",
    "summary = summarize_parameters(\n",
    "    results, query_parameters, include_std=True, include_ci=True\n",
    ")\n",
    "\n",
    "with open(\n",
    "    os.path.join(target_directory, \"tables\", f\"{data_name}_{fit_tag}_{run_tag}_parameters.md\"),\n",
    "    \"w\",\n",
    ") as f:\n",
    "    f.write(summary)\n",
    "print(summary)\n"
   ]
  },
  {
   "cell_type": "code",
   "execution_count": 4,
   "metadata": {},
   "outputs": [
    {
     "name": "stdout",
     "output_type": "stream",
     "text": [
      "|                     | BaseCMR            | WeirdCMR             | NoReinstateCMR       | WeirdNoReinstateCMR   |\n",
      "|:--------------------|:-------------------|:---------------------|:---------------------|:----------------------|\n",
      "| BaseCMR             |                    | 0.011853712058516947 | 0.007247849685136102 | 0.012210625428854123  |\n",
      "| WeirdCMR            | 0.9881462879414831 |                      | 0.33974651012291335  | 0.4607493193733744    |\n",
      "| NoReinstateCMR      | 0.9927521503148639 | 0.6602534898770867   |                      | 0.6340989573038773    |\n",
      "| WeirdNoReinstateCMR | 0.9877893745711459 | 0.5392506806266256   | 0.3659010426961227   |                       |\n"
     ]
    },
    {
     "data": {
      "application/vnd.microsoft.datawrangler.viewer.v0+json": {
       "columns": [
        {
         "name": "index",
         "rawType": "object",
         "type": "string"
        },
        {
         "name": "BaseCMR",
         "rawType": "object",
         "type": "unknown"
        },
        {
         "name": "WeirdCMR",
         "rawType": "object",
         "type": "unknown"
        },
        {
         "name": "NoReinstateCMR",
         "rawType": "object",
         "type": "unknown"
        },
        {
         "name": "WeirdNoReinstateCMR",
         "rawType": "object",
         "type": "unknown"
        }
       ],
       "conversionMethod": "pd.DataFrame",
       "ref": "9cde3fca-2d79-4e8b-92e8-23c597f69979",
       "rows": [
        [
         "BaseCMR",
         "",
         "0.011853712058516947",
         "0.007247849685136102",
         "0.012210625428854123"
        ],
        [
         "WeirdCMR",
         "0.9881462879414831",
         "",
         "0.33974651012291335",
         "0.4607493193733744"
        ],
        [
         "NoReinstateCMR",
         "0.9927521503148639",
         "0.6602534898770867",
         "",
         "0.6340989573038773"
        ],
        [
         "WeirdNoReinstateCMR",
         "0.9877893745711459",
         "0.5392506806266256",
         "0.3659010426961227",
         ""
        ]
       ],
       "shape": {
        "columns": 4,
        "rows": 4
       }
      },
      "text/html": [
       "<div>\n",
       "<style scoped>\n",
       "    .dataframe tbody tr th:only-of-type {\n",
       "        vertical-align: middle;\n",
       "    }\n",
       "\n",
       "    .dataframe tbody tr th {\n",
       "        vertical-align: top;\n",
       "    }\n",
       "\n",
       "    .dataframe thead th {\n",
       "        text-align: right;\n",
       "    }\n",
       "</style>\n",
       "<table border=\"1\" class=\"dataframe\">\n",
       "  <thead>\n",
       "    <tr style=\"text-align: right;\">\n",
       "      <th></th>\n",
       "      <th>BaseCMR</th>\n",
       "      <th>WeirdCMR</th>\n",
       "      <th>NoReinstateCMR</th>\n",
       "      <th>WeirdNoReinstateCMR</th>\n",
       "    </tr>\n",
       "  </thead>\n",
       "  <tbody>\n",
       "    <tr>\n",
       "      <th>BaseCMR</th>\n",
       "      <td></td>\n",
       "      <td>0.011854</td>\n",
       "      <td>0.007248</td>\n",
       "      <td>0.012211</td>\n",
       "    </tr>\n",
       "    <tr>\n",
       "      <th>WeirdCMR</th>\n",
       "      <td>0.988146</td>\n",
       "      <td></td>\n",
       "      <td>0.339747</td>\n",
       "      <td>0.460749</td>\n",
       "    </tr>\n",
       "    <tr>\n",
       "      <th>NoReinstateCMR</th>\n",
       "      <td>0.992752</td>\n",
       "      <td>0.660253</td>\n",
       "      <td></td>\n",
       "      <td>0.634099</td>\n",
       "    </tr>\n",
       "    <tr>\n",
       "      <th>WeirdNoReinstateCMR</th>\n",
       "      <td>0.987789</td>\n",
       "      <td>0.539251</td>\n",
       "      <td>0.365901</td>\n",
       "      <td></td>\n",
       "    </tr>\n",
       "  </tbody>\n",
       "</table>\n",
       "</div>"
      ],
      "text/plain": [
       "                      BaseCMR  WeirdCMR NoReinstateCMR WeirdNoReinstateCMR\n",
       "BaseCMR                        0.011854       0.007248            0.012211\n",
       "WeirdCMR             0.988146                 0.339747            0.460749\n",
       "NoReinstateCMR       0.992752  0.660253                           0.634099\n",
       "WeirdNoReinstateCMR  0.987789  0.539251       0.365901                    "
      ]
     },
     "execution_count": 4,
     "metadata": {},
     "output_type": "execute_result"
    }
   ],
   "source": [
    "df_t, df_p = generate_t_p_matrices(results)\n",
    "\n",
    "with open(\n",
    "    os.path.join(target_directory, \"tables\", f\"{data_name}_{fit_tag}_{run_tag}_p_matrix.md\"), \"w\"\n",
    ") as f:\n",
    "    f.write(df_p.to_markdown())\n",
    "\n",
    "print(df_p.to_markdown())\n",
    "df_p"
   ]
  },
  {
   "cell_type": "code",
   "execution_count": 5,
   "metadata": {},
   "outputs": [
    {
     "data": {
      "application/vnd.microsoft.datawrangler.viewer.v0+json": {
       "columns": [
        {
         "name": "index",
         "rawType": "object",
         "type": "string"
        },
        {
         "name": "BaseCMR",
         "rawType": "object",
         "type": "unknown"
        },
        {
         "name": "WeirdCMR",
         "rawType": "object",
         "type": "unknown"
        },
        {
         "name": "NoReinstateCMR",
         "rawType": "object",
         "type": "unknown"
        },
        {
         "name": "WeirdNoReinstateCMR",
         "rawType": "object",
         "type": "unknown"
        }
       ],
       "conversionMethod": "pd.DataFrame",
       "ref": "ed71d424-4e4c-4c3c-bbb7-1283ddf1619c",
       "rows": [
        [
         "BaseCMR",
         "",
         "-2.368098111449361",
         "-2.576494482880942",
         "-2.355236528825807"
        ],
        [
         "WeirdCMR",
         "2.368098111449361",
         "",
         "-0.4167330739134768",
         "-0.09928048198543314"
        ],
        [
         "NoReinstateCMR",
         "2.576494482880942",
         "0.4167330739134768",
         "",
         "0.34556041820104244"
        ],
        [
         "WeirdNoReinstateCMR",
         "2.355236528825807",
         "0.09928048198543314",
         "-0.34556041820104244",
         ""
        ]
       ],
       "shape": {
        "columns": 4,
        "rows": 4
       }
      },
      "text/html": [
       "<div>\n",
       "<style scoped>\n",
       "    .dataframe tbody tr th:only-of-type {\n",
       "        vertical-align: middle;\n",
       "    }\n",
       "\n",
       "    .dataframe tbody tr th {\n",
       "        vertical-align: top;\n",
       "    }\n",
       "\n",
       "    .dataframe thead th {\n",
       "        text-align: right;\n",
       "    }\n",
       "</style>\n",
       "<table border=\"1\" class=\"dataframe\">\n",
       "  <thead>\n",
       "    <tr style=\"text-align: right;\">\n",
       "      <th></th>\n",
       "      <th>BaseCMR</th>\n",
       "      <th>WeirdCMR</th>\n",
       "      <th>NoReinstateCMR</th>\n",
       "      <th>WeirdNoReinstateCMR</th>\n",
       "    </tr>\n",
       "  </thead>\n",
       "  <tbody>\n",
       "    <tr>\n",
       "      <th>BaseCMR</th>\n",
       "      <td></td>\n",
       "      <td>-2.368098</td>\n",
       "      <td>-2.576494</td>\n",
       "      <td>-2.355237</td>\n",
       "    </tr>\n",
       "    <tr>\n",
       "      <th>WeirdCMR</th>\n",
       "      <td>2.368098</td>\n",
       "      <td></td>\n",
       "      <td>-0.416733</td>\n",
       "      <td>-0.09928</td>\n",
       "    </tr>\n",
       "    <tr>\n",
       "      <th>NoReinstateCMR</th>\n",
       "      <td>2.576494</td>\n",
       "      <td>0.416733</td>\n",
       "      <td></td>\n",
       "      <td>0.34556</td>\n",
       "    </tr>\n",
       "    <tr>\n",
       "      <th>WeirdNoReinstateCMR</th>\n",
       "      <td>2.355237</td>\n",
       "      <td>0.09928</td>\n",
       "      <td>-0.34556</td>\n",
       "      <td></td>\n",
       "    </tr>\n",
       "  </tbody>\n",
       "</table>\n",
       "</div>"
      ],
      "text/plain": [
       "                      BaseCMR  WeirdCMR NoReinstateCMR WeirdNoReinstateCMR\n",
       "BaseCMR                       -2.368098      -2.576494           -2.355237\n",
       "WeirdCMR             2.368098                -0.416733            -0.09928\n",
       "NoReinstateCMR       2.576494  0.416733                            0.34556\n",
       "WeirdNoReinstateCMR  2.355237   0.09928       -0.34556                    "
      ]
     },
     "execution_count": 5,
     "metadata": {},
     "output_type": "execute_result"
    }
   ],
   "source": [
    "with open(\n",
    "    os.path.join(target_directory, \"tables\", f\"{data_name}_{fit_tag}_{run_tag}_t_matrix.md\"), \"w\"\n",
    ") as f:\n",
    "    f.write(df_t.to_markdown())\n",
    "\n",
    "df_t"
   ]
  },
  {
   "cell_type": "code",
   "execution_count": 6,
   "metadata": {},
   "outputs": [
    {
     "name": "stdout",
     "output_type": "stream",
     "text": [
      "|    | Model               |        AICw |\n",
      "|---:|:--------------------|------------:|\n",
      "|  0 | BaseCMR             | 1           |\n",
      "|  1 | WeirdCMR            | 3.27824e-34 |\n",
      "|  3 | WeirdNoReinstateCMR | 6.86928e-36 |\n",
      "|  2 | NoReinstateCMR      | 7.49202e-41 |\n"
     ]
    },
    {
     "data": {
      "application/vnd.microsoft.datawrangler.viewer.v0+json": {
       "columns": [
        {
         "name": "index",
         "rawType": "int64",
         "type": "integer"
        },
        {
         "name": "Model",
         "rawType": "object",
         "type": "string"
        },
        {
         "name": "AICw",
         "rawType": "float64",
         "type": "float"
        }
       ],
       "conversionMethod": "pd.DataFrame",
       "ref": "37a6eb19-1526-4441-8312-07599579deef",
       "rows": [
        [
         "0",
         "BaseCMR",
         "1.0"
        ],
        [
         "1",
         "WeirdCMR",
         "3.2782417416664367e-34"
        ],
        [
         "3",
         "WeirdNoReinstateCMR",
         "6.869284345290532e-36"
        ],
        [
         "2",
         "NoReinstateCMR",
         "7.49201610233152e-41"
        ]
       ],
       "shape": {
        "columns": 2,
        "rows": 4
       }
      },
      "text/html": [
       "<div>\n",
       "<style scoped>\n",
       "    .dataframe tbody tr th:only-of-type {\n",
       "        vertical-align: middle;\n",
       "    }\n",
       "\n",
       "    .dataframe tbody tr th {\n",
       "        vertical-align: top;\n",
       "    }\n",
       "\n",
       "    .dataframe thead th {\n",
       "        text-align: right;\n",
       "    }\n",
       "</style>\n",
       "<table border=\"1\" class=\"dataframe\">\n",
       "  <thead>\n",
       "    <tr style=\"text-align: right;\">\n",
       "      <th></th>\n",
       "      <th>Model</th>\n",
       "      <th>AICw</th>\n",
       "    </tr>\n",
       "  </thead>\n",
       "  <tbody>\n",
       "    <tr>\n",
       "      <th>0</th>\n",
       "      <td>BaseCMR</td>\n",
       "      <td>1.000000e+00</td>\n",
       "    </tr>\n",
       "    <tr>\n",
       "      <th>1</th>\n",
       "      <td>WeirdCMR</td>\n",
       "      <td>3.278242e-34</td>\n",
       "    </tr>\n",
       "    <tr>\n",
       "      <th>3</th>\n",
       "      <td>WeirdNoReinstateCMR</td>\n",
       "      <td>6.869284e-36</td>\n",
       "    </tr>\n",
       "    <tr>\n",
       "      <th>2</th>\n",
       "      <td>NoReinstateCMR</td>\n",
       "      <td>7.492016e-41</td>\n",
       "    </tr>\n",
       "  </tbody>\n",
       "</table>\n",
       "</div>"
      ],
      "text/plain": [
       "                 Model          AICw\n",
       "0              BaseCMR  1.000000e+00\n",
       "1             WeirdCMR  3.278242e-34\n",
       "3  WeirdNoReinstateCMR  6.869284e-36\n",
       "2       NoReinstateCMR  7.492016e-41"
      ]
     },
     "execution_count": 6,
     "metadata": {},
     "output_type": "execute_result"
    }
   ],
   "source": [
    "aic_weights = calculate_aic_weights(results)\n",
    "\n",
    "with open(\n",
    "    os.path.join(target_directory, \"tables\", f\"{data_name}_{fit_tag}_{run_tag}_aic_weights.md\"),\n",
    "    \"w\",\n",
    ") as f:\n",
    "    f.write(aic_weights.to_markdown())\n",
    "\n",
    "print(aic_weights.to_markdown())\n",
    "aic_weights"
   ]
  },
  {
   "cell_type": "code",
   "execution_count": 7,
   "metadata": {},
   "outputs": [
    {
     "name": "stdout",
     "output_type": "stream",
     "text": [
      "|                     |    BaseCMR |   WeirdCMR |   NoReinstateCMR |   WeirdNoReinstateCMR |\n",
      "|:--------------------|-----------:|-----------:|-----------------:|----------------------:|\n",
      "| BaseCMR             |            |   0.714286 |         0.742857 |              0.657143 |\n",
      "| WeirdCMR            |   0.285714 |            |         0.571429 |              0.571429 |\n",
      "| NoReinstateCMR      |   0.257143 |   0.428571 |                  |              0.457143 |\n",
      "| WeirdNoReinstateCMR |   0.342857 |   0.428571 |         0.542857 |                       |\n"
     ]
    }
   ],
   "source": [
    "df_comparison = winner_comparison_matrix(results)\n",
    "\n",
    "with open(\n",
    "    os.path.join(target_directory, \"tables\", f\"{data_name}_{fit_tag}_{run_tag}_winner_ratios.md\"),\n",
    "    \"w\",\n",
    ") as f:\n",
    "    f.write(df_comparison.to_markdown().replace(\" nan \", \"     \"))\n",
    "\n",
    "print(df_comparison.to_markdown().replace(\" nan \", \"     \"))"
   ]
  },
  {
   "cell_type": "code",
   "execution_count": null,
   "metadata": {},
   "outputs": [],
   "source": []
  }
 ],
 "metadata": {
  "kernelspec": {
   "display_name": ".venv",
   "language": "python",
   "name": "python3"
  },
  "language_info": {
   "codemirror_mode": {
    "name": "ipython",
    "version": 3
   },
   "file_extension": ".py",
   "mimetype": "text/x-python",
   "name": "python",
   "nbconvert_exporter": "python",
   "pygments_lexer": "ipython3",
   "version": "3.12.8"
  }
 },
 "nbformat": 4,
 "nbformat_minor": 2
}
