{
 "cells": [
  {
   "cell_type": "code",
   "execution_count": 1,
   "metadata": {
    "tags": [
     "parameters"
    ]
   },
   "outputs": [],
   "source": [
    "# params for this run\n",
    "run_tag = \"Model_Comparison\"\n",
    "fit_tag = \"full_best_of_3\"\n",
    "fit_dir = \"fits/\"\n",
    "target_directory = \"\"\n",
    "\n",
    "# data params\n",
    "data_name = \"LohnasKahana2014\"\n",
    "\n",
    "# models\n",
    "# model_names = [\"NarrowWeirdInstanceCMRDE\", \"WeirdInstanceCMRDE\", \"ConnectionistCMR\", \"OutlistInstanceCMRDE\", \"NarrowReinstateOutlistInstanceCMRDE\", \"ReinstateOutlistCMRDE\", \"OutlistCMRDE\", \"ContextCMRDE\", \"TrueInstanceCMRDE\", \"ReinstateContextCMRDE\", \"FlexCMR2\"]\n",
    "# model_names = [\"WeirdInstanceCMRDE\", \"OutlistInstanceCMRDE\", \"FlexCMRDE\", \"WeirdPositionalCMR\", \"AdditiveItemPositionalCMR\", \"MultiplicativeItemPositionalCMR\", \"PreexpMfcItemPositionalCMR\", \"TwoAlphaItemPositionalCMR\", \"WeirdFlexPositionalCMR\"]\n",
    "model_names = [\n",
    "    # \"BaseCMR\",\n",
    "    \"WeirdCMR\",\n",
    "    \"WeirdPositionScaleCMR\",\n",
    "    # \"NoReinstateCMR\",\n",
    "    \"WeirdNoReinstateCMR\",\n",
    "    \"OutlistCMRDE\",\n",
    "    \"WeirdNoPrexpPositionCMR\",\n",
    "    # \"NoScaleNoReinstateCMR\",\n",
    "    # \"NoScalePositionScaleBaseCMR\",\n",
    "    # \"InstanceCMR\",\n",
    "]\n",
    "\n",
    "# \"FakeNarrowOutlistInstanceCMRDE\", \"FakeOutlistInstanceCMRDE\",\n",
    "# \"MultiContextCMRDE\", \"NormalContextCMRDE\", \"NormalMultiContextCMRDE\",\n",
    "\n",
    "model_titles = []\n",
    "\n",
    "# params to focus on in outputs\n",
    "query_parameters = [\n",
    "    \"encoding_drift_rate\",\n",
    "    \"start_drift_rate\",\n",
    "    \"recall_drift_rate\",\n",
    "    \"shared_support\",\n",
    "    \"item_shared_support\",\n",
    "    \"position_shared_support\",\n",
    "    \"item_support\",\n",
    "    \"learning_rate\",\n",
    "    \"primacy_scale\",\n",
    "    \"primacy_decay\",\n",
    "    \"stop_probability_scale\",\n",
    "    \"stop_probability_growth\",\n",
    "    \"choice_sensitivity\",\n",
    "    \"mfc_trace_sensitivity\",\n",
    "    \"mcf_trace_sensitivity\",\n",
    "    \"mfc_choice_sensitivity\",\n",
    "    \"positional_scale\",\n",
    "    \"positional_mfc_scale\",\n",
    "    # \"semantic_scale\",\n",
    "    # \"semantic_choice_sensitivity\",\n",
    "]"
   ]
  },
  {
   "cell_type": "code",
   "execution_count": 2,
   "metadata": {},
   "outputs": [],
   "source": [
    "import os\n",
    "import json\n",
    "from jaxcmr.summarize import (\n",
    "    summarize_parameters,\n",
    "    generate_t_p_matrices,\n",
    "    winner_comparison_matrix,\n",
    "    calculate_aic_weights,\n",
    ")"
   ]
  },
  {
   "cell_type": "code",
   "execution_count": 3,
   "metadata": {},
   "outputs": [
    {
     "name": "stdout",
     "output_type": "stream",
     "text": [
      "| | | WeirdCMR | WeirdPositionScaleCMR | WeirdNoReinstateCMR | OutlistCMRDE | WeirdNoPrexpPositionCMR |\n",
      "|---|---|---|---|---|---|---|\n",
      "| fitness | mean | 1667.75 +/- 146.53 | 1659.83 +/- 146.81 | 1667.86 +/- 146.86 | 1660.34 +/- 146.28 | 1659.83 +/- 146.78 |\n",
      "| | std | 420.43 | 421.22 | 421.38 | 419.71 | 421.13 |\n",
      "| encoding drift rate | mean | 0.77 +/- 0.04 | 0.71 +/- 0.04 | 0.77 +/- 0.04 | 0.75 +/- 0.04 | 0.72 +/- 0.04 |\n",
      "| | std | 0.12 | 0.12 | 0.10 | 0.12 | 0.12 |\n",
      "| start drift rate | mean | 0.51 +/- 0.12 | 0.45 +/- 0.10 | 0.37 +/- 0.12 | 0.41 +/- 0.10 | 0.37 +/- 0.10 |\n",
      "| | std | 0.35 | 0.29 | 0.34 | 0.29 | 0.30 |\n",
      "| recall drift rate | mean | 0.93 +/- 0.02 | 0.91 +/- 0.02 | 0.94 +/- 0.01 | 0.93 +/- 0.01 | 0.94 +/- 0.02 |\n",
      "| | std | 0.05 | 0.06 | 0.04 | 0.04 | 0.04 |\n",
      "| shared support | mean | 2.93 +/- 2.08 | 4.66 +/- 2.32 | 2.24 +/- 2.91 | 5.34 +/- 2.78 | 2.31 +/- 1.44 |\n",
      "| | std | 5.97 | 6.66 | 8.34 | 7.98 | 4.14 |\n",
      "| item shared support | mean | | | | | |\n",
      "| | std | | | | | |\n",
      "| position shared support | mean | | | | | |\n",
      "| | std | | | | | |\n",
      "| item support | mean | 9.16 +/- 6.16 | 10.35 +/- 6.84 | 6.28 +/- 4.47 | 6.23 +/- 2.97 | 3.73 +/- 2.07 |\n",
      "| | std | 17.68 | 19.62 | 12.83 | 8.51 | 5.95 |\n",
      "| learning rate | mean | 0.29 +/- 0.04 | 0.60 +/- 0.06 | 0.33 +/- 0.06 | 0.48 +/- 0.05 | 0.55 +/- 0.06 |\n",
      "| | std | 0.11 | 0.16 | 0.17 | 0.15 | 0.16 |\n",
      "| primacy scale | mean | 11.19 +/- 6.99 | 21.41 +/- 11.85 | 13.37 +/- 5.71 | 4.06 +/- 2.99 | 20.34 +/- 11.20 |\n",
      "| | std | 20.04 | 34.01 | 16.38 | 8.58 | 32.13 |\n",
      "| primacy decay | mean | 13.84 +/- 9.63 | 23.42 +/- 9.86 | 6.43 +/- 4.85 | 18.76 +/- 8.72 | 19.99 +/- 11.71 |\n",
      "| | std | 27.64 | 28.30 | 13.90 | 25.01 | 33.59 |\n",
      "| stop probability scale | mean | 0.02 +/- 0.01 | 0.02 +/- 0.01 | 0.02 +/- 0.01 | 0.02 +/- 0.01 | 0.02 +/- 0.01 |\n",
      "| | std | 0.02 | 0.02 | 0.02 | 0.02 | 0.02 |\n",
      "| stop probability growth | mean | 0.19 +/- 0.02 | 0.20 +/- 0.02 | 0.19 +/- 0.02 | 0.20 +/- 0.02 | 0.19 +/- 0.02 |\n",
      "| | std | 0.06 | 0.06 | 0.06 | 0.07 | 0.06 |\n",
      "| choice sensitivity | mean | 9.09 +/- 6.17 | 17.02 +/- 9.58 | 6.52 +/- 7.04 | 24.69 +/- 12.53 | 8.93 +/- 7.19 |\n",
      "| | std | 17.72 | 27.48 | 20.20 | 35.95 | 20.63 |\n",
      "| mfc trace sensitivity | mean | | | | 0.15 +/- 0.05 | |\n",
      "| | std | | | | 0.14 | |\n",
      "| mcf trace sensitivity | mean | | | | | |\n",
      "| | std | | | | | |\n",
      "| mfc choice sensitivity | mean | | | | 1.00 +/- 0.00 | |\n",
      "| | std | | | | 0.00 | |\n",
      "| positional scale | mean | | | | | |\n",
      "| | std | | | | | |\n",
      "| positional mfc scale | mean | | | | | |\n",
      "| | std | | | | | |\n",
      "\n"
     ]
    }
   ],
   "source": [
    "if not model_titles:\n",
    "    model_titles = model_names.copy()\n",
    "\n",
    "results = []\n",
    "for model_name, model_title in zip(model_names, model_titles):\n",
    "    fit_path = os.path.join(fit_dir, f\"{data_name}_{model_name}_{fit_tag}.json\")\n",
    "\n",
    "    with open(fit_path) as f:\n",
    "        results.append(json.load(f))\n",
    "        if \"subject\" not in results[-1][\"fits\"]:\n",
    "            results[-1][\"fits\"][\"subject\"] = results[-1][\"subject\"]\n",
    "        results[-1][\"name\"] = model_title\n",
    "\n",
    "summary = summarize_parameters(\n",
    "    results, query_parameters, include_std=True, include_ci=True\n",
    ")\n",
    "\n",
    "with open(\n",
    "    os.path.join(target_directory, \"tables\", f\"{data_name}_{fit_tag}_{run_tag}_parameters.md\"),\n",
    "    \"w\",\n",
    ") as f:\n",
    "    f.write(summary)\n",
    "print(summary)\n"
   ]
  },
  {
   "cell_type": "code",
   "execution_count": 4,
   "metadata": {},
   "outputs": [
    {
     "name": "stdout",
     "output_type": "stream",
     "text": [
      "|                         | WeirdCMR               | WeirdPositionScaleCMR   | WeirdNoReinstateCMR    | OutlistCMRDE        | WeirdNoPrexpPositionCMR   |\n",
      "|:------------------------|:-----------------------|:------------------------|:-----------------------|:--------------------|:--------------------------|\n",
      "| WeirdCMR                |                        | 0.9999961851599968      | 0.4607493193733744     | 0.9999993900826833  | 0.9999988540109558        |\n",
      "| WeirdPositionScaleCMR   | 3.814840003284842e-06  |                         | 1.5893901076511372e-07 | 0.3607711231613683  | 0.49710342997778967       |\n",
      "| WeirdNoReinstateCMR     | 0.5392506806266256     | 0.9999998410609893      |                        | 0.9999982189592076  | 0.9999999813102048        |\n",
      "| OutlistCMRDE            | 6.09917316586724e-07   | 0.6392288768386317      | 1.781040792387375e-06  |                     | 0.6458341521361792        |\n",
      "| WeirdNoPrexpPositionCMR | 1.1459890441792031e-06 | 0.5028965700222103      | 1.868979518927868e-08  | 0.35416584786382066 |                           |\n"
     ]
    },
    {
     "data": {
      "application/vnd.microsoft.datawrangler.viewer.v0+json": {
       "columns": [
        {
         "name": "index",
         "rawType": "object",
         "type": "string"
        },
        {
         "name": "WeirdCMR",
         "rawType": "object",
         "type": "unknown"
        },
        {
         "name": "WeirdPositionScaleCMR",
         "rawType": "object",
         "type": "unknown"
        },
        {
         "name": "WeirdNoReinstateCMR",
         "rawType": "object",
         "type": "unknown"
        },
        {
         "name": "OutlistCMRDE",
         "rawType": "object",
         "type": "unknown"
        },
        {
         "name": "WeirdNoPrexpPositionCMR",
         "rawType": "object",
         "type": "unknown"
        }
       ],
       "conversionMethod": "pd.DataFrame",
       "ref": "9aa56ac2-ead5-404e-ac34-a0c31354a2be",
       "rows": [
        [
         "WeirdCMR",
         "",
         "0.9999961851599968",
         "0.4607493193733744",
         "0.9999993900826833",
         "0.9999988540109558"
        ],
        [
         "WeirdPositionScaleCMR",
         "3.814840003284842e-06",
         "",
         "1.5893901076511372e-07",
         "0.3607711231613683",
         "0.49710342997778967"
        ],
        [
         "WeirdNoReinstateCMR",
         "0.5392506806266256",
         "0.9999998410609893",
         "",
         "0.9999982189592076",
         "0.9999999813102048"
        ],
        [
         "OutlistCMRDE",
         "6.09917316586724e-07",
         "0.6392288768386317",
         "1.781040792387375e-06",
         "",
         "0.6458341521361792"
        ],
        [
         "WeirdNoPrexpPositionCMR",
         "1.1459890441792031e-06",
         "0.5028965700222103",
         "1.868979518927868e-08",
         "0.35416584786382066",
         ""
        ]
       ],
       "shape": {
        "columns": 5,
        "rows": 5
       }
      },
      "text/html": [
       "<div>\n",
       "<style scoped>\n",
       "    .dataframe tbody tr th:only-of-type {\n",
       "        vertical-align: middle;\n",
       "    }\n",
       "\n",
       "    .dataframe tbody tr th {\n",
       "        vertical-align: top;\n",
       "    }\n",
       "\n",
       "    .dataframe thead th {\n",
       "        text-align: right;\n",
       "    }\n",
       "</style>\n",
       "<table border=\"1\" class=\"dataframe\">\n",
       "  <thead>\n",
       "    <tr style=\"text-align: right;\">\n",
       "      <th></th>\n",
       "      <th>WeirdCMR</th>\n",
       "      <th>WeirdPositionScaleCMR</th>\n",
       "      <th>WeirdNoReinstateCMR</th>\n",
       "      <th>OutlistCMRDE</th>\n",
       "      <th>WeirdNoPrexpPositionCMR</th>\n",
       "    </tr>\n",
       "  </thead>\n",
       "  <tbody>\n",
       "    <tr>\n",
       "      <th>WeirdCMR</th>\n",
       "      <td></td>\n",
       "      <td>0.999996</td>\n",
       "      <td>0.460749</td>\n",
       "      <td>0.999999</td>\n",
       "      <td>0.999999</td>\n",
       "    </tr>\n",
       "    <tr>\n",
       "      <th>WeirdPositionScaleCMR</th>\n",
       "      <td>0.000004</td>\n",
       "      <td></td>\n",
       "      <td>0.0</td>\n",
       "      <td>0.360771</td>\n",
       "      <td>0.497103</td>\n",
       "    </tr>\n",
       "    <tr>\n",
       "      <th>WeirdNoReinstateCMR</th>\n",
       "      <td>0.539251</td>\n",
       "      <td>1.0</td>\n",
       "      <td></td>\n",
       "      <td>0.999998</td>\n",
       "      <td>1.0</td>\n",
       "    </tr>\n",
       "    <tr>\n",
       "      <th>OutlistCMRDE</th>\n",
       "      <td>0.000001</td>\n",
       "      <td>0.639229</td>\n",
       "      <td>0.000002</td>\n",
       "      <td></td>\n",
       "      <td>0.645834</td>\n",
       "    </tr>\n",
       "    <tr>\n",
       "      <th>WeirdNoPrexpPositionCMR</th>\n",
       "      <td>0.000001</td>\n",
       "      <td>0.502897</td>\n",
       "      <td>0.0</td>\n",
       "      <td>0.354166</td>\n",
       "      <td></td>\n",
       "    </tr>\n",
       "  </tbody>\n",
       "</table>\n",
       "</div>"
      ],
      "text/plain": [
       "                         WeirdCMR WeirdPositionScaleCMR WeirdNoReinstateCMR  \\\n",
       "WeirdCMR                                       0.999996            0.460749   \n",
       "WeirdPositionScaleCMR    0.000004                                       0.0   \n",
       "WeirdNoReinstateCMR      0.539251                   1.0                       \n",
       "OutlistCMRDE             0.000001              0.639229            0.000002   \n",
       "WeirdNoPrexpPositionCMR  0.000001              0.502897                 0.0   \n",
       "\n",
       "                        OutlistCMRDE WeirdNoPrexpPositionCMR  \n",
       "WeirdCMR                    0.999999                0.999999  \n",
       "WeirdPositionScaleCMR       0.360771                0.497103  \n",
       "WeirdNoReinstateCMR         0.999998                     1.0  \n",
       "OutlistCMRDE                                        0.645834  \n",
       "WeirdNoPrexpPositionCMR     0.354166                          "
      ]
     },
     "execution_count": 4,
     "metadata": {},
     "output_type": "execute_result"
    }
   ],
   "source": [
    "df_t, df_p = generate_t_p_matrices(results)\n",
    "\n",
    "with open(\n",
    "    os.path.join(target_directory, \"tables\", f\"{data_name}_{fit_tag}_{run_tag}_p_matrix.md\"), \"w\"\n",
    ") as f:\n",
    "    f.write(df_p.to_markdown())\n",
    "\n",
    "print(df_p.to_markdown())\n",
    "df_p"
   ]
  },
  {
   "cell_type": "code",
   "execution_count": 5,
   "metadata": {},
   "outputs": [
    {
     "data": {
      "application/vnd.microsoft.datawrangler.viewer.v0+json": {
       "columns": [
        {
         "name": "index",
         "rawType": "object",
         "type": "string"
        },
        {
         "name": "WeirdCMR",
         "rawType": "object",
         "type": "unknown"
        },
        {
         "name": "WeirdPositionScaleCMR",
         "rawType": "object",
         "type": "unknown"
        },
        {
         "name": "WeirdNoReinstateCMR",
         "rawType": "object",
         "type": "unknown"
        },
        {
         "name": "OutlistCMRDE",
         "rawType": "object",
         "type": "unknown"
        },
        {
         "name": "WeirdNoPrexpPositionCMR",
         "rawType": "object",
         "type": "unknown"
        }
       ],
       "conversionMethod": "pd.DataFrame",
       "ref": "72d56e0a-e1dd-423e-930e-131c1928c06b",
       "rows": [
        [
         "WeirdCMR",
         "",
         "5.2714818272343305",
         "-0.09928048198543314",
         "5.88355238083091",
         "5.6728863946043795"
        ],
        [
         "WeirdPositionScaleCMR",
         "-5.2714818272343305",
         "",
         "-6.334471429289055",
         "-0.3593679376264795",
         "-0.007314267406885646"
        ],
        [
         "WeirdNoReinstateCMR",
         "0.09928048198543314",
         "6.334471429289055",
         "",
         "5.525734904933937",
         "7.061236236822609"
        ],
        [
         "OutlistCMRDE",
         "-5.88355238083091",
         "0.3593679376264795",
         "-5.525734904933937",
         "",
         "0.37725097407975616"
        ],
        [
         "WeirdNoPrexpPositionCMR",
         "-5.6728863946043795",
         "0.007314267406885646",
         "-7.061236236822609",
         "-0.37725097407975616",
         ""
        ]
       ],
       "shape": {
        "columns": 5,
        "rows": 5
       }
      },
      "text/html": [
       "<div>\n",
       "<style scoped>\n",
       "    .dataframe tbody tr th:only-of-type {\n",
       "        vertical-align: middle;\n",
       "    }\n",
       "\n",
       "    .dataframe tbody tr th {\n",
       "        vertical-align: top;\n",
       "    }\n",
       "\n",
       "    .dataframe thead th {\n",
       "        text-align: right;\n",
       "    }\n",
       "</style>\n",
       "<table border=\"1\" class=\"dataframe\">\n",
       "  <thead>\n",
       "    <tr style=\"text-align: right;\">\n",
       "      <th></th>\n",
       "      <th>WeirdCMR</th>\n",
       "      <th>WeirdPositionScaleCMR</th>\n",
       "      <th>WeirdNoReinstateCMR</th>\n",
       "      <th>OutlistCMRDE</th>\n",
       "      <th>WeirdNoPrexpPositionCMR</th>\n",
       "    </tr>\n",
       "  </thead>\n",
       "  <tbody>\n",
       "    <tr>\n",
       "      <th>WeirdCMR</th>\n",
       "      <td></td>\n",
       "      <td>5.271482</td>\n",
       "      <td>-0.09928</td>\n",
       "      <td>5.883552</td>\n",
       "      <td>5.672886</td>\n",
       "    </tr>\n",
       "    <tr>\n",
       "      <th>WeirdPositionScaleCMR</th>\n",
       "      <td>-5.271482</td>\n",
       "      <td></td>\n",
       "      <td>-6.334471</td>\n",
       "      <td>-0.359368</td>\n",
       "      <td>-0.007314</td>\n",
       "    </tr>\n",
       "    <tr>\n",
       "      <th>WeirdNoReinstateCMR</th>\n",
       "      <td>0.09928</td>\n",
       "      <td>6.334471</td>\n",
       "      <td></td>\n",
       "      <td>5.525735</td>\n",
       "      <td>7.061236</td>\n",
       "    </tr>\n",
       "    <tr>\n",
       "      <th>OutlistCMRDE</th>\n",
       "      <td>-5.883552</td>\n",
       "      <td>0.359368</td>\n",
       "      <td>-5.525735</td>\n",
       "      <td></td>\n",
       "      <td>0.377251</td>\n",
       "    </tr>\n",
       "    <tr>\n",
       "      <th>WeirdNoPrexpPositionCMR</th>\n",
       "      <td>-5.672886</td>\n",
       "      <td>0.007314</td>\n",
       "      <td>-7.061236</td>\n",
       "      <td>-0.377251</td>\n",
       "      <td></td>\n",
       "    </tr>\n",
       "  </tbody>\n",
       "</table>\n",
       "</div>"
      ],
      "text/plain": [
       "                         WeirdCMR WeirdPositionScaleCMR WeirdNoReinstateCMR  \\\n",
       "WeirdCMR                                       5.271482            -0.09928   \n",
       "WeirdPositionScaleCMR   -5.271482                                 -6.334471   \n",
       "WeirdNoReinstateCMR       0.09928              6.334471                       \n",
       "OutlistCMRDE            -5.883552              0.359368           -5.525735   \n",
       "WeirdNoPrexpPositionCMR -5.672886              0.007314           -7.061236   \n",
       "\n",
       "                        OutlistCMRDE WeirdNoPrexpPositionCMR  \n",
       "WeirdCMR                    5.883552                5.672886  \n",
       "WeirdPositionScaleCMR      -0.359368               -0.007314  \n",
       "WeirdNoReinstateCMR         5.525735                7.061236  \n",
       "OutlistCMRDE                                        0.377251  \n",
       "WeirdNoPrexpPositionCMR    -0.377251                          "
      ]
     },
     "execution_count": 5,
     "metadata": {},
     "output_type": "execute_result"
    }
   ],
   "source": [
    "with open(\n",
    "    os.path.join(target_directory, \"tables\", f\"{data_name}_{fit_tag}_{run_tag}_t_matrix.md\"), \"w\"\n",
    ") as f:\n",
    "    f.write(df_t.to_markdown())\n",
    "\n",
    "df_t"
   ]
  },
  {
   "cell_type": "code",
   "execution_count": 6,
   "metadata": {},
   "outputs": [
    {
     "name": "stdout",
     "output_type": "stream",
     "text": [
      "|    | Model                   |         AICw |\n",
      "|---:|:------------------------|-------------:|\n",
      "|  1 | WeirdPositionScaleCMR   | 0.571049     |\n",
      "|  4 | WeirdNoPrexpPositionCMR | 0.428951     |\n",
      "|  3 | OutlistCMRDE            | 3.24986e-09  |\n",
      "|  0 | WeirdCMR                | 1.90224e-121 |\n",
      "|  2 | WeirdNoReinstateCMR     | 3.98598e-123 |\n"
     ]
    },
    {
     "data": {
      "application/vnd.microsoft.datawrangler.viewer.v0+json": {
       "columns": [
        {
         "name": "index",
         "rawType": "int64",
         "type": "integer"
        },
        {
         "name": "Model",
         "rawType": "object",
         "type": "string"
        },
        {
         "name": "AICw",
         "rawType": "float64",
         "type": "float"
        }
       ],
       "conversionMethod": "pd.DataFrame",
       "ref": "fc06860d-ed4a-4d9d-9078-60fcafb4c92d",
       "rows": [
        [
         "1",
         "WeirdPositionScaleCMR",
         "0.5710491170574487"
        ],
        [
         "4",
         "WeirdNoPrexpPositionCMR",
         "0.4289508796926951"
        ],
        [
         "3",
         "OutlistCMRDE",
         "3.249856310745286e-09"
        ],
        [
         "0",
         "WeirdCMR",
         "1.9022384709984762e-121"
        ],
        [
         "2",
         "WeirdNoReinstateCMR",
         "3.9859833348338865e-123"
        ]
       ],
       "shape": {
        "columns": 2,
        "rows": 5
       }
      },
      "text/html": [
       "<div>\n",
       "<style scoped>\n",
       "    .dataframe tbody tr th:only-of-type {\n",
       "        vertical-align: middle;\n",
       "    }\n",
       "\n",
       "    .dataframe tbody tr th {\n",
       "        vertical-align: top;\n",
       "    }\n",
       "\n",
       "    .dataframe thead th {\n",
       "        text-align: right;\n",
       "    }\n",
       "</style>\n",
       "<table border=\"1\" class=\"dataframe\">\n",
       "  <thead>\n",
       "    <tr style=\"text-align: right;\">\n",
       "      <th></th>\n",
       "      <th>Model</th>\n",
       "      <th>AICw</th>\n",
       "    </tr>\n",
       "  </thead>\n",
       "  <tbody>\n",
       "    <tr>\n",
       "      <th>1</th>\n",
       "      <td>WeirdPositionScaleCMR</td>\n",
       "      <td>5.710491e-01</td>\n",
       "    </tr>\n",
       "    <tr>\n",
       "      <th>4</th>\n",
       "      <td>WeirdNoPrexpPositionCMR</td>\n",
       "      <td>4.289509e-01</td>\n",
       "    </tr>\n",
       "    <tr>\n",
       "      <th>3</th>\n",
       "      <td>OutlistCMRDE</td>\n",
       "      <td>3.249856e-09</td>\n",
       "    </tr>\n",
       "    <tr>\n",
       "      <th>0</th>\n",
       "      <td>WeirdCMR</td>\n",
       "      <td>1.902238e-121</td>\n",
       "    </tr>\n",
       "    <tr>\n",
       "      <th>2</th>\n",
       "      <td>WeirdNoReinstateCMR</td>\n",
       "      <td>3.985983e-123</td>\n",
       "    </tr>\n",
       "  </tbody>\n",
       "</table>\n",
       "</div>"
      ],
      "text/plain": [
       "                     Model           AICw\n",
       "1    WeirdPositionScaleCMR   5.710491e-01\n",
       "4  WeirdNoPrexpPositionCMR   4.289509e-01\n",
       "3             OutlistCMRDE   3.249856e-09\n",
       "0                 WeirdCMR  1.902238e-121\n",
       "2      WeirdNoReinstateCMR  3.985983e-123"
      ]
     },
     "execution_count": 6,
     "metadata": {},
     "output_type": "execute_result"
    }
   ],
   "source": [
    "aic_weights = calculate_aic_weights(results)\n",
    "\n",
    "with open(\n",
    "    os.path.join(target_directory, \"tables\", f\"{data_name}_{fit_tag}_{run_tag}_aic_weights.md\"),\n",
    "    \"w\",\n",
    ") as f:\n",
    "    f.write(aic_weights.to_markdown())\n",
    "\n",
    "print(aic_weights.to_markdown())\n",
    "aic_weights"
   ]
  },
  {
   "cell_type": "code",
   "execution_count": 7,
   "metadata": {},
   "outputs": [
    {
     "name": "stdout",
     "output_type": "stream",
     "text": [
      "|                         |   WeirdCMR |   WeirdPositionScaleCMR |   WeirdNoReinstateCMR |   OutlistCMRDE |   WeirdNoPrexpPositionCMR |\n",
      "|:------------------------|-----------:|------------------------:|----------------------:|---------------:|--------------------------:|\n",
      "| WeirdCMR                |            |               0.142857  |              0.571429 |       0.114286 |                  0.142857 |\n",
      "| WeirdPositionScaleCMR   |   0.857143 |                         |              0.914286 |       0.542857 |                  0.542857 |\n",
      "| WeirdNoReinstateCMR     |   0.428571 |               0.0857143 |                       |       0.2      |                  0.114286 |\n",
      "| OutlistCMRDE            |   0.885714 |               0.457143  |              0.8      |                |                  0.4      |\n",
      "| WeirdNoPrexpPositionCMR |   0.857143 |               0.457143  |              0.885714 |       0.6      |                           |\n"
     ]
    }
   ],
   "source": [
    "df_comparison = winner_comparison_matrix(results)\n",
    "\n",
    "with open(\n",
    "    os.path.join(target_directory, \"tables\", f\"{data_name}_{fit_tag}_{run_tag}_winner_ratios.md\"),\n",
    "    \"w\",\n",
    ") as f:\n",
    "    f.write(df_comparison.to_markdown().replace(\" nan \", \"     \"))\n",
    "\n",
    "print(df_comparison.to_markdown().replace(\" nan \", \"     \"))"
   ]
  },
  {
   "cell_type": "code",
   "execution_count": null,
   "metadata": {},
   "outputs": [],
   "source": []
  }
 ],
 "metadata": {
  "kernelspec": {
   "display_name": ".venv",
   "language": "python",
   "name": "python3"
  },
  "language_info": {
   "codemirror_mode": {
    "name": "ipython",
    "version": 3
   },
   "file_extension": ".py",
   "mimetype": "text/x-python",
   "name": "python",
   "nbconvert_exporter": "python",
   "pygments_lexer": "ipython3",
   "version": "3.12.8"
  }
 },
 "nbformat": 4,
 "nbformat_minor": 2
}
