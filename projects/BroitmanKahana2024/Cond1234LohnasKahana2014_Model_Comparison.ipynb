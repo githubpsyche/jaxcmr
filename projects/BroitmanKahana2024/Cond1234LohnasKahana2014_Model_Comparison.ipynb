{
 "cells": [
  {
   "cell_type": "code",
   "execution_count": 1,
   "metadata": {
    "tags": [
     "parameters"
    ]
   },
   "outputs": [],
   "source": [
    "# params for this run\n",
    "run_tag = \"Model_Comparison\"\n",
    "fit_tag = \"full_best_of_3\"\n",
    "fit_dir = \"fits/\"\n",
    "target_directory = \"\"\n",
    "\n",
    "# data params\n",
    "data_name = \"BroitmanKahana2024\"\n",
    "\n",
    "# models\n",
    "# model_names = [\"NarrowWeirdInstanceCMRDE\", \"WeirdInstanceCMRDE\", \"ConnectionistCMR\", \"OutlistInstanceCMRDE\", \"NarrowReinstateOutlistInstanceCMRDE\", \"ReinstateOutlistCMRDE\", \"OutlistCMRDE\", \"ContextCMRDE\", \"TrueInstanceCMRDE\", \"ReinstateContextCMRDE\", \"FlexCMR2\"]\n",
    "# model_names = [\"WeirdInstanceCMRDE\", \"OutlistInstanceCMRDE\", \"FlexCMRDE\", \"WeirdPositionalCMR\", \"AdditiveItemPositionalCMR\", \"MultiplicativeItemPositionalCMR\", \"PreexpMfcItemPositionalCMR\", \"TwoAlphaItemPositionalCMR\", \"WeirdFlexPositionalCMR\"]\n",
    "model_names = [\n",
    "    # \"BaseCMR\",\n",
    "    \"WeirdCMR\",\n",
    "    \"WeirdPositionScaleCMR\",\n",
    "    # \"NoReinstateCMR\",\n",
    "    \"WeirdNoReinstateCMR\",\n",
    "    \"OutlistCMRDE\",\n",
    "    # \"WeirdNoPrexpPositionCMR\",\n",
    "    # \"FlexPositionScaleCMR\",\n",
    "    # \"NoPrexpPositionCMR\",\n",
    "    # \"NoScaleNoReinstateCMR\",\n",
    "    # \"NoScalePositionScaleBaseCMR\",\n",
    "    # \"InstanceCMR\",\n",
    "]\n",
    "\n",
    "# \"FakeNarrowOutlistInstanceCMRDE\", \"FakeOutlistInstanceCMRDE\",\n",
    "# \"MultiContextCMRDE\", \"NormalContextCMRDE\", \"NormalMultiContextCMRDE\",\n",
    "\n",
    "model_titles = []\n",
    "\n",
    "# params to focus on in outputs\n",
    "query_parameters = [\n",
    "    \"encoding_drift_rate\",\n",
    "    \"start_drift_rate\",\n",
    "    \"recall_drift_rate\",\n",
    "    \"shared_support\",\n",
    "    # \"item_shared_support\",\n",
    "    # \"position_shared_support\",\n",
    "    \"item_support\",\n",
    "    \"learning_rate\",\n",
    "    \"primacy_scale\",\n",
    "    \"primacy_decay\",\n",
    "    \"stop_probability_scale\",\n",
    "    \"stop_probability_growth\",\n",
    "    \"choice_sensitivity\",\n",
    "    # \"mfc_trace_sensitivity\",\n",
    "    # \"mcf_trace_sensitivity\",\n",
    "    \"mfc_choice_sensitivity\",\n",
    "    # \"positional_scale\",\n",
    "    # \"positional_mfc_scale\",\n",
    "    # \"semantic_scale\",\n",
    "    # \"semantic_choice_sensitivity\",\n",
    "]"
   ]
  },
  {
   "cell_type": "code",
   "execution_count": 2,
   "metadata": {},
   "outputs": [],
   "source": [
    "import os\n",
    "import json\n",
    "from jaxcmr.summarize import (\n",
    "    summarize_parameters,\n",
    "    generate_t_p_matrices,\n",
    "    winner_comparison_matrix,\n",
    "    calculate_aic_weights,\n",
    ")"
   ]
  },
  {
   "cell_type": "code",
   "execution_count": 3,
   "metadata": {},
   "outputs": [
    {
     "name": "stdout",
     "output_type": "stream",
     "text": [
      "| | | WeirdCMR | WeirdPositionScaleCMR | WeirdNoReinstateCMR | OutlistCMRDE |\n",
      "|---|---|---|---|---|---|\n",
      "| fitness | mean | 1267.41 +/- 278.90 | 1260.70 +/- 278.83 | 1266.60 +/- 278.64 | 1258.53 +/- 276.51 |\n",
      "| | std | 774.55 | 774.34 | 773.82 | 767.92 |\n",
      "| encoding drift rate | mean | 0.74 +/- 0.03 | 0.81 +/- 0.05 | 0.72 +/- 0.03 | 0.72 +/- 0.04 |\n",
      "| | std | 0.09 | 0.13 | 0.08 | 0.11 |\n",
      "| start drift rate | mean | 0.36 +/- 0.11 | 0.29 +/- 0.10 | 0.34 +/- 0.11 | 0.35 +/- 0.11 |\n",
      "| | std | 0.30 | 0.27 | 0.30 | 0.30 |\n",
      "| recall drift rate | mean | 0.83 +/- 0.06 | 0.75 +/- 0.07 | 0.81 +/- 0.06 | 0.76 +/- 0.06 |\n",
      "| | std | 0.17 | 0.20 | 0.17 | 0.18 |\n",
      "| shared support | mean | 21.98 +/- 7.73 | 18.74 +/- 8.33 | 22.66 +/- 6.69 | 19.88 +/- 6.65 |\n",
      "| | std | 21.47 | 23.15 | 18.58 | 18.45 |\n",
      "| item support | mean | 30.63 +/- 8.61 | 27.78 +/- 10.57 | 31.68 +/- 8.36 | 24.96 +/- 7.59 |\n",
      "| | std | 23.92 | 29.35 | 23.21 | 21.08 |\n",
      "| learning rate | mean | 0.12 +/- 0.02 | 0.40 +/- 0.10 | 0.17 +/- 0.04 | 0.24 +/- 0.06 |\n",
      "| | std | 0.06 | 0.28 | 0.12 | 0.17 |\n",
      "| primacy scale | mean | 21.73 +/- 9.52 | 23.24 +/- 9.43 | 16.44 +/- 8.24 | 9.08 +/- 4.05 |\n",
      "| | std | 26.43 | 26.17 | 22.87 | 11.25 |\n",
      "| primacy decay | mean | 5.15 +/- 5.78 | 15.85 +/- 9.93 | 5.14 +/- 5.36 | 13.15 +/- 9.69 |\n",
      "| | std | 16.04 | 27.59 | 14.87 | 26.92 |\n",
      "| stop probability scale | mean | 0.01 +/- 0.01 | 0.01 +/- 0.01 | 0.01 +/- 0.01 | 0.01 +/- 0.01 |\n",
      "| | std | 0.02 | 0.02 | 0.02 | 0.02 |\n",
      "| stop probability growth | mean | 0.50 +/- 0.05 | 0.49 +/- 0.05 | 0.50 +/- 0.05 | 0.50 +/- 0.05 |\n",
      "| | std | 0.15 | 0.15 | 0.14 | 0.14 |\n",
      "| choice sensitivity | mean | 41.97 +/- 12.61 | 41.36 +/- 13.45 | 48.94 +/- 13.01 | 54.16 +/- 10.87 |\n",
      "| | std | 35.03 | 37.35 | 36.13 | 30.19 |\n",
      "| mfc choice sensitivity | mean | | | | 1.00 +/- 0.00 |\n",
      "| | std | | | | 0.00 |\n",
      "\n"
     ]
    }
   ],
   "source": [
    "if not model_titles:\n",
    "    model_titles = model_names.copy()\n",
    "\n",
    "results = []\n",
    "for model_name, model_title in zip(model_names, model_titles):\n",
    "    fit_path = os.path.join(fit_dir, f\"{data_name}_{model_name}_{fit_tag}.json\")\n",
    "\n",
    "    with open(fit_path) as f:\n",
    "        results.append(json.load(f))\n",
    "        if \"subject\" not in results[-1][\"fits\"]:\n",
    "            results[-1][\"fits\"][\"subject\"] = results[-1][\"subject\"]\n",
    "        results[-1][\"name\"] = model_title\n",
    "\n",
    "summary = summarize_parameters(\n",
    "    results, query_parameters, include_std=True, include_ci=True\n",
    ")\n",
    "\n",
    "with open(\n",
    "    os.path.join(target_directory, \"tables\", f\"{data_name}_{fit_tag}_{run_tag}_parameters.md\"),\n",
    "    \"w\",\n",
    ") as f:\n",
    "    f.write(summary)\n",
    "print(summary)\n"
   ]
  },
  {
   "cell_type": "code",
   "execution_count": 4,
   "metadata": {},
   "outputs": [
    {
     "name": "stdout",
     "output_type": "stream",
     "text": [
      "|                       | WeirdCMR               | WeirdPositionScaleCMR   | WeirdNoReinstateCMR    | OutlistCMRDE       |\n",
      "|:----------------------|:-----------------------|:------------------------|:-----------------------|:-------------------|\n",
      "| WeirdCMR              |                        | 0.9689316856681806      | 0.975504071337862      | 0.9998132316685929 |\n",
      "| WeirdPositionScaleCMR | 0.03106831433181948    |                         | 0.052073208152561924   | 0.7572985586225554 |\n",
      "| WeirdNoReinstateCMR   | 0.024495928662137987   | 0.9479267918474381      |                        | 0.9995807153411382 |\n",
      "| OutlistCMRDE          | 0.00018676833140703468 | 0.2427014413774446      | 0.00041928465886174405 |                    |\n"
     ]
    },
    {
     "data": {
      "application/vnd.microsoft.datawrangler.viewer.v0+json": {
       "columns": [
        {
         "name": "index",
         "rawType": "object",
         "type": "string"
        },
        {
         "name": "WeirdCMR",
         "rawType": "object",
         "type": "unknown"
        },
        {
         "name": "WeirdPositionScaleCMR",
         "rawType": "object",
         "type": "unknown"
        },
        {
         "name": "WeirdNoReinstateCMR",
         "rawType": "object",
         "type": "unknown"
        },
        {
         "name": "OutlistCMRDE",
         "rawType": "object",
         "type": "unknown"
        }
       ],
       "conversionMethod": "pd.DataFrame",
       "ref": "b2cbfdea-0086-4a69-90fb-22c0b968b2ed",
       "rows": [
        [
         "WeirdCMR",
         "",
         "0.9689316856681806",
         "0.975504071337862",
         "0.9998132316685929"
        ],
        [
         "WeirdPositionScaleCMR",
         "0.03106831433181948",
         "",
         "0.052073208152561924",
         "0.7572985586225554"
        ],
        [
         "WeirdNoReinstateCMR",
         "0.024495928662137987",
         "0.9479267918474381",
         "",
         "0.9995807153411382"
        ],
        [
         "OutlistCMRDE",
         "0.00018676833140703468",
         "0.2427014413774446",
         "0.00041928465886174405",
         ""
        ]
       ],
       "shape": {
        "columns": 4,
        "rows": 4
       }
      },
      "text/html": [
       "<div>\n",
       "<style scoped>\n",
       "    .dataframe tbody tr th:only-of-type {\n",
       "        vertical-align: middle;\n",
       "    }\n",
       "\n",
       "    .dataframe tbody tr th {\n",
       "        vertical-align: top;\n",
       "    }\n",
       "\n",
       "    .dataframe thead th {\n",
       "        text-align: right;\n",
       "    }\n",
       "</style>\n",
       "<table border=\"1\" class=\"dataframe\">\n",
       "  <thead>\n",
       "    <tr style=\"text-align: right;\">\n",
       "      <th></th>\n",
       "      <th>WeirdCMR</th>\n",
       "      <th>WeirdPositionScaleCMR</th>\n",
       "      <th>WeirdNoReinstateCMR</th>\n",
       "      <th>OutlistCMRDE</th>\n",
       "    </tr>\n",
       "  </thead>\n",
       "  <tbody>\n",
       "    <tr>\n",
       "      <th>WeirdCMR</th>\n",
       "      <td></td>\n",
       "      <td>0.968932</td>\n",
       "      <td>0.975504</td>\n",
       "      <td>0.999813</td>\n",
       "    </tr>\n",
       "    <tr>\n",
       "      <th>WeirdPositionScaleCMR</th>\n",
       "      <td>0.031068</td>\n",
       "      <td></td>\n",
       "      <td>0.052073</td>\n",
       "      <td>0.757299</td>\n",
       "    </tr>\n",
       "    <tr>\n",
       "      <th>WeirdNoReinstateCMR</th>\n",
       "      <td>0.024496</td>\n",
       "      <td>0.947927</td>\n",
       "      <td></td>\n",
       "      <td>0.999581</td>\n",
       "    </tr>\n",
       "    <tr>\n",
       "      <th>OutlistCMRDE</th>\n",
       "      <td>0.000187</td>\n",
       "      <td>0.242701</td>\n",
       "      <td>0.000419</td>\n",
       "      <td></td>\n",
       "    </tr>\n",
       "  </tbody>\n",
       "</table>\n",
       "</div>"
      ],
      "text/plain": [
       "                       WeirdCMR WeirdPositionScaleCMR WeirdNoReinstateCMR  \\\n",
       "WeirdCMR                                     0.968932            0.975504   \n",
       "WeirdPositionScaleCMR  0.031068                                  0.052073   \n",
       "WeirdNoReinstateCMR    0.024496              0.947927                       \n",
       "OutlistCMRDE           0.000187              0.242701            0.000419   \n",
       "\n",
       "                      OutlistCMRDE  \n",
       "WeirdCMR                  0.999813  \n",
       "WeirdPositionScaleCMR     0.757299  \n",
       "WeirdNoReinstateCMR       0.999581  \n",
       "OutlistCMRDE                        "
      ]
     },
     "execution_count": 4,
     "metadata": {},
     "output_type": "execute_result"
    }
   ],
   "source": [
    "df_t, df_p = generate_t_p_matrices(results)\n",
    "\n",
    "with open(\n",
    "    os.path.join(target_directory, \"tables\", f\"{data_name}_{fit_tag}_{run_tag}_p_matrix.md\"), \"w\"\n",
    ") as f:\n",
    "    f.write(df_p.to_markdown())\n",
    "\n",
    "print(df_p.to_markdown())\n",
    "df_p"
   ]
  },
  {
   "cell_type": "code",
   "execution_count": 5,
   "metadata": {},
   "outputs": [
    {
     "data": {
      "application/vnd.microsoft.datawrangler.viewer.v0+json": {
       "columns": [
        {
         "name": "index",
         "rawType": "object",
         "type": "string"
        },
        {
         "name": "WeirdCMR",
         "rawType": "object",
         "type": "unknown"
        },
        {
         "name": "WeirdPositionScaleCMR",
         "rawType": "object",
         "type": "unknown"
        },
        {
         "name": "WeirdNoReinstateCMR",
         "rawType": "object",
         "type": "unknown"
        },
        {
         "name": "OutlistCMRDE",
         "rawType": "object",
         "type": "unknown"
        }
       ],
       "conversionMethod": "pd.DataFrame",
       "ref": "43861fbc-2e30-4173-b2b6-d51dd8a5213d",
       "rows": [
        [
         "WeirdCMR",
         "",
         "1.932919533342697",
         "2.0465380666781714",
         "3.9770597122883418"
        ],
        [
         "WeirdPositionScaleCMR",
         "-1.932919533342697",
         "",
         "-1.6726529662932363",
         "0.7058269817752499"
        ],
        [
         "WeirdNoReinstateCMR",
         "-2.0465380666781714",
         "1.6726529662932363",
         "",
         "3.686019599994435"
        ],
        [
         "OutlistCMRDE",
         "-3.9770597122883418",
         "-0.7058269817752499",
         "-3.686019599994435",
         ""
        ]
       ],
       "shape": {
        "columns": 4,
        "rows": 4
       }
      },
      "text/html": [
       "<div>\n",
       "<style scoped>\n",
       "    .dataframe tbody tr th:only-of-type {\n",
       "        vertical-align: middle;\n",
       "    }\n",
       "\n",
       "    .dataframe tbody tr th {\n",
       "        vertical-align: top;\n",
       "    }\n",
       "\n",
       "    .dataframe thead th {\n",
       "        text-align: right;\n",
       "    }\n",
       "</style>\n",
       "<table border=\"1\" class=\"dataframe\">\n",
       "  <thead>\n",
       "    <tr style=\"text-align: right;\">\n",
       "      <th></th>\n",
       "      <th>WeirdCMR</th>\n",
       "      <th>WeirdPositionScaleCMR</th>\n",
       "      <th>WeirdNoReinstateCMR</th>\n",
       "      <th>OutlistCMRDE</th>\n",
       "    </tr>\n",
       "  </thead>\n",
       "  <tbody>\n",
       "    <tr>\n",
       "      <th>WeirdCMR</th>\n",
       "      <td></td>\n",
       "      <td>1.93292</td>\n",
       "      <td>2.046538</td>\n",
       "      <td>3.97706</td>\n",
       "    </tr>\n",
       "    <tr>\n",
       "      <th>WeirdPositionScaleCMR</th>\n",
       "      <td>-1.93292</td>\n",
       "      <td></td>\n",
       "      <td>-1.672653</td>\n",
       "      <td>0.705827</td>\n",
       "    </tr>\n",
       "    <tr>\n",
       "      <th>WeirdNoReinstateCMR</th>\n",
       "      <td>-2.046538</td>\n",
       "      <td>1.672653</td>\n",
       "      <td></td>\n",
       "      <td>3.68602</td>\n",
       "    </tr>\n",
       "    <tr>\n",
       "      <th>OutlistCMRDE</th>\n",
       "      <td>-3.97706</td>\n",
       "      <td>-0.705827</td>\n",
       "      <td>-3.68602</td>\n",
       "      <td></td>\n",
       "    </tr>\n",
       "  </tbody>\n",
       "</table>\n",
       "</div>"
      ],
      "text/plain": [
       "                       WeirdCMR WeirdPositionScaleCMR WeirdNoReinstateCMR  \\\n",
       "WeirdCMR                                      1.93292            2.046538   \n",
       "WeirdPositionScaleCMR  -1.93292                                 -1.672653   \n",
       "WeirdNoReinstateCMR   -2.046538              1.672653                       \n",
       "OutlistCMRDE           -3.97706             -0.705827            -3.68602   \n",
       "\n",
       "                      OutlistCMRDE  \n",
       "WeirdCMR                   3.97706  \n",
       "WeirdPositionScaleCMR     0.705827  \n",
       "WeirdNoReinstateCMR        3.68602  \n",
       "OutlistCMRDE                        "
      ]
     },
     "execution_count": 5,
     "metadata": {},
     "output_type": "execute_result"
    }
   ],
   "source": [
    "with open(\n",
    "    os.path.join(target_directory, \"tables\", f\"{data_name}_{fit_tag}_{run_tag}_t_matrix.md\"), \"w\"\n",
    ") as f:\n",
    "    f.write(df_t.to_markdown())\n",
    "\n",
    "df_t"
   ]
  },
  {
   "cell_type": "code",
   "execution_count": 6,
   "metadata": {},
   "outputs": [
    {
     "name": "stdout",
     "output_type": "stream",
     "text": [
      "|    | Model                 |         AICw |\n",
      "|---:|:----------------------|-------------:|\n",
      "|  3 | OutlistCMRDE          | 1            |\n",
      "|  1 | WeirdPositionScaleCMR | 2.28709e-31  |\n",
      "|  2 | WeirdNoReinstateCMR   | 5.44146e-116 |\n",
      "|  0 | WeirdCMR              | 1.40562e-127 |\n"
     ]
    },
    {
     "data": {
      "application/vnd.microsoft.datawrangler.viewer.v0+json": {
       "columns": [
        {
         "name": "index",
         "rawType": "int64",
         "type": "integer"
        },
        {
         "name": "Model",
         "rawType": "object",
         "type": "string"
        },
        {
         "name": "AICw",
         "rawType": "float64",
         "type": "float"
        }
       ],
       "conversionMethod": "pd.DataFrame",
       "ref": "1a103ca7-2c3c-4780-a371-ed8da73a4bac",
       "rows": [
        [
         "3",
         "OutlistCMRDE",
         "1.0"
        ],
        [
         "1",
         "WeirdPositionScaleCMR",
         "2.287092676748949e-31"
        ],
        [
         "2",
         "WeirdNoReinstateCMR",
         "5.441463407390853e-116"
        ],
        [
         "0",
         "WeirdCMR",
         "1.405618220221164e-127"
        ]
       ],
       "shape": {
        "columns": 2,
        "rows": 4
       }
      },
      "text/html": [
       "<div>\n",
       "<style scoped>\n",
       "    .dataframe tbody tr th:only-of-type {\n",
       "        vertical-align: middle;\n",
       "    }\n",
       "\n",
       "    .dataframe tbody tr th {\n",
       "        vertical-align: top;\n",
       "    }\n",
       "\n",
       "    .dataframe thead th {\n",
       "        text-align: right;\n",
       "    }\n",
       "</style>\n",
       "<table border=\"1\" class=\"dataframe\">\n",
       "  <thead>\n",
       "    <tr style=\"text-align: right;\">\n",
       "      <th></th>\n",
       "      <th>Model</th>\n",
       "      <th>AICw</th>\n",
       "    </tr>\n",
       "  </thead>\n",
       "  <tbody>\n",
       "    <tr>\n",
       "      <th>3</th>\n",
       "      <td>OutlistCMRDE</td>\n",
       "      <td>1.000000e+00</td>\n",
       "    </tr>\n",
       "    <tr>\n",
       "      <th>1</th>\n",
       "      <td>WeirdPositionScaleCMR</td>\n",
       "      <td>2.287093e-31</td>\n",
       "    </tr>\n",
       "    <tr>\n",
       "      <th>2</th>\n",
       "      <td>WeirdNoReinstateCMR</td>\n",
       "      <td>5.441463e-116</td>\n",
       "    </tr>\n",
       "    <tr>\n",
       "      <th>0</th>\n",
       "      <td>WeirdCMR</td>\n",
       "      <td>1.405618e-127</td>\n",
       "    </tr>\n",
       "  </tbody>\n",
       "</table>\n",
       "</div>"
      ],
      "text/plain": [
       "                   Model           AICw\n",
       "3           OutlistCMRDE   1.000000e+00\n",
       "1  WeirdPositionScaleCMR   2.287093e-31\n",
       "2    WeirdNoReinstateCMR  5.441463e-116\n",
       "0               WeirdCMR  1.405618e-127"
      ]
     },
     "execution_count": 6,
     "metadata": {},
     "output_type": "execute_result"
    }
   ],
   "source": [
    "aic_weights = calculate_aic_weights(results)\n",
    "\n",
    "with open(\n",
    "    os.path.join(target_directory, \"tables\", f\"{data_name}_{fit_tag}_{run_tag}_aic_weights.md\"),\n",
    "    \"w\",\n",
    ") as f:\n",
    "    f.write(aic_weights.to_markdown())\n",
    "\n",
    "print(aic_weights.to_markdown())\n",
    "aic_weights"
   ]
  },
  {
   "cell_type": "code",
   "execution_count": 7,
   "metadata": {},
   "outputs": [
    {
     "name": "stdout",
     "output_type": "stream",
     "text": [
      "|                       |   WeirdCMR |   WeirdPositionScaleCMR |   WeirdNoReinstateCMR |   OutlistCMRDE |\n",
      "|:----------------------|-----------:|------------------------:|----------------------:|---------------:|\n",
      "| WeirdCMR              |            |                0.272727 |              0.454545 |       0.151515 |\n",
      "| WeirdPositionScaleCMR |   0.727273 |                         |              0.727273 |       0.575758 |\n",
      "| WeirdNoReinstateCMR   |   0.545455 |                0.272727 |                       |       0.181818 |\n",
      "| OutlistCMRDE          |   0.848485 |                0.424242 |              0.818182 |                |\n"
     ]
    }
   ],
   "source": [
    "df_comparison = winner_comparison_matrix(results)\n",
    "\n",
    "with open(\n",
    "    os.path.join(target_directory, \"tables\", f\"{data_name}_{fit_tag}_{run_tag}_winner_ratios.md\"),\n",
    "    \"w\",\n",
    ") as f:\n",
    "    f.write(df_comparison.to_markdown().replace(\" nan \", \"     \"))\n",
    "\n",
    "print(df_comparison.to_markdown().replace(\" nan \", \"     \"))"
   ]
  }
 ],
 "metadata": {
  "kernelspec": {
   "display_name": ".venv",
   "language": "python",
   "name": "python3"
  },
  "language_info": {
   "codemirror_mode": {
    "name": "ipython",
    "version": 3
   },
   "file_extension": ".py",
   "mimetype": "text/x-python",
   "name": "python",
   "nbconvert_exporter": "python",
   "pygments_lexer": "ipython3",
   "version": "3.12.8"
  }
 },
 "nbformat": 4,
 "nbformat_minor": 2
}
