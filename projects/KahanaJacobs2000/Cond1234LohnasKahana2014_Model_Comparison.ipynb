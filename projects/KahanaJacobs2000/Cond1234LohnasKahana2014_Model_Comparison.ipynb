{
 "cells": [
  {
   "cell_type": "code",
   "execution_count": null,
   "metadata": {
    "tags": [
     "parameters"
    ]
   },
   "outputs": [],
   "source": [
    "# params for this run\n",
    "run_tag = \"Model_Comparison\"\n",
    "fit_tag = \"full_best_of_3\"\n",
    "fit_dir = \"fits/\"\n",
    "target_directory = \"projects/KahanaJacobs2000\"\n",
    "\n",
    "# data params\n",
    "data_name = \"KahanaJacobs2000\"\n",
    "\n",
    "# models\n",
    "# model_names = [\"NarrowWeirdInstanceCMRDE\", \"WeirdInstanceCMRDE\", \"ConnectionistCMR\", \"OutlistInstanceCMRDE\", \"NarrowReinstateOutlistInstanceCMRDE\", \"ReinstateOutlistCMRDE\", \"OutlistCMRDE\", \"ContextCMRDE\", \"TrueInstanceCMRDE\", \"ReinstateContextCMRDE\", \"FlexCMR2\"]\n",
    "# model_names = [\"WeirdInstanceCMRDE\", \"OutlistInstanceCMRDE\", \"FlexCMRDE\", \"WeirdPositionalCMR\", \"AdditiveItemPositionalCMR\", \"MultiplicativeItemPositionalCMR\", \"PreexpMfcItemPositionalCMR\", \"TwoAlphaItemPositionalCMR\", \"WeirdFlexPositionalCMR\"]\n",
    "model_names = [\n",
    "    # \"BaseCMR\",\n",
    "    \"WeirdCMR\",\n",
    "    \"WeirdPositionScaleCMR\",\n",
    "    # \"NoReinstateCMR\",\n",
    "    \"WeirdNoReinstateCMR\",\n",
    "    \"OutlistCMRDE\",\n",
    "    # \"WeirdNoPrexpPositionCMR\",\n",
    "    # \"FlexPositionScaleCMR\",\n",
    "    # \"NoPrexpPositionCMR\",\n",
    "    # \"NoScaleNoReinstateCMR\",\n",
    "    # \"NoScalePositionScaleBaseCMR\",\n",
    "    # \"InstanceCMR\",\n",
    "]\n",
    "\n",
    "# \"FakeNarrowOutlistInstanceCMRDE\", \"FakeOutlistInstanceCMRDE\",\n",
    "# \"MultiContextCMRDE\", \"NormalContextCMRDE\", \"NormalMultiContextCMRDE\",\n",
    "\n",
    "model_titles = []\n",
    "\n",
    "# params to focus on in outputs\n",
    "query_parameters = [\n",
    "    \"encoding_drift_rate\",\n",
    "    \"start_drift_rate\",\n",
    "    \"recall_drift_rate\",\n",
    "    \"shared_support\",\n",
    "    # \"item_shared_support\",\n",
    "    # \"position_shared_support\",\n",
    "    \"item_support\",\n",
    "    \"learning_rate\",\n",
    "    \"primacy_scale\",\n",
    "    \"primacy_decay\",\n",
    "    \"stop_probability_scale\",\n",
    "    \"stop_probability_growth\",\n",
    "    \"choice_sensitivity\",\n",
    "    # \"mfc_trace_sensitivity\",\n",
    "    # \"mcf_trace_sensitivity\",\n",
    "    \"mfc_choice_sensitivity\",\n",
    "    # \"positional_scale\",\n",
    "    # \"positional_mfc_scale\",\n",
    "    # \"semantic_scale\",\n",
    "    # \"semantic_choice_sensitivity\",\n",
    "]"
   ]
  },
  {
   "cell_type": "code",
   "execution_count": 2,
   "metadata": {},
   "outputs": [],
   "source": [
    "import os\n",
    "import json\n",
    "from jaxcmr.summarize import (\n",
    "    summarize_parameters,\n",
    "    generate_t_p_matrices,\n",
    "    winner_comparison_matrix,\n",
    "    calculate_aic_weights,\n",
    ")"
   ]
  },
  {
   "cell_type": "code",
   "execution_count": 3,
   "metadata": {},
   "outputs": [
    {
     "name": "stdout",
     "output_type": "stream",
     "text": [
      "| | | WeirdCMR | WeirdPositionScaleCMR | WeirdNoReinstateCMR | OutlistCMRDE |\n",
      "|---|---|---|---|---|---|\n",
      "| fitness | mean | 3850.28 +/- 530.27 | 3760.09 +/- 516.57 | 3850.20 +/- 530.33 | 3843.70 +/- 530.39 |\n",
      "| | std | 1070.84 | 1043.18 | 1070.96 | 1071.09 |\n",
      "| encoding drift rate | mean | 0.88 +/- 0.02 | 0.90 +/- 0.03 | 0.88 +/- 0.02 | 0.88 +/- 0.02 |\n",
      "| | std | 0.04 | 0.05 | 0.04 | 0.04 |\n",
      "| start drift rate | mean | 0.54 +/- 0.11 | 0.55 +/- 0.08 | 0.55 +/- 0.09 | 0.54 +/- 0.10 |\n",
      "| | std | 0.21 | 0.17 | 0.18 | 0.21 |\n",
      "| recall drift rate | mean | 0.81 +/- 0.03 | 0.81 +/- 0.04 | 0.81 +/- 0.03 | 0.80 +/- 0.04 |\n",
      "| | std | 0.07 | 0.08 | 0.07 | 0.07 |\n",
      "| shared support | mean | 42.35 +/- 19.56 | 41.47 +/- 19.36 | 35.24 +/- 18.91 | 31.79 +/- 17.25 |\n",
      "| | std | 39.50 | 39.09 | 38.18 | 34.83 |\n",
      "| item support | mean | 38.26 +/- 17.73 | 36.34 +/- 16.87 | 31.70 +/- 16.84 | 29.26 +/- 15.98 |\n",
      "| | std | 35.81 | 34.06 | 34.02 | 32.27 |\n",
      "| learning rate | mean | 0.03 +/- 0.02 | 0.13 +/- 0.04 | 0.06 +/- 0.03 | 0.05 +/- 0.02 |\n",
      "| | std | 0.05 | 0.08 | 0.06 | 0.05 |\n",
      "| primacy scale | mean | 7.53 +/- 4.01 | 8.66 +/- 7.17 | 5.00 +/- 3.22 | 5.11 +/- 3.92 |\n",
      "| | std | 8.10 | 14.47 | 6.51 | 7.92 |\n",
      "| primacy decay | mean | 20.20 +/- 15.23 | 36.24 +/- 16.44 | 29.27 +/- 16.06 | 16.23 +/- 11.60 |\n",
      "| | std | 30.76 | 33.19 | 32.42 | 23.43 |\n",
      "| stop probability scale | mean | 0.01 +/- 0.01 | 0.01 +/- 0.01 | 0.01 +/- 0.01 | 0.01 +/- 0.01 |\n",
      "| | std | 0.02 | 0.02 | 0.02 | 0.02 |\n",
      "| stop probability growth | mean | 0.48 +/- 0.09 | 0.47 +/- 0.08 | 0.48 +/- 0.09 | 0.46 +/- 0.08 |\n",
      "| | std | 0.17 | 0.17 | 0.18 | 0.17 |\n",
      "| choice sensitivity | mean | 76.23 +/- 9.03 | 76.04 +/- 10.02 | 82.79 +/- 6.14 | 82.02 +/- 9.54 |\n",
      "| | std | 18.23 | 20.24 | 12.40 | 19.27 |\n",
      "| mfc choice sensitivity | mean | | | | 1.00 +/- 0.00 |\n",
      "| | std | | | | 0.00 |\n",
      "\n"
     ]
    }
   ],
   "source": [
    "if not model_titles:\n",
    "    model_titles = model_names.copy()\n",
    "\n",
    "results = []\n",
    "for model_name, model_title in zip(model_names, model_titles):\n",
    "    fit_path = os.path.join(fit_dir, f\"{data_name}_{model_name}_{fit_tag}.json\")\n",
    "\n",
    "    with open(fit_path) as f:\n",
    "        results.append(json.load(f))\n",
    "        if \"subject\" not in results[-1][\"fits\"]:\n",
    "            results[-1][\"fits\"][\"subject\"] = results[-1][\"subject\"]\n",
    "        results[-1][\"name\"] = model_title\n",
    "\n",
    "summary = summarize_parameters(\n",
    "    results, query_parameters, include_std=True, include_ci=True\n",
    ")\n",
    "\n",
    "with open(\n",
    "    os.path.join(target_directory, \"tables\", f\"{data_name}_{fit_tag}_{run_tag}_parameters.md\"),\n",
    "    \"w\",\n",
    ") as f:\n",
    "    f.write(summary)\n",
    "print(summary)\n"
   ]
  },
  {
   "cell_type": "code",
   "execution_count": 4,
   "metadata": {},
   "outputs": [
    {
     "name": "stdout",
     "output_type": "stream",
     "text": [
      "|                       | WeirdCMR              | WeirdPositionScaleCMR   | WeirdNoReinstateCMR    | OutlistCMRDE           |\n",
      "|:----------------------|:----------------------|:------------------------|:-----------------------|:-----------------------|\n",
      "| WeirdCMR              |                       | 0.9999999953126066      | 0.5194504154082416     | 0.9999931411531482     |\n",
      "| WeirdPositionScaleCMR | 4.687393328416847e-09 |                         | 6.2027728317819655e-09 | 1.6182696418657597e-08 |\n",
      "| WeirdNoReinstateCMR   | 0.48054958459175845   | 0.9999999937972271      |                        | 0.9999783185321464     |\n",
      "| OutlistCMRDE          | 6.858846851830407e-06 | 0.9999999838173036      | 2.1681467853704367e-05 |                        |\n"
     ]
    },
    {
     "data": {
      "application/vnd.microsoft.datawrangler.viewer.v0+json": {
       "columns": [
        {
         "name": "index",
         "rawType": "object",
         "type": "string"
        },
        {
         "name": "WeirdCMR",
         "rawType": "object",
         "type": "unknown"
        },
        {
         "name": "WeirdPositionScaleCMR",
         "rawType": "object",
         "type": "unknown"
        },
        {
         "name": "WeirdNoReinstateCMR",
         "rawType": "object",
         "type": "unknown"
        },
        {
         "name": "OutlistCMRDE",
         "rawType": "object",
         "type": "unknown"
        }
       ],
       "conversionMethod": "pd.DataFrame",
       "ref": "7feaf802-0cf4-4ca4-a8f4-1786dfcced2e",
       "rows": [
        [
         "WeirdCMR",
         "",
         "0.9999999953126066",
         "0.5194504154082416",
         "0.9999931411531482"
        ],
        [
         "WeirdPositionScaleCMR",
         "4.687393328416847e-09",
         "",
         "6.2027728317819655e-09",
         "1.6182696418657597e-08"
        ],
        [
         "WeirdNoReinstateCMR",
         "0.48054958459175845",
         "0.9999999937972271",
         "",
         "0.9999783185321464"
        ],
        [
         "OutlistCMRDE",
         "6.858846851830407e-06",
         "0.9999999838173036",
         "2.1681467853704367e-05",
         ""
        ]
       ],
       "shape": {
        "columns": 4,
        "rows": 4
       }
      },
      "text/html": [
       "<div>\n",
       "<style scoped>\n",
       "    .dataframe tbody tr th:only-of-type {\n",
       "        vertical-align: middle;\n",
       "    }\n",
       "\n",
       "    .dataframe tbody tr th {\n",
       "        vertical-align: top;\n",
       "    }\n",
       "\n",
       "    .dataframe thead th {\n",
       "        text-align: right;\n",
       "    }\n",
       "</style>\n",
       "<table border=\"1\" class=\"dataframe\">\n",
       "  <thead>\n",
       "    <tr style=\"text-align: right;\">\n",
       "      <th></th>\n",
       "      <th>WeirdCMR</th>\n",
       "      <th>WeirdPositionScaleCMR</th>\n",
       "      <th>WeirdNoReinstateCMR</th>\n",
       "      <th>OutlistCMRDE</th>\n",
       "    </tr>\n",
       "  </thead>\n",
       "  <tbody>\n",
       "    <tr>\n",
       "      <th>WeirdCMR</th>\n",
       "      <td></td>\n",
       "      <td>1.0</td>\n",
       "      <td>0.51945</td>\n",
       "      <td>0.999993</td>\n",
       "    </tr>\n",
       "    <tr>\n",
       "      <th>WeirdPositionScaleCMR</th>\n",
       "      <td>0.0</td>\n",
       "      <td></td>\n",
       "      <td>0.0</td>\n",
       "      <td>0.0</td>\n",
       "    </tr>\n",
       "    <tr>\n",
       "      <th>WeirdNoReinstateCMR</th>\n",
       "      <td>0.48055</td>\n",
       "      <td>1.0</td>\n",
       "      <td></td>\n",
       "      <td>0.999978</td>\n",
       "    </tr>\n",
       "    <tr>\n",
       "      <th>OutlistCMRDE</th>\n",
       "      <td>0.000007</td>\n",
       "      <td>1.0</td>\n",
       "      <td>0.000022</td>\n",
       "      <td></td>\n",
       "    </tr>\n",
       "  </tbody>\n",
       "</table>\n",
       "</div>"
      ],
      "text/plain": [
       "                       WeirdCMR WeirdPositionScaleCMR WeirdNoReinstateCMR  \\\n",
       "WeirdCMR                                          1.0             0.51945   \n",
       "WeirdPositionScaleCMR       0.0                                       0.0   \n",
       "WeirdNoReinstateCMR     0.48055                   1.0                       \n",
       "OutlistCMRDE           0.000007                   1.0            0.000022   \n",
       "\n",
       "                      OutlistCMRDE  \n",
       "WeirdCMR                  0.999993  \n",
       "WeirdPositionScaleCMR          0.0  \n",
       "WeirdNoReinstateCMR       0.999978  \n",
       "OutlistCMRDE                        "
      ]
     },
     "execution_count": 4,
     "metadata": {},
     "output_type": "execute_result"
    }
   ],
   "source": [
    "df_t, df_p = generate_t_p_matrices(results)\n",
    "\n",
    "with open(\n",
    "    os.path.join(target_directory, \"tables\", f\"{data_name}_{fit_tag}_{run_tag}_p_matrix.md\"), \"w\"\n",
    ") as f:\n",
    "    f.write(df_p.to_markdown())\n",
    "\n",
    "print(df_p.to_markdown())\n",
    "df_p"
   ]
  },
  {
   "cell_type": "code",
   "execution_count": 5,
   "metadata": {},
   "outputs": [
    {
     "data": {
      "application/vnd.microsoft.datawrangler.viewer.v0+json": {
       "columns": [
        {
         "name": "index",
         "rawType": "object",
         "type": "string"
        },
        {
         "name": "WeirdCMR",
         "rawType": "object",
         "type": "unknown"
        },
        {
         "name": "WeirdPositionScaleCMR",
         "rawType": "object",
         "type": "unknown"
        },
        {
         "name": "WeirdNoReinstateCMR",
         "rawType": "object",
         "type": "unknown"
        },
        {
         "name": "OutlistCMRDE",
         "rawType": "object",
         "type": "unknown"
        }
       ],
       "conversionMethod": "pd.DataFrame",
       "ref": "416163a6-6e1e-41b7-9a5e-d7cd6cbb809e",
       "rows": [
        [
         "WeirdCMR",
         "",
         "9.968519361143615",
         "0.04945775975229188",
         "5.904319885604349"
        ],
        [
         "WeirdPositionScaleCMR",
         "-9.968519361143615",
         "",
         "-9.788074619829793",
         "-9.187512068233943"
        ],
        [
         "WeirdNoReinstateCMR",
         "-0.04945775975229188",
         "9.788074619829793",
         "",
         "5.35475168299802"
        ],
        [
         "OutlistCMRDE",
         "-5.904319885604349",
         "9.187512068233943",
         "-5.35475168299802",
         ""
        ]
       ],
       "shape": {
        "columns": 4,
        "rows": 4
       }
      },
      "text/html": [
       "<div>\n",
       "<style scoped>\n",
       "    .dataframe tbody tr th:only-of-type {\n",
       "        vertical-align: middle;\n",
       "    }\n",
       "\n",
       "    .dataframe tbody tr th {\n",
       "        vertical-align: top;\n",
       "    }\n",
       "\n",
       "    .dataframe thead th {\n",
       "        text-align: right;\n",
       "    }\n",
       "</style>\n",
       "<table border=\"1\" class=\"dataframe\">\n",
       "  <thead>\n",
       "    <tr style=\"text-align: right;\">\n",
       "      <th></th>\n",
       "      <th>WeirdCMR</th>\n",
       "      <th>WeirdPositionScaleCMR</th>\n",
       "      <th>WeirdNoReinstateCMR</th>\n",
       "      <th>OutlistCMRDE</th>\n",
       "    </tr>\n",
       "  </thead>\n",
       "  <tbody>\n",
       "    <tr>\n",
       "      <th>WeirdCMR</th>\n",
       "      <td></td>\n",
       "      <td>9.968519</td>\n",
       "      <td>0.049458</td>\n",
       "      <td>5.90432</td>\n",
       "    </tr>\n",
       "    <tr>\n",
       "      <th>WeirdPositionScaleCMR</th>\n",
       "      <td>-9.968519</td>\n",
       "      <td></td>\n",
       "      <td>-9.788075</td>\n",
       "      <td>-9.187512</td>\n",
       "    </tr>\n",
       "    <tr>\n",
       "      <th>WeirdNoReinstateCMR</th>\n",
       "      <td>-0.049458</td>\n",
       "      <td>9.788075</td>\n",
       "      <td></td>\n",
       "      <td>5.354752</td>\n",
       "    </tr>\n",
       "    <tr>\n",
       "      <th>OutlistCMRDE</th>\n",
       "      <td>-5.90432</td>\n",
       "      <td>9.187512</td>\n",
       "      <td>-5.354752</td>\n",
       "      <td></td>\n",
       "    </tr>\n",
       "  </tbody>\n",
       "</table>\n",
       "</div>"
      ],
      "text/plain": [
       "                       WeirdCMR WeirdPositionScaleCMR WeirdNoReinstateCMR  \\\n",
       "WeirdCMR                                     9.968519            0.049458   \n",
       "WeirdPositionScaleCMR -9.968519                                 -9.788075   \n",
       "WeirdNoReinstateCMR   -0.049458              9.788075                       \n",
       "OutlistCMRDE           -5.90432              9.187512           -5.354752   \n",
       "\n",
       "                      OutlistCMRDE  \n",
       "WeirdCMR                   5.90432  \n",
       "WeirdPositionScaleCMR    -9.187512  \n",
       "WeirdNoReinstateCMR       5.354752  \n",
       "OutlistCMRDE                        "
      ]
     },
     "execution_count": 5,
     "metadata": {},
     "output_type": "execute_result"
    }
   ],
   "source": [
    "with open(\n",
    "    os.path.join(target_directory, \"tables\", f\"{data_name}_{fit_tag}_{run_tag}_t_matrix.md\"), \"w\"\n",
    ") as f:\n",
    "    f.write(df_t.to_markdown())\n",
    "\n",
    "df_t"
   ]
  },
  {
   "cell_type": "code",
   "execution_count": 6,
   "metadata": {},
   "outputs": [
    {
     "name": "stdout",
     "output_type": "stream",
     "text": [
      "|    | Model                 |   AICw |\n",
      "|---:|:----------------------|-------:|\n",
      "|  1 | WeirdPositionScaleCMR |      1 |\n",
      "|  0 | WeirdCMR              |      0 |\n",
      "|  2 | WeirdNoReinstateCMR   |      0 |\n",
      "|  3 | OutlistCMRDE          |      0 |\n"
     ]
    },
    {
     "data": {
      "application/vnd.microsoft.datawrangler.viewer.v0+json": {
       "columns": [
        {
         "name": "index",
         "rawType": "int64",
         "type": "integer"
        },
        {
         "name": "Model",
         "rawType": "object",
         "type": "string"
        },
        {
         "name": "AICw",
         "rawType": "float64",
         "type": "float"
        }
       ],
       "conversionMethod": "pd.DataFrame",
       "ref": "fc7507b3-ed68-48f7-82e3-af6d4a5c46d9",
       "rows": [
        [
         "1",
         "WeirdPositionScaleCMR",
         "1.0"
        ],
        [
         "0",
         "WeirdCMR",
         "0.0"
        ],
        [
         "2",
         "WeirdNoReinstateCMR",
         "0.0"
        ],
        [
         "3",
         "OutlistCMRDE",
         "0.0"
        ]
       ],
       "shape": {
        "columns": 2,
        "rows": 4
       }
      },
      "text/html": [
       "<div>\n",
       "<style scoped>\n",
       "    .dataframe tbody tr th:only-of-type {\n",
       "        vertical-align: middle;\n",
       "    }\n",
       "\n",
       "    .dataframe tbody tr th {\n",
       "        vertical-align: top;\n",
       "    }\n",
       "\n",
       "    .dataframe thead th {\n",
       "        text-align: right;\n",
       "    }\n",
       "</style>\n",
       "<table border=\"1\" class=\"dataframe\">\n",
       "  <thead>\n",
       "    <tr style=\"text-align: right;\">\n",
       "      <th></th>\n",
       "      <th>Model</th>\n",
       "      <th>AICw</th>\n",
       "    </tr>\n",
       "  </thead>\n",
       "  <tbody>\n",
       "    <tr>\n",
       "      <th>1</th>\n",
       "      <td>WeirdPositionScaleCMR</td>\n",
       "      <td>1.0</td>\n",
       "    </tr>\n",
       "    <tr>\n",
       "      <th>0</th>\n",
       "      <td>WeirdCMR</td>\n",
       "      <td>0.0</td>\n",
       "    </tr>\n",
       "    <tr>\n",
       "      <th>2</th>\n",
       "      <td>WeirdNoReinstateCMR</td>\n",
       "      <td>0.0</td>\n",
       "    </tr>\n",
       "    <tr>\n",
       "      <th>3</th>\n",
       "      <td>OutlistCMRDE</td>\n",
       "      <td>0.0</td>\n",
       "    </tr>\n",
       "  </tbody>\n",
       "</table>\n",
       "</div>"
      ],
      "text/plain": [
       "                   Model  AICw\n",
       "1  WeirdPositionScaleCMR   1.0\n",
       "0               WeirdCMR   0.0\n",
       "2    WeirdNoReinstateCMR   0.0\n",
       "3           OutlistCMRDE   0.0"
      ]
     },
     "execution_count": 6,
     "metadata": {},
     "output_type": "execute_result"
    }
   ],
   "source": [
    "aic_weights = calculate_aic_weights(results)\n",
    "\n",
    "with open(\n",
    "    os.path.join(target_directory, \"tables\", f\"{data_name}_{fit_tag}_{run_tag}_aic_weights.md\"),\n",
    "    \"w\",\n",
    ") as f:\n",
    "    f.write(aic_weights.to_markdown())\n",
    "\n",
    "print(aic_weights.to_markdown())\n",
    "aic_weights"
   ]
  },
  {
   "cell_type": "code",
   "execution_count": 7,
   "metadata": {},
   "outputs": [
    {
     "name": "stdout",
     "output_type": "stream",
     "text": [
      "|                       |   WeirdCMR |   WeirdPositionScaleCMR |   WeirdNoReinstateCMR |   OutlistCMRDE |\n",
      "|:----------------------|-----------:|------------------------:|----------------------:|---------------:|\n",
      "| WeirdCMR              |            |                       0 |              0.315789 |       0.105263 |\n",
      "| WeirdPositionScaleCMR |   1        |                         |              1        |       1        |\n",
      "| WeirdNoReinstateCMR   |   0.684211 |                       0 |                       |       0.105263 |\n",
      "| OutlistCMRDE          |   0.894737 |                       0 |              0.894737 |                |\n"
     ]
    }
   ],
   "source": [
    "df_comparison = winner_comparison_matrix(results)\n",
    "\n",
    "with open(\n",
    "    os.path.join(target_directory, \"tables\", f\"{data_name}_{fit_tag}_{run_tag}_winner_ratios.md\"),\n",
    "    \"w\",\n",
    ") as f:\n",
    "    f.write(df_comparison.to_markdown().replace(\" nan \", \"     \"))\n",
    "\n",
    "print(df_comparison.to_markdown().replace(\" nan \", \"     \"))"
   ]
  },
  {
   "cell_type": "code",
   "execution_count": null,
   "metadata": {},
   "outputs": [],
   "source": []
  }
 ],
 "metadata": {
  "kernelspec": {
   "display_name": "jaxcmr (3.12.8)",
   "language": "python",
   "name": "python3"
  },
  "language_info": {
   "codemirror_mode": {
    "name": "ipython",
    "version": 3
   },
   "file_extension": ".py",
   "mimetype": "text/x-python",
   "name": "python",
   "nbconvert_exporter": "python",
   "pygments_lexer": "ipython3",
   "version": "3.12.8"
  }
 },
 "nbformat": 4,
 "nbformat_minor": 2
}
