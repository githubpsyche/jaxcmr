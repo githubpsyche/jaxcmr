{
 "cells": [
  {
   "cell_type": "code",
   "execution_count": 1,
   "id": "a8ffa7af",
   "metadata": {},
   "outputs": [],
   "source": [
    "%load_ext autoreload\n",
    "%autoreload 2"
   ]
  },
  {
   "cell_type": "code",
   "execution_count": null,
   "id": "d0dfc3e9",
   "metadata": {},
   "outputs": [],
   "source": [
    "import json\n",
    "\n",
    "import jax.numpy as jnp\n",
    "from jax import random\n",
    "\n",
    "from jaxcmr.helpers import (\n",
    "    generate_trial_mask,\n",
    "    import_from_string,\n",
    "    load_data,\n",
    "    save_dict_to_hdf5,\n",
    ")\n",
    "from jaxcmr.simulation import simulate_h5_from_h5\n",
    "\n",
    "seed = 0\n",
    "experiment_count = 50\n",
    "\n",
    "run_tag = \"full_best_of_3\"\n",
    "data_path = \"data/{}.h5\"\n",
    "target_dir = \"projects/repfr\"\n",
    "\n",
    "data_tags = [\n",
    "    \"LohnasKahana2014\",\n",
    "    # \"KahanaJacobs2000\",\n",
    "]\n",
    "\n",
    "allow_repeated_recalls = [\n",
    "    False,\n",
    "    True,\n",
    "]\n",
    "\n",
    "trial_queries = [\n",
    "    \"data['list_type'] != 0\",\n",
    "    \"jnp.logical_and(data['recall_attempt'] == 1, data['recall_total'] > 0)\",\n",
    "]\n",
    "\n",
    "model_names = [\n",
    "    \"WeirdCMR\",\n",
    "    \"WeirdNoReinstateCMR\",\n",
    "    \"WeirdPositionScaleCMR\",\n",
    "    \"OutlistCMRDE\",\n",
    "    \"WeirdAmaxPositionScaleCMR\",\n",
    "    # \"WeirdDriftPositionScaleCMR\",\n",
    "]\n",
    "\n",
    "model_paths = [\n",
    "    \"jaxcmr.models.weird_cmr.BaseCMRFactory\",\n",
    "    \"jaxcmr.models.weird_no_reinstate_cmr.BaseCMRFactory\",\n",
    "    \"jaxcmr.models.weird_position_scale_cmr.BaseCMRFactory\",\n",
    "    \"jaxcmr.models.outlistcmrde.BaseCMRFactory\",\n",
    "    \"jaxcmr.models.weird_position_scale_cmr.BaseCMRFactory\",\n",
    "    # \"jaxcmr.weird_drift_position_scale_cmr.BaseCMRFactory\",\n",
    "]\n",
    "\n",
    "model_factories = [import_from_string(path) for path in model_paths]"
   ]
  },
  {
   "cell_type": "code",
   "execution_count": null,
   "id": "e289e9d7",
   "metadata": {},
   "outputs": [
    {
     "name": "stdout",
     "output_type": "stream",
     "text": [
      "LohnasKahana2014_WeirdCMR_full_best_of_3\n",
      "Saved LohnasKahana2014_WeirdCMR_full_best_of_3 to fits/LohnasKahana2014_WeirdCMR_full_best_of_3.h5\n",
      "LohnasKahana2014_WeirdNoReinstateCMR_full_best_of_3\n",
      "Saved LohnasKahana2014_WeirdNoReinstateCMR_full_best_of_3 to fits/LohnasKahana2014_WeirdNoReinstateCMR_full_best_of_3.h5\n",
      "LohnasKahana2014_WeirdPositionScaleCMR_full_best_of_3\n",
      "Saved LohnasKahana2014_WeirdPositionScaleCMR_full_best_of_3 to fits/LohnasKahana2014_WeirdPositionScaleCMR_full_best_of_3.h5\n",
      "LohnasKahana2014_OutlistCMRDE_full_best_of_3\n",
      "Saved LohnasKahana2014_OutlistCMRDE_full_best_of_3 to fits/LohnasKahana2014_OutlistCMRDE_full_best_of_3.h5\n",
      "LohnasKahana2014_WeirdAmaxPositionScaleCMR_full_best_of_3\n",
      "Saved LohnasKahana2014_WeirdAmaxPositionScaleCMR_full_best_of_3 to fits/LohnasKahana2014_WeirdAmaxPositionScaleCMR_full_best_of_3.h5\n"
     ]
    },
    {
     "data": {
      "text/plain": [
       "{'LohnasKahana2014': ['data/LohnasKahana2014.h5',\n",
       "  'fits/LohnasKahana2014_WeirdCMR_full_best_of_3.h5',\n",
       "  'fits/LohnasKahana2014_WeirdNoReinstateCMR_full_best_of_3.h5',\n",
       "  'fits/LohnasKahana2014_WeirdPositionScaleCMR_full_best_of_3.h5',\n",
       "  'fits/LohnasKahana2014_OutlistCMRDE_full_best_of_3.h5',\n",
       "  'fits/LohnasKahana2014_WeirdAmaxPositionScaleCMR_full_best_of_3.h5']}"
      ]
     },
     "execution_count": 6,
     "metadata": {},
     "output_type": "execute_result"
    }
   ],
   "source": [
    "data_paths = {}\n",
    "for data_tag, trial_query, allow_repeats in zip(data_tags, trial_queries, allow_repeated_recalls):\n",
    "    data_paths[data_tag] = [data_path.format(data_tag)]\n",
    "    data = load_data(data_path.format(data_tag))\n",
    "    max_size = jnp.max(data[\"pres_itemnos\"])\n",
    "    connections = jnp.zeros((max_size, max_size))\n",
    "\n",
    "    for model_name, model_factory in zip(model_names, model_factories):\n",
    "        tag = f\"{data_tag}_{model_name}_{run_tag}\"\n",
    "        print(tag)\n",
    "        fit_path = os.path.join(target_dir, \"fits\", f\"{tag}.json\")\n",
    "\n",
    "        with open(fit_path) as f:\n",
    "            results = json.load(f)\n",
    "            if \"subject\" not in results[\"fits\"]:\n",
    "                results[\"fits\"][\"subject\"] = results[\"subject\"]\n",
    "\n",
    "        rng = random.PRNGKey(seed)\n",
    "        rng, rng_iter = random.split(rng)\n",
    "        trial_mask = generate_trial_mask(data, trial_query)\n",
    "        params = {key: jnp.array(val) for key, val in results[\"fits\"].items()}  # type: ignore\n",
    "        params[\"allow_repeated_recalls\"] = jnp.array([allow_repeats] * len(results['fitness']))\n",
    "        sim = simulate_h5_from_h5(\n",
    "            model_factory=model_factory,\n",
    "            dataset=data,\n",
    "            connections=connections,\n",
    "            parameters=params,\n",
    "            trial_mask=trial_mask,\n",
    "            experiment_count=experiment_count,\n",
    "            rng=rng_iter,\n",
    "        )\n",
    "\n",
    "        save_dict_to_hdf5(sim, f\"fits/{tag}.h5\")\n",
    "        data_paths[data_tag].append(f\"fits/{tag}.h5\")\n",
    "        print(f\"Saved {tag} to fits/{tag}.h5\")\n",
    "\n",
    "data_paths"
   ]
  },
  {
   "cell_type": "code",
   "execution_count": null,
   "id": "0daf91b0",
   "metadata": {},
   "outputs": [
    {
     "data": {
      "text/plain": [
       "{'LohnasKahana2014': ['data/LohnasKahana2014.h5',\n",
       "  'fits/LohnasKahana2014_WeirdCMR_full_best_of_3.h5',\n",
       "  'fits/LohnasKahana2014_WeirdNoReinstateCMR_full_best_of_3.h5',\n",
       "  'fits/LohnasKahana2014_WeirdPositionScaleCMR_full_best_of_3.h5',\n",
       "  'fits/LohnasKahana2014_OutlistCMRDE_full_best_of_3.h5',\n",
       "  'fits/LohnasKahana2014_WeirdDriftPositionScaleCMR_full_best_of_3.h5'],\n",
       " 'KahanaJacobs2000': ['data/KahanaJacobs2000.h5',\n",
       "  'fits/KahanaJacobs2000_WeirdCMR_full_best_of_3.h5',\n",
       "  'fits/KahanaJacobs2000_WeirdNoReinstateCMR_full_best_of_3.h5',\n",
       "  'fits/KahanaJacobs2000_WeirdPositionScaleCMR_full_best_of_3.h5',\n",
       "  'fits/KahanaJacobs2000_OutlistCMRDE_full_best_of_3.h5',\n",
       "  'fits/KahanaJacobs2000_WeirdDriftPositionScaleCMR_full_best_of_3.h5']}"
      ]
     },
     "execution_count": 6,
     "metadata": {},
     "output_type": "execute_result"
    }
   ],
   "source": [
    "data_paths = {}\n",
    "for data_tag, trial_query, allow_repeats in zip(data_tags, trial_queries, allow_repeated_recalls):\n",
    "    data_paths[data_tag] = [data_path.format(data_tag)]\n",
    "    for model_name, model_factory in zip(model_names, model_factories):\n",
    "        tag = f\"{data_tag}_{model_name}_{run_tag}\"\n",
    "        data_paths[data_tag].append(f\"fits/{tag}.h5\")\n",
    "\n",
    "data_paths"
   ]
  }
 ],
 "metadata": {
  "kernelspec": {
   "display_name": "jaxcmr (3.12.8)",
   "language": "python",
   "name": "python3"
  },
  "language_info": {
   "codemirror_mode": {
    "name": "ipython",
    "version": 3
   },
   "file_extension": ".py",
   "mimetype": "text/x-python",
   "name": "python",
   "nbconvert_exporter": "python",
   "pygments_lexer": "ipython3",
   "version": "3.12.8"
  }
 },
 "nbformat": 4,
 "nbformat_minor": 5
}
