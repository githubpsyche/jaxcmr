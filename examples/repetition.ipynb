{
 "cells": [
  {
   "cell_type": "markdown",
   "metadata": {},
   "source": [
    "# Handling Item Repetitions in Study Lists"
   ]
  },
  {
   "cell_type": "markdown",
   "metadata": {},
   "source": [
    "Demonstrate utilities to map study positions, remove repeated recalls, and build shuffled control datasets."
   ]
  },
  {
   "cell_type": "markdown",
   "metadata": {},
   "source": [
    "These helpers support analyses when an item can appear multiple times in a study list.\n",
    "They include functions to enumerate all valid study positions for a recalled item,\n",
    "remap recalls to the item's first position (for control analyses), drop repeated recalls within a trial,\n",
    "and construct a shuffled control dataset aligned to mixed-list presentations."
   ]
  },
  {
   "cell_type": "code",
   "execution_count": 1,
   "metadata": {},
   "outputs": [],
   "source": [
    "from jax import numpy as jnp\n",
    "\n",
    "from jaxcmr.repetition import (\n",
    "    item_to_study_positions,\n",
    "    all_study_positions,\n",
    "    filter_repeated_recalls,\n",
    "    relabel_trial_to_firstpos,\n",
    "    make_control_dataset,\n",
    ")\n"
   ]
  },
  {
   "cell_type": "code",
   "execution_count": 2,
   "metadata": {
    "tags": [
     "parameters"
    ]
   },
   "outputs": [],
   "source": [
    "# Parameters\n",
    "presentation = jnp.array([1, 2, 1, 3, 4, 5], dtype=jnp.int32)\n",
    "size = 3\n",
    "rec_row = jnp.array([3, 1, 0, 4, 0, 0], dtype=jnp.int32)\n",
    "\n",
    "L = 4\n",
    "toy = {\n",
    "    'subject': jnp.array([[1],[1],[2],[2]], dtype=jnp.int32),\n",
    "    'listLength': jnp.array([[L],[L],[L],[L]], dtype=jnp.int32),\n",
    "    'pres_itemnos': jnp.array([[1,2,3,4],[1,2,1,4],[1,2,3,4],[2,1,2,3]], dtype=jnp.int32),\n",
    "    'recalls': jnp.array([[1,2,3,0],[3,1,1,0],[1,1,2,0],[2,3,0,0]], dtype=jnp.int32),\n",
    "    'list_type': jnp.array([[0],[1],[0],[1]], dtype=jnp.int32),\n",
    "}\n"
   ]
  },
  {
   "cell_type": "code",
   "execution_count": 3,
   "metadata": {},
   "outputs": [
    {
     "data": {
      "text/plain": [
       "Array([1, 3, 0], dtype=int32)"
      ]
     },
     "execution_count": 3,
     "metadata": {},
     "output_type": "execute_result"
    }
   ],
   "source": [
    "# Demo: study position mapping\n",
    "item_to_study_positions(1, presentation, size)\n"
   ]
  },
  {
   "cell_type": "code",
   "execution_count": 4,
   "metadata": {},
   "outputs": [
    {
     "data": {
      "text/plain": [
       "Array([1, 3, 0], dtype=int32)"
      ]
     },
     "execution_count": 4,
     "metadata": {},
     "output_type": "execute_result"
    }
   ],
   "source": [
    "# Demo: all positions from a study position\n",
    "all_study_positions(3, presentation, size)\n"
   ]
  },
  {
   "cell_type": "code",
   "execution_count": 5,
   "metadata": {},
   "outputs": [
    {
     "data": {
      "text/plain": [
       "Array([1, 1, 0, 4, 0, 0], dtype=int32)"
      ]
     },
     "execution_count": 5,
     "metadata": {},
     "output_type": "execute_result"
    }
   ],
   "source": [
    "# Demo: relabel and filter repeated recalls\n",
    "relabel_trial_to_firstpos(rec_row, presentation)\n"
   ]
  },
  {
   "cell_type": "code",
   "execution_count": 6,
   "metadata": {},
   "outputs": [
    {
     "data": {
      "text/plain": [
       "Array([[3, 1, 0, 4, 0, 0],\n",
       "       [3, 1, 0, 4, 0, 0]], dtype=int32)"
      ]
     },
     "execution_count": 6,
     "metadata": {},
     "output_type": "execute_result"
    }
   ],
   "source": [
    "filter_repeated_recalls(jnp.vstack([rec_row, rec_row]))\n"
   ]
  },
  {
   "cell_type": "code",
   "execution_count": 7,
   "metadata": {},
   "outputs": [
    {
     "data": {
      "text/plain": [
       "{'subject': (2, 1),\n",
       " 'recalls': (2, 4),\n",
       " 'pres_itemnos': (2, 4),\n",
       " 'listLength': (2, 1),\n",
       " 'list_type': (2, 1)}"
      ]
     },
     "execution_count": 7,
     "metadata": {},
     "output_type": "execute_result"
    }
   ],
   "source": [
    "# Demo: build a control dataset\n",
    "ctrl = make_control_dataset(\n",
    "    data=toy,\n",
    "    mixed_query=\"data['list_type'].flatten() == 1\",\n",
    "    control_query=\"data['list_type'].flatten() == 0\",\n",
    "    n_shuffles=1,\n",
    "    seed=0,\n",
    ")\n",
    "{k: v.shape for k, v in ctrl.items()}\n"
   ]
  }
 ],
 "metadata": {
  "kernelspec": {
   "display_name": "jaxcmr",
   "language": "python",
   "name": "python3"
  },
  "language_info": {
   "codemirror_mode": {
    "name": "ipython",
    "version": 3
   },
   "file_extension": ".py",
   "mimetype": "text/x-python",
   "name": "python",
   "nbconvert_exporter": "python",
   "pygments_lexer": "ipython3",
   "version": "3.12.8"
  }
 },
 "nbformat": 4,
 "nbformat_minor": 5
}
