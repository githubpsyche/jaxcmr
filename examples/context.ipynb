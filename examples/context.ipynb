{
 "cells": [
  {
   "cell_type": "markdown",
   "metadata": {},
   "source": [
    "# Temporal context"
   ]
  },
  {
   "cell_type": "markdown",
   "metadata": {},
   "source": [
    "Demonstrate temporal context drift."
   ]
  },
  {
   "cell_type": "markdown",
   "metadata": {},
   "source": [
    "Temporal context models describe how a memory cue shifts with each studied item. This notebook shows how `TemporalContext` drifts toward item representations while preserving unit length. Understanding this drift helps interpret how context guides recall."
   ]
  },
  {
   "cell_type": "code",
   "execution_count": null,
   "metadata": {},
   "outputs": [],
   "source": [
    "from jax import numpy as jnp\n",
    "from jaxcmr.models.context import TemporalContext"
   ]
  },
  {
   "cell_type": "code",
   "execution_count": null,
   "metadata": {
    "tags": [
     "parameters"
    ]
   },
   "outputs": [],
   "source": [
    "item_count = 3\n",
    "drift_rate = 0.5"
   ]
  },
  {
   "cell_type": "code",
   "execution_count": null,
   "metadata": {},
   "outputs": [],
   "source": [
    "context = TemporalContext.init(item_count)\n",
    "input_vec = jnp.eye(item_count + 1)[1]\n",
    "context = context.integrate(input_vec, drift_rate)\n",
    "context"
   ]
  },
  {
   "cell_type": "code",
   "execution_count": null,
   "metadata": {},
   "outputs": [],
   "source": [
    "context = TemporalContext.init_expanded(item_count)\n",
    "context = context.integrate_with_outlist(input_vec, ratio=0.5, drift_rate=drift_rate)\n",
    "context"
   ]
  }
 ],
 "metadata": {
  "language_info": {
   "name": "python",
   "pygments_lexer": "ipython3"
  }
 },
 "nbformat": 4,
 "nbformat_minor": 5
}
