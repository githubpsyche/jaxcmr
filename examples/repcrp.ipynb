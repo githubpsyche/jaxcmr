{
 "cells": [
  {
   "cell_type": "markdown",
   "metadata": {},
   "source": ["# Repetition Conditional Response Probability"]
  },
  {
   "cell_type": "markdown",
   "metadata": {},
   "source": ["Compute repetition conditional response probabilities for a sample recall matrix."]
  },
  {
   "cell_type": "markdown",
   "metadata": {},
   "source": ["This demo measures how often the next recall returns to a previously studied item. It tabulates observed and possible lag transitions between repeated presentations and plots their conditional response probabilities."]
  },
  {
   "cell_type": "code",
   "metadata": {},
   "execution_count": null,
   "outputs": [],
   "source": [
    "from jaxcmr.analyses.repcrp import repcrp, plot_rep_crp\n",
    "import jax.numpy as jnp"
   ]
  },
  {
   "cell_type": "code",
   "metadata": {"tags": ["parameters"]},
   "execution_count": null,
   "outputs": [],
   "source": [
    "presentation = jnp.array([[1, 2, 1, 3]], dtype=jnp.int32)\n",
    "recalls = jnp.array([[1, 1, 2, 3]], dtype=jnp.int32)\n",
    "min_lag = 1\n",
    "size = 2"
   ]
  },
  {
   "cell_type": "code",
   "metadata": {},
   "execution_count": null,
   "outputs": [],
   "source": [
    "values = repcrp(recalls, presentation, list_length=presentation.shape[1], min_lag=min_lag, size=size)\n",
    "print(values)\n",
    "\n",
    "dataset = {\n",
    "    \"recalls\": recalls,\n",
    "    \"pres_itemnos\": presentation,\n",
    "    \"subject\": jnp.array([[1]], dtype=jnp.int32),\n",
    "    \"listLength\": jnp.array([[presentation.shape[1]]], dtype=jnp.int32),\n",
    "}\n",
    "plot_rep_crp(dataset, jnp.array([True]), min_lag=min_lag, size=size)"
   ]
  }
 ],
 "metadata": {
  "kernelspec": {
   "display_name": "Python 3",
   "language": "python",
   "name": "python3"
  },
  "language_info": {
   "name": "python",
   "pygments_lexer": "ipython3"
  }
 },
 "nbformat": 4,
 "nbformat_minor": 5
}
