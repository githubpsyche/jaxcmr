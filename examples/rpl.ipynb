{
 "cells": [
  {
   "cell_type": "markdown",
   "metadata": {},
   "source": "# Recall Probability by Lag\n"
  },
  {
   "cell_type": "markdown",
   "metadata": {},
   "source": "Plot recall probability as a function of spacing.\n"
  },
  {
   "cell_type": "markdown",
   "metadata": {},
   "source": "Spacing between repeated items influences memory. This example loads a dataset, filters trials, and visualizes recall probability across lag bins. Higher bins correspond to more intervening items between repetitions.\n"
  },
  {
   "cell_type": "code",
   "metadata": {},
   "execution_count": 0,
   "source": "import matplotlib.pyplot as plt\nimport jax.numpy as jnp\nfrom jaxcmr.helpers import load_data, generate_trial_mask, find_project_root\nfrom jaxcmr.analyses.rpl import plot_rpl\n"
  },
  {
   "cell_type": "code",
   "metadata": {
    "tags": [
     "parameters"
    ]
   },
   "execution_count": 0,
   "source": "data_path = find_project_root() + '/data/LohnasKahana2014.h5'\ndata_query = \"data['list_type'] == 4\"\n"
  },
  {
   "cell_type": "code",
   "metadata": {},
   "execution_count": 0,
   "source": "data = load_data(data_path)\ntrial_mask = generate_trial_mask(data, data_query)\nfig, ax = plt.subplots()\nplot_rpl(data, trial_mask, axis=ax)\nfig.tight_layout()\n"
  }
 ],
 "metadata": {},
 "nbformat": 4,
 "nbformat_minor": 5
}