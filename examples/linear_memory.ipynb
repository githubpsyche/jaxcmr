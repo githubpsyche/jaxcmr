{
 "cells": [
  {
   "cell_type": "markdown",
   "metadata": {},
   "source": [
    "# Linear Memory\n"
   ]
  },
  {
   "cell_type": "markdown",
   "metadata": {},
   "source": [
    "Demonstrate basic operations of a linear associative memory.\n"
   ]
  },
  {
   "cell_type": "markdown",
   "metadata": {},
   "source": [
    "This notebook shows how to create a linear memory, store associations between item and context representations, and retrieve them. It demonstrates updating the memory, probing for stored patterns, and clearing associations.\n"
   ]
  },
  {
   "cell_type": "code",
   "metadata": {},
   "execution_count": null,
   "outputs": [],
   "source": [
    "import jax.numpy as jnp\n",
    "from jaxcmr.models.linear_memory import LinearMemory\n"
   ]
  },
  {
   "cell_type": "code",
   "metadata": {
    "tags": [
     "parameters"
    ]
   },
   "execution_count": null,
   "outputs": [],
   "source": [
    "learning_rate = 0.3\n",
    "in_pattern = jnp.array([1.0, 0.0])\n",
    "out_pattern = jnp.array([0.5, 0.5])\n"
   ]
  },
  {
   "cell_type": "code",
   "metadata": {},
   "execution_count": null,
   "outputs": [],
   "source": [
    "memory = LinearMemory(jnp.zeros((2, 2)))\n",
    "memory = memory.associate(in_pattern, out_pattern, learning_rate)\n",
    "retrieved = memory.probe(in_pattern)\n",
    "cleared = memory.zero_out(0)\n",
    "retrieved, cleared.state\n"
   ]
  }
 ],
 "metadata": {
  "kernelspec": {
   "display_name": "Python 3",
   "language": "python",
   "name": "python3"
  },
  "language_info": {
   "name": "python",
   "version": "3.10"
  }
 },
 "nbformat": 4,
 "nbformat_minor": 5
}