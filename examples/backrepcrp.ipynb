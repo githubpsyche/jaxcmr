{
 "cells": [
  {
   "cell_type": "markdown",
   "metadata": {},
   "source": [
    "# Repetition Lag-CRP\n"
   ]
  },
  {
   "cell_type": "markdown",
   "metadata": {},
   "source": [
    "Compute repetition-conditioned lag-CRPs in a small dataset.\n"
   ]
  },
  {
   "cell_type": "markdown",
   "metadata": {},
   "source": [
    "This demo shows how to compute the conditional response probability when items repeat in a study list. The metric tracks transitions from a recalled repeated item to nearby study positions and helps reveal how repetition shapes recall dynamics.\n"
   ]
  },
  {
   "cell_type": "code",
   "metadata": {},
   "execution_count": null,
   "outputs": [],
   "source": [
    "import jax.numpy as jnp\n",
    "from jaxcmr.analyses.backrepcrp import repcrp, plot_back_rep_crp\n",
    "from jaxcmr.typing import RecallDataset\n"
   ]
  },
  {
   "cell_type": "code",
   "metadata": {
    "tags": [
     "parameters"
    ]
   },
   "execution_count": null,
   "outputs": [],
   "source": [
    "trials = jnp.array([[1, 2, 1, 2]], dtype=jnp.int32)\n",
    "presentation = jnp.array([[1, 2, 1, 2]], dtype=jnp.int32)\n",
    "trial_mask = jnp.array([True], dtype=bool)\n",
    "min_lag = 1\n",
    "size = 2\n"
   ]
  },
  {
   "cell_type": "code",
   "metadata": {},
   "execution_count": null,
   "outputs": [],
   "source": [
    "repcrp(trials, presentation, list_length=4, min_lag=min_lag, size=size)\n"
   ]
  },
  {
   "cell_type": "code",
   "metadata": {},
   "execution_count": null,
   "outputs": [],
   "source": [
    "dataset: RecallDataset = {\n",
    "    'subject': jnp.array([[1]], dtype=jnp.int32),\n",
    "    'listLength': jnp.array([[4]], dtype=jnp.int32),\n",
    "    'pres_itemnos': presentation,\n",
    "    'recalls': trials,\n",
    "    'pres_itemids': presentation,\n",
    "}\n",
    "plot_back_rep_crp(dataset, trial_mask, max_lag=1, min_lag=min_lag, size=size)\n"
   ]
  },
  {
   "cell_type": "markdown",
   "metadata": {},
   "source": [
    "## Notes\n",
    "\n",
    "These defaults illustrate a simple list with two repeated items. Adjust the parameters to match your dataset.\n"
   ]
  }
 ],
 "metadata": {
  "kernelspec": {
   "display_name": "Python 3",
   "language": "python",
   "name": "python3"
  },
  "language_info": {
   "name": "python",
   "version": "3.10"
  }
 },
 "nbformat": 4,
 "nbformat_minor": 5
}