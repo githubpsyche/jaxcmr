{
 "cells": [
  {
   "cell_type": "markdown",
   "metadata": {},
   "source": "# Serial Recall Accuracy Curve"
  },
  {
   "cell_type": "markdown",
   "metadata": {},
   "source": "Compute position-wise recall accuracy."
  },
  {
   "cell_type": "markdown",
   "metadata": {},
   "source": "This short demo computes the Serial Recall Accuracy Curve (SRAC) for a tiny dataset. The SRAC shows how often each studied position is recalled in the matching output position."
  },
  {
   "cell_type": "code",
   "execution_count": null,
   "metadata": {},
   "outputs": [],
   "source": "import jax.numpy as jnp\nfrom jaxcmr.analyses import srac\nfrom jaxcmr.typing import RecallDataset\nimport matplotlib.pyplot as plt"
  },
  {
   "cell_type": "code",
   "execution_count": null,
   "metadata": {"tags": ["parameters"]},
   "outputs": [],
   "source": "recalls = jnp.array([[1, 2, 0], [1, 0, 3]], dtype=jnp.int32)\npresentations = jnp.array([[1, 2, 3], [1, 2, 3]], dtype=jnp.int32)\ntrial_mask = jnp.array([True, True], dtype=bool)\ndataset: RecallDataset = {\n    \"subject\": jnp.array([[1], [1]], dtype=jnp.int32),\n    \"listLength\": jnp.array([[3], [3]], dtype=jnp.int32),\n    \"pres_itemnos\": presentations,\n    \"recalls\": recalls,\n    \"pres_itemids\": presentations,\n}"
  },
  {
   "cell_type": "code",
   "execution_count": null,
   "metadata": {},
   "outputs": [],
   "source": "srac_values = srac.srac(recalls, presentations, list_length=3)\naxis = srac.plot_srac(dataset, trial_mask)\nsrac_values"
  }
 ],
 "metadata": {
  "kernelspec": {
   "display_name": "Python 3",
   "language": "python",
   "name": "python3"
  },
  "language_info": {
   "name": "python",
   "version": "3.12"
  }
 },
 "nbformat": 4,
 "nbformat_minor": 5
}
