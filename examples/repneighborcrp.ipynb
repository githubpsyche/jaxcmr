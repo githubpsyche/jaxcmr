{
  "cells": [
    {
      "cell_type": "markdown",
      "metadata": {},
      "source": "# Repetition-Neighbor Lag-CRP\n"
    },
    {
      "cell_type": "markdown",
      "metadata": {},
      "source": "Compute repetition-neighbor conditional response probabilities.\n"
    },
    {
      "cell_type": "markdown",
      "metadata": {},
      "source": "Analyze how recalls transition between neighbors of repeated items. Transitions from the second presentation's neighbors to the first presentation, and vice versa, reveal how repetition shapes context. This example uses a tiny artificial dataset with one repeated item.\n"
    },
    {
      "cell_type": "code",
      "metadata": {},
      "execution_count": 0,
      "outputs": [],
      "source": "import jax.numpy as jnp\nfrom jaxcmr.analyses.repneighborcrp import repneighborcrp, plot_rep_neighbor_crp\nfrom jaxcmr.typing import RecallDataset\nfrom matplotlib import pyplot as plt\n"
    },
    {
      "cell_type": "code",
      "metadata": {
        "tags": [
          "parameters"
        ]
      },
      "execution_count": 0,
      "outputs": [],
      "source": "trials = jnp.array([[7, 1, 0, 0]], dtype=jnp.int32)\npresentations = jnp.array([[1, 2, 3, 4, 5, 1, 6, 7]], dtype=jnp.int32)\ndirection = 'j2i'\nuse_lag2 = False\n"
    },
    {
      "cell_type": "code",
      "metadata": {},
      "execution_count": 0,
      "outputs": [],
      "source": "dataset: RecallDataset = {\n    'subject': jnp.array([[1]], dtype=jnp.int32),\n    'listLength': jnp.array([[presentations.shape[1]]], dtype=jnp.int32),\n    'pres_itemnos': presentations,\n    'recalls': trials,\n}\ntrial_mask = jnp.array([True], dtype=bool)\n\nprobs = repneighborcrp(trials, presentations, direction=direction, use_lag2=use_lag2)\nprint(probs)\nplot_rep_neighbor_crp(dataset, trial_mask, max_lag=3, direction=direction, use_lag2=use_lag2)\nplt.show()\n"
    }
  ],
  "metadata": {
    "kernelspec": {
      "display_name": "Python 3",
      "language": "python",
      "name": "python3"
    },
    "language_info": {
      "name": "python",
      "pygments_lexer": "ipython3"
    }
  },
  "nbformat": 4,
  "nbformat_minor": 2
}