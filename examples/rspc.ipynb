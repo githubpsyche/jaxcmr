{
 "cells": [
  {
   "cell_type": "markdown",
   "id": "2499db2d",
   "metadata": {},
   "source": [
    "# Relative Serial Position Curve"
   ]
  },
  {
   "cell_type": "markdown",
   "id": "f6df9372",
   "metadata": {},
   "source": [
    "Compute recall accuracy relative to the previous item."
   ]
  },
  {
   "cell_type": "markdown",
   "id": "91ac8282",
   "metadata": {},
   "source": [
    "The relative serial position curve (RSPC) counts a recall as correct when it immediately follows its predecessor in the study list. This notebook demonstrates computing RSPC scores and plotting the curve for a small synthetic dataset."
   ]
  },
  {
   "cell_type": "code",
   "execution_count": null,
   "id": "ea14d3d6",
   "metadata": {},
   "outputs": [],
   "source": [
    "import matplotlib\n",
    "matplotlib.use(\"Agg\", force=True)\n",
    "import matplotlib.pyplot as plt\n",
    "import jax.numpy as jnp\n",
    "from jaxcmr.analyses.rspc import relative_spc, plot_relative_spc\n",
    "from jaxcmr.typing import RecallDataset"
   ]
  },
  {
   "cell_type": "code",
   "execution_count": null,
   "id": "4a60bc07",
   "metadata": {
    "tags": [
     "parameters"
    ]
   },
   "outputs": [],
   "source": [
    "recalls = jnp.array([[1, 2, 3], [2, 3, 0]], dtype=jnp.int32)\n",
    "presentations = jnp.array([[1, 2, 3], [1, 2, 3]], dtype=jnp.int32)\n",
    "trial_mask = jnp.array([True, True], dtype=bool)\n",
    "dataset: RecallDataset = {\n",
    "    \"subject\": jnp.array([[1], [1]], dtype=jnp.int32),\n",
    "    \"listLength\": jnp.array([[3], [3]], dtype=jnp.int32),\n",
    "    \"pres_itemnos\": presentations,\n",
    "    \"recalls\": recalls,\n",
    "    \"pres_itemids\": presentations,\n",
    "}"
   ]
  },
  {
   "cell_type": "code",
   "execution_count": null,
   "id": "050679fb",
   "metadata": {},
   "outputs": [],
   "source": [
    "scores = relative_spc(recalls, presentations)\n",
    "scores"
   ]
  },
  {
   "cell_type": "code",
   "execution_count": null,
   "id": "cc33a51f",
   "metadata": {},
   "outputs": [],
   "source": [
    "axis = plot_relative_spc(dataset, trial_mask)\n",
    "plt.close(axis.figure)"
   ]
  }
 ],
 "metadata": {
  "kernelspec": {
   "display_name": "Python 3",
   "language": "python",
   "name": "python3"
  },
  "language_info": {
   "name": "python"
  }
 },
 "nbformat": 4,
 "nbformat_minor": 5
}
