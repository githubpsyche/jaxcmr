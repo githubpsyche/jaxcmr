{
  "cells": [
    {
      "cell_type": "markdown",
      "metadata": {},
      "source": [
        "# Serial Position Curve"
      ]
    },
    {
      "cell_type": "markdown",
      "metadata": {},
      "source": [
        "Compute the serial position curve."
      ]
    },
    {
      "cell_type": "markdown",
      "metadata": {},
      "source": [
        "The serial position curve plots recall probability by study position.\n",
        "This example uses small synthetic data to compute the curve and plot it.\n",
        "Such curves often show primacy and recency effects."
      ]
    },
    {
      "cell_type": "code",
      "metadata": {},
      "execution_count": null,
      "outputs": [],
      "source": [
        "import jax.numpy as jnp\n",
        "import matplotlib.pyplot as plt\n",
        "from jaxcmr.analyses.spc import spc\n"
      ]
    },
    {
      "cell_type": "code",
      "metadata": {
        "tags": [
          "parameters"
        ]
      },
      "execution_count": null,
      "outputs": [],
      "source": [
        "recalls = jnp.array([[1, 2, 0], [2, 3, 0]], dtype=jnp.int32)\n",
        "presentations = jnp.array([[1, 2, 3], [1, 2, 3]], dtype=jnp.int32)\n",
        "list_length = 3\n",
        "size = 1\n"
      ]
    },
    {
      "cell_type": "code",
      "metadata": {},
      "execution_count": null,
      "outputs": [],
      "source": [
        "rates = spc(recalls, presentations, list_length, size=size)\n",
        "plt.plot(jnp.arange(1, list_length + 1), rates)\n",
        "plt.xlabel('Study Position')\n",
        "plt.ylabel('Recall Rate')\n",
        "plt.show()\n"
      ]
    }
  ],
  "metadata": {
    "kernelspec": {
      "display_name": "Python 3",
      "language": "python",
      "name": "python3"
    },
    "language_info": {
      "name": "python",
      "pygments_lexer": "ipython3"
    }
  },
  "nbformat": 4,
  "nbformat_minor": 5
}