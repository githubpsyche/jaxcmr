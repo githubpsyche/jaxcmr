{
 "cells": [
  {
   "cell_type": "code",
   "execution_count": null,
   "id": "7cbc6588-0622-4919-be41-7c555dd7d4ba",
   "metadata": {},
   "outputs": [],
   "source": [
    "# | default_exp analyses.rspc\n",
    "%load_ext autoreload\n",
    "%autoreload 2"
   ]
  },
  {
   "cell_type": "markdown",
   "id": "9b72461b-5242-49fe-a15b-f2cef4eff228",
   "metadata": {},
   "source": [
    " # Relative Serial Position Curve\n",
    "\n",
    " Compute a serial position curve where each recall is scored “correct” if it is exactly one position after the previous recall\n",
    " (previous + 1), with the first recall scored relative to position 0 (so only a recall of study position 1 is correct)."
   ]
  },
  {
   "cell_type": "code",
   "execution_count": null,
   "id": "5642bc54-3c1a-46e1-9041-57b09c8aed7d",
   "metadata": {},
   "outputs": [],
   "source": [
    "# | export\n",
    "\n",
    "from typing import Optional, Sequence\n",
    "\n",
    "import jax.numpy as jnp\n",
    "from jax import jit, lax, vmap\n",
    "from matplotlib import rcParams  # type: ignore\n",
    "from matplotlib.axes import Axes\n",
    "from simple_pytree import Pytree\n",
    "\n",
    "from jaxcmr.helpers import apply_by_subject, find_max_list_length\n",
    "from jaxcmr.plotting import init_plot, plot_data, set_plot_labels\n",
    "from jaxcmr.repetition import all_study_positions\n",
    "from jaxcmr.typing import Array, Bool, Float, Int_, Integer, RecallDataset"
   ]
  },
  {
   "cell_type": "markdown",
   "id": "a5e4694a-081a-4e6f-9f23-579e5f2e2cad",
   "metadata": {},
   "source": [
    "## Calculation"
   ]
  },
  {
   "cell_type": "code",
   "execution_count": null,
   "metadata": {},
   "outputs": [],
   "source": [
    "# | exports\n",
    "\n",
    "\n",
    "class Tabulation(Pytree):\n",
    "    \"A tabulation of transitions between items during recall of a study list.\"\n",
    "\n",
    "    def __init__(\n",
    "        self,\n",
    "        presentation: Integer[Array, \" study_events\"],\n",
    "        first_recall: Int_,\n",
    "        size: int = 3,\n",
    "    ):\n",
    "        self.list_length = presentation.size\n",
    "        self.all_positions = jnp.arange(1, self.list_length + 1, dtype=int)\n",
    "        self.size = size\n",
    "        self.item_study_positions = lax.map(\n",
    "            lambda i: all_study_positions(i, presentation, size),\n",
    "            self.all_positions,\n",
    "        )\n",
    "        self.previous = self.item_study_positions[first_recall - 1]\n",
    "        self.recalled = (\n",
    "            jnp.zeros(self.list_length, dtype=bool)\n",
    "            .at[0]\n",
    "            .set(jnp.any(self.previous == 1))\n",
    "        )\n",
    "\n",
    "    def tabulate_transition(self, recall: Int_) -> Bool[Array, \" positions\"]:\n",
    "        \"Returns whether recall study positions make it a +1 neighbor of the previous item.\"\n",
    "        recall_positions = self.item_study_positions[recall - 1]  # 0-padded\n",
    "        prev_plus_one = jnp.array(jnp.where(self.previous > 0, self.previous + 1, 0))\n",
    "\n",
    "        # True where a real recall position equals a real prev_pos + 1\n",
    "        matches = (\n",
    "            (recall_positions[:, None] == prev_plus_one[None, :])\n",
    "            & (recall_positions[:, None] > 0)\n",
    "            & (prev_plus_one[None, :] > 0)\n",
    "        )\n",
    "\n",
    "        matched_rows = jnp.any(matches, axis=1)\n",
    "        positions_to_flag = jnp.array(jnp.where(matched_rows, recall_positions, 0))\n",
    "        idx = jnp.clip(positions_to_flag - 1, 0, self.list_length - 1)\n",
    "        return jnp.zeros_like(self.recalled).at[idx].set(positions_to_flag > 0)\n",
    "\n",
    "    def tabulate(self, recall: Int_) -> \"Tabulation\":\n",
    "        \"Tabulates whether this recall occurred after its -1 serial neighbor.\"\n",
    "        return self.replace(\n",
    "            previous=self.item_study_positions[recall - 1],\n",
    "            recalled=self.recalled | self.tabulate_transition(recall),\n",
    "        )\n",
    "\n",
    "\n",
    "def tabulate_trial(\n",
    "    trial: Integer[Array, \" recall_events\"],\n",
    "    presentation: Integer[Array, \" study_events\"],\n",
    "    size: int = 3,\n",
    ") -> Float[Array, \" study_events\"]:\n",
    "    init = Tabulation(presentation, trial[0], size)\n",
    "    tab = lax.fori_loop(1, trial.size, lambda i, t: t.tabulate(trial[i]), init)\n",
    "    return tab.recalled\n",
    "\n",
    "\n",
    "def relative_spc(\n",
    "    recalls: Integer[Array, \" trial_count recall_positions\"],\n",
    "    presentations: Integer[Array, \" trial_count study_positions\"],\n",
    "    list_length: Optional[int] = None,\n",
    "    size: int = 3,\n",
    ") -> Float[Array, \" study_positions\"]:\n",
    "    \"\"\"Returns relative-order serial recall accuracy as a function of study position.\n",
    "\n",
    "    Args:\n",
    "        recalls: trial by recall position array of recalled items. 1-indexed; 0 for no recall.\n",
    "        presentations: trial by study position array of presented items. 1-indexed.\n",
    "        list_length: the length of the study list.\n",
    "        size: maximum number of study positions an item can be presented at.\n",
    "    \"\"\"\n",
    "    scores = vmap(tabulate_trial, in_axes=(0, 0, None))(recalls, presentations, size)\n",
    "    return jnp.mean(scores, axis=0)"
   ]
  },
  {
   "cell_type": "markdown",
   "id": "afa4f4f3-7132-45c1-bf11-e58e2fff0a17",
   "metadata": {},
   "source": [
    " ## Plotting"
   ]
  },
  {
   "cell_type": "code",
   "execution_count": null,
   "id": "c9c445b0-fca8-4284-9d1a-a9f45ae2170d",
   "metadata": {},
   "outputs": [],
   "source": [
    "# | exports\n",
    "\n",
    "\n",
    "def plot_relative_spc(\n",
    "    datasets: Sequence[RecallDataset] | RecallDataset,\n",
    "    trial_masks: Sequence[Bool[Array, \" trial_count\"]] | Bool[Array, \" trial_count\"],\n",
    "    distances: Optional[Float[Array, \" word_count word_count\"]] = None,\n",
    "    color_cycle: Optional[list[str]] = None,\n",
    "    labels: Optional[Sequence[str]] = None,\n",
    "    contrast_name: Optional[str] = None,\n",
    "    axis: Optional[Axes] = None,\n",
    "    size: int = 3,\n",
    ") -> Axes:\n",
    "    \"\"\"Returns Axes object with plotted serial position curve for datasets and trial masks.\n",
    "\n",
    "    Args:\n",
    "        datasets: Datasets containing trial data to be plotted.\n",
    "        trial_masks: Masks to filter trials in datasets.\n",
    "        color_cycle: List of colors for plotting each dataset.\n",
    "        distances: Unused, included for compatibility with other plotting functions.\n",
    "        labels: Names for each dataset for legend, optional.\n",
    "        contrast_name: Name of contrast for legend labeling, optional.\n",
    "        axis: Existing matplotlib Axes to plot on, optional.\n",
    "        size: Maximum number of study positions an item can be presented at.\n",
    "    \"\"\"\n",
    "    axis = init_plot(axis)\n",
    "\n",
    "    if color_cycle is None:\n",
    "        color_cycle = [each[\"color\"] for each in rcParams[\"axes.prop_cycle\"]]\n",
    "\n",
    "    if labels is None:\n",
    "        labels = [\"\"] * len(datasets)\n",
    "\n",
    "    if isinstance(datasets, dict):\n",
    "        datasets = [datasets]\n",
    "\n",
    "    if isinstance(trial_masks, jnp.ndarray):\n",
    "        trial_masks = [trial_masks]\n",
    "\n",
    "    max_list_length = find_max_list_length(datasets, trial_masks)\n",
    "    for data_index, data in enumerate(datasets):\n",
    "        subject_values = jnp.vstack(\n",
    "            apply_by_subject(\n",
    "                data,\n",
    "                trial_masks[data_index],\n",
    "                jit(relative_spc, static_argnames=(\"size\")),\n",
    "                size,\n",
    "            )\n",
    "        )\n",
    "\n",
    "        color = color_cycle.pop(0)\n",
    "        plot_data(\n",
    "            axis,\n",
    "            jnp.arange(max_list_length, dtype=int) + 1,\n",
    "            subject_values,\n",
    "            labels[data_index],\n",
    "            color,\n",
    "        )\n",
    "\n",
    "    set_plot_labels(axis, \"Study Position\", \"Recall Rate\", contrast_name)\n",
    "    return axis"
   ]
  },
  {
   "cell_type": "markdown",
   "id": "82573008-3d6a-417d-b11a-d11074261c27",
   "metadata": {},
   "source": [
    " ## Tests"
   ]
  },
  {
   "cell_type": "code",
   "execution_count": null,
   "metadata": {},
   "outputs": [],
   "source": [
    "# | code-summary: all_study_positions retrieves the study positions of a given recall item\n",
    "pres = jnp.array([1, 2, 1])\n",
    "out = all_study_positions(1, pres, 3)\n",
    "assert jnp.array_equal(out, jnp.array([1, 3, 0]))"
   ]
  },
  {
   "cell_type": "code",
   "execution_count": null,
   "metadata": {},
   "outputs": [],
   "source": [
    "# | code-summary:  Perfect forward recall\n",
    "pres = jnp.array([1, 2, 3])\n",
    "rec = jnp.array([1, 2, 3])\n",
    "assert jnp.array_equal(tabulate_trial(rec, pres, 3), jnp.array([True, True, True]))"
   ]
  },
  {
   "cell_type": "code",
   "execution_count": null,
   "metadata": {},
   "outputs": [],
   "source": [
    "# | code-summary: Out-of-order start\n",
    "pres = jnp.array([1, 2, 3])\n",
    "rec = jnp.array([2, 3, 1])\n",
    "assert jnp.array_equal(tabulate_trial(rec, pres, 3), jnp.array([False, False, True]))"
   ]
  },
  {
   "cell_type": "code",
   "execution_count": null,
   "metadata": {},
   "outputs": [],
   "source": [
    "# | code-summary: Repetitions, all satisfied\n",
    "pres = jnp.array([1, 2, 1])\n",
    "rec = jnp.array([1, 2, 1])\n",
    "assert jnp.array_equal(tabulate_trial(rec, pres), jnp.array([True, True, True]))"
   ]
  },
  {
   "cell_type": "code",
   "execution_count": null,
   "metadata": {},
   "outputs": [],
   "source": [
    "# | code-summary: multi-trial example with no repetitions and one error\n",
    "recalls = jnp.array([[1, 2, 3], [1, 2, 1]])\n",
    "presents = jnp.array([[1, 2, 3], [1, 2, 3]])\n",
    "out = relative_spc(recalls, presents, 3)\n",
    "assert jnp.allclose(out, jnp.array([1.0, 1.0, 0.5]))"
   ]
  },
  {
   "cell_type": "code",
   "execution_count": null,
   "metadata": {},
   "outputs": [],
   "source": [
    "# | code-summary: Longer recall list with repeats\n",
    "pres = jnp.array([1, 2, 3, 4])\n",
    "rec = jnp.array([1, 1, 2, 3, 4, 3, 4])\n",
    "assert jnp.array_equal(tabulate_trial(rec, pres), jnp.array([True, True, True, True]))"
   ]
  },
  {
   "cell_type": "code",
   "execution_count": null,
   "metadata": {},
   "outputs": [],
   "source": [
    "# | code-summary: zero-padding at end of recalls\n",
    "pres = jnp.array([1, 2, 3, 4])\n",
    "rec = jnp.array([1, 2, 3, 4, 0, 0])\n",
    "assert jnp.array_equal(\n",
    "    tabulate_trial(rec, pres, size=1), jnp.array([True, True, True, True])\n",
    ")"
   ]
  },
  {
   "cell_type": "markdown",
   "id": "e6c7aac0-2b4f-4457-82e3-c940906ca3b7",
   "metadata": {},
   "source": [
    " ## Examples"
   ]
  },
  {
   "cell_type": "code",
   "execution_count": null,
   "id": "612b1126-7ceb-4c98-a4d8-1e345967f1d3",
   "metadata": {},
   "outputs": [],
   "source": [
    "import os\n",
    "\n",
    "from jaxcmr.helpers import find_project_root, generate_trial_mask, load_data"
   ]
  },
  {
   "cell_type": "code",
   "execution_count": null,
   "metadata": {},
   "outputs": [
    {
     "data": {
      "text/plain": [
       "<Axes: xlabel='Study Position', ylabel='Recall Rate'>"
      ]
     },
     "execution_count": null,
     "metadata": {},
     "output_type": "execute_result"
    },
    {
     "data": {
      "image/png": "[encoded data removed]",
      "text/plain": [
       "<Figure size 640x480 with 1 Axes>"
      ]
     },
     "metadata": {},
     "output_type": "display_data"
    }
   ],
   "source": [
    "run_tag = \"RepCRP\"\n",
    "data_name = \"Gordon2021\"\n",
    "data_query = \"data['condition'] == 2\"\n",
    "data_path = os.path.join(find_project_root(), \"data/Gordon2021.h5\")\n",
    "\n",
    "# set up data structures\n",
    "data = load_data(data_path)\n",
    "recalls = data[\"recalls\"]\n",
    "presentations = data[\"pres_itemnos\"]\n",
    "list_length = data[\"listLength\"][0].item()\n",
    "trial_mask = generate_trial_mask(data, data_query)\n",
    "\n",
    "# plot SPC\n",
    "plot_relative_spc(data, trial_mask)\n"
   ]
  },
  {
   "cell_type": "code",
   "execution_count": null,
   "id": "bd043264-fbe7-4bb6-9497-f3096ae76bbb",
   "metadata": {},
   "outputs": [
    {
     "data": {
      "text/plain": [
       "Array([0.21666667, 0.2547619 , 0.15476191, 0.1       , 0.08333334,\n",
       "       0.09047619, 0.07142857, 0.06190477, 0.04761905, 0.04285714,\n",
       "       0.05714286, 0.0452381 , 0.04761905, 0.06666667, 0.04761905,\n",
       "       0.04761905, 0.06904762, 0.05      , 0.05476191, 0.04047619,\n",
       "       0.05714286, 0.04761905, 0.02619048, 0.0452381 , 0.06666667,\n",
       "       0.05      , 0.06904762, 0.05476191, 0.0452381 , 0.06190477,\n",
       "       0.06428572, 0.04285714, 0.05      , 0.04761905, 0.05952381,\n",
       "       0.0452381 , 0.06666667, 0.05952381, 0.07857143, 0.0952381 ],      dtype=float32)"
      ]
     },
     "execution_count": null,
     "metadata": {},
     "output_type": "execute_result"
    },
    {
     "data": {
      "image/png": "[encoded data removed]",
      "text/plain": [
       "<Figure size 640x480 with 1 Axes>"
      ]
     },
     "metadata": {},
     "output_type": "display_data"
    }
   ],
   "source": [
    "# parameters\n",
    "run_tag = \"SPC\"\n",
    "data_name = \"LohnasKahana2014\"\n",
    "data_query = \"data['list_type'] == 1\"\n",
    "data_path = os.path.join(find_project_root(), \"data/LohnasKahana2014.h5\")\n",
    "\n",
    "# set up data structures\n",
    "data = load_data(data_path)\n",
    "recalls = data[\"recalls\"]\n",
    "presentations = data[\"pres_itemnos\"]\n",
    "list_length = data[\"listLength\"][0].item()\n",
    "trial_mask = generate_trial_mask(data, data_query)\n",
    "\n",
    "# plot SPC\n",
    "plot_relative_spc(data, trial_mask)\n",
    "jit(relative_spc, static_argnames=(\"size\", \"list_length\"))(\n",
    "    recalls[trial_mask], presentations[trial_mask], list_length\n",
    ")"
   ]
  }
 ],
 "metadata": {
  "kernelspec": {
   "display_name": "jaxcmr-3.12",
   "language": "python",
   "name": "jaxcmr-3.12"
  }
 },
 "nbformat": 4,
 "nbformat_minor": 2
}
