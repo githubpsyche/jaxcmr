{
 "cells": [
  {
   "cell_type": "code",
   "execution_count": null,
   "id": "7cbc6588-0622-4919-be41-7c555dd7d4ba",
   "metadata": {},
   "outputs": [],
   "source": [
    "# | default_exp analyses.rspc\n",
    "%load_ext autoreload\n",
    "%autoreload 2"
   ]
  },
  {
   "cell_type": "markdown",
   "id": "9b72461b-5242-49fe-a15b-f2cef4eff228",
   "metadata": {},
   "source": [
    " # Relative Serial Position Curve\n",
    "\n",
    " Compute a serial position curve where each recall is scored “correct” if it is exactly one position after the previous recall\n",
    " (previous + 1), with the first recall scored relative to position 0 (so only a recall of study position 1 is correct)."
   ]
  },
  {
   "cell_type": "code",
   "execution_count": null,
   "id": "5642bc54-3c1a-46e1-9041-57b09c8aed7d",
   "metadata": {},
   "outputs": [],
   "source": [
    "# | export\n",
    "\n",
    "import jax.numpy as jnp\n",
    "from jax import vmap, jit, lax\n",
    "\n",
    "from typing import Optional, Sequence\n",
    "from jaxcmr.typing import Array, Float, Bool, Integer\n",
    "from jaxcmr.repetition import all_study_positions\n",
    "from jaxcmr.plotting import init_plot, plot_data, set_plot_labels\n",
    "from jaxcmr.helpers import apply_by_subject, find_max_list_length\n",
    "\n",
    "from matplotlib.axes import Axes\n",
    "from matplotlib import rcParams  # type: ignore"
   ]
  },
  {
   "cell_type": "markdown",
   "id": "a5e4694a-081a-4e6f-9f23-579e5f2e2cad",
   "metadata": {},
   "source": [
    "## Calculation"
   ]
  },
  {
   "cell_type": "code",
   "execution_count": null,
   "id": "bbaf97da-0342-4940-b2a8-f17bcbdc7fd2",
   "metadata": {},
   "outputs": [],
   "source": [
    "# | exports\n",
    "\n",
    "def trial_relative_correct(\n",
    "    recalls_row: Integer[Array, \" recall_positions\"], \n",
    "    pres_row: jnp.ndarray, size: int\n",
    ") -> Bool[Array, \" study_positions\"]:\n",
    "    \"\"\"\n",
    "    Per-trial correctness flags under the 'previous+1' rule.\n",
    "    First recall is correct only if it is study position 1.\n",
    "    \"\"\"\n",
    "    def step(carry, recall_i):\n",
    "        # all_study_positions returns 1-indexed positions plus 0 padding\n",
    "        poss = all_study_positions(recall_i, pres_row, size)\n",
    "        corr = jnp.any(poss == (carry + 1))\n",
    "        return recall_i, corr\n",
    "\n",
    "    # carry starts at 0, scan over recalls_row\n",
    "    _, corrs = lax.scan(step, 0, recalls_row)\n",
    "    return corrs\n",
    "\n",
    "def relative_spc(\n",
    "    recalls: Integer[Array, \" trial_count recall_positions\"],\n",
    "    presentations:Integer[Array, \" trial_count study_positions\"],\n",
    "    list_length: Optional[int] = None,\n",
    "    size: int =3,\n",
    ") -> Float[Array, \" study_positions\"]:\n",
    "    \"\"\"Returns relative-order serial recall accuracy as a function of study position.\n",
    "\n",
    "    Args:\n",
    "        recalls: trial by recall position array of recalled items. 1-indexed; 0 for no recall.\n",
    "        presentations: trial by study position array of presented items. 1-indexed.\n",
    "        list_length: the length of the study list.\n",
    "        size: maximum number of study positions an item can be presented at.\n",
    "    \"\"\"\n",
    "    # vectorize per-trial scorer, then average over trials\n",
    "    scores = vmap(lambda r, p: trial_relative_correct(r, p, size))(recalls, presentations)\n",
    "    return jnp.mean(scores, axis=0)"
   ]
  },
  {
   "cell_type": "markdown",
   "id": "afa4f4f3-7132-45c1-bf11-e58e2fff0a17",
   "metadata": {},
   "source": [
    " ## Plotting"
   ]
  },
  {
   "cell_type": "code",
   "execution_count": null,
   "id": "c9c445b0-fca8-4284-9d1a-a9f45ae2170d",
   "metadata": {},
   "outputs": [],
   "source": [
    "# | exports\n",
    "\n",
    "def plot_relative_spc(\n",
    "    datasets: Sequence[dict[str, jnp.ndarray]] | dict[str, jnp.ndarray],\n",
    "    trial_masks: Sequence[Bool[Array, \" trial_count\"]] | Bool[Array, \" trial_count\"],\n",
    "    distances: Optional[Float[Array, \" word_count word_count\"]] = None,\n",
    "    color_cycle: Optional[list[str]] = None,\n",
    "    labels: Optional[Sequence[str]] = None,\n",
    "    contrast_name: Optional[str] = None,\n",
    "    axis: Optional[Axes] = None,\n",
    "    size: int = 3,\n",
    ") -> Axes:\n",
    "    \"\"\"Returns Axes object with plotted serial position curve for datasets and trial masks.\n",
    "\n",
    "    Args:\n",
    "        datasets: Datasets containing trial data to be plotted.\n",
    "        trial_masks: Masks to filter trials in datasets.\n",
    "        color_cycle: List of colors for plotting each dataset.\n",
    "        distances: Unused, included for compatibility with other plotting functions.\n",
    "        labels: Names for each dataset for legend, optional.\n",
    "        contrast_name: Name of contrast for legend labeling, optional.\n",
    "        axis: Existing matplotlib Axes to plot on, optional.\n",
    "        size: Maximum number of study positions an item can be presented at.\n",
    "    \"\"\"\n",
    "    axis = init_plot(axis)\n",
    "\n",
    "    if color_cycle is None:\n",
    "        color_cycle = [each[\"color\"] for each in rcParams[\"axes.prop_cycle\"]]\n",
    "\n",
    "    if labels is None:\n",
    "        labels = [\"\"] * len(datasets)\n",
    "\n",
    "    if isinstance(datasets, dict):\n",
    "        datasets = [datasets]\n",
    "\n",
    "    if isinstance(trial_masks, jnp.ndarray):\n",
    "        trial_masks = [trial_masks]\n",
    "\n",
    "    max_list_length = find_max_list_length(datasets, trial_masks)\n",
    "    for data_index, data in enumerate(datasets):\n",
    "        subject_values = jnp.vstack(\n",
    "            apply_by_subject(\n",
    "                data,\n",
    "                trial_masks[data_index],\n",
    "                jit(relative_spc, static_argnames=(\"size\")),\n",
    "                size,\n",
    "            )\n",
    "        )\n",
    "\n",
    "        color = color_cycle.pop(0)\n",
    "        plot_data(\n",
    "            axis,\n",
    "            jnp.arange(max_list_length, dtype=int) + 1,\n",
    "            subject_values,\n",
    "            labels[data_index],\n",
    "            color,\n",
    "        )\n",
    "\n",
    "    set_plot_labels(axis, \"Study Position\", \"Recall Rate\", contrast_name)\n",
    "    return axis"
   ]
  },
  {
   "cell_type": "markdown",
   "id": "82573008-3d6a-417d-b11a-d11074261c27",
   "metadata": {},
   "source": [
    " ## Tests"
   ]
  },
  {
   "cell_type": "code",
   "execution_count": null,
   "id": "c514dadd-85b3-497c-b468-ee057b78c9a1",
   "metadata": {},
   "outputs": [
    {
     "name": "stdout",
     "output_type": "stream",
     "text": [
      "All tests (including edge cases) pass\n"
     ]
    }
   ],
   "source": [
    "# %% Tests: existing + edge cases\n",
    "import jax.numpy as jnp\n",
    "\n",
    "# --- test all_study_positions on a repeated item list ---\n",
    "pres = jnp.array([1, 2, 1])\n",
    "out = all_study_positions(1, pres, 3)\n",
    "assert jnp.array_equal(out, jnp.array([1, 3, 0]))\n",
    "\n",
    "# --- test single-trial relative-order correctness ---\n",
    "pres = jnp.array([1, 2, 3])\n",
    "rec_ok = jnp.array([1, 2, 3])\n",
    "assert jnp.all(trial_relative_correct(rec_ok, pres, 3))\n",
    "\n",
    "rec_mix = jnp.array([2, 3, 1])\n",
    "expected_mix = jnp.array([False, True, False])\n",
    "assert jnp.array_equal(trial_relative_correct(rec_mix, pres, 3), expected_mix)\n",
    "\n",
    "pres_rep = jnp.array([1, 2, 1])\n",
    "rec_rep = jnp.array([1, 2, 1])\n",
    "assert jnp.all(trial_relative_correct(rec_rep, pres_rep, 3))\n",
    "\n",
    "# --- test aggregated relative SPC ---\n",
    "recalls = jnp.array([[1, 2, 3], [1, 2, 1]])\n",
    "presents = jnp.array([[1, 2, 3], [1, 2, 3]])\n",
    "out = relative_spc(recalls, presents, 3)\n",
    "assert jnp.allclose(out, jnp.array([1.0, 1.0, 0.5]))\n",
    "\n",
    "# --- edge-case 1: zero-padding at end of recalls ---\n",
    "pres = jnp.array([1, 2, 3, 4])\n",
    "rec   = jnp.array([1, 2, 3, 4, 0, 0])\n",
    "corr  = trial_relative_correct(rec, pres, size=1)\n",
    "expected_corr = jnp.array([True, True, True, True, False, False])\n",
    "assert jnp.array_equal(corr, expected_corr)\n",
    "# prefix without padding matches\n",
    "assert jnp.array_equal(corr[:4],\n",
    "                     trial_relative_correct(rec[:4], pres, size=1))\n",
    "\n",
    "# --- edge-case 2: insensitivity of relative_spc to padding ---\n",
    "recs1 = jnp.array([[1,2,3,0], [1,2,1,0]])\n",
    "pres1 = jnp.array([[1,2,3,0], [1,2,3,0]])\n",
    "recs2, pres2 = recs1[:,:3], pres1[:,:3]\n",
    "out1 = relative_spc(recs1, pres1, size=1)\n",
    "out2 = relative_spc(recs2, pres2, size=1)\n",
    "assert jnp.allclose(out1[:3], out2)\n",
    "\n",
    "# --- test varying list lengths ---\n",
    "# Trial 1: full-length list of 4, perfect order → [T,T,T,T]\n",
    "# Trial 2: length 4 but only 3 recalls, with last recall wrong and padding → [T,T,F,F]\n",
    "\n",
    "size = 3\n",
    "# Trial 1: full recalls; Trial 2: one wrong, plus padding\n",
    "recalls = jnp.array([\n",
    "    [1, 2, 3, 4],\n",
    "    [1, 2, 1, 0]\n",
    "])\n",
    "presents = jnp.array([\n",
    "    [1, 2, 3, 4],\n",
    "    [1, 2, 3, 0]\n",
    "])\n",
    "\n",
    "# compute per‐trial correctness flags\n",
    "trial_corrs = vmap(lambda r, p: trial_relative_correct(r, p, size))(recalls, presents)\n",
    "# average across trials\n",
    "expected = jnp.mean(trial_corrs, axis=0)\n",
    "\n",
    "# compare against relative_spc\n",
    "out = relative_spc(recalls, presents, size)\n",
    "assert jnp.allclose(out, expected), f\"got {out}, want {expected}\"\n",
    "\n",
    "# --- edge-case: padded‐zero recalls must still count as incorrect in the mean denominator ---\n",
    "recs = jnp.array([\n",
    "    [1, 2, 3],\n",
    "    [1, 2, 0],   # padding at position 3\n",
    "])\n",
    "pres = jnp.array([\n",
    "    [1, 2, 3],\n",
    "    [1, 2, 3],\n",
    "])\n",
    "out = relative_spc(recs, pres, 3)\n",
    "# trial flags: [T, T, T] and [T, T, F] → mean = [1.0, 1.0, 0.5]\n",
    "expected = jnp.array([1.0, 1.0, 0.5])\n",
    "assert jnp.allclose(out, expected), f\"got {out}, want {expected}\"\n",
    "\n",
    "print(\"All tests (including edge cases) pass\")"
   ]
  },
  {
   "cell_type": "markdown",
   "id": "e6c7aac0-2b4f-4457-82e3-c940906ca3b7",
   "metadata": {},
   "source": [
    " ## Examples"
   ]
  },
  {
   "cell_type": "code",
   "execution_count": null,
   "id": "612b1126-7ceb-4c98-a4d8-1e345967f1d3",
   "metadata": {},
   "outputs": [],
   "source": [
    "from jaxcmr.helpers import generate_trial_mask, load_data, find_project_root\n",
    "import os"
   ]
  },
  {
   "cell_type": "code",
   "execution_count": null,
   "id": "bd043264-fbe7-4bb6-9497-f3096ae76bbb",
   "metadata": {},
   "outputs": [
    {
     "name": "stderr",
     "output_type": "stream",
     "text": [
      "/Users/jordangunn/jaxcmr/.venv/lib/python3.12/site-packages/scipy/stats/_resampling.py:147: RuntimeWarning: invalid value encountered in divide\n",
      "  a_hat = 1/6 * sum(nums) / sum(dens)**(3/2)\n",
      "/Users/jordangunn/jaxcmr/.venv/lib/python3.12/site-packages/scipy/_lib/_util.py:440: DegenerateDataWarning: The BCa confidence interval cannot be calculated. This problem is known to occur when the distribution is degenerate or the statistic is np.min.\n",
      "  return fun(*args, **kwargs)\n"
     ]
    },
    {
     "data": {
      "text/plain": [
       "Array([0.21666667, 0.26904762, 0.17619048, 0.15714286, 0.17619048,\n",
       "       0.1404762 , 0.14761905, 0.1452381 , 0.15476191, 0.14285715,\n",
       "       0.12857144, 0.12380953, 0.0952381 , 0.0952381 , 0.08809524,\n",
       "       0.08809524, 0.07380953, 0.05476191, 0.05238095, 0.03571429,\n",
       "       0.03571429, 0.03095238, 0.02619048, 0.01904762, 0.02142857,\n",
       "       0.00952381, 0.00952381, 0.01190476, 0.00714286, 0.00714286,\n",
       "       0.0047619 , 0.0047619 , 0.00238095, 0.0047619 , 0.0047619 ,\n",
       "       0.        , 0.        , 0.        , 0.        , 0.        ],      dtype=float32)"
      ]
     },
     "execution_count": null,
     "metadata": {},
     "output_type": "execute_result"
    },
    {
     "data": {
      "image/png": "[encoded data removed]",
      "text/plain": [
       "<Figure size 640x480 with 1 Axes>"
      ]
     },
     "metadata": {},
     "output_type": "display_data"
    }
   ],
   "source": [
    "# parameters\n",
    "run_tag = \"SPC\"\n",
    "data_name = \"LohnasKahana2014\"\n",
    "data_query = \"data['list_type'] == 1\"\n",
    "data_path =  os.path.join(find_project_root(), \"data/LohnasKahana2014.h5\")\n",
    "\n",
    "# set up data structures\n",
    "data = load_data(data_path)\n",
    "recalls = data[\"recalls\"]\n",
    "presentations = data[\"pres_itemnos\"]\n",
    "list_length = data[\"listLength\"][0].item()\n",
    "trial_mask = generate_trial_mask(data, data_query)\n",
    "\n",
    "# plot SPC\n",
    "plot_relative_spc(data, generate_trial_mask(data, data_query))\n",
    "jit(relative_spc, static_argnames=(\"size\", \"list_length\"))(\n",
    "    recalls[trial_mask], presentations[trial_mask], list_length\n",
    ")"
   ]
  }
 ],
 "metadata": {
  "kernelspec": {
   "display_name": "python3",
   "language": "python",
   "name": "python3"
  }
 },
 "nbformat": 4,
 "nbformat_minor": 2
}
