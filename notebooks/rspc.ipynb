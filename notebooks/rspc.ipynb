{
 "cells": [
  {
   "cell_type": "code",
   "execution_count": 1,
   "id": "7cbc6588-0622-4919-be41-7c555dd7d4ba",
   "metadata": {},
   "outputs": [],
   "source": [
    "# | default_exp analyses.rspc\n",
    "%load_ext autoreload\n",
    "%autoreload 2"
   ]
  },
  {
   "cell_type": "markdown",
   "id": "9b72461b-5242-49fe-a15b-f2cef4eff228",
   "metadata": {},
   "source": [
    " # Relative Serial Position Curve\n",
    "\n",
    " Compute a serial position curve where each recall is scored “correct” if it is exactly one position after the previous recall\n",
    " (previous + 1), with the first recall scored relative to position 0 (so only a recall of study position 1 is correct)."
   ]
  },
  {
   "cell_type": "code",
   "execution_count": 2,
   "id": "5642bc54-3c1a-46e1-9041-57b09c8aed7d",
   "metadata": {},
   "outputs": [],
   "source": [
    "# | export\n",
    "\n",
    "import jax.numpy as jnp\n",
    "from jax import vmap, jit, lax\n",
    "\n",
    "from typing import Optional, Sequence\n",
    "from jaxcmr.typing import Array, Float, Bool, Integer, RecallDataset\n",
    "from jaxcmr.repetition import all_study_positions\n",
    "from jaxcmr.plotting import init_plot, plot_data, set_plot_labels\n",
    "from jaxcmr.helpers import apply_by_subject, find_max_list_length\n",
    "\n",
    "from matplotlib.axes import Axes\n",
    "from matplotlib import rcParams  # type: ignore"
   ]
  },
  {
   "cell_type": "markdown",
   "id": "a5e4694a-081a-4e6f-9f23-579e5f2e2cad",
   "metadata": {},
   "source": [
    "## Calculation"
   ]
  },
  {
   "cell_type": "code",
   "execution_count": 3,
   "id": "bbaf97da-0342-4940-b2a8-f17bcbdc7fd2",
   "metadata": {},
   "outputs": [],
   "source": [
    "# | exports\n",
    "\n",
    "def trial_relative_correct(\n",
    "    recalls_row: Integer[Array, \" recall_positions\"], \n",
    "    pres_row: jnp.ndarray, size: int\n",
    ") -> Bool[Array, \" study_positions\"]:\n",
    "    \"\"\"\n",
    "    Per-trial correctness flags under the 'previous+1' rule.\n",
    "    First recall is correct only if it is study position 1.\n",
    "    \"\"\"\n",
    "    def step(carry, recall_i):\n",
    "        # all_study_positions returns 1-indexed positions plus 0 padding\n",
    "        poss = all_study_positions(recall_i, pres_row, size)\n",
    "        corr = jnp.any(poss == (carry + 1))\n",
    "        return recall_i, corr\n",
    "\n",
    "    # carry starts at 0, scan over recalls_row\n",
    "    _, corrs = lax.scan(step, 0, recalls_row)\n",
    "    return corrs\n",
    "\n",
    "def relative_spc(\n",
    "    recalls: Integer[Array, \" trial_count recall_positions\"],\n",
    "    presentations:Integer[Array, \" trial_count study_positions\"],\n",
    "    list_length: Optional[int] = None,\n",
    "    size: int =3,\n",
    ") -> Float[Array, \" study_positions\"]:\n",
    "    \"\"\"Returns relative-order serial recall accuracy as a function of study position.\n",
    "\n",
    "    Args:\n",
    "        recalls: trial by recall position array of recalled items. 1-indexed; 0 for no recall.\n",
    "        presentations: trial by study position array of presented items. 1-indexed.\n",
    "        list_length: the length of the study list.\n",
    "        size: maximum number of study positions an item can be presented at.\n",
    "    \"\"\"\n",
    "    # vectorize per-trial scorer, then average over trials\n",
    "    scores = vmap(lambda r, p: trial_relative_correct(r, p, size))(recalls, presentations)\n",
    "    return jnp.mean(scores, axis=0)"
   ]
  },
  {
   "cell_type": "markdown",
   "id": "afa4f4f3-7132-45c1-bf11-e58e2fff0a17",
   "metadata": {},
   "source": [
    " ## Plotting"
   ]
  },
  {
   "cell_type": "code",
   "execution_count": 4,
   "metadata": {},
   "outputs": [
    {
     "name": "stdout",
     "output_type": "stream",
     "text": [
      "🟢 sys.executable: /Users/jordangunn/jaxcmr/.venv/bin/python\n",
      "🟢 CONDA_PREFIX : /Users/jordangunn/miniconda3\n",
      "🟢 TypeError caught? True\n"
     ]
    }
   ],
   "source": [
    "import sys, signal, inspect, os\n",
    "print(\"🟢 sys.executable:\", sys.executable)\n",
    "print(\"🟢 CONDA_PREFIX :\", os.environ.get(\"CONDA_PREFIX\"))\n",
    "print(\"🟢 TypeError caught?\",\n",
    "      \"TypeError\" in inspect.getsource(signal._enum_to_int))"
   ]
  },
  {
   "cell_type": "code",
   "execution_count": 5,
   "id": "c9c445b0-fca8-4284-9d1a-a9f45ae2170d",
   "metadata": {},
   "outputs": [],
   "source": [
    "# | exports\n",
    "\n",
    "def plot_relative_spc(\n",
    "    datasets: Sequence[RecallDataset] | RecallDataset,\n",
    "    trial_masks: Sequence[Bool[Array, \" trial_count\"]] | Bool[Array, \" trial_count\"],\n",
    "    distances: Optional[Float[Array, \" word_count word_count\"]] = None,\n",
    "    color_cycle: Optional[list[str]] = None,\n",
    "    labels: Optional[Sequence[str]] = None,\n",
    "    contrast_name: Optional[str] = None,\n",
    "    axis: Optional[Axes] = None,\n",
    "    size: int = 3,\n",
    ") -> Axes:\n",
    "    \"\"\"Returns Axes object with plotted serial position curve for datasets and trial masks.\n",
    "\n",
    "    Args:\n",
    "        datasets: Datasets containing trial data to be plotted.\n",
    "        trial_masks: Masks to filter trials in datasets.\n",
    "        color_cycle: List of colors for plotting each dataset.\n",
    "        distances: Unused, included for compatibility with other plotting functions.\n",
    "        labels: Names for each dataset for legend, optional.\n",
    "        contrast_name: Name of contrast for legend labeling, optional.\n",
    "        axis: Existing matplotlib Axes to plot on, optional.\n",
    "        size: Maximum number of study positions an item can be presented at.\n",
    "    \"\"\"\n",
    "    axis = init_plot(axis)\n",
    "\n",
    "    if color_cycle is None:\n",
    "        color_cycle = [each[\"color\"] for each in rcParams[\"axes.prop_cycle\"]]\n",
    "\n",
    "    if labels is None:\n",
    "        labels = [\"\"] * len(datasets)\n",
    "\n",
    "    if isinstance(datasets, dict):\n",
    "        datasets = [datasets]\n",
    "\n",
    "    if isinstance(trial_masks, jnp.ndarray):\n",
    "        trial_masks = [trial_masks]\n",
    "\n",
    "    max_list_length = find_max_list_length(datasets, trial_masks)\n",
    "    for data_index, data in enumerate(datasets):\n",
    "        subject_values = jnp.vstack(\n",
    "            apply_by_subject(\n",
    "                data,\n",
    "                trial_masks[data_index],\n",
    "                jit(relative_spc, static_argnames=(\"size\")),\n",
    "                size,\n",
    "            )\n",
    "        )\n",
    "\n",
    "        color = color_cycle.pop(0)\n",
    "        plot_data(\n",
    "            axis,\n",
    "            jnp.arange(max_list_length, dtype=int) + 1,\n",
    "            subject_values,\n",
    "            labels[data_index],\n",
    "            color,\n",
    "        )\n",
    "\n",
    "    set_plot_labels(axis, \"Study Position\", \"Recall Rate\", contrast_name)\n",
    "    return axis"
   ]
  },
  {
   "cell_type": "markdown",
   "id": "82573008-3d6a-417d-b11a-d11074261c27",
   "metadata": {},
   "source": [
    " ## Tests"
   ]
  },
  {
   "cell_type": "code",
   "execution_count": 6,
   "id": "c514dadd-85b3-497c-b468-ee057b78c9a1",
   "metadata": {},
   "outputs": [
    {
     "name": "stdout",
     "output_type": "stream",
     "text": [
      "All tests (including edge cases) pass\n"
     ]
    }
   ],
   "source": [
    "# %% Tests: existing + edge cases\n",
    "import jax.numpy as jnp\n",
    "\n",
    "# --- test all_study_positions on a repeated item list ---\n",
    "pres = jnp.array([1, 2, 1])\n",
    "out = all_study_positions(1, pres, 3)\n",
    "assert jnp.array_equal(out, jnp.array([1, 3, 0]))\n",
    "\n",
    "# --- test single-trial relative-order correctness ---\n",
    "pres = jnp.array([1, 2, 3])\n",
    "rec_ok = jnp.array([1, 2, 3])\n",
    "assert jnp.all(trial_relative_correct(rec_ok, pres, 3))\n",
    "\n",
    "rec_mix = jnp.array([2, 3, 1])\n",
    "expected_mix = jnp.array([False, True, False])\n",
    "assert jnp.array_equal(trial_relative_correct(rec_mix, pres, 3), expected_mix)\n",
    "\n",
    "pres_rep = jnp.array([1, 2, 1])\n",
    "rec_rep = jnp.array([1, 2, 1])\n",
    "assert jnp.all(trial_relative_correct(rec_rep, pres_rep, 3))\n",
    "\n",
    "# --- test aggregated relative SPC ---\n",
    "recalls = jnp.array([[1, 2, 3], [1, 2, 1]])\n",
    "presents = jnp.array([[1, 2, 3], [1, 2, 3]])\n",
    "out = relative_spc(recalls, presents, 3)\n",
    "assert jnp.allclose(out, jnp.array([1.0, 1.0, 0.5]))\n",
    "\n",
    "# --- edge-case 1: zero-padding at end of recalls ---\n",
    "pres = jnp.array([1, 2, 3, 4])\n",
    "rec   = jnp.array([1, 2, 3, 4, 0, 0])\n",
    "corr  = trial_relative_correct(rec, pres, size=1)\n",
    "expected_corr = jnp.array([True, True, True, True, False, False])\n",
    "assert jnp.array_equal(corr, expected_corr)\n",
    "# prefix without padding matches\n",
    "assert jnp.array_equal(corr[:4],\n",
    "                     trial_relative_correct(rec[:4], pres, size=1))\n",
    "\n",
    "# --- edge-case 2: insensitivity of relative_spc to padding ---\n",
    "recs1 = jnp.array([[1,2,3,0], [1,2,1,0]])\n",
    "pres1 = jnp.array([[1,2,3,0], [1,2,3,0]])\n",
    "recs2, pres2 = recs1[:,:3], pres1[:,:3]\n",
    "out1 = relative_spc(recs1, pres1, size=1)\n",
    "out2 = relative_spc(recs2, pres2, size=1)\n",
    "assert jnp.allclose(out1[:3], out2)\n",
    "\n",
    "# --- test varying list lengths ---\n",
    "# Trial 1: full-length list of 4, perfect order → [T,T,T,T]\n",
    "# Trial 2: length 4 but only 3 recalls, with last recall wrong and padding → [T,T,F,F]\n",
    "\n",
    "size = 3\n",
    "# Trial 1: full recalls; Trial 2: one wrong, plus padding\n",
    "recalls = jnp.array([\n",
    "    [1, 2, 3, 4],\n",
    "    [1, 2, 1, 0]\n",
    "])\n",
    "presents = jnp.array([\n",
    "    [1, 2, 3, 4],\n",
    "    [1, 2, 3, 0]\n",
    "])\n",
    "\n",
    "# compute per‐trial correctness flags\n",
    "trial_corrs = vmap(lambda r, p: trial_relative_correct(r, p, size))(recalls, presents)\n",
    "# average across trials\n",
    "expected = jnp.mean(trial_corrs, axis=0)\n",
    "\n",
    "# compare against relative_spc\n",
    "out = relative_spc(recalls, presents, size)\n",
    "assert jnp.allclose(out, expected), f\"got {out}, want {expected}\"\n",
    "\n",
    "# --- edge-case: padded‐zero recalls must still count as incorrect in the mean denominator ---\n",
    "recs = jnp.array([\n",
    "    [1, 2, 3],\n",
    "    [1, 2, 0],   # padding at position 3\n",
    "])\n",
    "pres = jnp.array([\n",
    "    [1, 2, 3],\n",
    "    [1, 2, 3],\n",
    "])\n",
    "out = relative_spc(recs, pres, 3)\n",
    "# trial flags: [T, T, T] and [T, T, F] → mean = [1.0, 1.0, 0.5]\n",
    "expected = jnp.array([1.0, 1.0, 0.5])\n",
    "assert jnp.allclose(out, expected), f\"got {out}, want {expected}\"\n",
    "\n",
    "print(\"All tests (including edge cases) pass\")"
   ]
  },
  {
   "cell_type": "markdown",
   "id": "e6c7aac0-2b4f-4457-82e3-c940906ca3b7",
   "metadata": {},
   "source": [
    " ## Examples"
   ]
  },
  {
   "cell_type": "code",
   "execution_count": 7,
   "id": "612b1126-7ceb-4c98-a4d8-1e345967f1d3",
   "metadata": {},
   "outputs": [],
   "source": [
    "from jaxcmr.helpers import generate_trial_mask, load_data, find_project_root\n",
    "import os"
   ]
  },
  {
   "cell_type": "code",
   "execution_count": 9,
   "metadata": {},
   "outputs": [
    {
     "ename": "ValueError",
     "evalue": "'x' and 'y' must have the same size",
     "output_type": "error",
     "traceback": [
      "\u001b[31m---------------------------------------------------------------------------\u001b[39m",
      "\u001b[31mValueError\u001b[39m                                Traceback (most recent call last)",
      "\u001b[36mCell\u001b[39m\u001b[36m \u001b[39m\u001b[32mIn[9]\u001b[39m\u001b[32m, line 14\u001b[39m\n\u001b[32m     11\u001b[39m trial_mask = generate_trial_mask(data, data_query)\n\u001b[32m     13\u001b[39m \u001b[38;5;66;03m# plot SPC\u001b[39;00m\n\u001b[32m---> \u001b[39m\u001b[32m14\u001b[39m \u001b[43mplot_relative_spc\u001b[49m\u001b[43m(\u001b[49m\u001b[43mdata\u001b[49m\u001b[43m,\u001b[49m\u001b[43m \u001b[49m\u001b[43mtrial_mask\u001b[49m\u001b[43m)\u001b[49m\n",
      "\u001b[36mCell\u001b[39m\u001b[36m \u001b[39m\u001b[32mIn[5]\u001b[39m\u001b[32m, line 51\u001b[39m, in \u001b[36mplot_relative_spc\u001b[39m\u001b[34m(datasets, trial_masks, distances, color_cycle, labels, contrast_name, axis, size)\u001b[39m\n\u001b[32m     41\u001b[39m     subject_values = jnp.vstack(\n\u001b[32m     42\u001b[39m         apply_by_subject(\n\u001b[32m     43\u001b[39m             data,\n\u001b[32m   (...)\u001b[39m\u001b[32m     47\u001b[39m         )\n\u001b[32m     48\u001b[39m     )\n\u001b[32m     50\u001b[39m     color = color_cycle.pop(\u001b[32m0\u001b[39m)\n\u001b[32m---> \u001b[39m\u001b[32m51\u001b[39m     \u001b[43mplot_data\u001b[49m\u001b[43m(\u001b[49m\n\u001b[32m     52\u001b[39m \u001b[43m        \u001b[49m\u001b[43maxis\u001b[49m\u001b[43m,\u001b[49m\n\u001b[32m     53\u001b[39m \u001b[43m        \u001b[49m\u001b[43mjnp\u001b[49m\u001b[43m.\u001b[49m\u001b[43marange\u001b[49m\u001b[43m(\u001b[49m\u001b[43mmax_list_length\u001b[49m\u001b[43m,\u001b[49m\u001b[43m \u001b[49m\u001b[43mdtype\u001b[49m\u001b[43m=\u001b[49m\u001b[38;5;28;43mint\u001b[39;49m\u001b[43m)\u001b[49m\u001b[43m \u001b[49m\u001b[43m+\u001b[49m\u001b[43m \u001b[49m\u001b[32;43m1\u001b[39;49m\u001b[43m,\u001b[49m\n\u001b[32m     54\u001b[39m \u001b[43m        \u001b[49m\u001b[43msubject_values\u001b[49m\u001b[43m,\u001b[49m\n\u001b[32m     55\u001b[39m \u001b[43m        \u001b[49m\u001b[43mlabels\u001b[49m\u001b[43m[\u001b[49m\u001b[43mdata_index\u001b[49m\u001b[43m]\u001b[49m\u001b[43m,\u001b[49m\n\u001b[32m     56\u001b[39m \u001b[43m        \u001b[49m\u001b[43mcolor\u001b[49m\u001b[43m,\u001b[49m\n\u001b[32m     57\u001b[39m \u001b[43m    \u001b[49m\u001b[43m)\u001b[49m\n\u001b[32m     59\u001b[39m set_plot_labels(axis, \u001b[33m\"\u001b[39m\u001b[33mStudy Position\u001b[39m\u001b[33m\"\u001b[39m, \u001b[33m\"\u001b[39m\u001b[33mRecall Rate\u001b[39m\u001b[33m\"\u001b[39m, contrast_name)\n\u001b[32m     60\u001b[39m \u001b[38;5;28;01mreturn\u001b[39;00m axis\n",
      "\u001b[36mFile \u001b[39m\u001b[32m~/jaxcmr/jaxcmr/plotting.py:154\u001b[39m, in \u001b[36mplot_data\u001b[39m\u001b[34m(axis, x_values, y_values, label, color)\u001b[39m\n\u001b[32m    151\u001b[39m segments = segment_by_nan(y_mean)\n\u001b[32m    153\u001b[39m \u001b[38;5;28;01mif\u001b[39;00m \u001b[38;5;28mlen\u001b[39m(y_values) > \u001b[32m1\u001b[39m:\n\u001b[32m--> \u001b[39m\u001b[32m154\u001b[39m     \u001b[43mplot_with_error_bars\u001b[49m\u001b[43m(\u001b[49m\u001b[43maxis\u001b[49m\u001b[43m,\u001b[49m\u001b[43m \u001b[49m\u001b[43mx_values\u001b[49m\u001b[43m,\u001b[49m\u001b[43m \u001b[49m\u001b[43my_values\u001b[49m\u001b[43m,\u001b[49m\u001b[43m \u001b[49m\u001b[43my_mean\u001b[49m\u001b[43m,\u001b[49m\u001b[43m \u001b[49m\u001b[43msegments\u001b[49m\u001b[43m,\u001b[49m\u001b[43m \u001b[49m\u001b[43mlabel\u001b[49m\u001b[43m,\u001b[49m\u001b[43m \u001b[49m\u001b[43mcolor\u001b[49m\u001b[43m)\u001b[49m\n\u001b[32m    155\u001b[39m \u001b[38;5;28;01melse\u001b[39;00m:\n\u001b[32m    156\u001b[39m     plot_without_error_bars(axis, x_values, y_mean, segments, label, color)\n",
      "\u001b[36mFile \u001b[39m\u001b[32m~/jaxcmr/jaxcmr/plotting.py:88\u001b[39m, in \u001b[36mplot_with_error_bars\u001b[39m\u001b[34m(axis, x_values, y_values, y_mean, segments, label, color)\u001b[39m\n\u001b[32m     85\u001b[39m errors = calculate_errors(y_values, y_mean)\n\u001b[32m     87\u001b[39m \u001b[38;5;28;01mfor\u001b[39;00m index, (start, end) \u001b[38;5;129;01min\u001b[39;00m \u001b[38;5;28menumerate\u001b[39m(segments):\n\u001b[32m---> \u001b[39m\u001b[32m88\u001b[39m     \u001b[43maxis\u001b[49m\u001b[43m.\u001b[49m\u001b[43merrorbar\u001b[49m\u001b[43m(\u001b[49m\n\u001b[32m     89\u001b[39m \u001b[43m        \u001b[49m\u001b[43mx_values\u001b[49m\u001b[43m[\u001b[49m\u001b[43mstart\u001b[49m\u001b[43m:\u001b[49m\u001b[43mend\u001b[49m\u001b[43m]\u001b[49m\u001b[43m,\u001b[49m\n\u001b[32m     90\u001b[39m \u001b[43m        \u001b[49m\u001b[43my_mean\u001b[49m\u001b[43m[\u001b[49m\u001b[43mstart\u001b[49m\u001b[43m:\u001b[49m\u001b[43mend\u001b[49m\u001b[43m]\u001b[49m\u001b[43m \u001b[49m\u001b[43m-\u001b[49m\u001b[43m \u001b[49m\u001b[43merrors\u001b[49m\u001b[43m[\u001b[49m\u001b[32;43m0\u001b[39;49m\u001b[43m]\u001b[49m\u001b[43m[\u001b[49m\u001b[43mstart\u001b[49m\u001b[43m:\u001b[49m\u001b[43mend\u001b[49m\u001b[43m]\u001b[49m\u001b[43m,\u001b[49m\n\u001b[32m     91\u001b[39m \u001b[43m        \u001b[49m\u001b[43merrors\u001b[49m\u001b[43m[\u001b[49m\u001b[43m:\u001b[49m\u001b[43m,\u001b[49m\u001b[43m \u001b[49m\u001b[43mstart\u001b[49m\u001b[43m:\u001b[49m\u001b[43mend\u001b[49m\u001b[43m]\u001b[49m\u001b[43m,\u001b[49m\n\u001b[32m     92\u001b[39m \u001b[43m        \u001b[49m\u001b[43mlabel\u001b[49m\u001b[43m=\u001b[49m\u001b[43mlabel\u001b[49m\u001b[43m \u001b[49m\u001b[38;5;28;43;01mif\u001b[39;49;00m\u001b[43m \u001b[49m\u001b[43mindex\u001b[49m\u001b[43m \u001b[49m\u001b[43m==\u001b[49m\u001b[43m \u001b[49m\u001b[32;43m0\u001b[39;49m\u001b[43m \u001b[49m\u001b[38;5;28;43;01melse\u001b[39;49;00m\u001b[43m \u001b[49m\u001b[38;5;28;43;01mNone\u001b[39;49;00m\u001b[43m,\u001b[49m\n\u001b[32m     93\u001b[39m \u001b[43m        \u001b[49m\u001b[43mcolor\u001b[49m\u001b[43m=\u001b[49m\u001b[43mcolor\u001b[49m\u001b[43m,\u001b[49m\n\u001b[32m     94\u001b[39m \u001b[43m        \u001b[49m\u001b[43mcapsize\u001b[49m\u001b[43m=\u001b[49m\u001b[32;43m3\u001b[39;49m\u001b[43m,\u001b[49m\n\u001b[32m     95\u001b[39m \u001b[43m        \u001b[49m\u001b[43mmarker\u001b[49m\u001b[43m=\u001b[49m\u001b[33;43m\"\u001b[39;49m\u001b[33;43mo\u001b[39;49m\u001b[33;43m\"\u001b[39;49m\u001b[43m,\u001b[49m\n\u001b[32m     96\u001b[39m \u001b[43m        \u001b[49m\u001b[43mmarkersize\u001b[49m\u001b[43m=\u001b[49m\u001b[32;43m5\u001b[39;49m\u001b[43m,\u001b[49m\n\u001b[32m     97\u001b[39m \u001b[43m        \u001b[49m\u001b[43mlinewidth\u001b[49m\u001b[43m=\u001b[49m\u001b[32;43m1.5\u001b[39;49m\u001b[43m,\u001b[49m\n\u001b[32m     98\u001b[39m \u001b[43m    \u001b[49m\u001b[43m)\u001b[49m\n",
      "\u001b[36mFile \u001b[39m\u001b[32m~/jaxcmr/.venv/lib/python3.12/site-packages/matplotlib/_api/deprecation.py:453\u001b[39m, in \u001b[36mmake_keyword_only.<locals>.wrapper\u001b[39m\u001b[34m(*args, **kwargs)\u001b[39m\n\u001b[32m    447\u001b[39m \u001b[38;5;28;01mif\u001b[39;00m \u001b[38;5;28mlen\u001b[39m(args) > name_idx:\n\u001b[32m    448\u001b[39m     warn_deprecated(\n\u001b[32m    449\u001b[39m         since, message=\u001b[33m\"\u001b[39m\u001b[33mPassing the \u001b[39m\u001b[38;5;132;01m%(name)s\u001b[39;00m\u001b[33m \u001b[39m\u001b[38;5;132;01m%(obj_type)s\u001b[39;00m\u001b[33m \u001b[39m\u001b[33m\"\u001b[39m\n\u001b[32m    450\u001b[39m         \u001b[33m\"\u001b[39m\u001b[33mpositionally is deprecated since Matplotlib \u001b[39m\u001b[38;5;132;01m%(since)s\u001b[39;00m\u001b[33m; the \u001b[39m\u001b[33m\"\u001b[39m\n\u001b[32m    451\u001b[39m         \u001b[33m\"\u001b[39m\u001b[33mparameter will become keyword-only in \u001b[39m\u001b[38;5;132;01m%(removal)s\u001b[39;00m\u001b[33m.\u001b[39m\u001b[33m\"\u001b[39m,\n\u001b[32m    452\u001b[39m         name=name, obj_type=\u001b[33mf\u001b[39m\u001b[33m\"\u001b[39m\u001b[33mparameter of \u001b[39m\u001b[38;5;132;01m{\u001b[39;00mfunc.\u001b[34m__name__\u001b[39m\u001b[38;5;132;01m}\u001b[39;00m\u001b[33m()\u001b[39m\u001b[33m\"\u001b[39m)\n\u001b[32m--> \u001b[39m\u001b[32m453\u001b[39m \u001b[38;5;28;01mreturn\u001b[39;00m \u001b[43mfunc\u001b[49m\u001b[43m(\u001b[49m\u001b[43m*\u001b[49m\u001b[43margs\u001b[49m\u001b[43m,\u001b[49m\u001b[43m \u001b[49m\u001b[43m*\u001b[49m\u001b[43m*\u001b[49m\u001b[43mkwargs\u001b[49m\u001b[43m)\u001b[49m\n",
      "\u001b[36mFile \u001b[39m\u001b[32m~/jaxcmr/.venv/lib/python3.12/site-packages/matplotlib/__init__.py:1521\u001b[39m, in \u001b[36m_preprocess_data.<locals>.inner\u001b[39m\u001b[34m(ax, data, *args, **kwargs)\u001b[39m\n\u001b[32m   1518\u001b[39m \u001b[38;5;129m@functools\u001b[39m.wraps(func)\n\u001b[32m   1519\u001b[39m \u001b[38;5;28;01mdef\u001b[39;00m\u001b[38;5;250m \u001b[39m\u001b[34minner\u001b[39m(ax, *args, data=\u001b[38;5;28;01mNone\u001b[39;00m, **kwargs):\n\u001b[32m   1520\u001b[39m     \u001b[38;5;28;01mif\u001b[39;00m data \u001b[38;5;129;01mis\u001b[39;00m \u001b[38;5;28;01mNone\u001b[39;00m:\n\u001b[32m-> \u001b[39m\u001b[32m1521\u001b[39m         \u001b[38;5;28;01mreturn\u001b[39;00m \u001b[43mfunc\u001b[49m\u001b[43m(\u001b[49m\n\u001b[32m   1522\u001b[39m \u001b[43m            \u001b[49m\u001b[43max\u001b[49m\u001b[43m,\u001b[49m\n\u001b[32m   1523\u001b[39m \u001b[43m            \u001b[49m\u001b[43m*\u001b[49m\u001b[38;5;28;43mmap\u001b[39;49m\u001b[43m(\u001b[49m\u001b[43mcbook\u001b[49m\u001b[43m.\u001b[49m\u001b[43msanitize_sequence\u001b[49m\u001b[43m,\u001b[49m\u001b[43m \u001b[49m\u001b[43margs\u001b[49m\u001b[43m)\u001b[49m\u001b[43m,\u001b[49m\n\u001b[32m   1524\u001b[39m \u001b[43m            \u001b[49m\u001b[43m*\u001b[49m\u001b[43m*\u001b[49m\u001b[43m{\u001b[49m\u001b[43mk\u001b[49m\u001b[43m:\u001b[49m\u001b[43m \u001b[49m\u001b[43mcbook\u001b[49m\u001b[43m.\u001b[49m\u001b[43msanitize_sequence\u001b[49m\u001b[43m(\u001b[49m\u001b[43mv\u001b[49m\u001b[43m)\u001b[49m\u001b[43m \u001b[49m\u001b[38;5;28;43;01mfor\u001b[39;49;00m\u001b[43m \u001b[49m\u001b[43mk\u001b[49m\u001b[43m,\u001b[49m\u001b[43m \u001b[49m\u001b[43mv\u001b[49m\u001b[43m \u001b[49m\u001b[38;5;129;43;01min\u001b[39;49;00m\u001b[43m \u001b[49m\u001b[43mkwargs\u001b[49m\u001b[43m.\u001b[49m\u001b[43mitems\u001b[49m\u001b[43m(\u001b[49m\u001b[43m)\u001b[49m\u001b[43m}\u001b[49m\u001b[43m)\u001b[49m\n\u001b[32m   1526\u001b[39m     bound = new_sig.bind(ax, *args, **kwargs)\n\u001b[32m   1527\u001b[39m     auto_label = (bound.arguments.get(label_namer)\n\u001b[32m   1528\u001b[39m                   \u001b[38;5;129;01mor\u001b[39;00m bound.kwargs.get(label_namer))\n",
      "\u001b[36mFile \u001b[39m\u001b[32m~/jaxcmr/.venv/lib/python3.12/site-packages/matplotlib/axes/_axes.py:3709\u001b[39m, in \u001b[36mAxes.errorbar\u001b[39m\u001b[34m(self, x, y, yerr, xerr, fmt, ecolor, elinewidth, capsize, barsabove, lolims, uplims, xlolims, xuplims, errorevery, capthick, **kwargs)\u001b[39m\n\u001b[32m   3707\u001b[39m x, y = np.atleast_1d(x, y)  \u001b[38;5;66;03m# Make sure all the args are iterable.\u001b[39;00m\n\u001b[32m   3708\u001b[39m \u001b[38;5;28;01mif\u001b[39;00m \u001b[38;5;28mlen\u001b[39m(x) != \u001b[38;5;28mlen\u001b[39m(y):\n\u001b[32m-> \u001b[39m\u001b[32m3709\u001b[39m     \u001b[38;5;28;01mraise\u001b[39;00m \u001b[38;5;167;01mValueError\u001b[39;00m(\u001b[33m\"\u001b[39m\u001b[33m'\u001b[39m\u001b[33mx\u001b[39m\u001b[33m'\u001b[39m\u001b[33m and \u001b[39m\u001b[33m'\u001b[39m\u001b[33my\u001b[39m\u001b[33m'\u001b[39m\u001b[33m must have the same size\u001b[39m\u001b[33m\"\u001b[39m)\n\u001b[32m   3711\u001b[39m everymask = \u001b[38;5;28mself\u001b[39m._errorevery_to_mask(x, errorevery)\n\u001b[32m   3713\u001b[39m label = kwargs.pop(\u001b[33m\"\u001b[39m\u001b[33mlabel\u001b[39m\u001b[33m\"\u001b[39m, \u001b[38;5;28;01mNone\u001b[39;00m)\n",
      "\u001b[31mValueError\u001b[39m: 'x' and 'y' must have the same size"
     ]
    },
    {
     "data": {
      "image/png": "[encoded data removed]",
      "text/plain": [
       "<Figure size 640x480 with 1 Axes>"
      ]
     },
     "metadata": {},
     "output_type": "display_data"
    }
   ],
   "source": [
    "run_tag = \"RepCRP\"\n",
    "data_name = \"Gordon2021\"\n",
    "data_query = \"data['condition'] == 2\"\n",
    "data_path =  os.path.join(find_project_root(), \"data/Gordon2021.h5\")\n",
    "\n",
    "# set up data structures\n",
    "data = load_data(data_path)\n",
    "recalls = data[\"recalls\"]\n",
    "presentations = data[\"pres_itemnos\"]\n",
    "list_length = data[\"listLength\"][0].item()\n",
    "trial_mask = generate_trial_mask(data, data_query)\n",
    "\n",
    "# plot SPC\n",
    "plot_relative_spc(data, trial_mask)\n"
   ]
  },
  {
   "cell_type": "code",
   "execution_count": null,
   "id": "bd043264-fbe7-4bb6-9497-f3096ae76bbb",
   "metadata": {},
   "outputs": [],
   "source": [
    "# parameters\n",
    "run_tag = \"SPC\"\n",
    "data_name = \"LohnasKahana2014\"\n",
    "data_query = \"data['list_type'] == 1\"\n",
    "data_path =  os.path.join(find_project_root(), \"data/LohnasKahana2014.h5\")\n",
    "\n",
    "# set up data structures\n",
    "data = load_data(data_path)\n",
    "recalls = data[\"recalls\"]\n",
    "presentations = data[\"pres_itemnos\"]\n",
    "list_length = data[\"listLength\"][0].item()\n",
    "trial_mask = generate_trial_mask(data, data_query)\n",
    "\n",
    "# plot SPC\n",
    "plot_relative_spc(data, trial_mask)\n",
    "jit(relative_spc, static_argnames=(\"size\", \"list_length\"))(\n",
    "    recalls[trial_mask], presentations[trial_mask], list_length\n",
    ")"
   ]
  }
 ],
 "metadata": {
  "kernelspec": {
   "display_name": "Python (jaxcmr 3.12)\n\n\n",
   "language": "python",
   "name": "jaxcmr-3.12"
  },
  "language_info": {
   "codemirror_mode": {
    "name": "ipython",
    "version": 3
   },
   "file_extension": ".py",
   "mimetype": "text/x-python",
   "name": "python",
   "nbconvert_exporter": "python",
   "pygments_lexer": "ipython3",
   "version": "3.12.8"
  }
 },
 "nbformat": 4,
 "nbformat_minor": 2
}
