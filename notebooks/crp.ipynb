{
 "cells": [
  {
   "cell_type": "code",
   "execution_count": null,
   "metadata": {},
   "outputs": [],
   "source": [
    "# | default_exp analyses.crp\n",
    "%load_ext autoreload\n",
    "%autoreload 2"
   ]
  },
  {
   "cell_type": "markdown",
   "metadata": {},
   "source": [
    "# Lag-CRP Analysis\n"
   ]
  },
  {
   "cell_type": "markdown",
   "metadata": {},
   "source": [
    "The **Lag-Conditional Response Probability (Lag-CRP)** analysis is a technique commonly used in memory research, particularly in free recall tasks, to measure the lag-contiguity effect: the tendency to recall items studied close together in time, rather than randomly or far apart. \n",
    "\n",
    "A key concept in Lag-CRP analysis is the \"serial lag,\" which refers to positional distance between two items during the **study phase**. The Lag-CRP analysis considers serial lags between successively recalled items during the **recall phase**. At each recall position beyond the first, serial lag = (position of current recalled item) − (position of previously recalled item). \n",
    "\n",
    "For example, recalling the item studied in position 5 immediately after recalling the item studied in position 4 is a lag of +1. Negative lag indicates recalling an earlier-studied item, positive lag indicates recalling a later-studied item.\n",
    "\n",
    "The lag-CRP measures the probability of recalling an item at a particular lag **given the current recall position**, conditional on items that remain available for recall. By this definition, the lag-CRP is calculated by tabulating for each recall transition:\n",
    "\n",
    "- **Actual transitions**: Number of times participants transitioned from recalling item at position X to recalling item at position Y.\n",
    "- **Available transitions**: Number of times each possible transition lag (Y - X) could have occurred, given the items that had not yet been recalled.\n",
    "- **Lag-CRP**: Actual transitions divided by available transitions for each lag.\n",
    "\n",
    "Thus the formula for calculating Lag-CRP across a set of trials is:\n",
    "\n",
    "$$\\text{CRP(Lag)} = \\frac{\\text{Actual Transitions at Lag}}{\\text{Available Transitions at Lag}}$$\n",
    "\n",
    "High CRP at small lags (especially ±1, ±2) indicates strong temporal contiguity effects: participants recall items studied near each other.\n",
    "\n",
    "Lag-CRP curves usually show a peak around lag = +1 or −1 and decrease gradually as lags increase, indicating a strong association between temporally adjacent items."
   ]
  },
  {
   "cell_type": "code",
   "execution_count": null,
   "metadata": {},
   "outputs": [],
   "source": [
    "# | exports\n",
    "from typing import Optional, Sequence\n",
    "\n",
    "from jax import jit, lax, vmap\n",
    "from jax import numpy as jnp\n",
    "from matplotlib import rcParams  # type: ignore\n",
    "from matplotlib.axes import Axes\n",
    "from simple_pytree import Pytree\n",
    "\n",
    "from jaxcmr.plotting import init_plot, plot_data, set_plot_labels\n",
    "from jaxcmr.repetition import all_study_positions\n",
    "from jaxcmr.helpers import apply_by_subject\n",
    "from jaxcmr.typing import Array, Bool, Float, Int_, Integer, RecallDataset"
   ]
  },
  {
   "cell_type": "markdown",
   "metadata": {},
   "source": [
    "## Simple Case: When Study Lists are Uniform\n",
    "To introduce how to calculate Lag-CRP, we will first consider a simple case where the study lists are uniform (no repeated items). In this case, we initialize for each trial a `Tabulation` object that updates at each recall attempt to track the following:\n",
    "\n",
    "- The last item recalled \n",
    "- The number of available items for recall \n",
    "- the number of actual transitions made for each lag at each recall attempt\n",
    "- the number available transitions for each lag at each recall attempt"
   ]
  },
  {
   "cell_type": "code",
   "execution_count": null,
   "metadata": {},
   "outputs": [],
   "source": [
    "# | exports\n",
    "\n",
    "\n",
    "class SimpleTabulation(Pytree):\n",
    "    \"A simple tabulation of transitions between items during recall of a study list.\"\n",
    "\n",
    "    def __init__(self, list_length: int, first_recall: Int_):\n",
    "        self.lag_range = list_length - 1\n",
    "        self.list_length = list_length\n",
    "        self.all_items = jnp.arange(1, list_length + 1, dtype=int)\n",
    "        self.actual_transitions = jnp.zeros(self.lag_range * 2 + 1, dtype=int)\n",
    "        self.avail_transitions = jnp.zeros(self.lag_range * 2 + 1, dtype=int)\n",
    "        self.avail_items = jnp.ones(list_length, dtype=bool)\n",
    "        self.avail_items = self.avail_items.at[first_recall - 1].set(False)\n",
    "        self.previous_item = first_recall\n",
    "\n",
    "    def _update(self, current_item: Int_) -> \"SimpleTabulation\":\n",
    "        \"Tabulate actual and possible serial lags of current from previous item.\"\n",
    "        actual_lag = current_item - self.previous_item + self.lag_range\n",
    "        all_lags = self.all_items - self.previous_item + self.lag_range\n",
    "\n",
    "        return self.replace(\n",
    "            previous_item=current_item,\n",
    "            avail_items=self.avail_items.at[current_item - 1].set(False),\n",
    "            avail_transitions=self.avail_transitions.at[all_lags].add(self.avail_items),\n",
    "            actual_transitions=self.actual_transitions.at[actual_lag].add(1),\n",
    "        )\n",
    "\n",
    "    def update(self, choice: Int_) -> \"SimpleTabulation\":\n",
    "        \"Tabulate a transition if the choice is non-zero (i.e., a valid item).\"\n",
    "        return lax.cond(choice > 0, lambda: self._update(choice), lambda: self)"
   ]
  },
  {
   "cell_type": "markdown",
   "metadata": {},
   "source": [
    "To calculate the Lag-CRP, we tabulate available and actual transitions for each lag at each recall attempt in applicable trials:"
   ]
  },
  {
   "cell_type": "code",
   "execution_count": null,
   "metadata": {},
   "outputs": [],
   "source": [
    "# | exports\n",
    "\n",
    "\n",
    "def simple_tabulate_trial(\n",
    "    trial: Integer[Array, \" recall_events\"], list_length: int\n",
    ") -> SimpleTabulation:\n",
    "    \"Tabulate transitions across a single trial.\"\n",
    "    return lax.scan(\n",
    "        lambda tabulation, recall: (tabulation.update(recall), None),\n",
    "        SimpleTabulation(list_length, trial[0]),\n",
    "        trial[1:],\n",
    "    )[0]"
   ]
  },
  {
   "cell_type": "markdown",
   "metadata": {},
   "source": [
    "Finally, we aggregate the counts of actual and available transitions across all trials, and divide the actual transitions by the available transitions to get the Lag-CRP for each lag."
   ]
  },
  {
   "cell_type": "code",
   "execution_count": null,
   "metadata": {},
   "outputs": [],
   "source": [
    "# | exports\n",
    "\n",
    "\n",
    "def simple_crp(\n",
    "    trials: Integer[Array, \"trials recall_events\"], list_length: int\n",
    ") -> Float[Array, \" lags\"]:\n",
    "    \"Tabulate transitions for multiple trials.\"\n",
    "    tabulated_trials = lax.map(lambda t: simple_tabulate_trial(t, list_length), trials)\n",
    "    total_actual_transitions = jnp.sum(tabulated_trials.actual_transitions, axis=0)\n",
    "    total_possible_transitions = jnp.sum(tabulated_trials.avail_transitions, axis=0)\n",
    "    return total_actual_transitions / total_possible_transitions\n"
   ]
  },
  {
   "cell_type": "markdown",
   "metadata": {},
   "source": [
    "This approach forms the basis for more complex transition analyses that are used in practice, such as when study lists are not uniform (e.g., when items are repeated) or when only particular transitions are of interest (e.g., from just the first recall position) or when transition counts are binned by distance measures instead of serial lag. "
   ]
  },
  {
   "cell_type": "markdown",
   "metadata": {},
   "source": [
    "## Extension: When Study Lists Have Repeated Items\n",
    "Now we consider the scenario where the study lists are not uniform, meaning that items can be repeated. \n",
    "\n",
    "If items can be repeated within the same study list, values in our 2-D `recalls` can only indicate one of the study positions of the recalled item.\n",
    "To account for this, we additionally use a 2-D `presentations` array tracking trial by study position for presented items.\n",
    "A helper function `all_study_positions` is mapped over a `trial` vector to create a 2-D array of study positions for each recalled item, where the first dimension is the recall position, and the second dimension is the study position.\n",
    "This makes it possible to track which study positions are available for recall at each recall position, which study positions are actually recalled in a given recall position, as well as which study positions are transitioned *from* and *to* at each recall position.\n",
    "\n",
    "As with our other analyses addressing study lists with repeated items, we want to count recalls of items with multiple study positions as a single recall of *all* of those study positions.\n",
    "This implies that our `Tabulation` object needs substantial changes to account for the fact that we are now tracking multiple study positions for each recalled item.\n",
    "\n",
    "To address this complexity, we devote separate methods to track the four main features that are updated at each recall attempt in `Tabulation.tabulate`:\n",
    "\n",
    "1. **The last item recalled**. Tabulating the last item recalled is straightforward itself, but we need to ensure that the stored value can be readily mapped to its possibly multiple study positions to support lag calculations. We explicitly update the study positions of the last recalled item at each tabulated recall attempt by indexing `Tabulation.item_study_positions` with the last recalled item.\n",
    "\n",
    "2. **The number of available items for recall**. We introduce a new method `Tabulation.available_recalls_after` that takes the current recalled item, maps it to each of its study positions, then updates a boolean array of available study positions for recall, `Tabulation.avail_recalls`, setting the recalled study positions to `False` while leaving the rest of the study positions at their current values. This method is called at each tabulated recall attempt.\n",
    "\n",
    "3. **The number of actual transitions made for each lag at each recall attempt.** In order to track the number of actual transitions made for each lag at each recall attempt, we need the study positions of the last recalled item, as well as the study positions of the current recalled item. We break this down into a two-method job:\n",
    "   - `Tabulation.lags_from_previous` takes a single study position of the current recalled item and finds the lag from each of the study positions of the last recalled item. It produces a 1-D boolean array of lags, where the index of the lag is the lag value and the value at that index is `True` if that lag was made from the last recalled item to the current recalled item. \n",
    "   - `Tabulation.tabulate_actual_lags` finds the study positions of the current recalled item and passes each position to `Tabulation.lags_from_previous` to determine for each study position their lag from each of the study positions of the last recalled item, and finally returns an updated tabulation of all actual transitions made for each lag across all processed recall attempts. \n",
    "\n",
    "4. **The number of available transitions for each lag at each recall attempt.** Tracking available lag transitions is similar to tracking actual lag transitions, but requires considering *every* possible transition from the last recalled item that could happen, not just the one(s) that actually did. We similarly break this down into two methods:\n",
    "   - `Tabulation.available_lags_from` takes a reference study position and uses `Tabulation.avail_recalls` to find all of the available study positions for recall, and then finds the lag from the reference study position to each of the available study positions. It produces a 1-D boolean array of lags, where the index of the lag is the lag value and the value at that index is `True` if that lag was available from the reference study position. \n",
    "   - `Tabulation.tabulate_available_lags` finds the study positions of the last recalled item and passes each position to `Tabulation.available_lags_from` to determine for each study position their lag from each of the available study positions, and finally returns an updated tabulation of all available transitions for each lag across all processed recall attempts.\n",
    "\n",
    "This is a lot of work to do at each recall attempt, but it is necessary to ensure that we are correctly tabulating the available and actual transitions for each lag. "
   ]
  },
  {
   "cell_type": "code",
   "execution_count": null,
   "metadata": {},
   "outputs": [],
   "source": [
    "# | exports\n",
    "\n",
    "\n",
    "def set_false_at_index(vec: Bool[Array, \" positions\"], i: Int_):\n",
    "    return lax.cond(i, lambda: (vec.at[i - 1].set(False), None), lambda: (vec, None))\n",
    "\n",
    "\n",
    "class Tabulation(Pytree):\n",
    "    \"A tabulation of transitions between items during recall of a study list.\"\n",
    "\n",
    "    def __init__(\n",
    "        self,\n",
    "        presentation: Integer[Array, \" study_events\"],\n",
    "        first_recall: Int_,\n",
    "        size: int = 3,\n",
    "    ):\n",
    "        self.list_length = presentation.size\n",
    "        self.lag_range = self.list_length - 1\n",
    "        self.all_positions = jnp.arange(1, self.list_length + 1, dtype=int)\n",
    "        self.base_lags = jnp.zeros(self.lag_range * 2 + 1, dtype=int)\n",
    "        self.size = size\n",
    "        self.item_study_positions = lax.map(\n",
    "            lambda i: all_study_positions(i, presentation, size),\n",
    "            self.all_positions,\n",
    "        )\n",
    "\n",
    "        self.actual_lags = jnp.zeros(self.lag_range * 2 + 1, dtype=int)\n",
    "        self.avail_lags = jnp.zeros(self.lag_range * 2 + 1, dtype=int)\n",
    "\n",
    "        self.previous_positions = self.item_study_positions[first_recall - 1]\n",
    "        self.avail_recalls = jnp.ones(self.list_length, dtype=bool)\n",
    "        self.avail_recalls = self.available_recalls_after(first_recall)\n",
    "\n",
    "    # for updating avail_recalls: study positions still available for retrieval\n",
    "    def available_recalls_after(self, recall: Int_) -> Bool[Array, \" positions\"]:\n",
    "        \"Updates the study positions available to retrieve after a transition.\"\n",
    "        study_positions = self.item_study_positions[recall - 1]\n",
    "        return lax.scan(set_false_at_index, self.avail_recalls, study_positions)[0]\n",
    "\n",
    "    # for updating actual_lags: lag-transitions actually made from the previous item\n",
    "    def lags_from_previous(self, recall_pos: Int_) -> Bool[Array, \" positions\"]:\n",
    "        \"Identifies `recall_pos`'s lag(s) from the study position(s) of the previous item.\"\n",
    "\n",
    "        def f(prev):\n",
    "            return lax.cond(\n",
    "                (recall_pos * prev) == 0,\n",
    "                lambda: self.base_lags,\n",
    "                lambda: self.base_lags.at[recall_pos - prev + self.lag_range].add(1),\n",
    "            )\n",
    "\n",
    "        return lax.map(f, self.previous_positions).sum(0).astype(bool)\n",
    "\n",
    "    def tabulate_actual_lags(self, recall: Int_) -> Integer[Array, \" lags\"]:\n",
    "        \"Tabulates the actual transition after a transition.\"\n",
    "        recall_study_positions = self.item_study_positions[recall - 1]\n",
    "        new_lags = (\n",
    "            lax.map(self.lags_from_previous, recall_study_positions).sum(0).astype(bool)\n",
    "        )\n",
    "        return self.actual_lags + new_lags\n",
    "\n",
    "    # for updating avail_lags: lag-transitions available from the previous item\n",
    "    def available_lags_from(self, pos: Int_) -> Bool[Array, \" lags\"]:\n",
    "        \"Identifies recallable lag transitions from the specified study position.\"\n",
    "        return lax.cond(\n",
    "            pos == 0,\n",
    "            lambda: self.base_lags,\n",
    "            lambda: self.base_lags.at[self.all_positions - pos + self.lag_range].add(\n",
    "                self.avail_recalls\n",
    "            ),\n",
    "        )\n",
    "\n",
    "    def tabulate_available_lags(self) -> Integer[Array, \" lags\"]:\n",
    "        \"Tabulates available transitions after a transition.\"\n",
    "        new_lags = (\n",
    "            lax.map(self.available_lags_from, self.previous_positions)\n",
    "            .sum(0)\n",
    "            .astype(bool)\n",
    "        )\n",
    "        return self.avail_lags + new_lags\n",
    "    \n",
    "    # unifying tabulation of actual/avail lags, previous positions, and avail recalls\n",
    "    def should_tabulate(self, recall: Int_) -> Bool:\n",
    "        \"Only consider transitions from items with study positions that have not been recalled yet.\"\n",
    "        recall_study_positions = self.item_study_positions[recall - 1]\n",
    "        is_valid_study_position = recall_study_positions != 0\n",
    "        is_available_study_position = self.avail_recalls[recall_study_positions - 1]\n",
    "        return jnp.any(is_valid_study_position & is_available_study_position)\n",
    "\n",
    "    def tabulate(self, recall: Int_) -> \"Tabulation\":\n",
    "        \"Tabulates actual and possible serial lags of current from previous item.\"\n",
    "        return lax.cond(\n",
    "            self.should_tabulate(recall),            \n",
    "            lambda: self.replace(\n",
    "                previous_positions=self.item_study_positions[recall - 1],\n",
    "                avail_recalls=self.available_recalls_after(recall),\n",
    "                actual_lags=self.tabulate_actual_lags(recall),\n",
    "                avail_lags=self.tabulate_available_lags(),\n",
    "            ),\n",
    "            lambda: self,\n",
    "        )"
   ]
  },
  {
   "cell_type": "markdown",
   "metadata": {},
   "source": [
    "Just like in our original implementation, we include a `tabulate_trial` method that takes a trial and updates the `Tabulation` object with the actual and available transitions for each lag at each recall attempt. "
   ]
  },
  {
   "cell_type": "code",
   "execution_count": null,
   "metadata": {},
   "outputs": [],
   "source": [
    "# | exports\n",
    "\n",
    "\n",
    "def tabulate_trial(\n",
    "    trial: Integer[Array, \" recall_events\"],\n",
    "    presentation: Integer[Array, \" study_events\"],\n",
    "    size: int = 3,\n",
    ") -> tuple[Float[Array, \" lags\"], Float[Array, \" lags\"]]:\n",
    "    init = Tabulation(presentation, trial[0], size)\n",
    "    tab = lax.fori_loop(1, trial.size, lambda i, t: t.tabulate(trial[i]), init)\n",
    "    return tab.actual_lags, tab.avail_lags"
   ]
  },
  {
   "cell_type": "markdown",
   "metadata": {},
   "source": [
    "Finally, in our `crp` function, we aggregate the counts of actual and available transitions across all trials, and divide the actual transitions by the available transitions to get the Lag-CRP for each lag."
   ]
  },
  {
   "cell_type": "code",
   "execution_count": null,
   "metadata": {},
   "outputs": [],
   "source": [
    "# | exports\n",
    "\n",
    "\n",
    "def crp(\n",
    "    trials: Integer[Array, \"trials recall_events\"],\n",
    "    presentations: Integer[Array, \"trials study_events\"],\n",
    "    list_length: int,\n",
    "    size: int = 3,\n",
    ") -> Float[Array, \" lags\"]:\n",
    "    actual, possible = vmap(tabulate_trial, in_axes=(0, 0, None))(\n",
    "        trials, presentations, size\n",
    "    )\n",
    "    return actual.sum(0) / possible.sum(0)"
   ]
  },
  {
   "cell_type": "markdown",
   "metadata": {},
   "source": [
    "## Plotting"
   ]
  },
  {
   "cell_type": "code",
   "execution_count": null,
   "metadata": {},
   "outputs": [],
   "source": [
    "# | exports\n",
    "\n",
    "\n",
    "def plot_crp(\n",
    "    datasets: Sequence[RecallDataset] | RecallDataset,\n",
    "    trial_masks: Sequence[Bool[Array, \" trial_count\"]] | Bool[Array, \" trial_count\"],\n",
    "    max_lag: int = 5,\n",
    "    distances: Optional[Float[Array, \"word_count word_count\"]] = None,\n",
    "    color_cycle: Optional[list[str]] = None,\n",
    "    labels: Optional[Sequence[str]] = None,\n",
    "    contrast_name: Optional[str] = None,\n",
    "    axis: Optional[Axes] = None,\n",
    "    size: int = 3,\n",
    ") -> Axes:\n",
    "    \"\"\"Returns Axes object with plotted prob of lag-CRP for datasets and trial masks.\n",
    "\n",
    "    Args:\n",
    "        datasets: Datasets containing trial data to be plotted.\n",
    "        trial_masks: Masks to filter trials in datasets.\n",
    "        max_lag: Maximum lag to plot.\n",
    "        color_cycle: List of colors for plotting each dataset.\n",
    "        distances: Unused, included for compatibility with other plotting functions.\n",
    "        labels: Names for each dataset for legend, optional.\n",
    "        contrast_name: Name of contrast for legend labeling, optional.\n",
    "        axis: Existing matplotlib Axes to plot on, optional.\n",
    "        size: Maximum number of study positions an item can be presented at.\n",
    "    \"\"\"\n",
    "    axis = init_plot(axis)\n",
    "\n",
    "    if color_cycle is None:\n",
    "        color_cycle = [each[\"color\"] for each in rcParams[\"axes.prop_cycle\"]]\n",
    "\n",
    "    if labels is None:\n",
    "        labels = [\"\"] * len(datasets)\n",
    "\n",
    "    if isinstance(datasets, dict):\n",
    "        datasets = [datasets]\n",
    "\n",
    "    if isinstance(trial_masks, jnp.ndarray):\n",
    "        trial_masks = [trial_masks]\n",
    "\n",
    "    lag_interval = jnp.arange(-max_lag, max_lag + 1, dtype=int)\n",
    "\n",
    "    for data_index, data in enumerate(datasets):\n",
    "        lag_range = (jnp.max(data[\"listLength\"]) - 1).item()\n",
    "        subject_values = apply_by_subject(\n",
    "            data,\n",
    "            trial_masks[data_index],\n",
    "            jit(crp, static_argnames=(\"size\")),\n",
    "            size,\n",
    "        )\n",
    "        subject_values = jnp.vstack(subject_values)\n",
    "        subject_values = subject_values[\n",
    "            :, lag_range - max_lag : lag_range + max_lag + 1\n",
    "        ]\n",
    "\n",
    "        color = color_cycle.pop(0)\n",
    "        plot_data(\n",
    "            axis,\n",
    "            lag_interval,\n",
    "            subject_values,\n",
    "            labels[data_index],\n",
    "            color,\n",
    "        )\n",
    "\n",
    "    set_plot_labels(axis, \"Lag\", \"Conditional Resp. Prob.\", contrast_name)\n",
    "    return axis\n"
   ]
  },
  {
   "cell_type": "markdown",
   "metadata": {},
   "source": [
    "## Tests"
   ]
  },
  {
   "cell_type": "code",
   "execution_count": null,
   "metadata": {},
   "outputs": [],
   "source": [
    "# | code-summary: repeated recalls are ignored in the lag-CRP tabulation\n",
    "\n",
    "presentation = jnp.array([1, 2, 3, 4], dtype=int)\n",
    "\n",
    "# Initialize Tabulation with first recall = position 3\n",
    "# (meaning \"they recalled whatever was in study position 3\")\n",
    "tab = Tabulation(presentation=presentation, first_recall=3, size=1)\n",
    "\n",
    "# Next, the participant *repeats* recall of position 3\n",
    "tab = tab.tabulate(3)  # Invalid code incorrectly counts a 3→3 transition\n",
    "\n",
    "# Finally, the participant recalls position 4\n",
    "tab = tab.tabulate(4)\n",
    "\n",
    "# We expect exactly *one* valid transition: from 3 → 4\n",
    "# Recalling 3 → 3 should *not* increment the transitions\n",
    "expected_transitions = 1\n",
    "actual_transitions = int(tab.actual_lags.sum())\n",
    "\n",
    "assert actual_transitions == expected_transitions, (\n",
    "    f\"Expected {expected_transitions} transition(s), \"\n",
    "    f\"but got {actual_transitions}. Repeated recalls should be ignored!\"\n",
    ")"
   ]
  },
  {
   "cell_type": "code",
   "execution_count": null,
   "metadata": {},
   "outputs": [],
   "source": [
    "\n",
    "# Toy presentation array (positions 1..5 each hold unique items).\n",
    "# Let's say it doesn't matter *which* items they are, so we just do:\n",
    "presentation = jnp.array([1, 2, 3, 4], dtype=int)\n",
    "\n",
    "# We define a recall sequence:\n",
    "#   1) position 3 (call it 'C')\n",
    "#   2) position 1 (call it 'A')\n",
    "#   3) position 3 (repeat 'C'!)\n",
    "#   4) position 4 (call it 'D')\n",
    "recalls = jnp.array([3, 1, 3, 4], dtype=int)\n",
    "\n",
    "# Initialize the Tabulation with the first recall = 3 ('C'):\n",
    "tab = Tabulation(presentation=presentation, first_recall=recalls[0], size=1)\n",
    "\n",
    "# We tabulate the subsequent recalls:\n",
    "for recall in recalls[1:]:\n",
    "    tab = tab.tabulate(recall)\n",
    "\n",
    "# Now let's see which transitions were counted.\n",
    "final_lags = tab.actual_lags  # shape [2*(list_length-1) + 1] => for 5 items = 2*4+1=9\n",
    "# The middle index is lag=0 => index=4 if zero-based, so:\n",
    "#   index = recall_pos - prev_pos + lag_range\n",
    "#   lag_range = (5-1)=4\n",
    "#\n",
    "# The transitions we *want* are:\n",
    "#  (3 -> 1): lag = (1 - 3) = -2 => index = 4 + (-2) = 2\n",
    "#  (1 -> 4): lag = (4 - 1) = +3 => index = 4 + 3  = 7\n",
    "#\n",
    "# We do NOT want:\n",
    "#  (3 -> 4) => lag= +1 => index= 4 + 1 = 5\n",
    "\n",
    "# Convert final_lags to a plain python list for easier reading:\n",
    "final_lags_list = list(map(int, final_lags))\n",
    "\n",
    "# We'll check the values at index=2 and index=7 are each 1,\n",
    "# and the value at index=5 is 0 (no spurious 3->4 transition).\n",
    "msg = f\"Expected transitions at -2 (i=2) and +3 (i=7), none at +1 (i=5)\\nGot {final_lags_list}\"\n",
    "\n",
    "middle_index = len(final_lags_list) // 2\n",
    "assert final_lags_list[middle_index-2] == 1, msg\n",
    "assert final_lags_list[middle_index+3] == 1, msg\n",
    "assert final_lags_list[middle_index+1] == 0, msg\n",
    "# Also check all others are zero:\n",
    "for i in range(len(final_lags_list)):\n",
    "    if i not in (middle_index-2, middle_index+3):\n",
    "        assert final_lags_list[i] == 0, msg"
   ]
  },
  {
   "cell_type": "code",
   "execution_count": null,
   "metadata": {},
   "outputs": [],
   "source": [
    "# A tiny presentation array of length 4\n",
    "# Each entry means \"At position i, we showed item [some ID].\"\n",
    "# Let's just pick IDs 10,20,30,40 for positions 1..4.\n",
    "presentation = jnp.array([10, 20, 30, 40], dtype=int)\n",
    "\n",
    "# We'll create a Tabulation with size=3, meaning each item can appear up to\n",
    "# 3 times, so item 20 will have item_study_positions #2 => [2,0,0].\n",
    "# We do first_recall=1 => \"they recalled the item in position 1 first.\"\n",
    "tab = Tabulation(presentation=presentation, first_recall=1, size=3)\n",
    "\n",
    "# Now we attempt to tabulate an event \"recall=2\". \n",
    "# That means \"the participant is recalling the item from position 2 now.\"\n",
    "# In item_study_positions, item #2 is effectively `[2,0,0]` => watch out for zeros!\n",
    "# If we do not handle zeros properly, we might do 'avail_recalls[-1]' => CRASH.\n",
    "tab = tab.tabulate(2)  # Should *not* crash or mis-index after fix\n",
    "\n",
    "# We'll do a simple assertion that we got exactly 1 transition counted so far:\n",
    "# 1->2. If the code incorrectly tries to do something with zeros, it may crash \n",
    "# or create a spurious index error. \n",
    "# Let's verify the sum of actual_lags is 1.\n",
    "assert int(jnp.sum(tab.actual_lags)) == 1, (\n",
    "    \"Expected exactly one valid transition (1->2). \"\n",
    "    \"Either we crashed or incorrectly counted due to zero padding.\"\n",
    ")"
   ]
  },
  {
   "cell_type": "markdown",
   "metadata": {},
   "source": [
    "## Examples"
   ]
  },
  {
   "cell_type": "code",
   "execution_count": null,
   "metadata": {},
   "outputs": [],
   "source": [
    "import os\n",
    "\n",
    "from jaxcmr.helpers import find_project_root, generate_trial_mask, load_data"
   ]
  },
  {
   "cell_type": "code",
   "execution_count": null,
   "metadata": {},
   "outputs": [
    {
     "name": "stderr",
     "output_type": "stream",
     "text": [
      "/Users/jordangunn/jaxcmr/.venv/lib/python3.12/site-packages/scipy/_lib/_util.py:440: DegenerateDataWarning: The BCa confidence interval cannot be calculated. This problem is known to occur when the distribution is degenerate or the statistic is np.min.\n",
      "  return fun(*args, **kwargs)\n"
     ]
    },
    {
     "data": {
      "text/plain": [
       "Array([0.10416666, 0.04166667, 0.02108434, 0.02242152, 0.01595745,\n",
       "       0.01809955, 0.01703801, 0.02050114, 0.01930894, 0.01556777,\n",
       "       0.01900826, 0.01592115, 0.01243599, 0.01402806, 0.01789019,\n",
       "       0.01619433, 0.01666667, 0.01843075, 0.01463907, 0.01436094,\n",
       "       0.00961979, 0.01318681, 0.01324786, 0.0161157 , 0.01673803,\n",
       "       0.02526395, 0.01849166, 0.01691928, 0.01859993, 0.02126268,\n",
       "       0.02140384, 0.0199877 , 0.02078313, 0.02617647, 0.02737382,\n",
       "       0.03358522, 0.04990507, 0.06682835, 0.14878988,        nan,\n",
       "       0.24200091, 0.09381282, 0.06163293, 0.04354876, 0.02925785,\n",
       "       0.02906693, 0.02660643, 0.02108511, 0.0227212 , 0.02258331,\n",
       "       0.01701645, 0.01782583, 0.01450151, 0.02111146, 0.01711886,\n",
       "       0.01629531, 0.01648352, 0.01744393, 0.0125092 , 0.01225115,\n",
       "       0.01320528, 0.01430976, 0.01715794, 0.01303538, 0.01270772,\n",
       "       0.01681957, 0.01578661, 0.01692936, 0.01759899, 0.01889339,\n",
       "       0.01178203, 0.02029221, 0.02210433, 0.01955034, 0.00800915,\n",
       "       0.02046385, 0.02037351, 0.01941748, 0.02654867], dtype=float32)"
      ]
     },
     "execution_count": null,
     "metadata": {},
     "output_type": "execute_result"
    },
    {
     "data": {
      "image/png": "[encoded data removed]",
      "text/plain": [
       "<Figure size 640x480 with 1 Axes>"
      ]
     },
     "metadata": {},
     "output_type": "display_data"
    }
   ],
   "source": [
    "# parameters\n",
    "run_tag = \"CRP\"\n",
    "data_name = \"LohnasKahana2014\"\n",
    "data_query = \"data['list_type'] == 1\"\n",
    "data_path = os.path.join(find_project_root(), \"data/LohnasKahana2014.h5\")\n",
    "\n",
    "# set up data structures\n",
    "data = load_data(data_path)\n",
    "recalls = data[\"recalls\"]\n",
    "presentations = data[\"pres_itemnos\"]\n",
    "list_length = data[\"listLength\"][0].item()\n",
    "trial_mask = generate_trial_mask(data, data_query)\n",
    "\n",
    "# plot\n",
    "plot_crp(data, trial_mask)\n",
    "jit(crp, static_argnames=(\"size\", \"list_length\"))(\n",
    "    recalls[trial_mask], presentations[trial_mask], list_length\n",
    ")"
   ]
  },
  {
   "cell_type": "code",
   "execution_count": null,
   "metadata": {},
   "outputs": [
    {
     "data": {
      "text/plain": [
       "Array([0.10416666, 0.04166667, 0.02108434, 0.02242152, 0.01595745,\n",
       "       0.01809955, 0.01703801, 0.02050114, 0.01930894, 0.01556777,\n",
       "       0.01900826, 0.01592115, 0.01243599, 0.01402806, 0.01789019,\n",
       "       0.01619433, 0.01666667, 0.01843075, 0.01463907, 0.01436094,\n",
       "       0.00961979, 0.01318681, 0.01324786, 0.0161157 , 0.01673803,\n",
       "       0.02526395, 0.01849166, 0.01691928, 0.01859993, 0.02126268,\n",
       "       0.02140384, 0.0199877 , 0.02078313, 0.02617647, 0.02737382,\n",
       "       0.03358522, 0.04990507, 0.06682835, 0.14878988,        nan,\n",
       "       0.24200091, 0.09381282, 0.06163293, 0.04354876, 0.02925785,\n",
       "       0.02906693, 0.02660643, 0.02108511, 0.0227212 , 0.02258331,\n",
       "       0.01701645, 0.01782583, 0.01450151, 0.02111146, 0.01711886,\n",
       "       0.01629531, 0.01648352, 0.01744393, 0.0125092 , 0.01225115,\n",
       "       0.01320528, 0.01430976, 0.01715794, 0.01303538, 0.01270772,\n",
       "       0.01681957, 0.01578661, 0.01692936, 0.01759899, 0.01889339,\n",
       "       0.01178203, 0.02029221, 0.02210433, 0.01955034, 0.00800915,\n",
       "       0.02046385, 0.02037351, 0.01941748, 0.02654867], dtype=float32)"
      ]
     },
     "execution_count": null,
     "metadata": {},
     "output_type": "execute_result"
    },
    {
     "data": {
      "image/png": "[encoded data removed]",
      "text/plain": [
       "<Figure size 640x480 with 1 Axes>"
      ]
     },
     "metadata": {},
     "output_type": "display_data"
    }
   ],
   "source": [
    "# parameters\n",
    "run_tag = \"CRP\"\n",
    "data_name = \"LohnasKahana2014\"\n",
    "data_query = \"data['list_type'] == 2\"\n",
    "data_path = os.path.join(find_project_root(), \"data/LohnasKahana2014.h5\")\n",
    "\n",
    "# set up data structures\n",
    "data = load_data(data_path)\n",
    "recalls = data[\"recalls\"]\n",
    "presentations = data[\"pres_itemnos\"]\n",
    "list_length = data[\"listLength\"][0].item()\n",
    "\n",
    "# plot\n",
    "plot_crp(data, trial_mask)\n",
    "jit(crp, static_argnames=(\"size\", \"list_length\"))(\n",
    "    recalls[trial_mask], presentations[trial_mask], list_length\n",
    ")"
   ]
  }
 ],
 "metadata": {
  "kernelspec": {
   "display_name": "python3",
   "language": "python",
   "name": "python3"
  }
 },
 "nbformat": 4,
 "nbformat_minor": 2
}
