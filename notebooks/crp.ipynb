{
 "cells": [
  {
   "cell_type": "code",
   "execution_count": null,
   "metadata": {},
   "outputs": [],
   "source": [
    "# | default_exp crp\n",
    "%load_ext autoreload\n",
    "%autoreload 2"
   ]
  },
  {
   "cell_type": "markdown",
   "metadata": {},
   "source": [
    "# Lag-CRP Analysis\n"
   ]
  },
  {
   "cell_type": "markdown",
   "metadata": {},
   "source": [
    "The **Lag-Conditional Response Probability (Lag-CRP)** analysis is a technique commonly used in memory research, particularly in free recall tasks, to measure the lag-contiguity effect: the tendency to recall items studied close together in time, rather than randomly or far apart. \n",
    "\n",
    "A key concept in Lag-CRP analysis is the \"serial lag,\" which refers to positional distance between two items during the **study phase**. The Lag-CRP analysis considers serial lags between successively recalled items during the **recall phase**. At each recall position beyond the first, serial lag = (position of current recalled item) − (position of previously recalled item). \n",
    "\n",
    "For example, recalling the item studied in position 5 immediately after recalling the item studied in position 4 is a lag of +1. Negative lag indicates recalling an earlier-studied item, positive lag indicates recalling a later-studied item.\n",
    "\n",
    "The lag-CRP measures the probability of recalling an item at a particular lag **given the current recall position**, conditional on items that remain available for recall. By this definition, the lag-CRP is calculated by tabulating for each recall transition:\n",
    "\n",
    "- **Actual transitions**: Number of times participants transitioned from recalling item at position X to recalling item at position Y.\n",
    "- **Available transitions**: Number of times each possible transition lag (Y - X) could have occurred, given the items that had not yet been recalled.\n",
    "- **Lag-CRP**: Actual transitions divided by available transitions for each lag.\n",
    "\n",
    "Thus the formula for calculating Lag-CRP across a set of trials is:\n",
    "\n",
    "$$\\text{CRP(Lag)} = \\frac{\\text{Actual Transitions at Lag}}{\\text{Available Transitions at Lag}}$$\n",
    "\n",
    "High CRP at small lags (especially ±1, ±2) indicates strong temporal contiguity effects: participants recall items studied near each other.\n",
    "\n",
    "Lag-CRP curves usually show a peak around lag = +1 or −1 and decrease gradually as lags increase, indicating a strong association between temporally adjacent items."
   ]
  },
  {
   "cell_type": "code",
   "execution_count": null,
   "metadata": {},
   "outputs": [],
   "source": [
    "# | exports\n",
    "from typing import Optional, Sequence\n",
    "\n",
    "from jax import jit, lax, vmap\n",
    "from jax import numpy as jnp\n",
    "from matplotlib import rcParams  # type: ignore\n",
    "from matplotlib.axes import Axes\n",
    "from simple_pytree import Pytree\n",
    "\n",
    "from jaxcmr.experimental.plotting import init_plot, plot_data, set_plot_labels\n",
    "from jaxcmr.experimental.repetition import all_study_positions\n",
    "from jaxcmr.helpers import apply_by_subject\n",
    "from jaxcmr.typing import Array, Bool, Float, Int_, Integer"
   ]
  },
  {
   "cell_type": "markdown",
   "metadata": {},
   "source": [
    "## Simple Case: When Study Lists are Uniform\n",
    "To introduce how to calculate Lag-CRP, we will first consider a simple case where the study lists are uniform (no repeated items). In this case, we initialize for each trial a `Tabulation` object that updates at each recall attempt to track the following:\n",
    "\n",
    "- The last item recalled \n",
    "- The number of available items for recall \n",
    "- the number of actual transitions made for each lag at each recall attempt\n",
    "- the number available transitions for each lag at each recall attempt"
   ]
  },
  {
   "cell_type": "code",
   "execution_count": null,
   "metadata": {},
   "outputs": [],
   "source": [
    "# | exports\n",
    "\n",
    "\n",
    "class SimpleTabulation(Pytree):\n",
    "    \"A simple tabulation of transitions between items during recall of a study list.\"\n",
    "\n",
    "    def __init__(self, list_length: int, first_recall: Int_):\n",
    "        self.lag_range = list_length - 1\n",
    "        self.list_length = list_length\n",
    "        self.all_items = jnp.arange(1, list_length + 1, dtype=int)\n",
    "        self.actual_transitions = jnp.zeros(self.lag_range * 2 + 1, dtype=int)\n",
    "        self.avail_transitions = jnp.zeros(self.lag_range * 2 + 1, dtype=int)\n",
    "        self.avail_items = jnp.ones(list_length, dtype=bool)\n",
    "        self.avail_items = self.avail_items.at[first_recall - 1].set(False)\n",
    "        self.previous_item = first_recall\n",
    "\n",
    "    def _update(self, current_item: Int_) -> \"SimpleTabulation\":\n",
    "        \"Tabulate actual and possible serial lags of current from previous item.\"\n",
    "        actual_lag = current_item - self.previous_item + self.lag_range\n",
    "        all_lags = self.all_items - self.previous_item + self.lag_range\n",
    "\n",
    "        return self.replace(\n",
    "            previous_item=current_item,\n",
    "            avail_items=self.avail_items.at[current_item - 1].set(False),\n",
    "            avail_transitions=self.avail_transitions.at[all_lags].add(self.avail_items),\n",
    "            actual_transitions=self.actual_transitions.at[actual_lag].add(1),\n",
    "        )\n",
    "\n",
    "    def update(self, choice: Int_) -> \"SimpleTabulation\":\n",
    "        \"Tabulate a transition if the choice is non-zero (i.e., a valid item).\"\n",
    "        return lax.cond(choice > 0, lambda: self._update(choice), lambda: self)"
   ]
  },
  {
   "cell_type": "markdown",
   "metadata": {},
   "source": [
    "To calculate the Lag-CRP, we tabulate available and actual transitions for each lag at each recall attempt in applicable trials:"
   ]
  },
  {
   "cell_type": "code",
   "execution_count": null,
   "metadata": {},
   "outputs": [],
   "source": [
    "# | exports\n",
    "\n",
    "\n",
    "def simple_tabulate_trial(\n",
    "    trial: Integer[Array, \" recall_events\"], list_length: int\n",
    ") -> SimpleTabulation:\n",
    "    \"Tabulate transitions across a single trial.\"\n",
    "    return lax.scan(\n",
    "        lambda tabulation, recall: (tabulation.update(recall), None),\n",
    "        SimpleTabulation(list_length, trial[0]),\n",
    "        trial[1:],\n",
    "    )[0]"
   ]
  },
  {
   "cell_type": "markdown",
   "metadata": {},
   "source": [
    "Finally, we aggregate the counts of actual and available transitions across all trials, and divide the actual transitions by the available transitions to get the Lag-CRP for each lag."
   ]
  },
  {
   "cell_type": "code",
   "execution_count": null,
   "metadata": {},
   "outputs": [],
   "source": [
    "# | exports\n",
    "\n",
    "\n",
    "def simple_crp(\n",
    "    trials: Integer[Array, \"trials recall_events\"], list_length: int\n",
    ") -> Float[Array, \" lags\"]:\n",
    "    \"Tabulate transitions for multiple trials.\"\n",
    "    tabulated_trials = lax.map(lambda t: simple_tabulate_trial(t, list_length), trials)\n",
    "    total_actual_transitions = jnp.sum(tabulated_trials.actual_transitions, axis=0)\n",
    "    total_possible_transitions = jnp.sum(tabulated_trials.avail_transitions, axis=0)\n",
    "    return total_actual_transitions / total_possible_transitions\n"
   ]
  },
  {
   "cell_type": "markdown",
   "metadata": {},
   "source": [
    "This approach forms the basis for more complex transition analyses that are used in practice, such as when study lists are not uniform (e.g., when items are repeated) or when only particular transitions are of interest (e.g., from just the first recall position) or when transition counts are binned by distance measures instead of serial lag. "
   ]
  },
  {
   "cell_type": "markdown",
   "metadata": {},
   "source": [
    "## Extension: When Study Lists Have Repeated Items\n",
    "Now we consider the scenario where the study lists are not uniform, meaning that items can be repeated. \n",
    "\n",
    "If items can be repeated within the same study list, values in our 2-D `recalls` can only indicate one of the study positions of the recalled item.\n",
    "To account for this, we additionally use a 2-D `presentations` array tracking trial by study position for presented items.\n",
    "A helper function `all_study_positions` is mapped over a `trial` vector to create a 2-D array of study positions for each recalled item, where the first dimension is the recall position, and the second dimension is the study position.\n",
    "This makes it possible to track which study positions are available for recall at each recall position, which study positions are actually recalled in a given recall position, as well as which study positions are transitioned *from* and *to* at each recall position.\n",
    "\n",
    "As with our other analyses addressing study lists with repeated items, we want to count recalls of items with multiple study positions as a single recall of *all* of those study positions.\n",
    "This implies that our `Tabulation` object needs substantial changes to account for the fact that we are now tracking multiple study positions for each recalled item.\n",
    "\n",
    "To address this complexity, we devote separate methods to track the four main features that are updated at each recall attempt in `Tabulation.tabulate`:\n",
    "\n",
    "1. **The last item recalled**. Tabulating the last item recalled is straightforward itself, but we need to ensure that the stored value can be readily mapped to its possibly multiple study positions to support lag calculations. We explicitly update the study positions of the last recalled item at each tabulated recall attempt by indexing `Tabulation.item_study_positions` with the last recalled item.\n",
    "\n",
    "2. **The number of available items for recall**. We introduce a new method `Tabulation.available_recalls_after` that takes the current recalled item, maps it to each of its study positions, then updates a boolean array of available study positions for recall, `Tabulation.avail_recalls`, setting the recalled study positions to `False` while leaving the rest of the study positions at their current values. This method is called at each tabulated recall attempt.\n",
    "\n",
    "3. **The number of actual transitions made for each lag at each recall attempt.** In order to track the number of actual transitions made for each lag at each recall attempt, we need the study positions of the last recalled item, as well as the study positions of the current recalled item. We break this down into a two-method job:\n",
    "   - `Tabulation.lags_from_previous` takes a single study position of the current recalled item and finds the lag from each of the study positions of the last recalled item. It produces a 1-D boolean array of lags, where the index of the lag is the lag value and the value at that index is `True` if that lag was made from the last recalled item to the current recalled item. \n",
    "   - `Tabulation.tabulate_actual_lags` finds the study positions of the current recalled item and passes each position to `Tabulation.lags_from_previous` to determine for each study position their lag from each of the study positions of the last recalled item, and finally returns an updated tabulation of all actual transitions made for each lag across all processed recall attempts. \n",
    "\n",
    "4. **The number of available transitions for each lag at each recall attempt.** Tracking available lag transitions is similar to tracking actual lag transitions, but requires considering *every* possible transition from the last recalled item that could happen, not just the one(s) that actually did. We similarly break this down into two methods:\n",
    "   - `Tabulation.available_lags_from` takes a reference study position and uses `Tabulation.avail_recalls` to find all of the available study positions for recall, and then finds the lag from the reference study position to each of the available study positions. It produces a 1-D boolean array of lags, where the index of the lag is the lag value and the value at that index is `True` if that lag was available from the reference study position. \n",
    "   - `Tabulation.tabulate_available_lags` finds the study positions of the last recalled item and passes each position to `Tabulation.available_lags_from` to determine for each study position their lag from each of the available study positions, and finally returns an updated tabulation of all available transitions for each lag across all processed recall attempts.\n",
    "\n",
    "This is a lot of work to do at each recall attempt, but it is necessary to ensure that we are correctly tabulating the available and actual transitions for each lag. "
   ]
  },
  {
   "cell_type": "code",
   "execution_count": null,
   "metadata": {},
   "outputs": [],
   "source": [
    "# | exports\n",
    "\n",
    "\n",
    "def set_false_at_index(vec: Bool[Array, \" positions\"], i: Int_):\n",
    "    return lax.cond(i, lambda: (vec.at[i - 1].set(False), None), lambda: (vec, None))\n",
    "\n",
    "\n",
    "class Tabulation(Pytree):\n",
    "    \"A tabulation of transitions between items during recall of a study list.\"\n",
    "\n",
    "    def __init__(\n",
    "        self,\n",
    "        presentation: Integer[Array, \" study_events\"],\n",
    "        first_recall: Int_,\n",
    "        size: int = 3,\n",
    "    ):\n",
    "        self.list_length = presentation.size\n",
    "        self.lag_range = self.list_length - 1\n",
    "        self.all_positions = jnp.arange(1, self.list_length + 1, dtype=int)\n",
    "        self.base_lags = jnp.zeros(self.lag_range * 2 + 1, dtype=int)\n",
    "        self.size = size\n",
    "        self.item_study_positions = lax.map(\n",
    "            lambda i: all_study_positions(i, presentation, size),\n",
    "            self.all_positions,\n",
    "        )\n",
    "\n",
    "        self.actual_lags = jnp.zeros(self.lag_range * 2 + 1, dtype=int)\n",
    "        self.avail_lags = jnp.zeros(self.lag_range * 2 + 1, dtype=int)\n",
    "\n",
    "        self.previous_positions = self.item_study_positions[first_recall - 1]\n",
    "        self.avail_recalls = jnp.ones(self.list_length, dtype=bool)\n",
    "        self.avail_recalls = self.available_recalls_after(first_recall)\n",
    "    \n",
    "    # for updating avail_recalls: study positions still available for retrieval\n",
    "    def available_recalls_after(self, recall: Int_) -> Bool[Array, \" positions\"]:\n",
    "        \"Update the study positions available to retrieve after a transition.\"\n",
    "        study_positions = self.item_study_positions[recall - 1]\n",
    "        return lax.scan(set_false_at_index, self.avail_recalls, study_positions)[0]\n",
    "\n",
    "    # for updating actual_lags: lag-transitions actually made from the previous item\n",
    "    def lags_from_previous(self, pos: Int_) -> Bool[Array, \" positions\"]:\n",
    "        \"Identify the lag(s) from the study position(s) of the previous item.\"\n",
    "\n",
    "        def f(prev):\n",
    "            return lax.cond(\n",
    "                (pos * prev) == 0,\n",
    "                lambda: self.base_lags,\n",
    "                lambda: self.base_lags.at[pos - prev + self.lag_range].add(1),\n",
    "            )\n",
    "\n",
    "        return lax.map(f, self.previous_positions).sum(0).astype(bool)\n",
    "\n",
    "    def tabulate_actual_lags(self, recall: Int_) -> Integer[Array, \" lags\"]:\n",
    "        \"Tabulate the actual transition after a transition.\"\n",
    "        recall_study_positions = self.item_study_positions[recall - 1]\n",
    "        new_lags = (\n",
    "            lax.map(self.lags_from_previous, recall_study_positions).sum(0).astype(bool)\n",
    "        )\n",
    "        return self.actual_lags + new_lags\n",
    "\n",
    "    # for updating avail_lags: lag-transitions available from the previous item\n",
    "    def available_lags_from(self, pos: Int_) -> Bool[Array, \" lags\"]:\n",
    "        \"Identify recallable lag transitions from the specified study position.\"\n",
    "        return lax.cond(\n",
    "            pos == 0,\n",
    "            lambda: self.base_lags,\n",
    "            lambda: self.base_lags.at[self.all_positions - pos + self.lag_range].add(\n",
    "                self.avail_recalls\n",
    "            ),\n",
    "        )\n",
    "\n",
    "    def tabulate_available_lags(self) -> Integer[Array, \" lags\"]:\n",
    "        \"Tabulate available transitions after a transition.\"\n",
    "        new_lags = (\n",
    "            lax.map(self.available_lags_from, self.previous_positions)\n",
    "            .sum(0)\n",
    "            .astype(bool)\n",
    "        )\n",
    "        return self.avail_lags + new_lags\n",
    "\n",
    "    # unifying tabulation of actual/avail lags, previous positions, and avail recalls\n",
    "    def tabulate(self, recall: Int_) -> \"Tabulation\":\n",
    "        \"Tabulate actual and possible serial lags of current from previous item.\"\n",
    "        return lax.cond(\n",
    "            recall,\n",
    "            lambda: self.replace(\n",
    "                previous_positions=self.item_study_positions[recall - 1],\n",
    "                avail_recalls=self.available_recalls_after(recall),\n",
    "                actual_lags=self.tabulate_actual_lags(recall),\n",
    "                avail_lags=self.tabulate_available_lags(),\n",
    "            ),\n",
    "            lambda: self,\n",
    "        )"
   ]
  },
  {
   "cell_type": "markdown",
   "metadata": {},
   "source": [
    "Just like in our original implementation, we include a `tabulate_trial` method that takes a trial and updates the `Tabulation` object with the actual and available transitions for each lag at each recall attempt. "
   ]
  },
  {
   "cell_type": "code",
   "execution_count": null,
   "metadata": {},
   "outputs": [],
   "source": [
    "# | exports\n",
    "\n",
    "\n",
    "def tabulate_trial(\n",
    "    trial: Integer[Array, \" recall_events\"],\n",
    "    presentation: Integer[Array, \" study_events\"],\n",
    "    size: int = 3,\n",
    ") -> tuple[Float[Array, \" lags\"], Float[Array, \" lags\"]]:\n",
    "    init = Tabulation(presentation, trial[0], size)\n",
    "    tab = lax.fori_loop(1, trial.size, lambda i, t: t.tabulate(trial[i]), init)\n",
    "    return tab.actual_lags, tab.avail_lags"
   ]
  },
  {
   "cell_type": "markdown",
   "metadata": {},
   "source": [
    "Finally, in our `crp` function, we aggregate the counts of actual and available transitions across all trials, and divide the actual transitions by the available transitions to get the Lag-CRP for each lag."
   ]
  },
  {
   "cell_type": "code",
   "execution_count": null,
   "metadata": {},
   "outputs": [],
   "source": [
    "# | exports\n",
    "\n",
    "\n",
    "def crp(\n",
    "    trials: Integer[Array, \"trials recall_events\"],\n",
    "    presentations: Integer[Array, \"trials study_events\"],\n",
    "    list_length: int,\n",
    "    size: int = 3,\n",
    ") -> Float[Array, \" lags\"]:\n",
    "    actual, possible = vmap(tabulate_trial, in_axes=(0, 0, None))(\n",
    "        trials, presentations, size\n",
    "    )\n",
    "    return actual.sum(0) / possible.sum(0)"
   ]
  },
  {
   "cell_type": "markdown",
   "metadata": {},
   "source": [
    "## Extension: Repetition Lag-CRP\n",
    "\n",
    "Adding two extra features to the Lag-CRP analysis allows us to calculate the **Repetition Lag-CRP**. We will compare transition probabilities from repeated items to items studied near either their first or second presentation (or additional presentations if there are more). This means:\n",
    "\n",
    "1. We only tabulate lag-transitions from recalls of repeated items (though we still have to track available and actual transitions across trials to accomplish this).\n",
    "2. We separately tabulate lag-transitions relative to each presentation of the repeated item, so that we can calculate the Lag-CRP for each presentation of the repeated item.\n",
    "\n",
    "To exclusively focus on transitions from repeated items, we add a `Tabulation.should_tabulate` method that `tabulate` uses to determine based on the previous recalled item whether to tabulate the current recalled item or just update the available transitions (and the previous recalled item) to reflect the current recalled item.\n",
    "\n",
    "To separately tabulate a lag-CRP for each study position index of repeated items, first we use two-dimensional representations of `avail_lags` and `actual_lags`.\n",
    "In our original repetition-robust implementation of the lag-CRP analysis, our `tabulate_actual_lags` and `tabulate_available_lags` methods collapsed lag identification across study positions of previously recalled items into a single dimension, where the index of the lag was the lag value and the value at that index was `True` if that lag was made from the last recalled item to the current recalled item.\n",
    "For this implementation, we simply do not collapse the lag identification into a single dimension, and instead use a 2-D array of lags, where the first dimension is the study position of the last recalled item and the second dimension is the lag value.\n",
    "This resulting representation of lags is a 2-D array of booleans, where the first dimension is the study position of the last recalled item and the second dimension is the lag value.\n",
    "We can then use this 2-D array to tabulate the actual and available transitions for each lag at each recall attempt, and finally aggregate the counts of actual and available transitions across all trials to get the Lag-CRP for each lag."
   ]
  },
  {
   "cell_type": "markdown",
   "metadata": {},
   "source": [
    "## Plotting"
   ]
  },
  {
   "cell_type": "code",
   "execution_count": null,
   "metadata": {},
   "outputs": [],
   "source": [
    "#| exports\n",
    "\n",
    "def plot_crp(\n",
    "    datasets: Sequence[dict[str, jnp.ndarray]] | dict[str, jnp.ndarray],\n",
    "    trial_masks: Sequence[Bool[Array, \" trial_count\"]] | Bool[Array, \" trial_count\"],\n",
    "    max_lag: int = 5,\n",
    "    distances: Optional[Float[Array, \"word_count word_count\"]] = None,\n",
    "    color_cycle: Optional[list[str]] = None,\n",
    "    labels: Optional[Sequence[str]] = None,\n",
    "    contrast_name: Optional[str] = None,\n",
    "    axis: Optional[Axes] = None,\n",
    "    size: int = 3,\n",
    ") -> Axes:\n",
    "    \"\"\"Returns Axes object with plotted prob of lag-CRP for datasets and trial masks.\n",
    "\n",
    "    Args:\n",
    "        datasets: Datasets containing trial data to be plotted.\n",
    "        trial_masks: Masks to filter trials in datasets.\n",
    "        max_lag: Maximum lag to plot.\n",
    "        color_cycle: List of colors for plotting each dataset.\n",
    "        distances: Unused, included for compatibility with other plotting functions.\n",
    "        labels: Names for each dataset for legend, optional.\n",
    "        contrast_name: Name of contrast for legend labeling, optional.\n",
    "        axis: Existing matplotlib Axes to plot on, optional.\n",
    "        size: Maximum number of study positions an item can be presented at.\n",
    "    \"\"\"\n",
    "    axis = init_plot(axis)\n",
    "\n",
    "    if color_cycle is None:\n",
    "        color_cycle = [each[\"color\"] for each in rcParams[\"axes.prop_cycle\"]]\n",
    "\n",
    "    if labels is None:\n",
    "        labels = [\"\"] * len(datasets)\n",
    "\n",
    "    if isinstance(datasets, dict):\n",
    "        datasets = [datasets]\n",
    "\n",
    "    if isinstance(trial_masks, jnp.ndarray):\n",
    "        trial_masks = [trial_masks]\n",
    "\n",
    "    lag_interval = jnp.arange(-max_lag, max_lag + 1, dtype=int)\n",
    "\n",
    "    for data_index, data in enumerate(datasets):\n",
    "        lag_range = (jnp.max(data[\"listLength\"]) - 1).item()\n",
    "        subject_values = apply_by_subject(\n",
    "            data,\n",
    "            trial_masks[data_index],\n",
    "            jit(crp, static_argnames=(\"size\")),\n",
    "            size,\n",
    "        )\n",
    "        subject_values = jnp.vstack(subject_values)\n",
    "        subject_values = subject_values[\n",
    "            :, lag_range - max_lag : lag_range + max_lag + 1\n",
    "        ]\n",
    "\n",
    "        color = color_cycle.pop(0)\n",
    "        plot_data(\n",
    "            axis,\n",
    "            lag_interval,\n",
    "            subject_values,\n",
    "            labels[data_index],\n",
    "            color,\n",
    "        )\n",
    "\n",
    "    set_plot_labels(axis, \"Lag\", \"Conditional Resp. Prob.\", contrast_name)\n",
    "    return axis\n"
   ]
  },
  {
   "cell_type": "markdown",
   "metadata": {},
   "source": [
    "## Examples"
   ]
  },
  {
   "cell_type": "code",
   "execution_count": null,
   "metadata": {},
   "outputs": [],
   "source": [
    "import os\n",
    "\n",
    "from jaxcmr.helpers import find_project_root, generate_trial_mask, load_data"
   ]
  },
  {
   "cell_type": "code",
   "execution_count": null,
   "metadata": {},
   "outputs": [
    {
     "name": "stderr",
     "output_type": "stream",
     "text": [
      "/Users/jordangunn/jaxcmr/.venv/lib/python3.12/site-packages/scipy/_lib/_util.py:440: DegenerateDataWarning: The BCa confidence interval cannot be calculated. This problem is known to occur when the distribution is degenerate or the statistic is np.min.\n",
      "  return fun(*args, **kwargs)\n"
     ]
    },
    {
     "data": {
      "text/plain": [
       "Array([0.10416666, 0.04166667, 0.02147239, 0.0228833 , 0.01654412,\n",
       "       0.01880878, 0.01775956, 0.02140309, 0.02038627, 0.01629914,\n",
       "       0.02      , 0.01670644, 0.01305684, 0.01468532, 0.01878238,\n",
       "       0.017042  , 0.01747234, 0.01930502, 0.01536831, 0.01510574,\n",
       "       0.01016949, 0.01390176, 0.01393885, 0.01690507, 0.01760131,\n",
       "       0.02655569, 0.01942117, 0.0177712 , 0.01956599, 0.02229081,\n",
       "       0.02253148, 0.02098128, 0.02182163, 0.02749459, 0.02875974,\n",
       "       0.03524229, 0.05237688, 0.06995769, 0.1551922 ,        nan,\n",
       "       0.25058603, 0.09483766, 0.06154943, 0.04214095, 0.02825979,\n",
       "       0.02849873, 0.02509804, 0.02086677, 0.02140078, 0.02180149,\n",
       "       0.01564345, 0.01611922, 0.01162425, 0.01868557, 0.01537433,\n",
       "       0.01518288, 0.01601424, 0.01365818, 0.01031716, 0.01069731,\n",
       "       0.01161344, 0.01133391, 0.01545455, 0.01106833, 0.00858152,\n",
       "       0.01419558, 0.01462317, 0.013261  , 0.014295  , 0.01597222,\n",
       "       0.00988593, 0.01417848, 0.01458523, 0.014     , 0.0046729 ,\n",
       "       0.01536313, 0.00696864, 0.00495049, 0.00452489], dtype=float32)"
      ]
     },
     "execution_count": null,
     "metadata": {},
     "output_type": "execute_result"
    },
    {
     "data": {
      "image/png": "[encoded data removed]",
      "text/plain": [
       "<Figure size 640x480 with 1 Axes>"
      ]
     },
     "metadata": {},
     "output_type": "display_data"
    }
   ],
   "source": [
    "# parameters\n",
    "run_tag = \"CRP\"\n",
    "data_name = \"LohnasKahana2014\"\n",
    "data_query = \"data['list_type'] == 1\"\n",
    "data_path = os.path.join(find_project_root(), \"data/LohnasKahana2014.h5\")\n",
    "\n",
    "# set up data structures\n",
    "data = load_data(data_path)\n",
    "recalls = data[\"recalls\"]\n",
    "presentations = data[\"pres_itemnos\"]\n",
    "list_length = data[\"listLength\"][0].item()\n",
    "trial_mask = generate_trial_mask(data, data_query)\n",
    "\n",
    "# plot\n",
    "plot_crp(data, generate_trial_mask(data, data_query))\n",
    "jit(crp, static_argnames=(\"size\", \"list_length\"))(recalls[trial_mask], presentations[trial_mask], list_length)"
   ]
  },
  {
   "cell_type": "code",
   "execution_count": null,
   "metadata": {},
   "outputs": [
    {
     "data": {
      "text/plain": [
       "Array([0.09734514, 0.09734514, 0.08050848, 0.03524229, 0.07859079,\n",
       "       0.06069364, 0.07889546, 0.04103672, 0.07066052, 0.04576271,\n",
       "       0.0675    , 0.03797468, 0.0665962 , 0.0430622 , 0.06927986,\n",
       "       0.04149378, 0.06634692, 0.03959484, 0.07814761, 0.05421184,\n",
       "       0.07388205, 0.0365399 , 0.07008245, 0.04771643, 0.07374793,\n",
       "       0.04123711, 0.0745592 , 0.04955752, 0.08138447, 0.04997224,\n",
       "       0.10052219, 0.07283058, 0.12862903, 0.08734053, 0.15616846,\n",
       "       0.11147086, 0.2562797 , 0.22041166, 0.22041166,        nan,\n",
       "       0.37571904, 0.37571904, 0.44655216, 0.15265082, 0.21569157,\n",
       "       0.09525327, 0.13295129, 0.05563048, 0.08708891, 0.04302987,\n",
       "       0.06751055, 0.03291714, 0.0600486 , 0.03445513, 0.05810511,\n",
       "       0.03073593, 0.0457097 , 0.02016886, 0.0389948 , 0.02401635,\n",
       "       0.04015116, 0.02137233, 0.03856175, 0.02242991, 0.04186046,\n",
       "       0.02533427, 0.04123037, 0.02163462, 0.03889304, 0.02321263,\n",
       "       0.03836094, 0.02146893, 0.03552207, 0.02028986, 0.03163686,\n",
       "       0.01859504, 0.03180914, 0.02755906, 0.02755906], dtype=float32)"
      ]
     },
     "execution_count": null,
     "metadata": {},
     "output_type": "execute_result"
    },
    {
     "data": {
      "image/png": "[encoded data removed]",
      "text/plain": [
       "<Figure size 640x480 with 1 Axes>"
      ]
     },
     "metadata": {},
     "output_type": "display_data"
    }
   ],
   "source": [
    "# parameters\n",
    "run_tag = \"CRP\"\n",
    "data_name = \"LohnasKahana2014\"\n",
    "data_query = \"data['list_type'] == 2\"\n",
    "data_path = os.path.join(find_project_root(), \"data/LohnasKahana2014.h5\")\n",
    "\n",
    "# set up data structures\n",
    "data = load_data(data_path)\n",
    "recalls = data[\"recalls\"]\n",
    "presentations = data[\"pres_itemnos\"]\n",
    "list_length = data[\"listLength\"][0].item()\n",
    "trial_mask = generate_trial_mask(data, data_query)\n",
    "\n",
    "# plot\n",
    "plot_crp(data, generate_trial_mask(data, data_query))\n",
    "jit(crp, static_argnames=(\"size\", \"list_length\"))(recalls[trial_mask], presentations[trial_mask], list_length)"
   ]
  }
 ],
 "metadata": {
  "kernelspec": {
   "display_name": ".venv",
   "language": "python",
   "name": "python3"
  },
  "language_info": {
   "name": "python",
   "version": "3.12.8"
  }
 },
 "nbformat": 4,
 "nbformat_minor": 2
}
