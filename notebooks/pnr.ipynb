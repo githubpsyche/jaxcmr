{
 "cells": [
  {
   "cell_type": "code",
   "execution_count": null,
   "metadata": {},
   "outputs": [],
   "source": [
    "#| default_exp pnr\n",
    "%load_ext autoreload\n",
    "%autoreload 2"
   ]
  },
  {
   "cell_type": "markdown",
   "metadata": {},
   "source": [
    "# Probability of Nth Recall\n",
    "The **probability of nth recall** (PNR) analysis examines which studied items, by their serial position, end up as the *n*-th recalled item.\n",
    "\n",
    "- `fixed_pres_pnr` assumes uniform study lists (no item repetitions). It simply tallies which item was recalled in the *n*-th position.\n",
    "- `pnr` generalizes to the case where items can repeat during study. It uses the auxiliary function `all_study_positions` to handle these repetitions properly.\n",
    "\n",
    "The resulting vector from these functions is of length equal to the study list length, showing for each position in the study list, how often (probability) it corresponds to the *n*-th recall event."
   ]
  },
  {
   "cell_type": "code",
   "execution_count": null,
   "metadata": {},
   "outputs": [],
   "source": [
    "# | export\n",
    "\n",
    "from typing import Optional, Sequence\n",
    "\n",
    "import jax.numpy as jnp\n",
    "from jax import jit, vmap\n",
    "from matplotlib import rcParams  # type: ignore\n",
    "from matplotlib.axes import Axes\n",
    "\n",
    "from jaxcmr.experimental.plotting import init_plot, plot_data, set_plot_labels\n",
    "from jaxcmr.experimental.repetition import all_study_positions\n",
    "from jaxcmr.helpers import apply_by_subject, find_max_list_length\n",
    "from jaxcmr.typing import Array, Bool, Float, Integer\n"
   ]
  },
  {
   "cell_type": "markdown",
   "metadata": {},
   "source": [
    " ## Simple Case: When Study Lists are Uniform\n",
    "\n",
    " When all lists are uniform (no repeated items), we can identify the item recalled in the *n*-th position by looking directly at `recalls[:, query_recall_position]` and doing a simple count:"
   ]
  },
  {
   "cell_type": "code",
   "execution_count": null,
   "metadata": {},
   "outputs": [],
   "source": [
    "# | exports\n",
    "\n",
    "def fixed_pres_pnr(\n",
    "    recalls: Integer[Array, \" trial_count recall_positions\"],\n",
    "    list_length: int,\n",
    "    query_recall_position: int = 0,\n",
    ") -> Float[Array, \" study_positions\"]:\n",
    "    \"\"\"Returns probability of nth recall as a function of study position, assuming uniform study lists.\n",
    "\n",
    "    Args:\n",
    "        recalls: trial by recall position array of recalled items. 1-indexed; 0 for no recall.\n",
    "        list_length: the length of the study list.\n",
    "        query_recall_position: Which recall index (0-based) to analyze (e.g., 0 for first recall).\n",
    "    \"\"\"\n",
    "    # Identify the item recalled at the query_recall_position for each trial.\n",
    "    # Bin counts for each item number, ignoring 0 (no recall).\n",
    "    # Divide by the total number of trials to get a probability.\n",
    "    return jnp.bincount(\n",
    "        recalls[:, query_recall_position].flatten(), length=list_length + 1\n",
    "    )[1:] / len(recalls)\n"
   ]
  },
  {
   "cell_type": "markdown",
   "metadata": {},
   "source": [
    " ## Complex Case: Item Repetitions\n",
    "\n",
    " If items can repeat, we need to track all possible study positions for the *n*-th recalled item.\n",
    "\n",
    " For each trial and each recalled item, `all_study_positions` returns all positions in the study list at which the recalled item appeared. The final probability is then computed similarly to the uniform case, but using the expanded array that captures repeated study positions."
   ]
  },
  {
   "cell_type": "code",
   "execution_count": null,
   "metadata": {},
   "outputs": [],
   "source": [
    "# | exports\n",
    "\n",
    "\n",
    "def pnr(\n",
    "    recalls: Integer[Array, \" trial_count recall_positions\"],\n",
    "    presentations: Integer[Array, \" trial_count study_positions\"],\n",
    "    list_length: int,\n",
    "    size: int = 3,\n",
    "    query_recall_position: int = 0,\n",
    ") -> Float[Array, \" study_positions\"]:\n",
    "    \"\"\"Returns probability of nth recall as a function of study position, allowing item repetitions.\n",
    "\n",
    "    Args:\n",
    "        recalls: trial by recall position array of recalled items. 1-indexed; 0 for no recall.\n",
    "        presentations: trial by study position array of presented items. 1-indexed.\n",
    "        list_length: the length of the study list.\n",
    "        size: maximum number of study positions an item can be presented at.\n",
    "        query_recall_position: Which recall index (0-based) to analyze (e.g., 0 for first recall).\n",
    "    \"\"\"\n",
    "    # expanded_recalls: (trial_count, recall_positions, size) array\n",
    "    # where each recalled item is mapped to all its possible study positions.\n",
    "    expanded_recalls = vmap(\n",
    "        vmap(all_study_positions, in_axes=(0, None, None)), in_axes=(0, 0, None)\n",
    "    )(recalls, presentations, size)\n",
    "    return fixed_pres_pnr(expanded_recalls, list_length, query_recall_position)\n"
   ]
  },
  {
   "cell_type": "markdown",
   "metadata": {},
   "source": [
    " ## Plotting the Probability of Nth Recall\n",
    "\n",
    " The `plot_pnr` function produces a simple line plot for the PNR across multiple datasets and/or trial masks.\n",
    "\n",
    " By default, it plots the probability of first recall (i.e., `query_recall_position=0`)."
   ]
  },
  {
   "cell_type": "code",
   "execution_count": null,
   "metadata": {},
   "outputs": [],
   "source": [
    "# | exports\n",
    "\n",
    "\n",
    "def plot_pnr(\n",
    "    datasets: Sequence[dict[str, jnp.ndarray]] | dict[str, jnp.ndarray],\n",
    "    trial_masks: Sequence[Bool[Array, \" trial_count\"]] | Bool[Array, \" trial_count\"],\n",
    "    query_recall_position: int = 0,\n",
    "    distances: Optional[Float[Array, \"word_count word_count\"]] = None,\n",
    "    color_cycle: Optional[list[str]] = None,\n",
    "    labels: Optional[Sequence[str]] = None,\n",
    "    contrast_name: Optional[str] = None,\n",
    "    axis: Optional[Axes] = None,\n",
    "    size: int = 3,\n",
    ") -> Axes:\n",
    "    \"\"\"Returns Axes object with plotted probability of nth recall for given datasets and trial masks.\n",
    "\n",
    "    Args:\n",
    "        datasets: Datasets containing trial data to be plotted.\n",
    "        trial_masks: Masks to filter trials in datasets.\n",
    "        query_recall_position: Which recall index (0-based) to plot (e.g., 0 for first recall).\n",
    "        distances: Unused, included for compatibility with other plotting functions.\n",
    "        color_cycle: List of colors for plotting each dataset.\n",
    "        labels: Names for each dataset for legend, optional.\n",
    "        contrast_name: Name of contrast for legend labeling, optional.\n",
    "        axis: Existing matplotlib Axes to plot on, optional.\n",
    "        size: Maximum number of study positions an item can be presented at.\n",
    "    \"\"\"\n",
    "    axis = init_plot(axis)\n",
    "\n",
    "    if color_cycle is None:\n",
    "        color_cycle = [each[\"color\"] for each in rcParams[\"axes.prop_cycle\"]]\n",
    "\n",
    "    if labels is None:\n",
    "        labels = [\"\"] * len(datasets)\n",
    "\n",
    "    # Convert single dict or single mask to list\n",
    "    if isinstance(datasets, dict):\n",
    "        datasets = [datasets]\n",
    "    if isinstance(trial_masks, jnp.ndarray):\n",
    "        trial_masks = [trial_masks]\n",
    "\n",
    "    # Determine x-axis length\n",
    "    max_list_length = find_max_list_length(datasets, trial_masks)\n",
    "\n",
    "    # For each dataset, apply the pnr function by subject, gather results, and plot\n",
    "    for data_index, data in enumerate(datasets):\n",
    "        subject_values = jnp.vstack(\n",
    "            apply_by_subject(\n",
    "                data,\n",
    "                trial_masks[data_index],\n",
    "                jit(pnr, static_argnames=(\"size\", \"list_length\")),\n",
    "                size,\n",
    "                query_recall_position,\n",
    "            )\n",
    "        )\n",
    "\n",
    "        color = color_cycle.pop(0)\n",
    "        plot_data(\n",
    "            axis,\n",
    "            jnp.arange(max_list_length, dtype=int) + 1,\n",
    "            subject_values,\n",
    "            labels[data_index],\n",
    "            color,\n",
    "        )\n",
    "\n",
    "    set_plot_labels(axis, \"Study Position\", \"Probability of Nth Recall\", contrast_name)\n",
    "    return axis"
   ]
  },
  {
   "cell_type": "markdown",
   "metadata": {},
   "source": [
    " ## Tests"
   ]
  },
  {
   "cell_type": "markdown",
   "metadata": {},
   "source": [
    " ### Equivalent Outputs for Uniform Study Lists\n",
    "\n",
    " When the study lists are identical for every trial (and contain no repeated items), `fixed_pres_pnr` and `pnr` should produce the same output."
   ]
  },
  {
   "cell_type": "code",
   "execution_count": null,
   "metadata": {},
   "outputs": [
    {
     "data": {
      "text/plain": [
       "Array([0.5, 0.5, 0. ], dtype=float32)"
      ]
     },
     "execution_count": null,
     "metadata": {},
     "output_type": "execute_result"
    }
   ],
   "source": [
    "presentation_uniform = jnp.array(\n",
    "    [[1, 2, 3], [1, 2, 3]]\n",
    ")  # same list repeated across two trials\n",
    "recalls_uniform = jnp.array([[1, 2, 3], [2, 3, 1]])  # each row is a trial\n",
    "list_length_test = presentation_uniform.shape[1]\n",
    "\n",
    "# Probability of first recall for both trials\n",
    "pnr_uniform = pnr(\n",
    "    recalls_uniform,\n",
    "    presentation_uniform,\n",
    "    list_length_test,\n",
    "    size=1,\n",
    "    query_recall_position=0,\n",
    ")\n",
    "fixed_uniform = fixed_pres_pnr(\n",
    "    recalls_uniform, list_length_test, query_recall_position=0\n",
    ")\n",
    "\n",
    "assert jnp.allclose(pnr_uniform, fixed_uniform), \"PNR mismatch with uniform study lists\"\n",
    "pnr_uniform\n"
   ]
  },
  {
   "cell_type": "markdown",
   "metadata": {},
   "source": [
    " ### Insensitivity to Zero Padding\n",
    "Adding zeros to the presentations or recalls (beyond the intended list length) should not affect the probability of nth recall."
   ]
  },
  {
   "cell_type": "code",
   "execution_count": null,
   "metadata": {},
   "outputs": [
    {
     "data": {
      "text/plain": [
       "Array([0.5, 0.5, 0. ], dtype=float32)"
      ]
     },
     "execution_count": null,
     "metadata": {},
     "output_type": "execute_result"
    }
   ],
   "source": [
    "# Extend the presentations and recalls with zero padding\n",
    "presentation_padded = jnp.array([[1, 2, 3, 0, 0], [1, 2, 3, 0, 0]])\n",
    "recalls_padded = jnp.array([[2, 3, 1, 0, 0], [1, 2, 3, 0, 0]])\n",
    "\n",
    "pnr_padded = pnr(\n",
    "    recalls_padded, presentation_padded, 3, size=2, query_recall_position=0\n",
    ")\n",
    "assert jnp.allclose(pnr_padded, pnr_uniform), \"PNR changed due to zero padding\"\n",
    "pnr_padded\n"
   ]
  },
  {
   "cell_type": "markdown",
   "metadata": {},
   "source": [
    " ### Sensitivity to Repetitions\n",
    " The `pnr` function will attribute the nth recall to *all* study positions for an item that appears multiple times. For instance, if item 4 appears in positions 2 and 5, and is the nth recall, that nth recall will be counted once for position 2 **and** once for position 5."
   ]
  },
  {
   "cell_type": "code",
   "execution_count": null,
   "metadata": {},
   "outputs": [
    {
     "data": {
      "text/plain": [
       "Array([0., 1., 0., 1., 0.], dtype=float32)"
      ]
     },
     "execution_count": null,
     "metadata": {},
     "output_type": "execute_result"
    }
   ],
   "source": [
    "presentations_repeated = jnp.array([[1, 2, 3, 2, 4]])\n",
    "recalls_repeated = jnp.array([[2, 1, 3, 0]])\n",
    "list_length_test_reps = 5\n",
    "\n",
    "# Probability of first recall\n",
    "# Item \"4\" appears at positions 2 and 4. It is recalled first. So positions 2 and 4 should share that credit.\n",
    "expected_pnr = jnp.array(\n",
    "    [0.0, 1.0, 0.0, 1.0, 0.0]\n",
    ")  # \"4\" => positions 2 & 4; 1-based indexing in the array\n",
    "\n",
    "out_pnr = pnr(\n",
    "    recalls_repeated,\n",
    "    presentations_repeated,\n",
    "    list_length_test_reps,\n",
    "    query_recall_position=0,\n",
    ")\n",
    "assert jnp.allclose(out_pnr, expected_pnr), \"PNR mismatch for repeated items\"\n",
    "out_pnr\n"
   ]
  },
  {
   "cell_type": "markdown",
   "metadata": {},
   "source": [
    "### Varying `query_recall_position`\n",
    "\n",
    "We can test whether changing `query_recall_position` (e.g., first vs. second vs. third recall) yields sensible results."
   ]
  },
  {
   "cell_type": "code",
   "execution_count": null,
   "metadata": {},
   "outputs": [
    {
     "data": {
      "text/plain": [
       "Array([0. , 0.5, 0.5], dtype=float32)"
      ]
     },
     "execution_count": null,
     "metadata": {},
     "output_type": "execute_result"
    }
   ],
   "source": [
    "# We'll reuse the uniform lists from above\n",
    "# For the second recall (index=1), let's see which item is recalled in each trial:\n",
    "#   Trial 1: [1, 2, 3] => second recall is item 2\n",
    "#   Trial 2: [2, 3, 1] => second recall is item 3\n",
    "# So positions of items 2,3 in the uniform list are (2, 3) respectively.\n",
    "# Probability for each position => item 2's position is 2, item 3's position is 3\n",
    "\n",
    "pnr_second_recall = pnr(\n",
    "    recalls_uniform,\n",
    "    presentation_uniform,\n",
    "    list_length_test,\n",
    "    size=1,\n",
    "    query_recall_position=1,\n",
    ")\n",
    "expected_second_recall = jnp.array(\n",
    "    [0.0, 0.5, 0.5]\n",
    ")  # half the time it's position 2, half it's position 3\n",
    "\n",
    "assert jnp.allclose(pnr_second_recall, expected_second_recall), \"Second recall mismatch\"\n",
    "pnr_second_recall\n"
   ]
  },
  {
   "cell_type": "markdown",
   "metadata": {},
   "source": [
    " ## Examples"
   ]
  },
  {
   "cell_type": "code",
   "execution_count": null,
   "metadata": {},
   "outputs": [],
   "source": [
    "import os\n",
    "\n",
    "from jaxcmr.helpers import find_project_root, generate_trial_mask, load_data"
   ]
  },
  {
   "cell_type": "markdown",
   "metadata": {},
   "source": [
    " Uniform study lists case. This yields some warnings because there's a study position for which the first recall probability is zero, but that's okay:"
   ]
  },
  {
   "cell_type": "code",
   "execution_count": null,
   "metadata": {},
   "outputs": [
    {
     "name": "stderr",
     "output_type": "stream",
     "text": [
      "/Users/jordangunn/jaxcmr/.venv/lib/python3.12/site-packages/scipy/stats/_resampling.py:147: RuntimeWarning: invalid value encountered in divide\n",
      "  a_hat = 1/6 * sum(nums) / sum(dens)**(3/2)\n",
      "/Users/jordangunn/jaxcmr/.venv/lib/python3.12/site-packages/scipy/_lib/_util.py:440: DegenerateDataWarning: The BCa confidence interval cannot be calculated. This problem is known to occur when the distribution is degenerate or the statistic is np.min.\n",
      "  return fun(*args, **kwargs)\n"
     ]
    },
    {
     "data": {
      "text/plain": [
       "Array([0.21666667, 0.06190477, 0.03333334, 0.04047619, 0.00952381,\n",
       "       0.01666667, 0.        , 0.02142857, 0.01190476, 0.01190476,\n",
       "       0.01428572, 0.01428572, 0.0047619 , 0.00714286, 0.00952381,\n",
       "       0.00238095, 0.00952381, 0.01190476, 0.0047619 , 0.00952381,\n",
       "       0.0047619 , 0.01428572, 0.00952381, 0.00714286, 0.01190476,\n",
       "       0.01190476, 0.00952381, 0.02142857, 0.01428572, 0.01190476,\n",
       "       0.02619048, 0.01190476, 0.01428572, 0.01904762, 0.01190476,\n",
       "       0.03571429, 0.05238095, 0.06190477, 0.06428572, 0.07380953],      dtype=float32)"
      ]
     },
     "execution_count": null,
     "metadata": {},
     "output_type": "execute_result"
    },
    {
     "data": {
      "image/png": "[encoded data removed]",
      "text/plain": [
       "<Figure size 640x480 with 1 Axes>"
      ]
     },
     "metadata": {},
     "output_type": "display_data"
    }
   ],
   "source": [
    "# parameters\n",
    "run_tag = \"PFR\"\n",
    "data_name = \"LohnasKahana2014\"\n",
    "data_query = \"data['list_type'] == 1\"\n",
    "data_path = os.path.join(find_project_root(), \"data/LohnasKahana2014.h5\")\n",
    "\n",
    "# set up data structures\n",
    "data = load_data(data_path)\n",
    "recalls = data[\"recalls\"]\n",
    "presentations = data[\"pres_itemnos\"]\n",
    "list_length = data[\"listLength\"][0].item()\n",
    "trial_mask = generate_trial_mask(data, data_query)\n",
    "\n",
    "# plot SPC\n",
    "plot_pnr(data, generate_trial_mask(data, data_query))\n",
    "jit(pnr, static_argnames=(\"size\", \"list_length\"))(\n",
    "    recalls[trial_mask], presentations[trial_mask], list_length\n",
    ")\n"
   ]
  },
  {
   "cell_type": "markdown",
   "metadata": {},
   "source": [
    " Study lists where every item is repeated once immediately after its first presentation. In this example, each pair of successive study positions in the plot should produce the same recall rate."
   ]
  },
  {
   "cell_type": "code",
   "execution_count": null,
   "metadata": {},
   "outputs": [
    {
     "data": {
      "text/plain": [
       "Array([0.34761906, 0.34761906, 0.06904762, 0.06904762, 0.0452381 ,\n",
       "       0.0452381 , 0.03333334, 0.03333334, 0.01666667, 0.01666667,\n",
       "       0.01666667, 0.01666667, 0.01428572, 0.01428572, 0.01666667,\n",
       "       0.01666667, 0.01190476, 0.01190476, 0.02380952, 0.02380952,\n",
       "       0.01666667, 0.01666667, 0.01904762, 0.01904762, 0.02142857,\n",
       "       0.02142857, 0.02619048, 0.02619048, 0.03333334, 0.03333334,\n",
       "       0.03095238, 0.03095238, 0.04047619, 0.04047619, 0.04285714,\n",
       "       0.04285714, 0.06904762, 0.06904762, 0.1       , 0.1       ],      dtype=float32)"
      ]
     },
     "execution_count": null,
     "metadata": {},
     "output_type": "execute_result"
    },
    {
     "data": {
      "image/png": "[encoded data removed]",
      "text/plain": [
       "<Figure size 640x480 with 1 Axes>"
      ]
     },
     "metadata": {},
     "output_type": "display_data"
    }
   ],
   "source": [
    "# parameters\n",
    "run_tag = \"PFR\"\n",
    "data_name = \"LohnasKahana2014\"\n",
    "data_query = \"data['list_type'] == 2\"\n",
    "data_path = os.path.join(find_project_root(), \"data/LohnasKahana2014.h5\")\n",
    "\n",
    "# set up data structures\n",
    "data = load_data(data_path)\n",
    "recalls = data[\"recalls\"]\n",
    "presentations = data[\"pres_itemnos\"]\n",
    "list_length = data[\"listLength\"][0].item()\n",
    "trial_mask = generate_trial_mask(data, data_query)\n",
    "\n",
    "# plot SPC\n",
    "plot_pnr(data, generate_trial_mask(data, data_query))\n",
    "jit(pnr, static_argnames=(\"size\", \"list_length\"))(\n",
    "    recalls[trial_mask], presentations[trial_mask], list_length\n",
    ")\n"
   ]
  }
 ],
 "metadata": {
  "kernelspec": {
   "display_name": "python3",
   "language": "python",
   "name": "python3"
  }
 },
 "nbformat": 4,
 "nbformat_minor": 2
}
