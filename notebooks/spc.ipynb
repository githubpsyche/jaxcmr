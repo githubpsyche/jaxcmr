{
 "cells": [
  {
   "cell_type": "code",
   "execution_count": null,
   "metadata": {},
   "outputs": [],
   "source": [
    "# | default_exp spc\n",
    "%load_ext autoreload\n",
    "%autoreload 2"
   ]
  },
  {
   "cell_type": "markdown",
   "metadata": {},
   "source": [
    "# Serial Position Curve"
   ]
  },
  {
   "cell_type": "markdown",
   "metadata": {},
   "source": [
    "The **serial position effect** refers to the tendency to better recall items from the beginning and end of a list, with poorer recall for middle items. It can be measured using a free recall task, where participants study a list and then recall items in any order. The resulting **serial position curve** plots recall probability by study position, capturing this characteristic pattern."
   ]
  },
  {
   "cell_type": "code",
   "execution_count": null,
   "metadata": {},
   "outputs": [],
   "source": [
    "# | export\n",
    "\n",
    "import jax.numpy as jnp\n",
    "from jax import vmap, jit\n",
    "\n",
    "from typing import Optional, Sequence\n",
    "from jaxcmr.typing import Array, Float, Integer, Bool\n",
    "from jaxcmr.experimental.repetition import all_study_positions\n",
    "from jaxcmr.experimental.plotting import init_plot, plot_data, set_plot_labels\n",
    "from jaxcmr.helpers import apply_by_subject, find_max_list_length\n",
    "\n",
    "from matplotlib.axes import Axes\n",
    "from matplotlib import rcParams  # type: ignore\n"
   ]
  },
  {
   "cell_type": "markdown",
   "metadata": {},
   "source": [
    "## Simple Case: When Study Lists are Uniform\n",
    "With a 2-D `recalls` array tracking trial by recall position array of recalled items where non-zero values indicate the study position of the recalled item, the serial position curve can be calculated by tabulating the frequency of each non-zero value across trials then dividing by the number of trials:"
   ]
  },
  {
   "cell_type": "code",
   "execution_count": null,
   "metadata": {},
   "outputs": [],
   "source": [
    "# | exports\n",
    "\n",
    "def fixed_pres_spc(\n",
    "    recalls: Integer[Array, \" trial_count recall_positions\"], list_length: int\n",
    ") -> Float[Array, \" study_positions\"]:\n",
    "    \"\"\"Returns recall rate as a function of study position, assuming uniform study lists.\n",
    "\n",
    "    Args:\n",
    "        recalls: trial by recall position array of recalled items. 1-indexed; 0 for no recall.\n",
    "        list_length: the length of the study list.\n",
    "    \"\"\"\n",
    "    return jnp.bincount(recalls.flatten(), length=list_length + 1)[1:] / len(recalls)"
   ]
  },
  {
   "cell_type": "markdown",
   "metadata": {},
   "source": [
    "We maintain this specialized implementation for time-sensitive use cases and demonstration purposes."
   ]
  },
  {
   "cell_type": "markdown",
   "metadata": {},
   "source": [
    "## Complex Case: Item Repetitions\n",
    "\n",
    "If items can be repeated within the same study list, values in our 2-D `recalls` can only indicate one of the study positions of the recalled item.\n",
    "\n",
    "To account for this, we additionally use a 2-D `presentations` array tracking trial by study position for presented items.\n",
    "A helper function `all_study_positions` is mapped over the `recalls` array to create a 3-D array of study positions for each recalled item, where the first dimension is the trial, the second dimension is the recall position, and the third dimension is the study position.\n",
    "This allows us to calculate the serial position curve by tabulating the frequency of each study position across trials and recall positions, then dividing by the number of trials and the maximum number of item repetitions.\n",
    "\n",
    "The resulting serial position curve counts recalls of items with multiple study positions as a single recall of *all* of those study positions. This function works even for study lists without repetitions, but it is less efficient than the simple case."
   ]
  },
  {
   "cell_type": "code",
   "execution_count": null,
   "metadata": {},
   "outputs": [],
   "source": [
    "# | exports\n",
    "\n",
    "def spc(\n",
    "    recalls: Integer[Array, \" trial_count recall_positions\"],\n",
    "    presentations: Integer[Array, \" trial_count study_positions\"],\n",
    "    list_length: int,\n",
    "    size: int = 3,\n",
    ") -> Float[Array, \" study_positions\"]:\n",
    "    \"\"\"Returns recall rate as a function of study position.\n",
    "\n",
    "    Args:\n",
    "        recalls: trial by recall position array of recalled items. 1-indexed; 0 for no recall.\n",
    "        presentations: trial by study position array of presented items. 1-indexed.\n",
    "        list_length: the length of the study list.\n",
    "        size: maximum number of study positions an item can be presented at.\n",
    "    \"\"\"\n",
    "    expanded_recalls = vmap(\n",
    "        vmap(all_study_positions, in_axes=(0, None, None)), in_axes=(0, 0, None)\n",
    "    )(recalls, presentations, size)\n",
    "\n",
    "    counts = jnp.bincount(expanded_recalls.flatten(), length=list_length + 1)[1:]\n",
    "    return counts / len(expanded_recalls)"
   ]
  },
  {
   "cell_type": "markdown",
   "metadata": {},
   "source": [
    "## Plotting the Serial Position Curve\n",
    "The `plot_spc` function produces a simple line plot for the SPC across multiple datasets and/or trial masks."
   ]
  },
  {
   "cell_type": "code",
   "execution_count": null,
   "metadata": {},
   "outputs": [],
   "source": [
    "#| exports\n",
    "\n",
    "def plot_spc(\n",
    "    datasets: Sequence[dict[str, jnp.ndarray]] | dict[str, jnp.ndarray],\n",
    "    trial_masks: Sequence[Bool[Array, \" trial_count\"]] | Bool[Array, \" trial_count\"],\n",
    "    distances: Optional[Float[Array, \"word_count word_count\"]] = None,\n",
    "    color_cycle: Optional[list[str]] = None,\n",
    "    labels: Optional[Sequence[str]] = None,\n",
    "    contrast_name: Optional[str] = None,\n",
    "    axis: Optional[Axes] = None,\n",
    "    size: int = 3,\n",
    ") -> Axes:\n",
    "    \"\"\"Returns Axes object with plotted serial position curve for datasets and trial masks.\n",
    "\n",
    "    Args:\n",
    "        datasets: Datasets containing trial data to be plotted.\n",
    "        trial_masks: Masks to filter trials in datasets.\n",
    "        color_cycle: List of colors for plotting each dataset.\n",
    "        distances: Unused, included for compatibility with other plotting functions.\n",
    "        labels: Names for each dataset for legend, optional.\n",
    "        contrast_name: Name of contrast for legend labeling, optional.\n",
    "        axis: Existing matplotlib Axes to plot on, optional.\n",
    "        size: Maximum number of study positions an item can be presented at.\n",
    "    \"\"\"\n",
    "    axis = init_plot(axis)\n",
    "\n",
    "    if color_cycle is None:\n",
    "        color_cycle = [each[\"color\"] for each in rcParams[\"axes.prop_cycle\"]]\n",
    "\n",
    "    if labels is None:\n",
    "        labels = [\"\"] * len(datasets)\n",
    "\n",
    "    if isinstance(datasets, dict):\n",
    "        datasets = [datasets]\n",
    "\n",
    "    if isinstance(trial_masks, jnp.ndarray):\n",
    "        trial_masks = [trial_masks]\n",
    "\n",
    "    max_list_length = find_max_list_length(datasets, trial_masks)\n",
    "    for data_index, data in enumerate(datasets):\n",
    "        subject_values = jnp.vstack(\n",
    "            apply_by_subject(\n",
    "                data,\n",
    "                trial_masks[data_index],\n",
    "                jit(spc, static_argnames=(\"size\", \"list_length\")),\n",
    "                size,\n",
    "            )\n",
    "        )\n",
    "\n",
    "        color = color_cycle.pop(0)\n",
    "        plot_data(\n",
    "            axis,\n",
    "            jnp.arange(max_list_length, dtype=int) + 1,\n",
    "            subject_values,\n",
    "            labels[data_index],\n",
    "            color,\n",
    "        )\n",
    "\n",
    "    set_plot_labels(axis, \"Study Position\", \"Recall Rate\", contrast_name)\n",
    "    return axis"
   ]
  },
  {
   "cell_type": "markdown",
   "metadata": {},
   "source": [
    "## Tests"
   ]
  },
  {
   "cell_type": "markdown",
   "metadata": {},
   "source": [
    "### Equivalent Outputs For Uniform Study Lists"
   ]
  },
  {
   "cell_type": "markdown",
   "metadata": {},
   "source": [
    "When study lists are fixed, the two implementations should produce the same results. We will confirm this by comparing the results of the two implementations for a fixed study list."
   ]
  },
  {
   "cell_type": "code",
   "execution_count": null,
   "metadata": {},
   "outputs": [
    {
     "data": {
      "text/plain": [
       "Array([0.5, 0.5, 0.5, 0.5, 0.5, 0.5, 0.5, 0.5], dtype=float32)"
      ]
     },
     "execution_count": null,
     "metadata": {},
     "output_type": "execute_result"
    }
   ],
   "source": [
    "presentation = jnp.array([[1, 2, 3, 4, 5, 6, 7, 8], [1, 2, 3, 4, 5, 6, 7, 8]])\n",
    "trial = jnp.array([[8, 7, 1, 2, 3, 5, 6, 4, 0], jnp.zeros(9, dtype=int)])\n",
    "true_spc = jnp.array([0.5, 0.5, 0.5, 0.5, 0.5, 0.5, 0.5, 0.5])\n",
    "list_length = presentation.shape[1]\n",
    "\n",
    "assert jnp.allclose(spc(trial, presentation, list_length), true_spc)\n",
    "assert jnp.allclose(fixed_pres_spc(trial, list_length), true_spc)\n",
    "fixed_pres_spc(trial, list_length)"
   ]
  },
  {
   "cell_type": "markdown",
   "metadata": {},
   "source": [
    "### Insensitivity to Zero Padding"
   ]
  },
  {
   "cell_type": "markdown",
   "metadata": {},
   "source": [
    "Padding either presentation or trial with 0s should not change the result."
   ]
  },
  {
   "cell_type": "code",
   "execution_count": null,
   "metadata": {},
   "outputs": [
    {
     "data": {
      "text/plain": [
       "Array([1., 1., 1., 1., 1., 1., 1., 1., 1.], dtype=float32)"
      ]
     },
     "execution_count": null,
     "metadata": {},
     "output_type": "execute_result"
    }
   ],
   "source": [
    "# new example where item 8 is presented twice and recalled first\n",
    "presentation = jnp.array([[1, 2, 3, 4, 5, 6, 7, 8, 8, 0]])\n",
    "trial = jnp.array([[8, 7, 1, 2, 3, 5, 6, 4, 0]])\n",
    "\n",
    "assert jnp.allclose(\n",
    "    spc(trial, presentation, 9),\n",
    "    spc(trial[:, :-1], presentation[:, :-1], 9),\n",
    ")\n",
    "\n",
    "spc(trial, presentation, 9)"
   ]
  },
  {
   "cell_type": "markdown",
   "metadata": {},
   "source": [
    "### Sensitivity to Item Repetitions"
   ]
  },
  {
   "cell_type": "markdown",
   "metadata": {},
   "source": [
    "The resulting serial position curve counts recalls of items with multiple study positions as a single recall of *all* of those study positions."
   ]
  },
  {
   "cell_type": "code",
   "execution_count": null,
   "metadata": {},
   "outputs": [
    {
     "data": {
      "text/plain": [
       "Array([1., 1., 1., 1., 1.], dtype=float32)"
      ]
     },
     "execution_count": null,
     "metadata": {},
     "output_type": "execute_result"
    }
   ],
   "source": [
    "presentation = jnp.array([[1, 2, 3, 4, 4]])\n",
    "trial = jnp.array([[1, 2, 3, 4]])\n",
    "\n",
    "assert jnp.allclose(\n",
    "    spc(trial, presentation, 5),\n",
    "    jnp.array([1., 1., 1., 1., 1.]),\n",
    ")\n",
    "\n",
    "spc(trial, presentation, 5)"
   ]
  },
  {
   "cell_type": "markdown",
   "metadata": {},
   "source": [
    "## Examples"
   ]
  },
  {
   "cell_type": "markdown",
   "metadata": {},
   "source": [
    "The output of our `spc` function is a vector of length equal to the number of study positions, with each element representing the probability of recalling an item from that position. The function itself can be readily transformed with `jax`'s functional transformations, such as `jit` or `vmap`, to improve performance for larger datasets.\n",
    "\n",
    "Our plotting function `plot_spc` takes this vector and creates a line plot, with the x-axis representing the study positions and the y-axis representing the recall rates."
   ]
  },
  {
   "cell_type": "code",
   "execution_count": null,
   "metadata": {},
   "outputs": [],
   "source": [
    "from jaxcmr.helpers import generate_trial_mask, load_data, find_project_root\n",
    "import os"
   ]
  },
  {
   "cell_type": "markdown",
   "metadata": {},
   "source": [
    "Uniform study lists case:"
   ]
  },
  {
   "cell_type": "code",
   "execution_count": null,
   "metadata": {},
   "outputs": [
    {
     "data": {
      "text/plain": [
       "Array([0.6428572 , 0.56904763, 0.50476193, 0.45238096, 0.40952381,\n",
       "       0.3857143 , 0.35000002, 0.3357143 , 0.3357143 , 0.3       ,\n",
       "       0.32380953, 0.3261905 , 0.3261905 , 0.32380953, 0.29761904,\n",
       "       0.3119048 , 0.32380953, 0.29761904, 0.27857143, 0.27142859,\n",
       "       0.2904762 , 0.28333333, 0.27857143, 0.32857144, 0.2809524 ,\n",
       "       0.3309524 , 0.32857144, 0.3166667 , 0.3261905 , 0.33809525,\n",
       "       0.37380955, 0.32380953, 0.36190477, 0.3404762 , 0.35952383,\n",
       "       0.37619048, 0.3904762 , 0.42380953, 0.41428572, 0.34523812],      dtype=float32)"
      ]
     },
     "execution_count": null,
     "metadata": {},
     "output_type": "execute_result"
    },
    {
     "data": {
      "image/png": "[encoded data removed]",
      "text/plain": [
       "<Figure size 640x480 with 1 Axes>"
      ]
     },
     "metadata": {},
     "output_type": "display_data"
    }
   ],
   "source": [
    "# parameters\n",
    "run_tag = \"SPC\"\n",
    "data_name = \"LohnasKahana2014\"\n",
    "data_query = \"data['list_type'] == 1\"\n",
    "data_path =  os.path.join(find_project_root(), \"data/LohnasKahana2014.h5\")\n",
    "\n",
    "# set up data structures\n",
    "data = load_data(data_path)\n",
    "recalls = data[\"recalls\"]\n",
    "presentations = data[\"pres_itemnos\"]\n",
    "list_length = data[\"listLength\"][0].item()\n",
    "trial_mask = generate_trial_mask(data, data_query)\n",
    "\n",
    "# plot SPC\n",
    "plot_spc(data, generate_trial_mask(data, data_query))\n",
    "jit(spc, static_argnames=(\"size\", \"list_length\"))(\n",
    "    recalls[trial_mask], presentations[trial_mask], list_length\n",
    ")"
   ]
  },
  {
   "cell_type": "markdown",
   "metadata": {},
   "source": [
    "Study lists where every item is repeated once immediately after its first presentation. In this example, each pair of successive study positions in the plot should produce the same recall rate."
   ]
  },
  {
   "cell_type": "code",
   "execution_count": null,
   "metadata": {},
   "outputs": [
    {
     "data": {
      "text/plain": [
       "Array([0.7976191 , 0.7976191 , 0.72380954, 0.72380954, 0.65000004,\n",
       "       0.65000004, 0.62857145, 0.62857145, 0.6047619 , 0.6047619 ,\n",
       "       0.57857144, 0.57857144, 0.55714285, 0.55714285, 0.56666666,\n",
       "       0.56666666, 0.54285717, 0.54285717, 0.5619048 , 0.5619048 ,\n",
       "       0.5595238 , 0.5595238 , 0.5595238 , 0.5595238 , 0.552381  ,\n",
       "       0.552381  , 0.54761904, 0.54761904, 0.56904763, 0.56904763,\n",
       "       0.5619048 , 0.5619048 , 0.6047619 , 0.6047619 , 0.5928572 ,\n",
       "       0.5928572 , 0.5952381 , 0.5952381 , 0.5928572 , 0.5928572 ],      dtype=float32)"
      ]
     },
     "execution_count": null,
     "metadata": {},
     "output_type": "execute_result"
    },
    {
     "data": {
      "image/png": "[encoded data removed]",
      "text/plain": [
       "<Figure size 640x480 with 1 Axes>"
      ]
     },
     "metadata": {},
     "output_type": "display_data"
    }
   ],
   "source": [
    "# parameters\n",
    "run_tag = \"SPC\"\n",
    "data_name = \"LohnasKahana2014\"\n",
    "data_query = \"data['list_type'] == 2\"\n",
    "data_path =  os.path.join(find_project_root(), \"data/LohnasKahana2014.h5\")\n",
    "\n",
    "# set up data structures\n",
    "data = load_data(data_path)\n",
    "recalls = data[\"recalls\"]\n",
    "presentations = data[\"pres_itemnos\"]\n",
    "list_length = data[\"listLength\"][0].item()\n",
    "trial_mask = generate_trial_mask(data, data_query)\n",
    "\n",
    "# plot SPC\n",
    "plot_spc(data, generate_trial_mask(data, data_query))\n",
    "jit(spc, static_argnames=(\"size\", \"list_length\"))(\n",
    "    recalls[trial_mask], presentations[trial_mask], list_length\n",
    ")"
   ]
  }
 ],
 "metadata": {
  "kernelspec": {
   "display_name": ".venv",
   "language": "python",
   "name": "python3"
  },
  "language_info": {
   "name": "python",
   "version": "3.12.8"
  }
 },
 "nbformat": 4,
 "nbformat_minor": 2
}
