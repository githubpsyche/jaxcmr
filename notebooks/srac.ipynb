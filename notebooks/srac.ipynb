{
 "cells": [
  {
   "cell_type": "code",
   "execution_count": null,
   "id": "10a051d5",
   "metadata": {},
   "outputs": [],
   "source": [
    "# | default_exp analyses.srac\n",
    "%load_ext autoreload\n",
    "%autoreload 2"
   ]
  },
  {
   "cell_type": "markdown",
   "id": "bd39e37d",
   "metadata": {},
   "source": [
    "# Serial Recall Accuracy Curve\n",
    "\n",
    "In **serial recall** tasks, participants study a list of items in a specific order and must then recall them **in that same order**. Unlike *free recall* (where recall order is irrelevant), serial recall scoring considers a response correct only if the item is produced in its **original study position**.\n",
    "\n",
    "The **Serial Recall Accuracy Curve (SRAC)** plots the probability of correctly recalling each list position—specifically, the fraction of trials on which the item studied at position *i* was correctly recalled **in** position *i*."
   ]
  },
  {
   "cell_type": "code",
   "execution_count": null,
   "id": "bce9d0be",
   "metadata": {},
   "outputs": [],
   "source": [
    "# | export\n",
    "\n",
    "from typing import Optional, Sequence\n",
    "\n",
    "import jax.numpy as jnp\n",
    "from jax import jit, vmap\n",
    "from matplotlib import rcParams  # type: ignore\n",
    "from matplotlib.axes import Axes\n",
    "import matplotlib.pyplot as plt\n",
    "\n",
    "from jaxcmr.plotting import init_plot, plot_data, set_plot_labels\n",
    "\n",
    "from jaxcmr.helpers import apply_by_subject, find_max_list_length\n",
    "from jaxcmr.typing import Array, Bool, Float, Integer, RecallDataset"
   ]
  },
  {
   "cell_type": "markdown",
   "id": "4c2b4a48",
   "metadata": {},
   "source": [
    "## Simple Case -- Uniform Lists\n",
    "\n",
    "When participants study the same list of items on every trial (e.g., always items `1, 2, 3, ...` in the same order), analyzing serial recall accuracy is straightforward.\n",
    "\n",
    "We start with a 2D array called `recalls`, which stores the recalled items for each trial. Each row of the array is a trial, and each column represents a recall position. For example, `recalls[2, 4]` is the item that a participant recalled in position 4 of trial 2. If a participant doesn't recall anything in a given position, we put a `0`.\n",
    "\n",
    "In **serial recall** scoring, we mark a recall as correct only if the participant recalled the exact item that appeared in that same position during study. For uniform lists, this simply means checking if the recalled item matches the item's original study position (e.g., at position 1, item `1` is correct; at position 2, item `2` is correct, and so on).\n",
    "\n",
    "We calculate accuracy for each position by finding out how often participants got that position correct across all trials. This gives us a \"serial recall accuracy curve,\" showing which positions in the list people remember best."
   ]
  },
  {
   "cell_type": "code",
   "execution_count": null,
   "id": "51b11480",
   "metadata": {},
   "outputs": [],
   "source": [
    "# | exports\n",
    "\n",
    "\n",
    "def fixed_pres_srac(\n",
    "    recalls: Integer[Array, \" trial_count recall_positions\"], list_length: int\n",
    ") -> Float[Array, \" study_positions\"]:\n",
    "    \"\"\"\n",
    "    Returns position-specific recall accuracy, assuming uniform study lists.\n",
    "\n",
    "    Args:\n",
    "        recalls: trial by recall position array of recalled items. 1-indexed; 0 for no recall.\n",
    "        list_length: the number of studied items in each trial.\n",
    "    \"\"\"\n",
    "    return (recalls[:, :list_length] == jnp.arange(1, list_length + 1)).mean(axis=0)"
   ]
  },
  {
   "cell_type": "markdown",
   "id": "a6a4695b",
   "metadata": {},
   "source": [
    "We maintain this specialized implementation for time-sensitive use cases and demonstration purposes."
   ]
  },
  {
   "cell_type": "markdown",
   "id": "1a05048d",
   "metadata": {},
   "source": [
    "## Serial Recall Accuracy Curve (Arbitrary or Repeated Lists)\n",
    "\n",
    "Sometimes participants study different items on each trial, or the same item might appear multiple times within a trial. To handle these cases, we use two arrays:\n",
    "\n",
    "- `presentations`: Each row corresponds to a trial, and each column indicates which item was presented in each study position.\n",
    "- `recalls`: Each row corresponds to a trial, and each column shows the item recalled by the participant in each output position.\n",
    "\n",
    "In serial recall, we mark a recall as correct only if the recalled item matches the exact item presented in the same position during study (`recalls[n, i] == presentations[n, i]`). We then calculate the accuracy at each position by determining how often participants correctly recalled that position across all trials. This gives us the **Serial Recall Accuracy Curve (SRAC)**, showing recall accuracy by position, even when lists differ or contain repetitions."
   ]
  },
  {
   "cell_type": "code",
   "execution_count": null,
   "id": "5c78dd7c",
   "metadata": {},
   "outputs": [],
   "source": [
    "# | exports\n",
    "\n",
    "def srac_one_trial(\n",
    "    presentations: jnp.ndarray,  # [L_pres]\n",
    "    recalls:       jnp.ndarray   # [L_out]\n",
    ") -> jnp.ndarray:               # returns [L_out] boolean\n",
    "    L_out = recalls.shape[0]\n",
    "\n",
    "    # 1. Pad (or truncate) presentations to exactly L_out, filling extras with -1\n",
    "    pad_len = L_out - presentations.shape[0]\n",
    "    if pad_len > 0:\n",
    "        pres_ext = jnp.concatenate([\n",
    "            presentations,\n",
    "            jnp.full((pad_len,), -1, dtype=presentations.dtype)\n",
    "        ])\n",
    "    else:\n",
    "        pres_ext = presentations[:L_out]\n",
    "\n",
    "    # 2. Masks\n",
    "    valid_output = pres_ext > 0         # only true where a real item was presented\n",
    "    valid_recall = recalls > 0          # only true where they actually recalled\n",
    "\n",
    "    # 3. What was recalled? clamp indices into [0, L_out-1]\n",
    "    idx = jnp.clip(recalls - 1, 0, L_out - 1)\n",
    "    recalled = jnp.where(valid_recall, pres_ext[idx], -1)\n",
    "\n",
    "    # 4. Correct if recalled==expected *and* both masks hold\n",
    "    return (recalled == pres_ext) & valid_output & valid_recall\n",
    "\n",
    "\n",
    "def srac(\n",
    "    recalls:       jnp.ndarray,  # [n_trials, L_out]\n",
    "    presentations: jnp.ndarray,  # [n_trials, L_pres]\n",
    "    list_length:   Optional[int|Sequence[int]] = None    # unused\n",
    ") -> jnp.ndarray:               # returns [L_out] float32\n",
    "    n_trials, L_out = recalls.shape\n",
    "\n",
    "    # per-trial correctness\n",
    "    trial_acc = vmap(srac_one_trial, in_axes=(0, 0))(presentations, recalls)\n",
    "    # per-trial valid‑output masks\n",
    "    def trial_valid(pres):\n",
    "        pad_len = L_out - pres.shape[0]\n",
    "        pres_ext = jnp.concatenate([\n",
    "            pres,\n",
    "            jnp.full((pad_len,), -1, dtype=pres.dtype)\n",
    "        ]) if pad_len>0 else pres[:L_out]\n",
    "        return pres_ext > 0\n",
    "\n",
    "    trial_valid_mask = vmap(trial_valid)(presentations)\n",
    "\n",
    "    total_correct = trial_acc.sum(axis=0)\n",
    "    total_valid   = trial_valid_mask.sum(axis=0)\n",
    "\n",
    "    return jnp.where(total_valid > 0,\n",
    "                     total_correct / total_valid,\n",
    "                     0.0)\n"
   ]
  },
  {
   "cell_type": "markdown",
   "id": "61950bb6",
   "metadata": {},
   "source": [
    "## Plotting the Accurate Serial Position Curve\n",
    "\n",
    "We can use a function analogous to our free recall plotting routine, but here it applies the `srac` or `fixed_pres_srac` under the hood. We'll call `srac` by default."
   ]
  },
  {
   "cell_type": "code",
   "execution_count": null,
   "id": "3750c341",
   "metadata": {},
   "outputs": [],
   "source": [
    "# | exports\n",
    "\n",
    "\n",
    "def plot_srac(\n",
    "    datasets: Sequence[RecallDataset] | RecallDataset,\n",
    "    trial_masks: Sequence[Bool[Array, \" trial_count\"]] | Bool[Array, \" trial_count\"],\n",
    "    color_cycle: Optional[list[str]] = None,\n",
    "    labels: Optional[Sequence[str]] = None,\n",
    "    contrast_name: Optional[str] = None,\n",
    "    axis: Optional[Axes] = None,\n",
    ") -> Axes:\n",
    "    \"\"\"\n",
    "    Plots serial recall accuracy curve for one or more datasets.\n",
    "\n",
    "    Args:\n",
    "        datasets: Datasets containing trial data to be plotted.\n",
    "        trial_masks: Masks to filter trials in datasets.\n",
    "        color_cycle: List of colors for plotting each dataset.\n",
    "        distances: Unused, included for compatibility with other plotting functions.\n",
    "        labels: Names for each dataset for legend, optional.\n",
    "        contrast_name: Name of contrast for legend labeling, optional.\n",
    "        axis: Existing matplotlib Axes to plot on, optional.\n",
    "\n",
    "    Returns:\n",
    "        The matplotlib Axes object containing the plot.\n",
    "    \"\"\"\n",
    "    axis = init_plot(axis)\n",
    "\n",
    "    if color_cycle is None:\n",
    "        color_cycle = [c[\"color\"] for c in rcParams[\"axes.prop_cycle\"]]\n",
    "\n",
    "    if isinstance(datasets, dict):\n",
    "        datasets = [datasets]\n",
    "\n",
    "    if isinstance(trial_masks, jnp.ndarray):\n",
    "        trial_masks = [trial_masks]\n",
    "\n",
    "    if labels is None:\n",
    "        labels = [\"\" for _ in datasets]\n",
    "\n",
    "    # Identify the largest list length across datasets, so we can plot consistently\n",
    "    max_list_length = find_max_list_length(datasets, trial_masks)\n",
    "\n",
    "    for data_index, data_dict in enumerate(datasets):\n",
    "        # We'll apply the accurate_spc function to each subject, then stack\n",
    "        subject_values = jnp.vstack(\n",
    "            apply_by_subject(\n",
    "                data_dict,\n",
    "                trial_masks[data_index],\n",
    "                jit(srac),\n",
    "            )\n",
    "        )\n",
    "\n",
    "        # Plot\n",
    "        color = color_cycle.pop(0)\n",
    "        subject_values = subject_values[:, :max_list_length]\n",
    "        xvals = jnp.arange(max_list_length) + 1\n",
    "        plot_data(axis, xvals, subject_values, labels[data_index], color)\n",
    "\n",
    "    set_plot_labels(axis, \"Study Position\", \"Serial Recall Accuracy\", contrast_name)\n",
    "    return axis"
   ]
  },
  {
   "cell_type": "markdown",
   "id": "c34a82aa",
   "metadata": {},
   "source": [
    "## Tests"
   ]
  },
  {
   "cell_type": "markdown",
   "id": "78d74e8b",
   "metadata": {},
   "source": [
    "### Exact Recall (Uniform Lists)\n",
    "\n",
    "If the list is `[1, 2, 3, 4]` and the participant recalls `[1, 2, 3, 4]` in order, every position is correct."
   ]
  },
  {
   "cell_type": "code",
   "execution_count": null,
   "id": "c2a5dac4",
   "metadata": {},
   "outputs": [],
   "source": [
    "# some trivial test\n",
    "test_recalls = jnp.array([[1, 2, 3, 4], [1, 2, 3, 0]])  # second trial misses 4\n",
    "list_len = 4\n",
    "spc_res = fixed_pres_srac(test_recalls, list_len)\n",
    "\n",
    "assert jnp.allclose(spc_res, jnp.array([1.0, 1.0, 1.0, 0.5]))"
   ]
  },
  {
   "cell_type": "markdown",
   "id": "56fb8246",
   "metadata": {},
   "source": [
    "### Handling Item Repetitions"
   ]
  },
  {
   "cell_type": "code",
   "execution_count": null,
   "id": "09b6720c",
   "metadata": {},
   "outputs": [],
   "source": [
    "def test_srac_all_correct():\n",
    "    presentations = jnp.array([\n",
    "        [1, 2, 3]\n",
    "    ])\n",
    "    recalls = jnp.array([\n",
    "        [1, 2, 3]  # correct: recalls[0] → presentations[0], etc.\n",
    "    ])\n",
    "    expected = jnp.array([1.0, 1.0, 1.0])\n",
    "    result = srac(recalls, presentations, list_length=3)\n",
    "    assert jnp.allclose(result, expected), result\n",
    "\n",
    "def test_srac_with_repetition():\n",
    "    presentations = jnp.array([\n",
    "        [1, 2, 1]\n",
    "    ])\n",
    "    recalls = jnp.array([\n",
    "        [1, 2, 1]  # recall presentations[0], presentations[1], presentations[0]\n",
    "    ])\n",
    "    # study pos 0: item 1, recalled item 1 → correct\n",
    "    # study pos 1: item 2, recalled item 2 → correct\n",
    "    # study pos 2: item 1, recalled item 1 (again) → correct\n",
    "    expected = jnp.array([1.0, 1.0, 1.0])\n",
    "    result = srac(recalls, presentations, list_length=3)\n",
    "    assert jnp.allclose(result, expected), result\n",
    "\n",
    "def test_srac_with_no_recalls():\n",
    "    presentations = jnp.array([\n",
    "        [1, 2, 3]\n",
    "    ])\n",
    "    recalls = jnp.array([\n",
    "        [0, 0, 0]  # no recalls\n",
    "    ])\n",
    "    expected = jnp.array([0.0, 0.0, 0.0])\n",
    "    result = srac(recalls, presentations, list_length=3)\n",
    "    assert jnp.allclose(result, expected), result\n",
    "\n",
    "def test_srac_with_some_missing_and_errors():\n",
    "    presentations = jnp.array([\n",
    "        [1, 1, 2, 2]\n",
    "    ])\n",
    "    recalls = jnp.array([\n",
    "        [1, 1, 3, 0]\n",
    "    ])\n",
    "    expected = jnp.array([1.0, 1.0, 1.0, 0])\n",
    "    result = srac(recalls, presentations, list_length=4)\n",
    "    assert jnp.allclose(result, expected), result\n",
    "\n",
    "def test_srac_deflates_accuracy_by_including_padded_positions():\n",
    "    presentations = jnp.array([\n",
    "        [1, 2, 0],  # Trial 0: list length 2\n",
    "        [1, 2, 3],  # Trial 1: list length 3\n",
    "    ])\n",
    "    recalls = jnp.array([\n",
    "        [1, 2, 0],  # Trial 0: correct\n",
    "        [1, 2, 3],  # Trial 1: correct\n",
    "    ])\n",
    "    list_lengths = [2, 3]\n",
    "\n",
    "    # At position 2:\n",
    "    # - Trial 0: padded, should NOT contribute\n",
    "    # - Trial 1: correct recall → should yield 1.0\n",
    "\n",
    "    # If code uses mean over all trials, it computes (0 + 1)/2 = 0.5 ← WRONG\n",
    "    # Correct behavior: (1)/1 = 1.0\n",
    "    expected = jnp.array([1.0, 1.0, 1.0])  # strict SRAC: don't penalize for padding\n",
    "\n",
    "    result = srac(presentations, recalls, list_lengths)\n",
    "    assert jnp.allclose(result, expected), f\"Expected {expected}, got {result}\"\n",
    "\n",
    "test_srac_all_correct()\n",
    "test_srac_with_repetition()\n",
    "test_srac_with_no_recalls()\n",
    "test_srac_with_some_missing_and_errors()\n",
    "test_srac_deflates_accuracy_by_including_padded_positions()"
   ]
  },
  {
   "cell_type": "markdown",
   "id": "e660106c",
   "metadata": {},
   "source": [
    "### Variable List Length"
   ]
  },
  {
   "cell_type": "code",
   "execution_count": null,
   "id": "c5b20406",
   "metadata": {},
   "outputs": [],
   "source": [
    "def test_srac_incorrectly_counts_padded_position_as_valid():\n",
    "    presentations = jnp.array([\n",
    "        [1, 2, 0],  # true length 2; position 2 is padding\n",
    "        [1, 3, 2],  # full length 3\n",
    "    ])\n",
    "    recalls = jnp.array([\n",
    "        [1, 2, 3],  # recall[0,2] = 3 → index 2 → gets 0 (padding!)\n",
    "        [1, 2, 3],\n",
    "    ])\n",
    "    list_lengths = [2, 3]\n",
    "\n",
    "    # Trial 0: recall[2] = 3 → study pos 2 → item = 0 (padding)\n",
    "    # But output pos 2 is also 0 (padding), so it looks like a correct match under current logic\n",
    "    # This is wrong: trial 0, pos 2 should not count at all\n",
    "    # Trial 1, pos 2: recall[2] = 3 → presentations[2] = 2 → correct\n",
    "\n",
    "    # So expected:\n",
    "    # pos 0: 1 == 1, 1 == 1 → 2/2 = 1.0\n",
    "    # pos 1: 2 == 2, 2 == 3 → 1/2 = 0.5\n",
    "    # pos 2: X      , 3 == 2 → 0/1 = 0.0\n",
    "    expected = jnp.array([1.0, 0.5, 0.0])\n",
    "\n",
    "    result = srac(presentations, recalls, list_lengths)\n",
    "    assert jnp.allclose(result, expected), f\"Expected {expected}, got {result}\"\n",
    "\n",
    "test_srac_incorrectly_counts_padded_position_as_valid()"
   ]
  },
  {
   "cell_type": "markdown",
   "id": "2fe57a7c",
   "metadata": {},
   "source": [
    "## Examples\n",
    "\n",
    "With real data, we would typically have a dictionary containing:\n",
    "- `recalls`: a [trials x possibly_many_output_positions] array\n",
    "- `pres_itemnos`: a [trials x list_length] array\n",
    "\n",
    "Then we can use the provided plotting function to visualize position-wise accuracy for different conditions."
   ]
  },
  {
   "cell_type": "code",
   "execution_count": null,
   "id": "32ea020c",
   "metadata": {},
   "outputs": [],
   "source": [
    "from jaxcmr.helpers import generate_trial_mask, load_data, find_project_root\n",
    "import os"
   ]
  },
  {
   "cell_type": "code",
   "execution_count": null,
   "id": "e89c0cbe",
   "metadata": {},
   "outputs": [
    {
     "name": "stderr",
     "output_type": "stream",
     "text": [
      "/Users/jordangunn/jaxcmr/.venv/lib/python3.12/site-packages/scipy/stats/_resampling.py:147: RuntimeWarning: invalid value encountered in divide\n",
      "  a_hat = 1/6 * sum(nums) / sum(dens)**(3/2)\n",
      "/Users/jordangunn/jaxcmr/.venv/lib/python3.12/site-packages/scipy/_lib/_util.py:440: DegenerateDataWarning: The BCa confidence interval cannot be calculated. This problem is known to occur when the distribution is degenerate or the statistic is np.min.\n",
      "  return fun(*args, **kwargs)\n"
     ]
    },
    {
     "data": {
      "text/plain": [
       "Array([0.21666667, 0.16428572, 0.10476191, 0.07380953, 0.04761905,\n",
       "       0.0452381 , 0.02857143, 0.02142857, 0.03095238, 0.02380952,\n",
       "       0.02380952, 0.01904762, 0.01428571, 0.01190476, 0.01428571,\n",
       "       0.01428571, 0.01190476, 0.00714286, 0.0047619 , 0.00238095,\n",
       "       0.00952381, 0.0047619 , 0.00238095, 0.00714286, 0.        ,\n",
       "       0.00238095, 0.        , 0.        , 0.        , 0.        ,\n",
       "       0.        , 0.        , 0.        , 0.        , 0.        ,\n",
       "       0.        , 0.        , 0.        , 0.        , 0.        ],      dtype=float32)"
      ]
     },
     "execution_count": null,
     "metadata": {},
     "output_type": "execute_result"
    },
    {
     "data": {
      "image/png": "[encoded data removed]",
      "text/plain": [
       "<Figure size 640x480 with 1 Axes>"
      ]
     },
     "metadata": {},
     "output_type": "display_data"
    }
   ],
   "source": [
    "# parameters\n",
    "run_tag = \"SRAC\"\n",
    "data_query = \"data['list_type'] == 1\"\n",
    "data_path =  os.path.join(find_project_root(), \"data/LohnasKahana2014.h5\")\n",
    "\n",
    "# set up data structures\n",
    "data = load_data(data_path)\n",
    "arr = data[\"recalls\"]\n",
    "presentations = data[\"pres_itemnos\"]\n",
    "list_length = data[\"listLength\"][0].item()\n",
    "trial_mask = generate_trial_mask(data, data_query)\n",
    "\n",
    "# plot SPC\n",
    "plot_srac(data, generate_trial_mask(data, data_query))\n",
    "jit(srac)(\n",
    "    arr[trial_mask], presentations[trial_mask], list_length\n",
    ")"
   ]
  },
  {
   "cell_type": "code",
   "execution_count": null,
   "id": "f67a6ecc",
   "metadata": {},
   "outputs": [
    {
     "data": {
      "image/png": "[encoded data removed]",
      "text/plain": [
       "<Figure size 640x480 with 1 Axes>"
      ]
     },
     "metadata": {},
     "output_type": "display_data"
    }
   ],
   "source": [
    "# parameters\n",
    "run_tag = \"SRAC\"\n",
    "data_name = \"GordonRanschburg2021\"\n",
    "data_query = \"jnp.logical_and(data['condition'] == 1, data['lag'] != 4)\"\n",
    "# data_query = \"data['condition'] == 2\"\n",
    "data_path =  os.path.join(find_project_root(), \"data/GordonRanschburg2021.h5\")\n",
    "\n",
    "# set up data structures\n",
    "data = load_data(data_path)\n",
    "arr = data[\"recalls\"]\n",
    "presentations = data[\"pres_itemnos\"]\n",
    "list_length = data[\"listLength\"][0].item()\n",
    "trial_mask = generate_trial_mask(data, data_query)\n",
    "\n",
    "# plot SPC\n",
    "# plot_srac(data, generate_trial_mask(data, data_query))\n",
    "srac(\n",
    "    arr[trial_mask], presentations[trial_mask], list_length\n",
    ")\n",
    "plt.ylim(0, 1);"
   ]
  },
  {
   "cell_type": "code",
   "execution_count": null,
   "id": "0e0a8be2",
   "metadata": {},
   "outputs": [
    {
     "name": "stdout",
     "output_type": "stream",
     "text": [
      "data/KahanaJacobs2000.h5\n",
      "[0.75877196 0.6885965  0.6535088  0.55263156 0.39035088 0.3377193\n",
      " 0.19298245 0.18421052 0.15350877 0.10526316 0.0745614  0.0745614\n",
      " 0.0877193 ]\n"
     ]
    },
    {
     "data": {
      "image/png": "[encoded data removed]",
      "text/plain": [
       "<Figure size 640x480 with 1 Axes>"
      ]
     },
     "metadata": {},
     "output_type": "display_data"
    }
   ],
   "source": [
    "# parameters\n",
    "data_query = \"jnp.logical_and(jnp.logical_and(jnp.logical_and(data['recall_attempt'] == 1, data['repetitions'] == 0), data['session'] <= 2), data['listLength'] == 13)\"\n",
    "# redo data query just using recall_attempt <= 2\n",
    "run_tag = \"SRAC\"\n",
    "dataset_paths = ['data/KahanaJacobs2000.h5',\n",
    "  'fits/KahanaJacobs2000_WeirdCMR_full_best_of_3.h5',\n",
    "  'fits/KahanaJacobs2000_WeirdNoReinstateCMR_full_best_of_3.h5',\n",
    "  'fits/KahanaJacobs2000_WeirdPositionScaleCMR_full_best_of_3.h5',\n",
    "  'fits/KahanaJacobs2000_OutlistCMRDE_full_best_of_3.h5',\n",
    "  'fits/KahanaJacobs2000_WeirdDriftPositionScaleCMR_full_best_of_3.h5']\n",
    "\n",
    "first_data = load_data(os.path.join(find_project_root(), dataset_paths[0]))\n",
    "first_data_mask = generate_trial_mask(first_data, data_query)\n",
    "\n",
    "for data_path in dataset_paths[:1]:\n",
    "    print(data_path)\n",
    "\n",
    "    # set up data structures\n",
    "    data = load_data(os.path.join(find_project_root(), data_path))\n",
    "    arr = data[\"recalls\"]\n",
    "    presentations = data[\"pres_itemnos\"]\n",
    "    list_length = data[\"listLength\"][0].item()\n",
    "    trial_mask = generate_trial_mask(data, data_query)\n",
    "\n",
    "    # plot SPC\n",
    "    plot_srac([data, first_data], [trial_mask, first_data_mask], labels=[\"Model\", \"Data\"], contrast_name=\"source\")\n",
    "    print(jit(srac, static_argnames=(\"list_length\"))(\n",
    "        arr[trial_mask], presentations[trial_mask], list_length\n",
    "    ))\n",
    "    plt.ylim(0, 1)\n",
    "    plt.show()"
   ]
  }
 ],
 "metadata": {
  "jupytext": {
   "cell_metadata_filter": "-all",
   "main_language": "python",
   "notebook_metadata_filter": "-all"
  },
  "kernelspec": {
   "display_name": "python3",
   "language": "python",
   "name": "python3"
  }
 },
 "nbformat": 4,
 "nbformat_minor": 5
}
