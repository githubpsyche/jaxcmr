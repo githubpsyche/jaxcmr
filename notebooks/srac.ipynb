{
 "cells": [
  {
   "cell_type": "code",
   "execution_count": null,
   "id": "10a051d5",
   "metadata": {},
   "outputs": [],
   "source": [
    "# | default_exp accurate_spc\n",
    "%load_ext autoreload\n",
    "%autoreload 2"
   ]
  },
  {
   "cell_type": "markdown",
   "id": "bd39e37d",
   "metadata": {},
   "source": [
    "# Serial Recall Accuracy Curve\n",
    "\n",
    "In **serial recall** tasks, participants study a list of items in a specific order and must then recall them **in that same order**. Unlike *free recall* (where recall order is irrelevant), serial recall scoring considers a response correct only if the item is produced in its **original study position**.\n",
    "\n",
    "The **Serial Recall Accuracy Curve (SRAC)** plots the probability of correctly recalling each list position—specifically, the fraction of trials on which the item studied at position *i* was correctly recalled **in** position *i*."
   ]
  },
  {
   "cell_type": "code",
   "execution_count": null,
   "id": "bce9d0be",
   "metadata": {},
   "outputs": [],
   "source": [
    "# | export\n",
    "\n",
    "from typing import Optional, Sequence\n",
    "\n",
    "import jax.numpy as jnp\n",
    "from jax import jit\n",
    "from matplotlib import rcParams  # type: ignore\n",
    "from matplotlib.axes import Axes\n",
    "\n",
    "from jaxcmr.experimental.plotting import init_plot, plot_data, set_plot_labels\n",
    "from jaxcmr.helpers import apply_by_subject, find_max_list_length\n",
    "from jaxcmr.typing import Array, Bool, Float, Integer"
   ]
  },
  {
   "cell_type": "markdown",
   "id": "4c2b4a48",
   "metadata": {},
   "source": [
    "## Simple Case -- Uniform Lists\n",
    "\n",
    "When participants study the same list of items on every trial (e.g., always items `1, 2, 3, ...` in the same order), analyzing serial recall accuracy is straightforward.\n",
    "\n",
    "We start with a 2D array called `recalls`, which stores the recalled items for each trial. Each row of the array is a trial, and each column represents a recall position. For example, `recalls[2, 4]` is the item that a participant recalled in position 4 of trial 2. If a participant doesn't recall anything in a given position, we put a `0`.\n",
    "\n",
    "In **serial recall** scoring, we mark a recall as correct only if the participant recalled the exact item that appeared in that same position during study. For uniform lists, this simply means checking if the recalled item matches the item's original study position (e.g., at position 1, item `1` is correct; at position 2, item `2` is correct, and so on).\n",
    "\n",
    "We calculate accuracy for each position by finding out how often participants got that position correct across all trials. This gives us a \"serial recall accuracy curve,\" showing which positions in the list people remember best."
   ]
  },
  {
   "cell_type": "code",
   "execution_count": null,
   "id": "51b11480",
   "metadata": {},
   "outputs": [],
   "source": [
    "# | exports\n",
    "\n",
    "\n",
    "def fixed_pres_srac(\n",
    "    recalls: Integer[Array, \" trial_count recall_positions\"], list_length: int\n",
    ") -> Float[Array, \" study_positions\"]:\n",
    "    \"\"\"\n",
    "    Returns position-specific recall accuracy, assuming uniform study lists.\n",
    "\n",
    "    Args:\n",
    "        recalls: trial by recall position array of recalled items. 1-indexed; 0 for no recall.\n",
    "        list_length: the number of studied items in each trial.\n",
    "    \"\"\"\n",
    "    return (recalls[:, :list_length] == jnp.arange(1, list_length + 1)).mean(axis=0)"
   ]
  },
  {
   "cell_type": "markdown",
   "id": "a6a4695b",
   "metadata": {},
   "source": [
    "We maintain this specialized implementation for time-sensitive use cases and demonstration purposes."
   ]
  },
  {
   "cell_type": "markdown",
   "id": "1a05048d",
   "metadata": {},
   "source": [
    "## Serial Recall Accuracy Curve (Arbitrary or Repeated Lists)\n",
    "\n",
    "Sometimes participants study different items on each trial, or the same item might appear multiple times within a trial. To handle these cases, we use two arrays:\n",
    "\n",
    "- `presentations`: Each row corresponds to a trial, and each column indicates which item was presented in each study position.\n",
    "- `recalls`: Each row corresponds to a trial, and each column shows the item recalled by the participant in each output position.\n",
    "\n",
    "In serial recall, we mark a recall as correct only if the recalled item matches the exact item presented in the same position during study (`recalls[n, i] == presentations[n, i]`). We then calculate the accuracy at each position by determining how often participants correctly recalled that position across all trials. This gives us the **Serial Recall Accuracy Curve (SRAC)**, showing recall accuracy by position, even when lists differ or contain repetitions."
   ]
  },
  {
   "cell_type": "code",
   "execution_count": null,
   "id": "5c78dd7c",
   "metadata": {},
   "outputs": [],
   "source": [
    "# | exports\n",
    "\n",
    "def srac(\n",
    "    recalls: Integer[Array, \" trial_count recall_positions\"],\n",
    "    presentations: Integer[Array, \" trial_count study_positions\"],\n",
    "    list_length: int,\n",
    ") -> Float[Array, \" study_positions\"]:\n",
    "    \"\"\"\n",
    "    Returns position-specific recall accuracy for possibly non-uniform or repeated study lists.\n",
    "\n",
    "    Args:\n",
    "        recalls: trial by recall position array of recalled items. 1-indexed; 0 for no recall.\n",
    "        presentations: trial by study position array of presented items. 1-indexed.\n",
    "        list_length: the number of studied items in each trial.\n",
    "    \"\"\"\n",
    "    return (recalls[:, :list_length] == presentations[:, :list_length]).mean(axis=0)"
   ]
  },
  {
   "cell_type": "markdown",
   "id": "61950bb6",
   "metadata": {},
   "source": [
    "## Plotting the Accurate Serial Position Curve\n",
    "\n",
    "We can use a function analogous to our free recall plotting routine, but here it applies the `srac` or `fixed_pres_srac` under the hood. We'll call `srac` by default."
   ]
  },
  {
   "cell_type": "code",
   "execution_count": null,
   "id": "3750c341",
   "metadata": {},
   "outputs": [],
   "source": [
    "# | exports\n",
    "\n",
    "\n",
    "def plot_srac(\n",
    "    datasets: Sequence[dict[str, jnp.ndarray]] | dict[str, jnp.ndarray],\n",
    "    trial_masks: Sequence[Bool[Array, \" trial_count\"]] | Bool[Array, \" trial_count\"],\n",
    "    color_cycle: Optional[list[str]] = None,\n",
    "    labels: Optional[Sequence[str]] = None,\n",
    "    contrast_name: Optional[str] = None,\n",
    "    axis: Optional[Axes] = None,\n",
    ") -> Axes:\n",
    "    \"\"\"\n",
    "    Plots serial recall accuracy curve for one or more datasets.\n",
    "\n",
    "    Args:\n",
    "        datasets: Datasets containing trial data to be plotted.\n",
    "        trial_masks: Masks to filter trials in datasets.\n",
    "        color_cycle: List of colors for plotting each dataset.\n",
    "        distances: Unused, included for compatibility with other plotting functions.\n",
    "        labels: Names for each dataset for legend, optional.\n",
    "        contrast_name: Name of contrast for legend labeling, optional.\n",
    "        axis: Existing matplotlib Axes to plot on, optional.\n",
    "\n",
    "    Returns:\n",
    "        The matplotlib Axes object containing the plot.\n",
    "    \"\"\"\n",
    "    axis = init_plot(axis)\n",
    "\n",
    "    if color_cycle is None:\n",
    "        color_cycle = [c[\"color\"] for c in rcParams[\"axes.prop_cycle\"]]\n",
    "\n",
    "    if isinstance(datasets, dict):\n",
    "        datasets = [datasets]\n",
    "\n",
    "    if isinstance(trial_masks, jnp.ndarray):\n",
    "        trial_masks = [trial_masks]\n",
    "\n",
    "    if labels is None:\n",
    "        labels = [\"\" for _ in datasets]\n",
    "\n",
    "    # Identify the largest list length across datasets, so we can plot consistently\n",
    "    max_list_length = find_max_list_length(datasets, trial_masks)\n",
    "\n",
    "    for data_index, data_dict in enumerate(datasets):\n",
    "        # We'll apply the accurate_spc function to each subject, then stack\n",
    "        subject_values = jnp.vstack(\n",
    "            apply_by_subject(\n",
    "                data_dict,\n",
    "                trial_masks[data_index],\n",
    "                jit(srac, static_argnames=(\"list_length\",)),\n",
    "            )\n",
    "        )\n",
    "\n",
    "        # Plot\n",
    "        color = color_cycle.pop(0)\n",
    "        xvals = jnp.arange(max_list_length) + 1\n",
    "        plot_data(axis, xvals, subject_values, labels[data_index], color)\n",
    "\n",
    "    set_plot_labels(axis, \"Study Position\", \"Serial Recall Accuracy\", contrast_name)\n",
    "    return axis"
   ]
  },
  {
   "cell_type": "markdown",
   "id": "c34a82aa",
   "metadata": {},
   "source": [
    "## Tests"
   ]
  },
  {
   "cell_type": "markdown",
   "id": "78d74e8b",
   "metadata": {},
   "source": [
    "### Exact Recall (Uniform Lists)\n",
    "\n",
    "If the list is `[1, 2, 3, 4]` and the participant recalls `[1, 2, 3, 4]` in order, every position is correct."
   ]
  },
  {
   "cell_type": "code",
   "execution_count": null,
   "id": "c2a5dac4",
   "metadata": {},
   "outputs": [],
   "source": [
    "# some trivial test\n",
    "test_recalls = jnp.array([[1, 2, 3, 4], [1, 2, 3, 0]])  # second trial misses 4\n",
    "list_len = 4\n",
    "spc_res = fixed_pres_srac(test_recalls, list_len)\n",
    "\n",
    "assert jnp.allclose(spc_res, jnp.array([1.0, 1.0, 1.0, 0.5]))"
   ]
  },
  {
   "cell_type": "markdown",
   "id": "3a1f978d",
   "metadata": {},
   "source": [
    "### Exact Recall (Arbitrary Lists)\n",
    "\n",
    "If the `presentations` differ but `recalls` matches them exactly in each position, we get perfect accuracy (1.0) for those positions."
   ]
  },
  {
   "cell_type": "code",
   "execution_count": null,
   "id": "258bbf0d",
   "metadata": {},
   "outputs": [],
   "source": [
    "test_presentations = jnp.array([[10, 11, 12, 13], [10, 99, 12, 13]])\n",
    "test_recalls = jnp.array([[10, 11, 12, 13], [10, 11, 12, 0]])\n",
    "spc_res_arb = srac(test_recalls, test_presentations, 4)\n",
    "\n",
    "assert jnp.allclose(spc_res_arb, jnp.array([1.0, .5, 1.0, 0.5]))"
   ]
  },
  {
   "cell_type": "markdown",
   "id": "d25a90a7",
   "metadata": {},
   "source": [
    "### Handling Longer Recall Arrays\n",
    "\n",
    "If `recalls` has more positions than the list length, we only consider the first `list_length` columns."
   ]
  },
  {
   "cell_type": "code",
   "execution_count": null,
   "id": "f8e8731d",
   "metadata": {},
   "outputs": [],
   "source": [
    "test_recalls_extra = jnp.array([[1, 2, 3, 4, 99, 99], [1, 2, 3, 0, 42, 42]])\n",
    "spc_res_extra = fixed_pres_srac(test_recalls_extra, 4)\n",
    "assert jnp.allclose(spc_res_extra, jnp.array([1.0, 1.0, 1.0, 0.5]))"
   ]
  },
  {
   "cell_type": "markdown",
   "id": "2fe57a7c",
   "metadata": {},
   "source": [
    "## Examples\n",
    "\n",
    "With real data, we would typically have a dictionary containing:\n",
    "- `recalls`: a [trials x possibly_many_output_positions] array\n",
    "- `pres_itemnos`: a [trials x list_length] array\n",
    "\n",
    "Then we can use the provided plotting function to visualize position-wise accuracy for different conditions."
   ]
  },
  {
   "cell_type": "code",
   "execution_count": null,
   "id": "32ea020c",
   "metadata": {},
   "outputs": [],
   "source": [
    "from jaxcmr.helpers import generate_trial_mask, load_data, find_project_root\n",
    "import os"
   ]
  },
  {
   "cell_type": "code",
   "execution_count": null,
   "id": "e89c0cbe",
   "metadata": {},
   "outputs": [
    {
     "name": "stderr",
     "output_type": "stream",
     "text": [
      "/Users/jordangunn/jaxcmr/.venv/lib/python3.12/site-packages/scipy/stats/_resampling.py:147: RuntimeWarning: invalid value encountered in divide\n",
      "  a_hat = 1/6 * sum(nums) / sum(dens)**(3/2)\n",
      "/Users/jordangunn/jaxcmr/.venv/lib/python3.12/site-packages/scipy/_lib/_util.py:440: DegenerateDataWarning: The BCa confidence interval cannot be calculated. This problem is known to occur when the distribution is degenerate or the statistic is np.min.\n",
      "  return fun(*args, **kwargs)\n"
     ]
    },
    {
     "data": {
      "text/plain": [
       "Array([0.21666667, 0.16428572, 0.10476191, 0.07380953, 0.04761905,\n",
       "       0.0452381 , 0.02857143, 0.02142857, 0.03095238, 0.02380952,\n",
       "       0.02380952, 0.01904762, 0.01428572, 0.01190476, 0.01428572,\n",
       "       0.01428572, 0.01190476, 0.00714286, 0.0047619 , 0.00238095,\n",
       "       0.00952381, 0.0047619 , 0.00238095, 0.00714286, 0.        ,\n",
       "       0.00238095, 0.        , 0.        , 0.        , 0.        ,\n",
       "       0.        , 0.        , 0.        , 0.        , 0.        ,\n",
       "       0.        , 0.        , 0.        , 0.        , 0.        ],      dtype=float32)"
      ]
     },
     "execution_count": null,
     "metadata": {},
     "output_type": "execute_result"
    },
    {
     "data": {
      "image/png": "[encoded data removed]",
      "text/plain": [
       "<Figure size 640x480 with 1 Axes>"
      ]
     },
     "metadata": {},
     "output_type": "display_data"
    }
   ],
   "source": [
    "# parameters\n",
    "run_tag = \"SRAC\"\n",
    "data_name = \"LohnasKahana2014\"\n",
    "data_query = \"data['list_type'] == 1\"\n",
    "data_path =  os.path.join(find_project_root(), \"data/LohnasKahana2014.h5\")\n",
    "\n",
    "# set up data structures\n",
    "data = load_data(data_path)\n",
    "recalls = data[\"recalls\"]\n",
    "presentations = data[\"pres_itemnos\"]\n",
    "list_length = data[\"listLength\"][0].item()\n",
    "trial_mask = generate_trial_mask(data, data_query)\n",
    "\n",
    "# plot SPC\n",
    "plot_srac(data, generate_trial_mask(data, data_query))\n",
    "jit(srac, static_argnames=(\"list_length\"))(\n",
    "    recalls[trial_mask], presentations[trial_mask], list_length\n",
    ")"
   ]
  }
 ],
 "metadata": {
  "jupytext": {
   "cell_metadata_filter": "-all",
   "main_language": "python",
   "notebook_metadata_filter": "-all"
  },
  "kernelspec": {
   "display_name": "python3",
   "language": "python",
   "name": "python3"
  }
 },
 "nbformat": 4,
 "nbformat_minor": 5
}
