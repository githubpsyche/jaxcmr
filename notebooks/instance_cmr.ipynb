{
 "cells": [
  {
   "cell_type": "code",
   "execution_count": null,
   "metadata": {},
   "outputs": [],
   "source": [
    "import os\n",
    "import json\n",
    "import numpy as np\n",
    "import jax.numpy as jnp\n",
    "\n",
    "# Factory A\n",
    "from jaxcmr.cmr import MixedCMRFactory as MixedCMRFactoryA\n",
    "\n",
    "# Factory B\n",
    "from jaxcmr.instance_cmr import MixedCMRFactory as MixedCMRFactoryB\n",
    "\n",
    "from jaxcmr.likelihood import MemorySearchLikelihoodFnGenerator\n",
    "from jaxcmr.helpers import load_data, find_project_root\n",
    "from jax import numpy as jnp, lax, vmap\n",
    "from jaxcmr.math import lb"
   ]
  },
  {
   "cell_type": "markdown",
   "metadata": {},
   "source": [
    "## 1. Load the Dataset"
   ]
  },
  {
   "cell_type": "code",
   "execution_count": null,
   "metadata": {},
   "outputs": [
    {
     "name": "stdout",
     "output_type": "stream",
     "text": [
      "Dataset keys: ['listLength', 'listtype', 'pres_itemids', 'pres_itemnos', 'rec_itemids', 'recalls', 'session', 'subject']\n",
      "Number of trials: 14112\n"
     ]
    }
   ],
   "source": [
    "data_path = \"data/HealeyKahana2014.h5\"\n",
    "data_path = os.path.join(find_project_root(), data_path)\n",
    "data = load_data(data_path)\n",
    "\n",
    "print(\"Dataset keys:\", list(data.keys()))\n",
    "print(\"Number of trials:\", data[\"recalls\"].shape[0])"
   ]
  },
  {
   "cell_type": "markdown",
   "metadata": {},
   "source": [
    "If no semantic or associative connections are used, we can just supply a zero matrix of the appropriate size."
   ]
  },
  {
   "cell_type": "code",
   "execution_count": null,
   "metadata": {},
   "outputs": [],
   "source": [
    "max_itemno = np.max(data[\"pres_itemnos\"])\n",
    "connections = jnp.zeros((max_itemno, max_itemno))"
   ]
  },
  {
   "cell_type": "markdown",
   "metadata": {},
   "source": [
    "## Load First Subject Parameters"
   ]
  },
  {
   "cell_type": "code",
   "execution_count": null,
   "metadata": {},
   "outputs": [
    {
     "name": "stdout",
     "output_type": "stream",
     "text": [
      "Fit results keys: ['fixed', 'free', 'fitness', 'fits', 'hyperparameters', 'fit_time', 'data_query', 'model', 'name']\n",
      "Parameter names in fit: dict_keys(['encoding_drift_rate', 'start_drift_rate', 'recall_drift_rate', 'shared_support', 'item_support', 'learning_rate', 'primacy_scale', 'primacy_decay', 'stop_probability_scale', 'stop_probability_growth', 'mcf_trace_sensitivity', 'choice_sensitivity', 'subject'])\n"
     ]
    }
   ],
   "source": [
    "fit_results_path = os.path.join(\"fits\", \"HealeyKahana2014_InstanceCMR_best_of_1.json\")\n",
    "fit_results_path = os.path.join(find_project_root(), fit_results_path)\n",
    "with open(fit_results_path, \"r\") as f:\n",
    "    fit_results = json.load(f)\n",
    "\n",
    "print(\"Fit results keys:\", list(fit_results.keys()))\n",
    "print(\"Parameter names in fit:\", fit_results[\"fits\"].keys())"
   ]
  },
  {
   "cell_type": "code",
   "execution_count": null,
   "metadata": {},
   "outputs": [
    {
     "name": "stdout",
     "output_type": "stream",
     "text": [
      "Using subject 63\n",
      "Number of trials for subject 63: 112\n"
     ]
    },
    {
     "data": {
      "text/plain": [
       "Array([15, 16,  9, 13, 14,  1,  2,  0,  0,  0,  0,  0,  0,  0,  0,  0],      dtype=int32)"
      ]
     },
     "execution_count": null,
     "metadata": {},
     "output_type": "execute_result"
    }
   ],
   "source": [
    "subject_id = data[\"subject\"][0].item()\n",
    "print(f\"Using subject {subject_id}\")\n",
    "\n",
    "# Create a boolean mask for trials belonging to this subject\n",
    "trial_mask = data[\"subject\"].flatten() == subject_id\n",
    "\n",
    "print(f\"Number of trials for subject {subject_id}: {trial_mask.sum()}\")\n",
    "\n",
    "trial = data[\"recalls\"][trial_mask][0]\n",
    "trial"
   ]
  },
  {
   "cell_type": "code",
   "execution_count": null,
   "metadata": {},
   "outputs": [
    {
     "name": "stdout",
     "output_type": "stream",
     "text": [
      "Subject parameter dictionary:\n"
     ]
    },
    {
     "data": {
      "text/plain": [
       "{'encoding_drift_rate': 0.19690460839075208,\n",
       " 'start_drift_rate': 0.13471814445395458,\n",
       " 'recall_drift_rate': 0.9184788152966787,\n",
       " 'shared_support': 75.02002448558682,\n",
       " 'item_support': 98.32965873913969,\n",
       " 'learning_rate': 0.6151140503551014,\n",
       " 'primacy_scale': 53.6643963763364,\n",
       " 'primacy_decay': 0.8904633246586897,\n",
       " 'stop_probability_scale': 0.004061401990797298,\n",
       " 'stop_probability_growth': 0.35607019330468326,\n",
       " 'mcf_trace_sensitivity': 12.16929668644169,\n",
       " 'choice_sensitivity': 1.0}"
      ]
     },
     "execution_count": null,
     "metadata": {},
     "output_type": "execute_result"
    }
   ],
   "source": [
    "fit_dict = fit_results[\"fits\"]\n",
    "param_names = [k for k in fit_dict.keys() if k not in (\"subject\",)]\n",
    "\n",
    "# Build a simple dictionary of param_name -> single float value for the chosen subject\n",
    "params_for_subject = {}\n",
    "for p in param_names:\n",
    "    arr = np.array(fit_dict[p], dtype=float)\n",
    "    params_for_subject[p] = float(arr[0])\n",
    "\n",
    "print(\"Subject parameter dictionary:\")\n",
    "params_for_subject"
   ]
  },
  {
   "cell_type": "markdown",
   "metadata": {},
   "source": [
    "## Initialize Models"
   ]
  },
  {
   "cell_type": "code",
   "execution_count": null,
   "metadata": {},
   "outputs": [],
   "source": [
    "present = data[\"pres_itemnos\"][trial_mask][0]\n",
    "\n",
    "models = [\n",
    "    MixedCMRFactoryA(data, connections).create_model(0, params_for_subject),\n",
    "    MixedCMRFactoryB(data, connections).create_model(0, params_for_subject)\n",
    "]\n",
    "\n",
    "for i in range(len(models)):\n",
    "    models[i] = lax.fori_loop(\n",
    "                0, present.size, lambda i, m: m.experience(present[i]), models[i]\n",
    "            ).start_retrieving()"
   ]
  },
  {
   "cell_type": "markdown",
   "metadata": {},
   "source": [
    "Correct outcome probability is...\n",
    "\n",
    "```\n",
    "[0.0040614  0.24123573 0.12437733 0.06647404 0.03827588 0.02519201\n",
    " 0.0199643  0.01901533 0.02062784 0.02403779 0.0289853  0.0354953\n",
    " 0.04377616 0.05417768 0.0671835  0.08342308 0.10369731]\n",
    " ```"
   ]
  },
  {
   "cell_type": "code",
   "execution_count": null,
   "metadata": {},
   "outputs": [
    {
     "name": "stdout",
     "output_type": "stream",
     "text": [
      "Outcome Probabilities\n",
      "[4.0614018e-03 9.9590391e-01 3.2995831e-05 1.2037624e-07 1.1872118e-07\n",
      " 1.1872098e-07 1.1872098e-07 1.1872098e-07 1.1872098e-07 1.1872098e-07\n",
      " 1.1872098e-07 1.1872098e-07 1.1872098e-07 1.1872098e-07 1.1872098e-07\n",
      " 1.1872098e-07 1.1872098e-07]\n",
      "[4.0614018e-03 9.9590218e-01 3.3114491e-05 2.3909678e-07 2.3744172e-07\n",
      " 2.3744153e-07 2.3744153e-07 2.3744153e-07 2.3744153e-07 2.3744153e-07\n",
      " 2.3744153e-07 2.3744153e-07 2.3744153e-07 2.3744153e-07 2.3744153e-07\n",
      " 2.3744153e-07 2.3744153e-07]\n"
     ]
    }
   ],
   "source": [
    "print(\"Outcome Probabilities\")\n",
    "for i in range(len(models)):\n",
    "    print(models[i].outcome_probabilities())\n"
   ]
  },
  {
   "cell_type": "code",
   "execution_count": null,
   "metadata": {},
   "outputs": [
    {
     "data": {
      "text/plain": [
       "Array([ 0.      ,  0.      ,  0.      ,  1.      ,  0.      ,  0.      ,\n",
       "        0.      ,  0.      ,  0.      ,  0.      ,  0.      ,  0.      ,\n",
       "        0.      ,  0.      ,  0.      ,  0.      ,  0.      , 75.02003 ,\n",
       "       75.02003 , 98.329666, 75.02003 , 75.02003 , 75.02003 , 75.02003 ,\n",
       "       75.02003 , 75.02003 , 75.02003 , 75.02003 , 75.02003 , 75.02003 ,\n",
       "       75.02003 , 75.02003 , 75.02003 ], dtype=float32)"
      ]
     },
     "execution_count": null,
     "metadata": {},
     "output_type": "execute_result"
    }
   ],
   "source": [
    "models[0].mcf.state[2]"
   ]
  },
  {
   "cell_type": "code",
   "execution_count": null,
   "metadata": {},
   "outputs": [
    {
     "name": "stdout",
     "output_type": "stream",
     "text": [
      "Trace Activations\n",
      "[1.1920929e-07 1.1920929e-07 1.1920929e-07 1.1920929e-07 1.1920929e-07\n",
      " 1.1920929e-07 1.1920929e-07 1.1920929e-07 1.1920929e-07 1.1920929e-07\n",
      " 1.1920929e-07 1.1920929e-07 1.1920929e-07 1.1920929e-07 1.1920929e-07\n",
      " 1.1920929e-07 1.0000001e+00 3.3131546e-05 1.2087136e-07 1.1920949e-07\n",
      " 1.1920929e-07 1.1920929e-07 1.1920929e-07 1.1920929e-07 1.1920929e-07\n",
      " 1.1920929e-07 1.1920929e-07 1.1920929e-07 1.1920929e-07 1.1920929e-07\n",
      " 1.1920929e-07 1.1920929e-07]\n",
      "[1.1920929e-07 1.1920929e-07 1.1920929e-07 1.1920929e-07 1.1920929e-07\n",
      " 1.1920929e-07 1.1920929e-07 1.1920929e-07 1.1920929e-07 1.1920929e-07\n",
      " 1.1920929e-07 1.1920929e-07 1.1920929e-07 1.1920929e-07 1.1920929e-07\n",
      " 1.1920929e-07 1.0000001e+00 3.3131546e-05 1.2087136e-07 1.1920949e-07\n",
      " 1.1920929e-07 1.1920929e-07 1.1920929e-07 1.1920929e-07 1.1920929e-07\n",
      " 1.1920929e-07 1.1920929e-07 1.1920929e-07 1.1920929e-07 1.1920929e-07\n",
      " 1.1920929e-07 1.1920929e-07]\n",
      "Item Activations\n",
      "[1.0000001e+00 3.3131546e-05 1.2087136e-07 1.1920949e-07 1.1920929e-07\n",
      " 1.1920929e-07 1.1920929e-07 1.1920929e-07 1.1920929e-07 1.1920929e-07\n",
      " 1.1920929e-07 1.1920929e-07 1.1920929e-07 1.1920929e-07 1.1920929e-07\n",
      " 1.1920929e-07]\n",
      "1.0000349\n",
      "Item 0 activation: 1.000000238418579\n",
      "Total Relevant traces: 2\n",
      "Item 1 activation: 3.325075522297993e-05\n",
      "Total Relevant traces: 2\n",
      "Item 2 activation: 2.400806522473431e-07\n",
      "Total Relevant traces: 2\n",
      "Item 3 activation: 2.384187780535285e-07\n",
      "Total Relevant traces: 2\n",
      "Item 4 activation: 2.384185791015625e-07\n",
      "Total Relevant traces: 2\n",
      "Item 5 activation: 2.384185791015625e-07\n",
      "Total Relevant traces: 2\n",
      "Item 6 activation: 2.384185791015625e-07\n",
      "Total Relevant traces: 2\n",
      "Item 7 activation: 2.384185791015625e-07\n",
      "Total Relevant traces: 2\n",
      "Item 8 activation: 2.384185791015625e-07\n",
      "Total Relevant traces: 2\n",
      "Item 9 activation: 2.384185791015625e-07\n",
      "Total Relevant traces: 2\n",
      "Item 10 activation: 2.384185791015625e-07\n",
      "Total Relevant traces: 2\n",
      "Item 11 activation: 2.384185791015625e-07\n",
      "Total Relevant traces: 2\n",
      "Item 12 activation: 2.384185791015625e-07\n",
      "Total Relevant traces: 2\n",
      "Item 13 activation: 2.384185791015625e-07\n",
      "Total Relevant traces: 2\n",
      "Item 14 activation: 2.384185791015625e-07\n",
      "Total Relevant traces: 2\n",
      "Item 15 activation: 2.384185791015625e-07\n",
      "Total Relevant traces: 2\n",
      "2.3841858e-07\n",
      "2.3841858e-07\n"
     ]
    }
   ],
   "source": [
    "\n",
    "print(\"Trace Activations\")\n",
    "for i in range(len(models)):\n",
    "    probe = models[i].mcf._probe.at[: models[i].context.state.size].set(models[i].context.state)\n",
    "    trace_activations = models[i].mcf.trace_activations(probe) + lb\n",
    "    print(trace_activations)\n",
    "\n",
    "print(\"Item Activations\")\n",
    "for i in range(len(models)):\n",
    "\n",
    "    activations = models[i].activations()\n",
    "    try:\n",
    "        probe = models[i].mcf._probe.at[: models[i].context.state.size].set(models[i].context.state)\n",
    "        trace_activations = models[i].mcf.trace_activations(probe) + lb\n",
    "        item_activations = vmap(\n",
    "            lambda item_index:  models[i].item_activation(item_index, trace_activations)\n",
    "        )( models[i].unique_items)\n",
    "        for item_index in models[i].unique_items:\n",
    "            item_activations = jnp.sum(trace_activations * (models[i].trace_items == item_index))\n",
    "            print(f\"Item {item_index} activation: {item_activations}\")\n",
    "            print(f\"Total Relevant traces: {jnp.sum(models[i].trace_items == item_index)}\")\n",
    "    except:\n",
    "        item_activations = activations\n",
    "\n",
    "    print(item_activations)\n",
    "    item_activation_sum = jnp.sum(item_activations)\n",
    "    print(item_activation_sum)\n",
    "    # p_stop = 0\n",
    "    # print(jnp.hstack(\n",
    "    #         (\n",
    "    #             p_stop,\n",
    "    #             (\n",
    "    #                 (1 - p_stop)\n",
    "    #                 * item_activations\n",
    "    #                 / lax.select(item_activation_sum == 0, 1.0, item_activation_sum)\n",
    "    #             ),\n",
    "    #         )))\n",
    "    # print()\n"
   ]
  },
  {
   "cell_type": "code",
   "execution_count": null,
   "metadata": {},
   "outputs": [],
   "source": []
  }
 ],
 "metadata": {
  "kernelspec": {
   "display_name": "python3",
   "language": "python",
   "name": "python3"
  }
 },
 "nbformat": 4,
 "nbformat_minor": 2
}
