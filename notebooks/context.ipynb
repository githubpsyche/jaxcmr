{
 "cells": [
  {
   "cell_type": "code",
   "execution_count": 1,
   "metadata": {},
   "outputs": [],
   "source": [
    "#| default_exp context"
   ]
  },
  {
   "cell_type": "markdown",
   "metadata": {},
   "source": [
    "# Context"
   ]
  },
  {
   "cell_type": "code",
   "execution_count": 2,
   "metadata": {},
   "outputs": [],
   "source": [
    "#| export\n",
    "\n",
    "from jax import numpy as jnp\n",
    "from simple_pytree import Pytree\n",
    "\n",
    "from jaxcmr.math import normalize_magnitude\n",
    "from jaxcmr.typing import Array, Float, Float_\n",
    "\n",
    "\n",
    "class TemporalContext(Pytree):\n",
    "    \"\"\"Temporal context representation for memory search models.\n",
    "\n",
    "    Attributes:\n",
    "        state: the current state of the context.\n",
    "        initial_state: the initial state of the context.\n",
    "        next_outlist_unit: the index of the next out-of-list context unit.\n",
    "        outlist_contexts: the out-of-list context representations.\n",
    "    \"\"\"\n",
    "\n",
    "    def __init__(self, item_count: int, size: int):\n",
    "        \"\"\"Create a new temporal context model.\n",
    "\n",
    "        Args:\n",
    "            item_count: the number of items in the context model.\n",
    "            size: the size of the context representation.\n",
    "        \"\"\"\n",
    "        self.size = size\n",
    "        self.zeros = jnp.zeros(size)\n",
    "        self.state = self.zeros.at[0].set(1)\n",
    "        self.initial_state = self.zeros.at[0].set(1)\n",
    "        self.next_outlist_unit = item_count + 1\n",
    "\n",
    "    def integrate(\n",
    "        self,\n",
    "        context_input: Float[Array, \" context_feature_units\"],\n",
    "        drift_rate: Float_,\n",
    "    ) -> \"TemporalContext\":\n",
    "        \"\"\"Returns context after integrating input representation, preserving unit length.\n",
    "\n",
    "        Args:\n",
    "            context_input: the input representation to be integrated into the contextual state.\n",
    "            drift_rate: The drift rate parameter.\n",
    "        \"\"\"\n",
    "        context_input = normalize_magnitude(context_input)\n",
    "        rho = jnp.sqrt(\n",
    "            1 + jnp.square(drift_rate) * (jnp.square(self.state * context_input) - 1)\n",
    "        ) - (drift_rate * (self.state * context_input))\n",
    "        return self.replace(\n",
    "            state=normalize_magnitude((rho * self.state) + (drift_rate * context_input))\n",
    "        )\n",
    "\n",
    "    @classmethod\n",
    "    def init(cls, item_count: int) -> \"TemporalContext\":\n",
    "        \"\"\"Initialize a new context model.\n",
    "\n",
    "        Args:\n",
    "            item_count: the number of items in the context model.\n",
    "        \"\"\"\n",
    "        return cls(item_count, item_count + 1)\n"
   ]
  },
  {
   "cell_type": "markdown",
   "metadata": {},
   "source": [
    "## Tests"
   ]
  },
  {
   "cell_type": "markdown",
   "metadata": {},
   "source": [
    "Test that TemporalContext initializes correctly and integrates input."
   ]
  },
  {
   "cell_type": "code",
   "execution_count": 3,
   "metadata": {},
   "outputs": [],
   "source": [
    "# Set up the test parameters\n",
    "drift_rate = 0.3\n",
    "item_count = 10\n",
    "size = item_count + 2\n",
    "context = TemporalContext(item_count, size)\n",
    "\n",
    "# initial state should be 1.0 at the first element, and 0.0 elsewhere\n",
    "assert context.state[0] == 1.0\n",
    "assert jnp.all(context.state[1:] == 0.0)\n",
    "\n",
    "context_input = jnp.zeros(size).at[-1].set(1)\n",
    "new_context = context.integrate(context_input, drift_rate)\n",
    "\n",
    "# last element is now non-zero; rest are still 0.0, except for the first element\n",
    "assert new_context.state[-1] > 0.0 \n",
    "assert jnp.all(new_context.state[1:-1] == 0.0)\n",
    "assert new_context.state[0] > 0.0\n",
    "\n",
    "# final state vector is unit length\n",
    "assert jnp.isclose(jnp.linalg.norm(new_context.state), 1.0, atol=1e-6)\n",
    "\n",
    "# test that the initial state is preserved\n",
    "assert jnp.all(new_context.initial_state == context.state)"
   ]
  }
 ],
 "metadata": {
  "kernelspec": {
   "display_name": ".venv",
   "language": "python",
   "name": "python3"
  },
  "language_info": {
   "codemirror_mode": {
    "name": "ipython",
    "version": 3
   },
   "file_extension": ".py",
   "mimetype": "text/x-python",
   "name": "python",
   "nbconvert_exporter": "python",
   "pygments_lexer": "ipython3",
   "version": "3.12.8"
  }
 },
 "nbformat": 4,
 "nbformat_minor": 2
}
