{
 "cells": [
  {
   "cell_type": "code",
   "execution_count": null,
   "metadata": {},
   "outputs": [],
   "source": [
    "# | default_exp models.context\n",
    "%load_ext autoreload\n",
    "%autoreload 2\n"
   ]
  },
  {
   "cell_type": "markdown",
   "metadata": {},
   "source": [
    "# Context"
   ]
  },
  {
   "cell_type": "code",
   "execution_count": null,
   "metadata": {},
   "outputs": [],
   "source": [
    "# | exports\n",
    "\n",
    "import base64\n",
    "import io\n",
    "\n",
    "import matplotlib.pyplot as plt\n",
    "from jax import numpy as jnp\n",
    "from simple_pytree import Pytree\n",
    "\n",
    "from jaxcmr.math import normalize_magnitude\n",
    "from jaxcmr.state_analysis import matrix_heatmap\n",
    "from jaxcmr.typing import Array, Float, Float_\n",
    "\n",
    "\n",
    "class TemporalContext(Pytree):\n",
    "    \"\"\"Temporal context representation for memory search models.\n",
    "\n",
    "    The `TemporalContext` class implements the drifting, unit-length context representation used by \n",
    "    CMR-style models.\n",
    "\n",
    "    The vector starts with a *start-of-list* unit (index 0) set to 1.0 and one unit per study item\n",
    "    initialised to 0. On every call to `integrate`, the context drifts toward a normalised\n",
    "    input vector while remaining unit-length. This initial state is preserved to enable\n",
    "    drift back to the start-of-list context unit.\n",
    "\n",
    "    An optional out-of-list context unit (index `item_count + 1`) can be used to simulate post-study\n",
    "    drift, but unless the drift rate is near 1.0, it does not affect behavior: CMR relies on\n",
    "    relative differences between context units, which remain unchanged.\n",
    "    \"\"\"\n",
    "\n",
    "    def __init__(self, item_count: int, size: int):\n",
    "        \"\"\"Create a new temporal context model.\n",
    "\n",
    "        Args:\n",
    "            item_count: the number of items in the context model.\n",
    "            size: the size of the context representation.\n",
    "        \"\"\"\n",
    "        self.size = size\n",
    "        self.zeros = jnp.zeros(size)\n",
    "        self.state = self.zeros.at[0].set(1)\n",
    "        self.initial_state = self.zeros.at[0].set(1)\n",
    "        self.next_outlist_unit = item_count + 1\n",
    "\n",
    "    @classmethod\n",
    "    def init(cls, item_count: int) -> \"TemporalContext\":\n",
    "        \"\"\"Standardized initialization for a new context model.\n",
    "\n",
    "        Args:\n",
    "            item_count: the number of items in the context model.\n",
    "        \"\"\"\n",
    "        return cls(item_count, item_count + 1)\n",
    "\n",
    "    def integrate(\n",
    "        self,\n",
    "        context_input: Float[Array, \" context_feature_units\"],\n",
    "        drift_rate: Float_,\n",
    "    ) -> \"TemporalContext\":\n",
    "        \"\"\"Returns context after integrating input representation, preserving unit length.\n",
    "\n",
    "        Args:\n",
    "            context_input: the input representation to be integrated into the contextual state.\n",
    "            drift_rate: The drift rate parameter.\n",
    "        \"\"\"\n",
    "        context_input = normalize_magnitude(context_input)\n",
    "        rho = jnp.sqrt(\n",
    "            1 + jnp.square(drift_rate) * (jnp.square(self.state * context_input) - 1)\n",
    "        ) - (drift_rate * (self.state * context_input))\n",
    "        return self.replace(\n",
    "            state=normalize_magnitude((rho * self.state) + (drift_rate * context_input))\n",
    "        )\n",
    "\n",
    "    def _repr_markdown_(self):\n",
    "        \"\"\"Returns a markdown representation of the context model.\"\"\"\n",
    "        fig, ax = matrix_heatmap(self.state, figsize=(6, 0.6))\n",
    "\n",
    "        ax.set_xlabel(\"\")\n",
    "        ax.set_ylabel(\"\")\n",
    "        ax.set_yticks([])\n",
    "\n",
    "        # Remove colorbar safely if desired:\n",
    "        for coll in ax.collections:\n",
    "            if hasattr(coll, \"colorbar\") and coll.colorbar:\n",
    "                coll.colorbar.remove()\n",
    "\n",
    "        buf = io.BytesIO()\n",
    "        fig.savefig(buf, format=\"png\", bbox_inches=\"tight\")\n",
    "        plt.close(fig)\n",
    "\n",
    "        encoded = base64.b64encode(buf.getvalue()).decode(\"utf-8\")\n",
    "        return f'<img src=\"data:image/png;base64,{encoded}\" />'\n",
    "\n",
    "    @property\n",
    "    def outlist_input(self) -> Float[Array, \" context_feature_units\"]:\n",
    "        \"\"\"Return the out-of-list context input.\"\"\"\n",
    "        return self.zeros.at[self.next_outlist_unit].set(1)\n",
    "\n",
    "    def integrate_with_outlist(\n",
    "        self,\n",
    "        inlist_input: Float[Array, \" context_feature_units\"],\n",
    "        ratio: Float_,\n",
    "        drift_rate: Float_,\n",
    "    ) -> \"TemporalContext\":\n",
    "        \"\"\"Integrates in-list context input with out-of-list context.\n",
    "\n",
    "        Will produce errors if no out-of-list context units are available.\n",
    "\n",
    "        Args:\n",
    "            inlist_input: the input representation to be integrated into the contextual state.\n",
    "            ratio: the ratio of out-of-list context to in-list context.\n",
    "            drift_rate: The drift rate parameter.\n",
    "        \"\"\"\n",
    "        context_input = normalize_magnitude(\n",
    "            (normalize_magnitude(inlist_input) * ratio)\n",
    "            + (self.outlist_input * (1 - ratio))\n",
    "        )\n",
    "        rho = jnp.sqrt(\n",
    "            1 + jnp.square(drift_rate) * (jnp.square(self.state * context_input) - 1)\n",
    "        ) - (drift_rate * (self.state * context_input))\n",
    "        return self.replace(\n",
    "            state=normalize_magnitude(\n",
    "                (rho * self.state) + (drift_rate * context_input)\n",
    "            ),\n",
    "            next_outlist_unit=self.next_outlist_unit + 1,\n",
    "        )\n",
    "\n",
    "    @classmethod\n",
    "    def init_expanded(cls, item_count: int) -> \"TemporalContext\":\n",
    "        \"\"\"Initialize a new context model with room for out-of-list contexts.\n",
    "\n",
    "        Args:\n",
    "            item_count: the number of items in the context model.\n",
    "        \"\"\"\n",
    "        return cls(item_count, item_count + item_count + 1)\n"
   ]
  },
  {
   "cell_type": "markdown",
   "metadata": {},
   "source": [
    "## Notes"
   ]
  },
  {
   "cell_type": "markdown",
   "metadata": {},
   "source": [
    "In retrieved-context models, `TemporalContext` is typically a vector of continuous values, each tied to a context unit. It’s initialized with a start-of-list unit set to 1, and one unit per study item set to 0. Optionally, an out-of-list unit can simulate post-study drift, but unless drift is near 1.0, it doesn’t affect behavior—CMR relies on relative differences between context units, which remain unchanged.\n",
    "\n",
    "We provide a standardized `init` class method (from `item_count`) and a flexible `__init__` method (from `item_count` and `size`) for initializing `TemporalContext`."
   ]
  },
  {
   "cell_type": "code",
   "execution_count": null,
   "metadata": {},
   "outputs": [
    {
     "data": {
      "text/markdown": [
       "<img src=\"data:image/png;base64,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\" />"
      ],
      "text/plain": [
       "<__main__.TemporalContext>"
      ]
     },
     "execution_count": null,
     "metadata": {},
     "output_type": "execute_result"
    }
   ],
   "source": [
    "item_count = 10\n",
    "size = item_count + 1\n",
    "drift_rate = 0.3\n",
    "\n",
    "context = TemporalContext.init(item_count)\n",
    "\n",
    "# initial state should be 1.0 at the first element, and 0.0 elsewhere\n",
    "assert context.state[0] == 1.0\n",
    "assert jnp.all(context.state[1:] == 0.0)\n",
    "\n",
    "context\n"
   ]
  },
  {
   "cell_type": "markdown",
   "metadata": {},
   "source": [
    "This context vector evolves as items are encoded and retrieved, integrating a new contextual input at each step.\n",
    "At each step $i$, both models update context as\n",
    "\n",
    "$$\n",
    "c_i = \\rho_i c_{i-1} + \\beta \\, c_{i}^{IN},\n",
    "$$\n",
    "\n",
    "where $\\beta$ controls integration of new input $c_i^{IN}$, and $\\rho_i$ normalizes the vector (i.e., enforces the unit length of the context vector): \n",
    "\n",
    "$$\n",
    "\\rho_i = \\sqrt{1 + \\beta^2\\bigl[(c_{i-1} \\cdot c^{IN}_i)^2 - 1\\bigr]} \\;-\\;\\beta(c_{i-1} \\cdot c^{IN}_i).\n",
    "$$\n",
    "\n",
    "This gradual integration yields a recency-based gradient reflecting the order in which items were presented."
   ]
  },
  {
   "cell_type": "code",
   "execution_count": null,
   "metadata": {},
   "outputs": [
    {
     "data": {
      "text/markdown": [
       "<img src=\"data:image/png;base64,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\" />"
      ],
      "text/plain": [
       "<__main__.TemporalContext>"
      ]
     },
     "execution_count": null,
     "metadata": {},
     "output_type": "execute_result"
    }
   ],
   "source": [
    "context_input = jnp.zeros(size).at[-1].set(1)\n",
    "new_context = context.integrate(context_input, drift_rate)\n",
    "\n",
    "# test: last element is now non-zero; rest are still 0.0, except for the first element\n",
    "assert new_context.state[-1] > 0.0\n",
    "assert jnp.all(new_context.state[1:-1] == 0.0)\n",
    "assert new_context.state[0] > 0.0\n",
    "\n",
    "# test: final state vector is unit length\n",
    "assert jnp.isclose(jnp.linalg.norm(new_context.state), 1.0, atol=1e-6)\n",
    "\n",
    "new_context\n"
   ]
  },
  {
   "cell_type": "markdown",
   "metadata": {},
   "source": [
    "The initial state of the context vector is preserved to enable drift back to the start-of-list context unit."
   ]
  },
  {
   "cell_type": "code",
   "execution_count": null,
   "metadata": {},
   "outputs": [
    {
     "name": "stdout",
     "output_type": "stream",
     "text": [
      "[1. 0. 0. 0. 0. 0. 0. 0. 0. 0. 0.]\n"
     ]
    }
   ],
   "source": [
    "# test: the stored `initial_state` is preserved\n",
    "print(new_context.initial_state)\n",
    "assert jnp.all(new_context.initial_state == context.state)\n"
   ]
  },
  {
   "cell_type": "markdown",
   "metadata": {},
   "source": [
    "`TemporalContext` implements the `typing.Context` protocol. As long as a class implements this interface, it's usable by other classes that expect a `Context` object. This allows for easy swapping of different context implementations without changing the rest of the code."
   ]
  },
  {
   "cell_type": "code",
   "execution_count": null,
   "metadata": {},
   "outputs": [],
   "source": [
    "from jaxcmr.typing import Context\n"
   ]
  },
  {
   "cell_type": "code",
   "execution_count": null,
   "metadata": {},
   "outputs": [],
   "source": [
    "assert isinstance(new_context, Context), \"TemporalContext should implement Context\"\n"
   ]
  }
 ],
 "metadata": {
  "kernelspec": {
   "display_name": "jaxcmr",
   "language": "python",
   "name": "python3"
  },
  "language_info": {
   "name": "python",
   "version": "3.12.8"
  }
 },
 "nbformat": 4,
 "nbformat_minor": 2
}
