{
 "cells": [
  {
   "cell_type": "code",
   "execution_count": 1,
   "metadata": {},
   "outputs": [
    {
     "data": {
      "image/png": "[encoded data removed]",
      "text/plain": [
       "<Figure size 2100x200 with 1 Axes>"
      ]
     },
     "metadata": {},
     "output_type": "display_data"
    }
   ],
   "source": [
    "from jaxcmr_research.models.context import TemporalContext\n",
    "from jax import numpy as jnp, lax\n",
    "from jaxcmr_research.helpers.math import linalg_norm\n",
    "import matplotlib.pyplot as plt\n",
    "from jaxcmr_research.state_analysis import matrix_heatmap, instance_memory_heatmap\n",
    "\n",
    "drift_rate = 0.3\n",
    "item_count = 10\n",
    "context = TemporalContext.init_expanded_context(item_count)\n",
    "first_context_input = jnp.zeros(10+10+1).at[3].set(1)\n",
    "second_context_input = jnp.zeros(10+10+1).at[5].set(1)\n",
    "combo_context_input = jnp.zeros(10+10+1).at[3].set(1).at[5].set(1)\n",
    "context_inputs = jnp.array([first_context_input, second_context_input, combo_context_input])\n",
    "\n",
    "matrix_heatmap(context_inputs, figsize=(21, 2))\n",
    "plt.xlabel(\"\")\n",
    "plt.ylabel(\"\")\n",
    "plt.xticks([])\n",
    "plt.yticks([])\n",
    "\n",
    "# remove the colorbar\n",
    "axis = plt.gca()\n",
    "# remove the colorbar\n",
    "cax = axis.collections[0].colorbar\n",
    "cax.remove()\n"
   ]
  },
  {
   "cell_type": "code",
   "execution_count": 2,
   "metadata": {},
   "outputs": [
    {
     "data": {
      "text/plain": [
       "Array([0.9539392, 0.       , 0.       , 0.3      , 0.       , 0.       ,\n",
       "       0.       , 0.       , 0.       , 0.       , 0.       , 0.       ,\n",
       "       0.       , 0.       , 0.       , 0.       , 0.       , 0.       ,\n",
       "       0.       , 0.       , 0.       ], dtype=float32)"
      ]
     },
     "execution_count": 2,
     "metadata": {},
     "output_type": "execute_result"
    }
   ],
   "source": [
    "context.integrate(first_context_input, drift_rate).state"
   ]
  },
  {
   "cell_type": "code",
   "execution_count": 3,
   "metadata": {},
   "outputs": [
    {
     "data": {
      "text/plain": [
       "Array([0.97749996, 0.        , 0.        , 0.1483029 , 0.        ,\n",
       "       0.15      , 0.        , 0.        , 0.        , 0.        ,\n",
       "       0.        , 0.        , 0.        , 0.        , 0.        ,\n",
       "       0.        , 0.        , 0.        , 0.        , 0.        ,\n",
       "       0.        ], dtype=float32)"
      ]
     },
     "execution_count": 3,
     "metadata": {},
     "output_type": "execute_result"
    }
   ],
   "source": [
    "context.integrate(first_context_input, drift_rate/2).integrate(second_context_input, drift_rate/2).state"
   ]
  },
  {
   "cell_type": "code",
   "execution_count": 4,
   "metadata": {},
   "outputs": [
    {
     "data": {
      "text/plain": [
       "Array([0.9539392 , 0.        , 0.        , 0.21213204, 0.        ,\n",
       "       0.21213204, 0.        , 0.        , 0.        , 0.        ,\n",
       "       0.        , 0.        , 0.        , 0.        , 0.        ,\n",
       "       0.        , 0.        , 0.        , 0.        , 0.        ,\n",
       "       0.        ], dtype=float32)"
      ]
     },
     "execution_count": 4,
     "metadata": {},
     "output_type": "execute_result"
    }
   ],
   "source": [
    "context.integrate(combo_context_input, drift_rate).state"
   ]
  },
  {
   "cell_type": "code",
   "execution_count": 5,
   "metadata": {},
   "outputs": [
    {
     "data": {
      "text/plain": [
       "Array([0.9539392 , 0.        , 0.        , 0.21213204, 0.        ,\n",
       "       0.21213204, 0.        , 0.        , 0.        , 0.        ,\n",
       "       0.        , 0.        , 0.        , 0.        , 0.        ,\n",
       "       0.        , 0.        , 0.        , 0.        , 0.        ,\n",
       "       0.        ], dtype=float32)"
      ]
     },
     "execution_count": 5,
     "metadata": {},
     "output_type": "execute_result"
    }
   ],
   "source": [
    "context.integrate(first_context_input + second_context_input, drift_rate).state"
   ]
  },
  {
   "cell_type": "code",
   "execution_count": 6,
   "metadata": {},
   "outputs": [
    {
     "data": {
      "text/plain": [
       "Array([0.9539392 , 0.        , 0.        , 0.00299985, 0.        ,\n",
       "       0.299985  , 0.        , 0.        , 0.        , 0.        ,\n",
       "       0.        , 0.        , 0.        , 0.        , 0.        ,\n",
       "       0.        , 0.        , 0.        , 0.        , 0.        ,\n",
       "       0.        ], dtype=float32)"
      ]
     },
     "execution_count": 6,
     "metadata": {},
     "output_type": "execute_result"
    }
   ],
   "source": [
    "context.integrate(.01* first_context_input + second_context_input, drift_rate).state"
   ]
  },
  {
   "cell_type": "code",
   "execution_count": 7,
   "metadata": {},
   "outputs": [
    {
     "data": {
      "text/plain": [
       "Array([0.9539392 , 0.        , 0.        , 0.299985  , 0.        ,\n",
       "       0.00299985, 0.        , 0.        , 0.        , 0.        ,\n",
       "       0.        , 0.        , 0.        , 0.        , 0.        ,\n",
       "       0.        , 0.        , 0.        , 0.        , 0.        ,\n",
       "       0.        ], dtype=float32)"
      ]
     },
     "execution_count": 7,
     "metadata": {},
     "output_type": "execute_result"
    }
   ],
   "source": [
    "context.integrate(first_context_input + .01 * second_context_input, drift_rate).state"
   ]
  },
  {
   "cell_type": "code",
   "execution_count": null,
   "metadata": {},
   "outputs": [],
   "source": [
    "jnp.eye(item_count, size, self.next_outlist_unit)"
   ]
  },
  {
   "cell_type": "markdown",
   "metadata": {},
   "source": [
    "So there's a clear difference between two integrations of separate representations with half drift rate than a single integration of a combined representation. A combined integration is probably faster and more accurate.\n",
    "\n",
    "Most straightforward mechanism is to drift toward a mix of outlist context and context_input, modulating the ratio using a scalar parameter between 0 and 1. The actual drift rate should remain consistent with the trial-level encoding drift rate."
   ]
  }
 ],
 "metadata": {
  "kernelspec": {
   "display_name": "jaxcmr",
   "language": "python",
   "name": "python3"
  },
  "language_info": {
   "codemirror_mode": {
    "name": "ipython",
    "version": 3
   },
   "file_extension": ".py",
   "mimetype": "text/x-python",
   "name": "python",
   "nbconvert_exporter": "python",
   "pygments_lexer": "ipython3",
   "version": "3.12.4"
  }
 },
 "nbformat": 4,
 "nbformat_minor": 2
}
