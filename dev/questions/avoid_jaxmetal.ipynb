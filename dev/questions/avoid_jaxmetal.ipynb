{
 "cells": [
  {
   "cell_type": "markdown",
   "metadata": {},
   "source": [
    "It looks like this fails in jax-metal, at least if I follow setup instructions relatively haphazardly:"
   ]
  },
  {
   "cell_type": "code",
   "execution_count": 1,
   "metadata": {},
   "outputs": [
    {
     "data": {
      "text/plain": [
       "[CpuDevice(id=0)]"
      ]
     },
     "execution_count": 1,
     "metadata": {},
     "output_type": "execute_result"
    }
   ],
   "source": [
    "import jax\n",
    "\n",
    "jax.devices()"
   ]
  },
  {
   "cell_type": "code",
   "execution_count": 2,
   "metadata": {},
   "outputs": [],
   "source": [
    "from jax import numpy as jnp, lax\n",
    "\n",
    "\n",
    "def hebbian_associate(\n",
    "    state,\n",
    "    input_pattern,\n",
    "    output_pattern,\n",
    "    learning_rate = 1.0,\n",
    "):\n",
    "    \"\"\"Return the updated memory state after associating input and output patterns.\n",
    "\n",
    "    Args:\n",
    "        state: state of memory\n",
    "        input_pattern: a feature pattern for an input.\n",
    "        output_pattern: a feature pattern for an output.\n",
    "        learning_rate: the learning rate parameter.\n",
    "    \"\"\"\n",
    "    return state + (learning_rate * jnp.outer(input_pattern, output_pattern))\n",
    "\n",
    "item_count = 10\n",
    "learning_rate = 0.1\n",
    "\n",
    "items = jnp.eye(item_count)\n",
    "contexts = jnp.eye(item_count, item_count + 2, 1)\n",
    "mfc = jnp.zeros((item_count, item_count + 2))\n",
    "\n",
    "val = mfc.copy()\n",
    "for i in range(item_count):\n",
    "    val = hebbian_associate(val, items[i], contexts[i], learning_rate)\n",
    "\n",
    "new_memory = lax.fori_loop(\n",
    "    0,\n",
    "    item_count,\n",
    "    lambda i, mfc: hebbian_associate(\n",
    "        mfc, items[i], contexts[i], learning_rate),\n",
    "    mfc,\n",
    ")"
   ]
  }
 ],
 "metadata": {
  "kernelspec": {
   "display_name": "jaxcmr",
   "language": "python",
   "name": "python3"
  },
  "language_info": {
   "codemirror_mode": {
    "name": "ipython",
    "version": 3
   },
   "file_extension": ".py",
   "mimetype": "text/x-python",
   "name": "python",
   "nbconvert_exporter": "python",
   "pygments_lexer": "ipython3",
   "version": "3.12.3"
  }
 },
 "nbformat": 4,
 "nbformat_minor": 2
}
